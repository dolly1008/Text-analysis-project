{
  "cells": [
    {
      "cell_type": "markdown",
      "metadata": {
        "id": "view-in-github",
        "colab_type": "text"
      },
      "source": [
        "<a href=\"https://colab.research.google.com/github/dolly1008/Text-analysis-project/blob/main/Interative_Text_Analysis.ipynb\" target=\"_parent\"><img src=\"https://colab.research.google.com/assets/colab-badge.svg\" alt=\"Open In Colab\"/></a>"
      ]
    },
    {
      "cell_type": "code",
      "execution_count": null,
      "id": "46f5e6fb-0f13-4504-bb21-8867d4aec760",
      "metadata": {
        "id": "46f5e6fb-0f13-4504-bb21-8867d4aec760"
      },
      "outputs": [],
      "source": [
        "import numpy as np\n",
        "import pandas as pd\n",
        "import seaborn as sns\n",
        "import matplotlib.pyplot as plt"
      ]
    },
    {
      "cell_type": "code",
      "execution_count": null,
      "id": "138e045b-37e3-43df-ac6a-879033d951ac",
      "metadata": {
        "id": "138e045b-37e3-43df-ac6a-879033d951ac"
      },
      "outputs": [],
      "source": [
        "import re\n",
        "import nltk"
      ]
    },
    {
      "cell_type": "code",
      "execution_count": null,
      "id": "6c26a1e7-0e0b-4704-9fdc-919c8c478e59",
      "metadata": {
        "id": "6c26a1e7-0e0b-4704-9fdc-919c8c478e59"
      },
      "outputs": [],
      "source": [
        "# impurities that our text can have\n",
        "# max , MAX  , MaX, maxxxxxxxxxxx\n"
      ]
    },
    {
      "cell_type": "code",
      "execution_count": null,
      "id": "9cb6d77a-595a-4a5b-9076-b0464b576439",
      "metadata": {
        "colab": {
          "base_uri": "https://localhost:8080/"
        },
        "id": "9cb6d77a-595a-4a5b-9076-b0464b576439",
        "outputId": "8e20e662-2281-413b-b1f4-0bc97337e7b5"
      },
      "outputs": [
        {
          "output_type": "stream",
          "name": "stdout",
          "text": [
            "Requirement already satisfied: requests in /usr/local/lib/python3.11/dist-packages (2.32.3)\n",
            "Requirement already satisfied: charset-normalizer<4,>=2 in /usr/local/lib/python3.11/dist-packages (from requests) (3.4.2)\n",
            "Requirement already satisfied: idna<4,>=2.5 in /usr/local/lib/python3.11/dist-packages (from requests) (3.10)\n",
            "Requirement already satisfied: urllib3<3,>=1.21.1 in /usr/local/lib/python3.11/dist-packages (from requests) (2.4.0)\n",
            "Requirement already satisfied: certifi>=2017.4.17 in /usr/local/lib/python3.11/dist-packages (from requests) (2025.4.26)\n"
          ]
        }
      ],
      "source": [
        "!pip install requests"
      ]
    },
    {
      "cell_type": "code",
      "execution_count": null,
      "id": "21da2de9-0723-418a-acdc-e03f9415954a",
      "metadata": {
        "id": "21da2de9-0723-418a-acdc-e03f9415954a"
      },
      "outputs": [],
      "source": [
        "# Download resources if not already available\n",
        "def clean_text(text):\n",
        "    text = text.lower()   #  Lowercase conversion\n",
        "    text = re.sub(r'http\\S+|www\\S+|https\\S+', '', text) # URL removal\n",
        "    text = re.sub(r'<.*?>', '', text) # HTML tag removal\n",
        "    text = re.sub(r'[^a-z\\s]', '', text) # Special character removal\n",
        "    text = re.sub(r'\\s+', ' ', text).strip() # Extra whitespace removal   #strip to remove forward or backward spcaes\n",
        "    text = re.sub(r'\\S+@\\S+\\.\\S+', '', text) # email removal\n",
        "    text = re.sub(r'[^\\w\\s]', '', text) # punctuations\n",
        "    text = re.sub(r'(.)\\1{2,}', r'\\1', text) # Repeated Characters / Elongated Words\n",
        "    text = re.sub(r'#', '', text) # Hashtags (like from Twitter/Instagram)\n",
        "    text= re.sub(r'@\\w+', '', text) # Mention username\n",
        "    text= re.sub(r'[^\\x00-\\x7F]+', '', text) # non ASCII characters (emojis , foreign characters)\n",
        "    return text"
      ]
    },
    {
      "cell_type": "code",
      "execution_count": null,
      "id": "369a2596-5258-4570-9feb-8e4256632f92",
      "metadata": {
        "id": "369a2596-5258-4570-9feb-8e4256632f92"
      },
      "outputs": [],
      "source": [
        "dirty_text = \"\"\"\n",
        "<Review>OMG!!! 😱 I Loooove the NEW Phone Max 13 Pro+++... it's amaaaazinggg!!! 😍😍😍\n",
        "Visit https://www.phone-world.com/product?id=123 or check www.tech-deals.net 😎📱\n",
        "Seriously, best purchase ever (even though it cost me $1,299.99)!!!\n",
        "Customer support was gr8! Contacted them via email: support@phone-world.com & got a reply within 2 hrs.\n",
        "Follow them @PhoneWorldOfficial for #deals and more info!!\n",
        "P.S. -- I had to return the case [wrong size] but the process was smooth.\n",
        "    TOO     MANY     SPACES here     lol 😂😂\n",
        "</Review>\n",
        "\"\"\""
      ]
    },
    {
      "cell_type": "code",
      "execution_count": null,
      "id": "d54eb626-6129-4d44-af89-c3f7b50322af",
      "metadata": {
        "id": "d54eb626-6129-4d44-af89-c3f7b50322af"
      },
      "outputs": [],
      "source": [
        "cleaned= clean_text(dirty_text)"
      ]
    },
    {
      "cell_type": "code",
      "execution_count": null,
      "id": "a38d7bb7-6f69-4738-92f6-d89691a5b4db",
      "metadata": {
        "colab": {
          "base_uri": "https://localhost:8080/",
          "height": 53
        },
        "id": "a38d7bb7-6f69-4738-92f6-d89691a5b4db",
        "outputId": "5e72fa12-4b7a-4f72-f19e-8b897936a8a5"
      },
      "outputs": [
        {
          "output_type": "execute_result",
          "data": {
            "text/plain": [
              "'omg i love the new phone max pro its amazing visit or check seriously best purchase ever even though it cost me customer support was gr contacted them via email supportphoneworldcom got a reply within hrs follow them phoneworldofficial for deals and more info ps i had to return the case wrong size but the process was smooth too many spaces here lol'"
            ],
            "application/vnd.google.colaboratory.intrinsic+json": {
              "type": "string"
            }
          },
          "metadata": {},
          "execution_count": 9
        }
      ],
      "source": [
        "cleaned"
      ]
    },
    {
      "cell_type": "code",
      "execution_count": null,
      "id": "925ad30b-2993-4f28-88db-980300c9164c",
      "metadata": {
        "colab": {
          "base_uri": "https://localhost:8080/"
        },
        "id": "925ad30b-2993-4f28-88db-980300c9164c",
        "outputId": "9f00806a-6939-41c4-b31f-19a5b770a0a6"
      },
      "outputs": [
        {
          "output_type": "stream",
          "name": "stdout",
          "text": [
            "Requirement already satisfied: spacy in /usr/local/lib/python3.11/dist-packages (3.8.7)\n",
            "Requirement already satisfied: spacy-legacy<3.1.0,>=3.0.11 in /usr/local/lib/python3.11/dist-packages (from spacy) (3.0.12)\n",
            "Requirement already satisfied: spacy-loggers<2.0.0,>=1.0.0 in /usr/local/lib/python3.11/dist-packages (from spacy) (1.0.5)\n",
            "Requirement already satisfied: murmurhash<1.1.0,>=0.28.0 in /usr/local/lib/python3.11/dist-packages (from spacy) (1.0.13)\n",
            "Requirement already satisfied: cymem<2.1.0,>=2.0.2 in /usr/local/lib/python3.11/dist-packages (from spacy) (2.0.11)\n",
            "Requirement already satisfied: preshed<3.1.0,>=3.0.2 in /usr/local/lib/python3.11/dist-packages (from spacy) (3.0.10)\n",
            "Requirement already satisfied: thinc<8.4.0,>=8.3.4 in /usr/local/lib/python3.11/dist-packages (from spacy) (8.3.6)\n",
            "Requirement already satisfied: wasabi<1.2.0,>=0.9.1 in /usr/local/lib/python3.11/dist-packages (from spacy) (1.1.3)\n",
            "Requirement already satisfied: srsly<3.0.0,>=2.4.3 in /usr/local/lib/python3.11/dist-packages (from spacy) (2.5.1)\n",
            "Requirement already satisfied: catalogue<2.1.0,>=2.0.6 in /usr/local/lib/python3.11/dist-packages (from spacy) (2.0.10)\n",
            "Requirement already satisfied: weasel<0.5.0,>=0.1.0 in /usr/local/lib/python3.11/dist-packages (from spacy) (0.4.1)\n",
            "Requirement already satisfied: typer<1.0.0,>=0.3.0 in /usr/local/lib/python3.11/dist-packages (from spacy) (0.16.0)\n",
            "Requirement already satisfied: tqdm<5.0.0,>=4.38.0 in /usr/local/lib/python3.11/dist-packages (from spacy) (4.67.1)\n",
            "Requirement already satisfied: numpy>=1.19.0 in /usr/local/lib/python3.11/dist-packages (from spacy) (2.0.2)\n",
            "Requirement already satisfied: requests<3.0.0,>=2.13.0 in /usr/local/lib/python3.11/dist-packages (from spacy) (2.32.3)\n",
            "Requirement already satisfied: pydantic!=1.8,!=1.8.1,<3.0.0,>=1.7.4 in /usr/local/lib/python3.11/dist-packages (from spacy) (2.11.5)\n",
            "Requirement already satisfied: jinja2 in /usr/local/lib/python3.11/dist-packages (from spacy) (3.1.6)\n",
            "Requirement already satisfied: setuptools in /usr/local/lib/python3.11/dist-packages (from spacy) (75.2.0)\n",
            "Requirement already satisfied: packaging>=20.0 in /usr/local/lib/python3.11/dist-packages (from spacy) (24.2)\n",
            "Requirement already satisfied: langcodes<4.0.0,>=3.2.0 in /usr/local/lib/python3.11/dist-packages (from spacy) (3.5.0)\n",
            "Requirement already satisfied: language-data>=1.2 in /usr/local/lib/python3.11/dist-packages (from langcodes<4.0.0,>=3.2.0->spacy) (1.3.0)\n",
            "Requirement already satisfied: annotated-types>=0.6.0 in /usr/local/lib/python3.11/dist-packages (from pydantic!=1.8,!=1.8.1,<3.0.0,>=1.7.4->spacy) (0.7.0)\n",
            "Requirement already satisfied: pydantic-core==2.33.2 in /usr/local/lib/python3.11/dist-packages (from pydantic!=1.8,!=1.8.1,<3.0.0,>=1.7.4->spacy) (2.33.2)\n",
            "Requirement already satisfied: typing-extensions>=4.12.2 in /usr/local/lib/python3.11/dist-packages (from pydantic!=1.8,!=1.8.1,<3.0.0,>=1.7.4->spacy) (4.13.2)\n",
            "Requirement already satisfied: typing-inspection>=0.4.0 in /usr/local/lib/python3.11/dist-packages (from pydantic!=1.8,!=1.8.1,<3.0.0,>=1.7.4->spacy) (0.4.1)\n",
            "Requirement already satisfied: charset-normalizer<4,>=2 in /usr/local/lib/python3.11/dist-packages (from requests<3.0.0,>=2.13.0->spacy) (3.4.2)\n",
            "Requirement already satisfied: idna<4,>=2.5 in /usr/local/lib/python3.11/dist-packages (from requests<3.0.0,>=2.13.0->spacy) (3.10)\n",
            "Requirement already satisfied: urllib3<3,>=1.21.1 in /usr/local/lib/python3.11/dist-packages (from requests<3.0.0,>=2.13.0->spacy) (2.4.0)\n",
            "Requirement already satisfied: certifi>=2017.4.17 in /usr/local/lib/python3.11/dist-packages (from requests<3.0.0,>=2.13.0->spacy) (2025.4.26)\n",
            "Requirement already satisfied: blis<1.4.0,>=1.3.0 in /usr/local/lib/python3.11/dist-packages (from thinc<8.4.0,>=8.3.4->spacy) (1.3.0)\n",
            "Requirement already satisfied: confection<1.0.0,>=0.0.1 in /usr/local/lib/python3.11/dist-packages (from thinc<8.4.0,>=8.3.4->spacy) (0.1.5)\n",
            "Requirement already satisfied: click>=8.0.0 in /usr/local/lib/python3.11/dist-packages (from typer<1.0.0,>=0.3.0->spacy) (8.2.1)\n",
            "Requirement already satisfied: shellingham>=1.3.0 in /usr/local/lib/python3.11/dist-packages (from typer<1.0.0,>=0.3.0->spacy) (1.5.4)\n",
            "Requirement already satisfied: rich>=10.11.0 in /usr/local/lib/python3.11/dist-packages (from typer<1.0.0,>=0.3.0->spacy) (13.9.4)\n",
            "Requirement already satisfied: cloudpathlib<1.0.0,>=0.7.0 in /usr/local/lib/python3.11/dist-packages (from weasel<0.5.0,>=0.1.0->spacy) (0.21.1)\n",
            "Requirement already satisfied: smart-open<8.0.0,>=5.2.1 in /usr/local/lib/python3.11/dist-packages (from weasel<0.5.0,>=0.1.0->spacy) (7.1.0)\n",
            "Requirement already satisfied: MarkupSafe>=2.0 in /usr/local/lib/python3.11/dist-packages (from jinja2->spacy) (3.0.2)\n",
            "Requirement already satisfied: marisa-trie>=1.1.0 in /usr/local/lib/python3.11/dist-packages (from language-data>=1.2->langcodes<4.0.0,>=3.2.0->spacy) (1.2.1)\n",
            "Requirement already satisfied: markdown-it-py>=2.2.0 in /usr/local/lib/python3.11/dist-packages (from rich>=10.11.0->typer<1.0.0,>=0.3.0->spacy) (3.0.0)\n",
            "Requirement already satisfied: pygments<3.0.0,>=2.13.0 in /usr/local/lib/python3.11/dist-packages (from rich>=10.11.0->typer<1.0.0,>=0.3.0->spacy) (2.19.1)\n",
            "Requirement already satisfied: wrapt in /usr/local/lib/python3.11/dist-packages (from smart-open<8.0.0,>=5.2.1->weasel<0.5.0,>=0.1.0->spacy) (1.17.2)\n",
            "Requirement already satisfied: mdurl~=0.1 in /usr/local/lib/python3.11/dist-packages (from markdown-it-py>=2.2.0->rich>=10.11.0->typer<1.0.0,>=0.3.0->spacy) (0.1.2)\n",
            "Python 3.11.12 (main, Apr  9 2025, 08:55:54) [GCC 11.4.0] on linux\n",
            "Type \"help\", \"copyright\", \"credits\" or \"license\" for more information.\n",
            ">>> \n",
            "\n",
            "KeyboardInterrupt\n",
            ">>> \n",
            "KeyboardInterrupt\n",
            ">>> ^C\n"
          ]
        }
      ],
      "source": [
        "# LEMMITIZING USING SPACY\n",
        "!pip  install spacy\n",
        "!python - m spacy download en_core_web_sm"
      ]
    },
    {
      "cell_type": "code",
      "execution_count": null,
      "id": "99770a5a-604c-44c5-b52e-949f97e744da",
      "metadata": {
        "id": "99770a5a-604c-44c5-b52e-949f97e744da"
      },
      "outputs": [],
      "source": [
        "import spacy\n",
        "# lemmatize using spacy\n",
        "def clean_text_spacy(text):\n",
        "    nlp= spacy.load(\"en_core_web_sm\")\n",
        "    doc= nlp(text)\n",
        "    word=[]\n",
        "    for token in doc:\n",
        "        if not token.is_stop and not token.is_punct:\n",
        "            word.append(token.lemma_)\n",
        "    return word"
      ]
    },
    {
      "cell_type": "code",
      "execution_count": null,
      "id": "431d9f45-cb2b-430f-a884-4291a84cdf3a",
      "metadata": {
        "colab": {
          "base_uri": "https://localhost:8080/"
        },
        "id": "431d9f45-cb2b-430f-a884-4291a84cdf3a",
        "outputId": "d6ecb883-1d59-43d7-80a0-4db613825ced"
      },
      "outputs": [
        {
          "output_type": "execute_result",
          "data": {
            "text/plain": [
              "['omg',\n",
              " 'love',\n",
              " 'new',\n",
              " 'phone',\n",
              " 'max',\n",
              " 'pro',\n",
              " 'amazing',\n",
              " 'visit',\n",
              " 'check',\n",
              " 'seriously',\n",
              " 'good',\n",
              " 'purchase',\n",
              " 'cost',\n",
              " 'customer',\n",
              " 'support',\n",
              " 'gr',\n",
              " 'contact',\n",
              " 'email',\n",
              " 'supportphoneworldcom',\n",
              " 'get',\n",
              " 'reply',\n",
              " 'hrs',\n",
              " 'follow',\n",
              " 'phoneworldofficial',\n",
              " 'deal',\n",
              " 'info',\n",
              " 'ps',\n",
              " 'return',\n",
              " 'case',\n",
              " 'wrong',\n",
              " 'size',\n",
              " 'process',\n",
              " 'smooth',\n",
              " 'space',\n",
              " 'lol']"
            ]
          },
          "metadata": {},
          "execution_count": 11
        }
      ],
      "source": [
        "clean_text_spacy(cleaned)"
      ]
    },
    {
      "cell_type": "markdown",
      "id": "900ac45c-bfca-4526-a8b7-3eda70333f89",
      "metadata": {
        "id": "900ac45c-bfca-4526-a8b7-3eda70333f89"
      },
      "source": [
        "# word cloud"
      ]
    },
    {
      "cell_type": "code",
      "execution_count": null,
      "id": "363f959f-967c-4b79-b7fa-310481c06445",
      "metadata": {
        "id": "363f959f-967c-4b79-b7fa-310481c06445"
      },
      "outputs": [],
      "source": [
        "text=\"\"\"\n",
        "These headphones are amazing! Great sound quality and super comfortable. I use them at the gym daily\n",
        "            Battery life is fantastic—lasts me for days! Also love the sleek design and fast pairing\n",
        "The noise cancellation is top-notch. Blocks out everything when I'm working.\n",
        "            Very lightweight and doesn’t hurt my ears after long use. Excellent for video calls.\n",
        "I love how quick they connect to my phone. The bass is powerful too.\n",
        "            Perfect for travel. They fold nicely and the carrying case is a great addition.\n",
        "Great product at a reasonable price. Feels like a premium experience.\n",
        "            Customer service was excellent when I had a question about charging. Very responsive\n",
        "Best headphones I’ve owned. Better than some high-end brands.\n",
        "            Looks stylish and professional. I wear them to work every day.\"\"\""
      ]
    },
    {
      "cell_type": "code",
      "execution_count": null,
      "id": "5e550733-984e-4eb7-8e40-d1432e0a364b",
      "metadata": {
        "id": "5e550733-984e-4eb7-8e40-d1432e0a364b"
      },
      "outputs": [],
      "source": [
        "cleaned_1= clean_text(text)\n",
        "cleaned_1= clean_text_spacy(cleaned_1)"
      ]
    },
    {
      "cell_type": "code",
      "execution_count": null,
      "id": "ffa1e3f5-f010-48e1-b06c-cf8f51e281ca",
      "metadata": {
        "colab": {
          "base_uri": "https://localhost:8080/"
        },
        "id": "ffa1e3f5-f010-48e1-b06c-cf8f51e281ca",
        "outputId": "b1061586-4a7c-4069-ee0b-3959cf66d1d3"
      },
      "outputs": [
        {
          "output_type": "execute_result",
          "data": {
            "text/plain": [
              "['headphone',\n",
              " 'amazing',\n",
              " 'great',\n",
              " 'sound',\n",
              " 'quality',\n",
              " 'super',\n",
              " 'comfortable',\n",
              " 'use',\n",
              " 'gym',\n",
              " 'daily',\n",
              " 'battery',\n",
              " 'life',\n",
              " 'fantasticlast',\n",
              " 'day',\n",
              " 'love',\n",
              " 'sleek',\n",
              " 'design',\n",
              " 'fast',\n",
              " 'pair',\n",
              " 'noise',\n",
              " 'cancellation',\n",
              " 'topnotch',\n",
              " 'block',\n",
              " 'm',\n",
              " 'work',\n",
              " 'lightweight',\n",
              " 'not',\n",
              " 'hurt',\n",
              " 'ear',\n",
              " 'long',\n",
              " 'use',\n",
              " 'excellent',\n",
              " 'video',\n",
              " 'call',\n",
              " 'love',\n",
              " 'quick',\n",
              " 'connect',\n",
              " 'phone',\n",
              " 'bass',\n",
              " 'powerful',\n",
              " 'perfect',\n",
              " 'travel',\n",
              " 'fold',\n",
              " 'nicely',\n",
              " 'carrying',\n",
              " 'case',\n",
              " 'great',\n",
              " 'addition',\n",
              " 'great',\n",
              " 'product',\n",
              " 'reasonable',\n",
              " 'price',\n",
              " 'feel',\n",
              " 'like',\n",
              " 'premium',\n",
              " 'experience',\n",
              " 'customer',\n",
              " 'service',\n",
              " 'excellent',\n",
              " 'question',\n",
              " 'charge',\n",
              " 'responsive',\n",
              " 'good',\n",
              " 'headphone',\n",
              " 've',\n",
              " 'own',\n",
              " 'well',\n",
              " 'highend',\n",
              " 'brand',\n",
              " 'look',\n",
              " 'stylish',\n",
              " 'professional',\n",
              " 'wear',\n",
              " 'work',\n",
              " 'day']"
            ]
          },
          "metadata": {},
          "execution_count": 14
        }
      ],
      "source": [
        "cleaned_1"
      ]
    },
    {
      "cell_type": "code",
      "execution_count": null,
      "id": "85683db7-9d2e-47a1-8acd-0e57f23e8a6d",
      "metadata": {
        "id": "85683db7-9d2e-47a1-8acd-0e57f23e8a6d"
      },
      "outputs": [],
      "source": []
    },
    {
      "cell_type": "code",
      "execution_count": null,
      "id": "08c84148-2ae9-44dc-9230-f42d1ae42a01",
      "metadata": {
        "id": "08c84148-2ae9-44dc-9230-f42d1ae42a01"
      },
      "outputs": [],
      "source": [
        "from wordcloud import WordCloud"
      ]
    },
    {
      "cell_type": "code",
      "execution_count": null,
      "id": "97cdbea6-35ce-499b-a0ef-1e613ac6310f",
      "metadata": {
        "colab": {
          "base_uri": "https://localhost:8080/",
          "height": 446
        },
        "id": "97cdbea6-35ce-499b-a0ef-1e613ac6310f",
        "outputId": "41544594-2a31-48c5-fd3f-51fe41f2923c"
      },
      "outputs": [
        {
          "output_type": "display_data",
          "data": {
            "text/plain": [
              "<Figure size 1000x500 with 1 Axes>"
            ],
            "image/png": "[encoded data removed]"
          },
          "metadata": {}
        }
      ],
      "source": [
        "wordcloud= WordCloud(width=800, height=400, background_color=\"white\").generate(text)\n",
        "\n",
        "plt.figure(figsize=(10,5))\n",
        "plt.imshow(wordcloud)\n",
        "plt.axis(\"off\")\n",
        "plt.title(\"Word cloud of sample text\", fontsize=16)\n",
        "plt.show()"
      ]
    },
    {
      "cell_type": "code",
      "execution_count": null,
      "id": "7b14fe10-5bce-4215-87c2-a63f96d7bed4",
      "metadata": {
        "id": "7b14fe10-5bce-4215-87c2-a63f96d7bed4"
      },
      "outputs": [],
      "source": [
        "def show_wordcloud(text):\n",
        "    try:\n",
        "        wordcloud= WordCloud(width=800, height=400, background_color=\"white\").generate(text)\n",
        "        plt.figure(figsize=(10,5))\n",
        "        plt.imshow(wordcloud)\n",
        "        plt.axis(\"off\")\n",
        "        return plt\n",
        "    except Exception as e:\n",
        "        return f\"Erroe generating word cloud:m {e}\""
      ]
    },
    {
      "cell_type": "code",
      "execution_count": null,
      "id": "760a17b1-cffb-4096-8530-9e045c11d785",
      "metadata": {
        "colab": {
          "base_uri": "https://localhost:8080/",
          "height": 439
        },
        "id": "760a17b1-cffb-4096-8530-9e045c11d785",
        "outputId": "7075e200-4d7d-4533-8b76-af288e5af6a9"
      },
      "outputs": [
        {
          "output_type": "execute_result",
          "data": {
            "text/plain": [
              "<module 'matplotlib.pyplot' from '/usr/local/lib/python3.11/dist-packages/matplotlib/pyplot.py'>"
            ]
          },
          "metadata": {},
          "execution_count": 18
        },
        {
          "output_type": "display_data",
          "data": {
            "text/plain": [
              "<Figure size 1000x500 with 1 Axes>"
            ],
            "image/png": "[encoded data removed]"
          },
          "metadata": {}
        }
      ],
      "source": [
        "show_wordcloud(text)"
      ]
    },
    {
      "cell_type": "markdown",
      "id": "63b8a3a2-1604-4cba-92ba-c87e911b9d1b",
      "metadata": {
        "id": "63b8a3a2-1604-4cba-92ba-c87e911b9d1b"
      },
      "source": [
        "# N-GRAM ANALYSIS"
      ]
    },
    {
      "cell_type": "code",
      "execution_count": null,
      "id": "fdaca669-854a-4294-a089-764338b980d4",
      "metadata": {
        "id": "fdaca669-854a-4294-a089-764338b980d4"
      },
      "outputs": [],
      "source": [
        "from nltk.util import ngrams\n",
        "from collections import Counter\n",
        "import plotly.graph_objects as go"
      ]
    },
    {
      "cell_type": "code",
      "execution_count": null,
      "id": "1b9c1a3d-7479-47aa-b9b4-4bd807f41d0e",
      "metadata": {
        "id": "1b9c1a3d-7479-47aa-b9b4-4bd807f41d0e"
      },
      "outputs": [],
      "source": [
        "# create an bigram\n",
        "biagrams= list(ngrams(cleaned_1, 3))\n",
        "Counter(biagrams)\n",
        "biagram_counts= Counter(biagrams).most_common(15)"
      ]
    },
    {
      "cell_type": "code",
      "execution_count": null,
      "id": "2c02ab84-a522-4647-babf-e4abebe02516",
      "metadata": {
        "id": "2c02ab84-a522-4647-babf-e4abebe02516"
      },
      "outputs": [],
      "source": [
        "labels=[]\n",
        "counts=[]\n",
        "\n",
        "\n",
        "for biagram , count in biagram_counts:\n",
        "    labels.append(\" \".join(biagram))\n",
        "    counts.append(count)\n"
      ]
    },
    {
      "cell_type": "code",
      "execution_count": null,
      "id": "daf742cd-9b75-4b64-b0c1-dd8e42b6344b",
      "metadata": {
        "colab": {
          "base_uri": "https://localhost:8080/"
        },
        "id": "daf742cd-9b75-4b64-b0c1-dd8e42b6344b",
        "outputId": "742c307b-6dd5-467b-b453-1a170871c040"
      },
      "outputs": [
        {
          "output_type": "execute_result",
          "data": {
            "text/plain": [
              "['headphone amazing great',\n",
              " 'amazing great sound',\n",
              " 'great sound quality',\n",
              " 'sound quality super',\n",
              " 'quality super comfortable',\n",
              " 'super comfortable use',\n",
              " 'comfortable use gym',\n",
              " 'use gym daily',\n",
              " 'gym daily battery',\n",
              " 'daily battery life',\n",
              " 'battery life fantasticlast',\n",
              " 'life fantasticlast day',\n",
              " 'fantasticlast day love',\n",
              " 'day love sleek',\n",
              " 'love sleek design']"
            ]
          },
          "metadata": {},
          "execution_count": 22
        }
      ],
      "source": [
        "labels"
      ]
    },
    {
      "cell_type": "code",
      "execution_count": null,
      "id": "bde20aac-aedb-4e98-a07d-6d05380a694c",
      "metadata": {
        "id": "bde20aac-aedb-4e98-a07d-6d05380a694c"
      },
      "outputs": [],
      "source": [
        "counts=[3,5,6,7,9,10,23,12,11,22,10,5,13,14,15]"
      ]
    },
    {
      "cell_type": "code",
      "execution_count": null,
      "id": "35c72ffb-957c-4a3e-af4f-5fced27dbde8",
      "metadata": {
        "colab": {
          "base_uri": "https://localhost:8080/",
          "height": 567
        },
        "id": "35c72ffb-957c-4a3e-af4f-5fced27dbde8",
        "outputId": "ed167fd0-c2bd-4c78-ed94-5c1698c6c31e"
      },
      "outputs": [
        {
          "output_type": "display_data",
          "data": {
            "text/html": [
              "<html>\n",
              "<head><meta charset=\"utf-8\" /></head>\n",
              "<body>\n",
              "    <div>            <script src=\"https://cdnjs.cloudflare.com/ajax/libs/mathjax/2.7.5/MathJax.js?config=TeX-AMS-MML_SVG\"></script><script type=\"text/javascript\">if (window.MathJax && window.MathJax.Hub && window.MathJax.Hub.Config) {window.MathJax.Hub.Config({SVG: {font: \"STIX-Web\"}});}</script>                <script type=\"text/javascript\">window.PlotlyConfig = {MathJaxConfig: 'local'};</script>\n",
              "        <script charset=\"utf-8\" src=\"https://cdn.plot.ly/plotly-2.35.2.min.js\"></script>                <div id=\"440c04fb-e279-49fd-bf75-59cf6877b748\" class=\"plotly-graph-div\" style=\"height:550px; width:100%;\"></div>            <script type=\"text/javascript\">                                    window.PLOTLYENV=window.PLOTLYENV || {};                                    if (document.getElementById(\"440c04fb-e279-49fd-bf75-59cf6877b748\")) {                    Plotly.newPlot(                        \"440c04fb-e279-49fd-bf75-59cf6877b748\",                        [{\"text\":[\"3\",\"5\",\"6\",\"7\",\"9\",\"10\",\"23\",\"12\",\"11\",\"22\",\"10\",\"5\",\"13\",\"14\",\"15\"],\"textposition\":\"outside\",\"x\":[\"headphone amazing great\",\"amazing great sound\",\"great sound quality\",\"sound quality super\",\"quality super comfortable\",\"super comfortable use\",\"comfortable use gym\",\"use gym daily\",\"gym daily battery\",\"daily battery life\",\"battery life fantasticlast\",\"life fantasticlast day\",\"fantasticlast day love\",\"day love sleek\",\"love sleek design\"],\"y\":[3,5,6,7,9,10,23,12,11,22,10,5,13,14,15],\"type\":\"bar\"}],                        {\"template\":{\"data\":{\"histogram2dcontour\":[{\"type\":\"histogram2dcontour\",\"colorbar\":{\"outlinewidth\":0,\"ticks\":\"\"},\"colorscale\":[[0.0,\"#0d0887\"],[0.1111111111111111,\"#46039f\"],[0.2222222222222222,\"#7201a8\"],[0.3333333333333333,\"#9c179e\"],[0.4444444444444444,\"#bd3786\"],[0.5555555555555556,\"#d8576b\"],[0.6666666666666666,\"#ed7953\"],[0.7777777777777778,\"#fb9f3a\"],[0.8888888888888888,\"#fdca26\"],[1.0,\"#f0f921\"]]}],\"choropleth\":[{\"type\":\"choropleth\",\"colorbar\":{\"outlinewidth\":0,\"ticks\":\"\"}}],\"histogram2d\":[{\"type\":\"histogram2d\",\"colorbar\":{\"outlinewidth\":0,\"ticks\":\"\"},\"colorscale\":[[0.0,\"#0d0887\"],[0.1111111111111111,\"#46039f\"],[0.2222222222222222,\"#7201a8\"],[0.3333333333333333,\"#9c179e\"],[0.4444444444444444,\"#bd3786\"],[0.5555555555555556,\"#d8576b\"],[0.6666666666666666,\"#ed7953\"],[0.7777777777777778,\"#fb9f3a\"],[0.8888888888888888,\"#fdca26\"],[1.0,\"#f0f921\"]]}],\"heatmap\":[{\"type\":\"heatmap\",\"colorbar\":{\"outlinewidth\":0,\"ticks\":\"\"},\"colorscale\":[[0.0,\"#0d0887\"],[0.1111111111111111,\"#46039f\"],[0.2222222222222222,\"#7201a8\"],[0.3333333333333333,\"#9c179e\"],[0.4444444444444444,\"#bd3786\"],[0.5555555555555556,\"#d8576b\"],[0.6666666666666666,\"#ed7953\"],[0.7777777777777778,\"#fb9f3a\"],[0.8888888888888888,\"#fdca26\"],[1.0,\"#f0f921\"]]}],\"heatmapgl\":[{\"type\":\"heatmapgl\",\"colorbar\":{\"outlinewidth\":0,\"ticks\":\"\"},\"colorscale\":[[0.0,\"#0d0887\"],[0.1111111111111111,\"#46039f\"],[0.2222222222222222,\"#7201a8\"],[0.3333333333333333,\"#9c179e\"],[0.4444444444444444,\"#bd3786\"],[0.5555555555555556,\"#d8576b\"],[0.6666666666666666,\"#ed7953\"],[0.7777777777777778,\"#fb9f3a\"],[0.8888888888888888,\"#fdca26\"],[1.0,\"#f0f921\"]]}],\"contourcarpet\":[{\"type\":\"contourcarpet\",\"colorbar\":{\"outlinewidth\":0,\"ticks\":\"\"}}],\"contour\":[{\"type\":\"contour\",\"colorbar\":{\"outlinewidth\":0,\"ticks\":\"\"},\"colorscale\":[[0.0,\"#0d0887\"],[0.1111111111111111,\"#46039f\"],[0.2222222222222222,\"#7201a8\"],[0.3333333333333333,\"#9c179e\"],[0.4444444444444444,\"#bd3786\"],[0.5555555555555556,\"#d8576b\"],[0.6666666666666666,\"#ed7953\"],[0.7777777777777778,\"#fb9f3a\"],[0.8888888888888888,\"#fdca26\"],[1.0,\"#f0f921\"]]}],\"surface\":[{\"type\":\"surface\",\"colorbar\":{\"outlinewidth\":0,\"ticks\":\"\"},\"colorscale\":[[0.0,\"#0d0887\"],[0.1111111111111111,\"#46039f\"],[0.2222222222222222,\"#7201a8\"],[0.3333333333333333,\"#9c179e\"],[0.4444444444444444,\"#bd3786\"],[0.5555555555555556,\"#d8576b\"],[0.6666666666666666,\"#ed7953\"],[0.7777777777777778,\"#fb9f3a\"],[0.8888888888888888,\"#fdca26\"],[1.0,\"#f0f921\"]]}],\"mesh3d\":[{\"type\":\"mesh3d\",\"colorbar\":{\"outlinewidth\":0,\"ticks\":\"\"}}],\"scatter\":[{\"fillpattern\":{\"fillmode\":\"overlay\",\"size\":10,\"solidity\":0.2},\"type\":\"scatter\"}],\"parcoords\":[{\"type\":\"parcoords\",\"line\":{\"colorbar\":{\"outlinewidth\":0,\"ticks\":\"\"}}}],\"scatterpolargl\":[{\"type\":\"scatterpolargl\",\"marker\":{\"colorbar\":{\"outlinewidth\":0,\"ticks\":\"\"}}}],\"bar\":[{\"error_x\":{\"color\":\"#2a3f5f\"},\"error_y\":{\"color\":\"#2a3f5f\"},\"marker\":{\"line\":{\"color\":\"#E5ECF6\",\"width\":0.5},\"pattern\":{\"fillmode\":\"overlay\",\"size\":10,\"solidity\":0.2}},\"type\":\"bar\"}],\"scattergeo\":[{\"type\":\"scattergeo\",\"marker\":{\"colorbar\":{\"outlinewidth\":0,\"ticks\":\"\"}}}],\"scatterpolar\":[{\"type\":\"scatterpolar\",\"marker\":{\"colorbar\":{\"outlinewidth\":0,\"ticks\":\"\"}}}],\"histogram\":[{\"marker\":{\"pattern\":{\"fillmode\":\"overlay\",\"size\":10,\"solidity\":0.2}},\"type\":\"histogram\"}],\"scattergl\":[{\"type\":\"scattergl\",\"marker\":{\"colorbar\":{\"outlinewidth\":0,\"ticks\":\"\"}}}],\"scatter3d\":[{\"type\":\"scatter3d\",\"line\":{\"colorbar\":{\"outlinewidth\":0,\"ticks\":\"\"}},\"marker\":{\"colorbar\":{\"outlinewidth\":0,\"ticks\":\"\"}}}],\"scattermapbox\":[{\"type\":\"scattermapbox\",\"marker\":{\"colorbar\":{\"outlinewidth\":0,\"ticks\":\"\"}}}],\"scatterternary\":[{\"type\":\"scatterternary\",\"marker\":{\"colorbar\":{\"outlinewidth\":0,\"ticks\":\"\"}}}],\"scattercarpet\":[{\"type\":\"scattercarpet\",\"marker\":{\"colorbar\":{\"outlinewidth\":0,\"ticks\":\"\"}}}],\"carpet\":[{\"aaxis\":{\"endlinecolor\":\"#2a3f5f\",\"gridcolor\":\"white\",\"linecolor\":\"white\",\"minorgridcolor\":\"white\",\"startlinecolor\":\"#2a3f5f\"},\"baxis\":{\"endlinecolor\":\"#2a3f5f\",\"gridcolor\":\"white\",\"linecolor\":\"white\",\"minorgridcolor\":\"white\",\"startlinecolor\":\"#2a3f5f\"},\"type\":\"carpet\"}],\"table\":[{\"cells\":{\"fill\":{\"color\":\"#EBF0F8\"},\"line\":{\"color\":\"white\"}},\"header\":{\"fill\":{\"color\":\"#C8D4E3\"},\"line\":{\"color\":\"white\"}},\"type\":\"table\"}],\"barpolar\":[{\"marker\":{\"line\":{\"color\":\"#E5ECF6\",\"width\":0.5},\"pattern\":{\"fillmode\":\"overlay\",\"size\":10,\"solidity\":0.2}},\"type\":\"barpolar\"}],\"pie\":[{\"automargin\":true,\"type\":\"pie\"}]},\"layout\":{\"autotypenumbers\":\"strict\",\"colorway\":[\"#636efa\",\"#EF553B\",\"#00cc96\",\"#ab63fa\",\"#FFA15A\",\"#19d3f3\",\"#FF6692\",\"#B6E880\",\"#FF97FF\",\"#FECB52\"],\"font\":{\"color\":\"#2a3f5f\"},\"hovermode\":\"closest\",\"hoverlabel\":{\"align\":\"left\"},\"paper_bgcolor\":\"white\",\"plot_bgcolor\":\"#E5ECF6\",\"polar\":{\"bgcolor\":\"#E5ECF6\",\"angularaxis\":{\"gridcolor\":\"white\",\"linecolor\":\"white\",\"ticks\":\"\"},\"radialaxis\":{\"gridcolor\":\"white\",\"linecolor\":\"white\",\"ticks\":\"\"}},\"ternary\":{\"bgcolor\":\"#E5ECF6\",\"aaxis\":{\"gridcolor\":\"white\",\"linecolor\":\"white\",\"ticks\":\"\"},\"baxis\":{\"gridcolor\":\"white\",\"linecolor\":\"white\",\"ticks\":\"\"},\"caxis\":{\"gridcolor\":\"white\",\"linecolor\":\"white\",\"ticks\":\"\"}},\"coloraxis\":{\"colorbar\":{\"outlinewidth\":0,\"ticks\":\"\"}},\"colorscale\":{\"sequential\":[[0.0,\"#0d0887\"],[0.1111111111111111,\"#46039f\"],[0.2222222222222222,\"#7201a8\"],[0.3333333333333333,\"#9c179e\"],[0.4444444444444444,\"#bd3786\"],[0.5555555555555556,\"#d8576b\"],[0.6666666666666666,\"#ed7953\"],[0.7777777777777778,\"#fb9f3a\"],[0.8888888888888888,\"#fdca26\"],[1.0,\"#f0f921\"]],\"sequentialminus\":[[0.0,\"#0d0887\"],[0.1111111111111111,\"#46039f\"],[0.2222222222222222,\"#7201a8\"],[0.3333333333333333,\"#9c179e\"],[0.4444444444444444,\"#bd3786\"],[0.5555555555555556,\"#d8576b\"],[0.6666666666666666,\"#ed7953\"],[0.7777777777777778,\"#fb9f3a\"],[0.8888888888888888,\"#fdca26\"],[1.0,\"#f0f921\"]],\"diverging\":[[0,\"#8e0152\"],[0.1,\"#c51b7d\"],[0.2,\"#de77ae\"],[0.3,\"#f1b6da\"],[0.4,\"#fde0ef\"],[0.5,\"#f7f7f7\"],[0.6,\"#e6f5d0\"],[0.7,\"#b8e186\"],[0.8,\"#7fbc41\"],[0.9,\"#4d9221\"],[1,\"#276419\"]]},\"xaxis\":{\"gridcolor\":\"white\",\"linecolor\":\"white\",\"ticks\":\"\",\"title\":{\"standoff\":15},\"zerolinecolor\":\"white\",\"automargin\":true,\"zerolinewidth\":2},\"yaxis\":{\"gridcolor\":\"white\",\"linecolor\":\"white\",\"ticks\":\"\",\"title\":{\"standoff\":15},\"zerolinecolor\":\"white\",\"automargin\":true,\"zerolinewidth\":2},\"scene\":{\"xaxis\":{\"backgroundcolor\":\"#E5ECF6\",\"gridcolor\":\"white\",\"linecolor\":\"white\",\"showbackground\":true,\"ticks\":\"\",\"zerolinecolor\":\"white\",\"gridwidth\":2},\"yaxis\":{\"backgroundcolor\":\"#E5ECF6\",\"gridcolor\":\"white\",\"linecolor\":\"white\",\"showbackground\":true,\"ticks\":\"\",\"zerolinecolor\":\"white\",\"gridwidth\":2},\"zaxis\":{\"backgroundcolor\":\"#E5ECF6\",\"gridcolor\":\"white\",\"linecolor\":\"white\",\"showbackground\":true,\"ticks\":\"\",\"zerolinecolor\":\"white\",\"gridwidth\":2}},\"shapedefaults\":{\"line\":{\"color\":\"#2a3f5f\"}},\"annotationdefaults\":{\"arrowcolor\":\"#2a3f5f\",\"arrowhead\":0,\"arrowwidth\":1},\"geo\":{\"bgcolor\":\"white\",\"landcolor\":\"#E5ECF6\",\"subunitcolor\":\"white\",\"showland\":true,\"showlakes\":true,\"lakecolor\":\"white\"},\"title\":{\"x\":0.05},\"mapbox\":{\"style\":\"light\"}}},\"height\":550,\"title\":{\"text\":\"top 15 Biagrams\"},\"xaxis\":{\"title\":{\"text\":\"Labels\"}},\"yaxis\":{\"title\":{\"text\":\"Frequency\"}}},                        {\"responsive\": true}                    ).then(function(){\n",
              "                            \n",
              "var gd = document.getElementById('440c04fb-e279-49fd-bf75-59cf6877b748');\n",
              "var x = new MutationObserver(function (mutations, observer) {{\n",
              "        var display = window.getComputedStyle(gd).display;\n",
              "        if (!display || display === 'none') {{\n",
              "            console.log([gd, 'removed!']);\n",
              "            Plotly.purge(gd);\n",
              "            observer.disconnect();\n",
              "        }}\n",
              "}});\n",
              "\n",
              "// Listen for the removal of the full notebook cells\n",
              "var notebookContainer = gd.closest('#notebook-container');\n",
              "if (notebookContainer) {{\n",
              "    x.observe(notebookContainer, {childList: true});\n",
              "}}\n",
              "\n",
              "// Listen for the clearing of the current output cell\n",
              "var outputEl = gd.closest('.output');\n",
              "if (outputEl) {{\n",
              "    x.observe(outputEl, {childList: true});\n",
              "}}\n",
              "\n",
              "                        })                };                            </script>        </div>\n",
              "</body>\n",
              "</html>"
            ]
          },
          "metadata": {}
        }
      ],
      "source": [
        "# plotly bar chart\n",
        "fig= go.Figure(data=\n",
        "               [go.Bar(\n",
        "                   x=labels,\n",
        "                   y=counts,\n",
        "                   text=counts,\n",
        "                   textposition=\"outside\")])\n",
        "\n",
        "\n",
        "\n",
        "\n",
        "# update layout\n",
        "fig.update_layout(height=550,\n",
        "                  title=\"top 15 Biagrams\",\n",
        "                  xaxis_title= \"Labels\",\n",
        "                  yaxis_title=\"Frequency\")\n",
        "\n",
        "\n",
        "fig.show()"
      ]
    },
    {
      "cell_type": "code",
      "execution_count": null,
      "id": "8b388adb-1fdf-4a1d-9658-b22bad5ca61d",
      "metadata": {
        "id": "8b388adb-1fdf-4a1d-9658-b22bad5ca61d"
      },
      "outputs": [],
      "source": [
        "# Creating function for N-gram analysis\n",
        "def plot_top_ngrams_bar_chart(tokens,gram_n=4, top_n=15):\n",
        "    try:\n",
        "        ngram = list(ngrams(tokens, gram_n))\n",
        "        ngram_counts= Counter(ngram).most_common(top_n)\n",
        "\n",
        "        if not ngram_counts:\n",
        "            raise ValueError(\"No n-gramsfound in the given  token list\")\n",
        "\n",
        "        labels=[]\n",
        "        counts=[]\n",
        "        for biagram , count in ngram_counts :\n",
        "            labels.append(\" \".join(biagram))\n",
        "            counts.append(count)\n",
        "\n",
        "        # plotly bar chart\n",
        "        fig= go.Figure(data=\n",
        "                       [go.Bar(\n",
        "                           x=labels,\n",
        "                           y=counts,\n",
        "                           text=counts,\n",
        "                           textposition=\"outside\")])\n",
        "\n",
        "\n",
        "\n",
        "\n",
        "        # update layout\n",
        "        fig.update_layout(height=550,\n",
        "                          title=\"top 15 Biagrams\",\n",
        "                          xaxis_title= \"Labels\",\n",
        "                          yaxis_title=\"Frequency\")\n",
        "\n",
        "\n",
        "        fig.show()\n",
        "    except Exception as e:\n",
        "        print(f\"An Error Occured: {e}\")"
      ]
    },
    {
      "cell_type": "code",
      "execution_count": null,
      "id": "3d4504f9-188c-4fa7-9184-4f1a764c69dc",
      "metadata": {
        "colab": {
          "base_uri": "https://localhost:8080/",
          "height": 567
        },
        "id": "3d4504f9-188c-4fa7-9184-4f1a764c69dc",
        "outputId": "e1db9f53-68d2-47c4-8b44-a7782489eee4"
      },
      "outputs": [
        {
          "output_type": "display_data",
          "data": {
            "text/html": [
              "<html>\n",
              "<head><meta charset=\"utf-8\" /></head>\n",
              "<body>\n",
              "    <div>            <script src=\"https://cdnjs.cloudflare.com/ajax/libs/mathjax/2.7.5/MathJax.js?config=TeX-AMS-MML_SVG\"></script><script type=\"text/javascript\">if (window.MathJax && window.MathJax.Hub && window.MathJax.Hub.Config) {window.MathJax.Hub.Config({SVG: {font: \"STIX-Web\"}});}</script>                <script type=\"text/javascript\">window.PlotlyConfig = {MathJaxConfig: 'local'};</script>\n",
              "        <script charset=\"utf-8\" src=\"https://cdn.plot.ly/plotly-2.35.2.min.js\"></script>                <div id=\"5226cbe9-ecfe-4acf-ab14-d8b01e6bd7bb\" class=\"plotly-graph-div\" style=\"height:550px; width:100%;\"></div>            <script type=\"text/javascript\">                                    window.PLOTLYENV=window.PLOTLYENV || {};                                    if (document.getElementById(\"5226cbe9-ecfe-4acf-ab14-d8b01e6bd7bb\")) {                    Plotly.newPlot(                        \"5226cbe9-ecfe-4acf-ab14-d8b01e6bd7bb\",                        [{\"text\":[\"1\",\"1\",\"1\",\"1\",\"1\",\"1\",\"1\",\"1\",\"1\",\"1\",\"1\",\"1\",\"1\",\"1\",\"1\"],\"textposition\":\"outside\",\"x\":[\"headphone amazing great sound\",\"amazing great sound quality\",\"great sound quality super\",\"sound quality super comfortable\",\"quality super comfortable use\",\"super comfortable use gym\",\"comfortable use gym daily\",\"use gym daily battery\",\"gym daily battery life\",\"daily battery life fantasticlast\",\"battery life fantasticlast day\",\"life fantasticlast day love\",\"fantasticlast day love sleek\",\"day love sleek design\",\"love sleek design fast\"],\"y\":[1,1,1,1,1,1,1,1,1,1,1,1,1,1,1],\"type\":\"bar\"}],                        {\"template\":{\"data\":{\"histogram2dcontour\":[{\"type\":\"histogram2dcontour\",\"colorbar\":{\"outlinewidth\":0,\"ticks\":\"\"},\"colorscale\":[[0.0,\"#0d0887\"],[0.1111111111111111,\"#46039f\"],[0.2222222222222222,\"#7201a8\"],[0.3333333333333333,\"#9c179e\"],[0.4444444444444444,\"#bd3786\"],[0.5555555555555556,\"#d8576b\"],[0.6666666666666666,\"#ed7953\"],[0.7777777777777778,\"#fb9f3a\"],[0.8888888888888888,\"#fdca26\"],[1.0,\"#f0f921\"]]}],\"choropleth\":[{\"type\":\"choropleth\",\"colorbar\":{\"outlinewidth\":0,\"ticks\":\"\"}}],\"histogram2d\":[{\"type\":\"histogram2d\",\"colorbar\":{\"outlinewidth\":0,\"ticks\":\"\"},\"colorscale\":[[0.0,\"#0d0887\"],[0.1111111111111111,\"#46039f\"],[0.2222222222222222,\"#7201a8\"],[0.3333333333333333,\"#9c179e\"],[0.4444444444444444,\"#bd3786\"],[0.5555555555555556,\"#d8576b\"],[0.6666666666666666,\"#ed7953\"],[0.7777777777777778,\"#fb9f3a\"],[0.8888888888888888,\"#fdca26\"],[1.0,\"#f0f921\"]]}],\"heatmap\":[{\"type\":\"heatmap\",\"colorbar\":{\"outlinewidth\":0,\"ticks\":\"\"},\"colorscale\":[[0.0,\"#0d0887\"],[0.1111111111111111,\"#46039f\"],[0.2222222222222222,\"#7201a8\"],[0.3333333333333333,\"#9c179e\"],[0.4444444444444444,\"#bd3786\"],[0.5555555555555556,\"#d8576b\"],[0.6666666666666666,\"#ed7953\"],[0.7777777777777778,\"#fb9f3a\"],[0.8888888888888888,\"#fdca26\"],[1.0,\"#f0f921\"]]}],\"heatmapgl\":[{\"type\":\"heatmapgl\",\"colorbar\":{\"outlinewidth\":0,\"ticks\":\"\"},\"colorscale\":[[0.0,\"#0d0887\"],[0.1111111111111111,\"#46039f\"],[0.2222222222222222,\"#7201a8\"],[0.3333333333333333,\"#9c179e\"],[0.4444444444444444,\"#bd3786\"],[0.5555555555555556,\"#d8576b\"],[0.6666666666666666,\"#ed7953\"],[0.7777777777777778,\"#fb9f3a\"],[0.8888888888888888,\"#fdca26\"],[1.0,\"#f0f921\"]]}],\"contourcarpet\":[{\"type\":\"contourcarpet\",\"colorbar\":{\"outlinewidth\":0,\"ticks\":\"\"}}],\"contour\":[{\"type\":\"contour\",\"colorbar\":{\"outlinewidth\":0,\"ticks\":\"\"},\"colorscale\":[[0.0,\"#0d0887\"],[0.1111111111111111,\"#46039f\"],[0.2222222222222222,\"#7201a8\"],[0.3333333333333333,\"#9c179e\"],[0.4444444444444444,\"#bd3786\"],[0.5555555555555556,\"#d8576b\"],[0.6666666666666666,\"#ed7953\"],[0.7777777777777778,\"#fb9f3a\"],[0.8888888888888888,\"#fdca26\"],[1.0,\"#f0f921\"]]}],\"surface\":[{\"type\":\"surface\",\"colorbar\":{\"outlinewidth\":0,\"ticks\":\"\"},\"colorscale\":[[0.0,\"#0d0887\"],[0.1111111111111111,\"#46039f\"],[0.2222222222222222,\"#7201a8\"],[0.3333333333333333,\"#9c179e\"],[0.4444444444444444,\"#bd3786\"],[0.5555555555555556,\"#d8576b\"],[0.6666666666666666,\"#ed7953\"],[0.7777777777777778,\"#fb9f3a\"],[0.8888888888888888,\"#fdca26\"],[1.0,\"#f0f921\"]]}],\"mesh3d\":[{\"type\":\"mesh3d\",\"colorbar\":{\"outlinewidth\":0,\"ticks\":\"\"}}],\"scatter\":[{\"fillpattern\":{\"fillmode\":\"overlay\",\"size\":10,\"solidity\":0.2},\"type\":\"scatter\"}],\"parcoords\":[{\"type\":\"parcoords\",\"line\":{\"colorbar\":{\"outlinewidth\":0,\"ticks\":\"\"}}}],\"scatterpolargl\":[{\"type\":\"scatterpolargl\",\"marker\":{\"colorbar\":{\"outlinewidth\":0,\"ticks\":\"\"}}}],\"bar\":[{\"error_x\":{\"color\":\"#2a3f5f\"},\"error_y\":{\"color\":\"#2a3f5f\"},\"marker\":{\"line\":{\"color\":\"#E5ECF6\",\"width\":0.5},\"pattern\":{\"fillmode\":\"overlay\",\"size\":10,\"solidity\":0.2}},\"type\":\"bar\"}],\"scattergeo\":[{\"type\":\"scattergeo\",\"marker\":{\"colorbar\":{\"outlinewidth\":0,\"ticks\":\"\"}}}],\"scatterpolar\":[{\"type\":\"scatterpolar\",\"marker\":{\"colorbar\":{\"outlinewidth\":0,\"ticks\":\"\"}}}],\"histogram\":[{\"marker\":{\"pattern\":{\"fillmode\":\"overlay\",\"size\":10,\"solidity\":0.2}},\"type\":\"histogram\"}],\"scattergl\":[{\"type\":\"scattergl\",\"marker\":{\"colorbar\":{\"outlinewidth\":0,\"ticks\":\"\"}}}],\"scatter3d\":[{\"type\":\"scatter3d\",\"line\":{\"colorbar\":{\"outlinewidth\":0,\"ticks\":\"\"}},\"marker\":{\"colorbar\":{\"outlinewidth\":0,\"ticks\":\"\"}}}],\"scattermapbox\":[{\"type\":\"scattermapbox\",\"marker\":{\"colorbar\":{\"outlinewidth\":0,\"ticks\":\"\"}}}],\"scatterternary\":[{\"type\":\"scatterternary\",\"marker\":{\"colorbar\":{\"outlinewidth\":0,\"ticks\":\"\"}}}],\"scattercarpet\":[{\"type\":\"scattercarpet\",\"marker\":{\"colorbar\":{\"outlinewidth\":0,\"ticks\":\"\"}}}],\"carpet\":[{\"aaxis\":{\"endlinecolor\":\"#2a3f5f\",\"gridcolor\":\"white\",\"linecolor\":\"white\",\"minorgridcolor\":\"white\",\"startlinecolor\":\"#2a3f5f\"},\"baxis\":{\"endlinecolor\":\"#2a3f5f\",\"gridcolor\":\"white\",\"linecolor\":\"white\",\"minorgridcolor\":\"white\",\"startlinecolor\":\"#2a3f5f\"},\"type\":\"carpet\"}],\"table\":[{\"cells\":{\"fill\":{\"color\":\"#EBF0F8\"},\"line\":{\"color\":\"white\"}},\"header\":{\"fill\":{\"color\":\"#C8D4E3\"},\"line\":{\"color\":\"white\"}},\"type\":\"table\"}],\"barpolar\":[{\"marker\":{\"line\":{\"color\":\"#E5ECF6\",\"width\":0.5},\"pattern\":{\"fillmode\":\"overlay\",\"size\":10,\"solidity\":0.2}},\"type\":\"barpolar\"}],\"pie\":[{\"automargin\":true,\"type\":\"pie\"}]},\"layout\":{\"autotypenumbers\":\"strict\",\"colorway\":[\"#636efa\",\"#EF553B\",\"#00cc96\",\"#ab63fa\",\"#FFA15A\",\"#19d3f3\",\"#FF6692\",\"#B6E880\",\"#FF97FF\",\"#FECB52\"],\"font\":{\"color\":\"#2a3f5f\"},\"hovermode\":\"closest\",\"hoverlabel\":{\"align\":\"left\"},\"paper_bgcolor\":\"white\",\"plot_bgcolor\":\"#E5ECF6\",\"polar\":{\"bgcolor\":\"#E5ECF6\",\"angularaxis\":{\"gridcolor\":\"white\",\"linecolor\":\"white\",\"ticks\":\"\"},\"radialaxis\":{\"gridcolor\":\"white\",\"linecolor\":\"white\",\"ticks\":\"\"}},\"ternary\":{\"bgcolor\":\"#E5ECF6\",\"aaxis\":{\"gridcolor\":\"white\",\"linecolor\":\"white\",\"ticks\":\"\"},\"baxis\":{\"gridcolor\":\"white\",\"linecolor\":\"white\",\"ticks\":\"\"},\"caxis\":{\"gridcolor\":\"white\",\"linecolor\":\"white\",\"ticks\":\"\"}},\"coloraxis\":{\"colorbar\":{\"outlinewidth\":0,\"ticks\":\"\"}},\"colorscale\":{\"sequential\":[[0.0,\"#0d0887\"],[0.1111111111111111,\"#46039f\"],[0.2222222222222222,\"#7201a8\"],[0.3333333333333333,\"#9c179e\"],[0.4444444444444444,\"#bd3786\"],[0.5555555555555556,\"#d8576b\"],[0.6666666666666666,\"#ed7953\"],[0.7777777777777778,\"#fb9f3a\"],[0.8888888888888888,\"#fdca26\"],[1.0,\"#f0f921\"]],\"sequentialminus\":[[0.0,\"#0d0887\"],[0.1111111111111111,\"#46039f\"],[0.2222222222222222,\"#7201a8\"],[0.3333333333333333,\"#9c179e\"],[0.4444444444444444,\"#bd3786\"],[0.5555555555555556,\"#d8576b\"],[0.6666666666666666,\"#ed7953\"],[0.7777777777777778,\"#fb9f3a\"],[0.8888888888888888,\"#fdca26\"],[1.0,\"#f0f921\"]],\"diverging\":[[0,\"#8e0152\"],[0.1,\"#c51b7d\"],[0.2,\"#de77ae\"],[0.3,\"#f1b6da\"],[0.4,\"#fde0ef\"],[0.5,\"#f7f7f7\"],[0.6,\"#e6f5d0\"],[0.7,\"#b8e186\"],[0.8,\"#7fbc41\"],[0.9,\"#4d9221\"],[1,\"#276419\"]]},\"xaxis\":{\"gridcolor\":\"white\",\"linecolor\":\"white\",\"ticks\":\"\",\"title\":{\"standoff\":15},\"zerolinecolor\":\"white\",\"automargin\":true,\"zerolinewidth\":2},\"yaxis\":{\"gridcolor\":\"white\",\"linecolor\":\"white\",\"ticks\":\"\",\"title\":{\"standoff\":15},\"zerolinecolor\":\"white\",\"automargin\":true,\"zerolinewidth\":2},\"scene\":{\"xaxis\":{\"backgroundcolor\":\"#E5ECF6\",\"gridcolor\":\"white\",\"linecolor\":\"white\",\"showbackground\":true,\"ticks\":\"\",\"zerolinecolor\":\"white\",\"gridwidth\":2},\"yaxis\":{\"backgroundcolor\":\"#E5ECF6\",\"gridcolor\":\"white\",\"linecolor\":\"white\",\"showbackground\":true,\"ticks\":\"\",\"zerolinecolor\":\"white\",\"gridwidth\":2},\"zaxis\":{\"backgroundcolor\":\"#E5ECF6\",\"gridcolor\":\"white\",\"linecolor\":\"white\",\"showbackground\":true,\"ticks\":\"\",\"zerolinecolor\":\"white\",\"gridwidth\":2}},\"shapedefaults\":{\"line\":{\"color\":\"#2a3f5f\"}},\"annotationdefaults\":{\"arrowcolor\":\"#2a3f5f\",\"arrowhead\":0,\"arrowwidth\":1},\"geo\":{\"bgcolor\":\"white\",\"landcolor\":\"#E5ECF6\",\"subunitcolor\":\"white\",\"showland\":true,\"showlakes\":true,\"lakecolor\":\"white\"},\"title\":{\"x\":0.05},\"mapbox\":{\"style\":\"light\"}}},\"height\":550,\"title\":{\"text\":\"top 15 Biagrams\"},\"xaxis\":{\"title\":{\"text\":\"Labels\"}},\"yaxis\":{\"title\":{\"text\":\"Frequency\"}}},                        {\"responsive\": true}                    ).then(function(){\n",
              "                            \n",
              "var gd = document.getElementById('5226cbe9-ecfe-4acf-ab14-d8b01e6bd7bb');\n",
              "var x = new MutationObserver(function (mutations, observer) {{\n",
              "        var display = window.getComputedStyle(gd).display;\n",
              "        if (!display || display === 'none') {{\n",
              "            console.log([gd, 'removed!']);\n",
              "            Plotly.purge(gd);\n",
              "            observer.disconnect();\n",
              "        }}\n",
              "}});\n",
              "\n",
              "// Listen for the removal of the full notebook cells\n",
              "var notebookContainer = gd.closest('#notebook-container');\n",
              "if (notebookContainer) {{\n",
              "    x.observe(notebookContainer, {childList: true});\n",
              "}}\n",
              "\n",
              "// Listen for the clearing of the current output cell\n",
              "var outputEl = gd.closest('.output');\n",
              "if (outputEl) {{\n",
              "    x.observe(outputEl, {childList: true});\n",
              "}}\n",
              "\n",
              "                        })                };                            </script>        </div>\n",
              "</body>\n",
              "</html>"
            ]
          },
          "metadata": {}
        }
      ],
      "source": [
        "plot_top_ngrams_bar_chart(cleaned_1)"
      ]
    },
    {
      "cell_type": "markdown",
      "id": "328695dc-30c6-4132-b982-310cf3e9de22",
      "metadata": {
        "id": "328695dc-30c6-4132-b982-310cf3e9de22"
      },
      "source": [
        "# EMOTION  DETECTION."
      ]
    },
    {
      "cell_type": "code",
      "execution_count": null,
      "id": "5e22c03d-7fb4-4ad9-824c-4069acb87414",
      "metadata": {
        "colab": {
          "base_uri": "https://localhost:8080/"
        },
        "id": "5e22c03d-7fb4-4ad9-824c-4069acb87414",
        "outputId": "f9f0e575-4186-490a-818d-f70cfef6510b"
      },
      "outputs": [
        {
          "output_type": "stream",
          "name": "stdout",
          "text": [
            "Requirement already satisfied: transformers in /usr/local/lib/python3.11/dist-packages (4.52.3)\n",
            "Requirement already satisfied: filelock in /usr/local/lib/python3.11/dist-packages (from transformers) (3.18.0)\n",
            "Requirement already satisfied: huggingface-hub<1.0,>=0.30.0 in /usr/local/lib/python3.11/dist-packages (from transformers) (0.32.2)\n",
            "Requirement already satisfied: numpy>=1.17 in /usr/local/lib/python3.11/dist-packages (from transformers) (2.0.2)\n",
            "Requirement already satisfied: packaging>=20.0 in /usr/local/lib/python3.11/dist-packages (from transformers) (24.2)\n",
            "Requirement already satisfied: pyyaml>=5.1 in /usr/local/lib/python3.11/dist-packages (from transformers) (6.0.2)\n",
            "Requirement already satisfied: regex!=2019.12.17 in /usr/local/lib/python3.11/dist-packages (from transformers) (2024.11.6)\n",
            "Requirement already satisfied: requests in /usr/local/lib/python3.11/dist-packages (from transformers) (2.32.3)\n",
            "Requirement already satisfied: tokenizers<0.22,>=0.21 in /usr/local/lib/python3.11/dist-packages (from transformers) (0.21.1)\n",
            "Requirement already satisfied: safetensors>=0.4.3 in /usr/local/lib/python3.11/dist-packages (from transformers) (0.5.3)\n",
            "Requirement already satisfied: tqdm>=4.27 in /usr/local/lib/python3.11/dist-packages (from transformers) (4.67.1)\n",
            "Requirement already satisfied: fsspec>=2023.5.0 in /usr/local/lib/python3.11/dist-packages (from huggingface-hub<1.0,>=0.30.0->transformers) (2025.3.2)\n",
            "Requirement already satisfied: typing-extensions>=3.7.4.3 in /usr/local/lib/python3.11/dist-packages (from huggingface-hub<1.0,>=0.30.0->transformers) (4.13.2)\n",
            "Requirement already satisfied: hf-xet<2.0.0,>=1.1.2 in /usr/local/lib/python3.11/dist-packages (from huggingface-hub<1.0,>=0.30.0->transformers) (1.1.2)\n",
            "Requirement already satisfied: charset-normalizer<4,>=2 in /usr/local/lib/python3.11/dist-packages (from requests->transformers) (3.4.2)\n",
            "Requirement already satisfied: idna<4,>=2.5 in /usr/local/lib/python3.11/dist-packages (from requests->transformers) (3.10)\n",
            "Requirement already satisfied: urllib3<3,>=1.21.1 in /usr/local/lib/python3.11/dist-packages (from requests->transformers) (2.4.0)\n",
            "Requirement already satisfied: certifi>=2017.4.17 in /usr/local/lib/python3.11/dist-packages (from requests->transformers) (2025.4.26)\n"
          ]
        }
      ],
      "source": [
        "!pip install transformers"
      ]
    },
    {
      "cell_type": "code",
      "execution_count": null,
      "id": "32367ef9-e2d5-4548-a5cb-b0f0d7f65645",
      "metadata": {
        "id": "32367ef9-e2d5-4548-a5cb-b0f0d7f65645"
      },
      "outputs": [],
      "source": [
        "from transformers import pipeline"
      ]
    },
    {
      "cell_type": "code",
      "execution_count": null,
      "id": "548cfff2-f1c3-4e14-9311-047ac0f934d3",
      "metadata": {
        "colab": {
          "base_uri": "https://localhost:8080/",
          "height": 385,
          "referenced_widgets": [
            "da9496797446446dbbbe8d72574b32f4",
            "1b3c4b903ea542f4a2d890a60c863607",
            "ba5c64eb9df64eb2bbd842e57908881c",
            "1cbc942b0c854827b22f71e297013ba2",
            "b97cd71dd22444be9fc9f6f3a430c97f",
            "241256784bb2455299180599b54206d0",
            "6f83c26c2e974eaab2e49213ea51eb94",
            "a4202992d82b4fd999a42b169e251a7d",
            "51759ad684604010ad7fdc928394b734",
            "8d1321b2870d4c8d830178a15cc476e7",
            "d3ecaeb610fb4fda9b249b40fa3fb16e",
            "d24cef9b3f624438bb88630ad0d6ab8e",
            "c433d6c8061a4493aacb506d6619d5a0",
            "b36e4ae409bf4cc1906ba162890770d4",
            "a038de8b7fb44f7da50d571a38c3d0a9",
            "12d6529c9a134965bdf9924568d41449",
            "d7eaec7e1bd5405b97e04c282910de88",
            "752d41f34f0840c3bcc4ee2c72181682",
            "2c8e4ef4b25842b4a4152de51f3c5a24",
            "ef3c1b9ce4d74b288f23277e4747f5e6",
            "89bc0fb34edb4c8da4fb40864b9d1903",
            "e089914d2f924e97a7016ff87bbb203f",
            "dd61bffdd02548c0ae5e21c03f2bda98",
            "6829e84972b84d51a06104debeaf23ce",
            "b4425d84f2c84fffa8d6fc447b3dfdd4",
            "aa079acd64874414b40b25d171d8877b",
            "cb844ee3dc0f4a2f848b381792392d41",
            "33b64a1e03af4ed9a62a1e6cb93ea1dd",
            "bd49958670f0401d9695ad0fcc94cb2e",
            "1e786b307a7a4412850be33218c5ef7e",
            "82354918e04b4a0ba4c5b860c095d26e",
            "6b793eb4115f4f63aa28176a3b9fa053",
            "9b8d323c638f419a807e1c74903335dc",
            "83f3287ec2ea4222a36b44f9d16e8201",
            "1548ba667fad4368971c44faf7601573",
            "ccb323548224441696ebb59272a5f6bc",
            "202bbd7cb3664b7ea83b28b3dbb140ce",
            "95791f67a02042058ffb7a70373b7537",
            "8af59f5d8b4d4194b3948e537a4c5497",
            "96a83c4c8ded43c7b2565dfdbe2fb8c9",
            "a9c0ff33feb747b692c1738127a10fc1",
            "e5d57a29fb4545c9ade1c14cf79a2560",
            "d0a9908fad6344f9b1d129d02361e65a",
            "a5fb21a3cc6f465c9576448951af0489",
            "bff0e08bd9884949a83496978a860645",
            "f443a5892d4547a6a90f6ae4d635f1a1",
            "1d5f93365ed94e339ec6bf853c8acfe3",
            "1ec0469a90ad41179c38e8805a9c091f",
            "6dfb994f431f473192b8d80b7a73851b",
            "d3b0630641b546928b93c285336af41c",
            "3da66965fa564377b7fb67c508503b12",
            "2d17998227f543d9a8b025c1af16da92",
            "af9d4d8382234eafaec4b625bca2cde8",
            "954415ed9d15406587993e9c4b05b78d",
            "2343fd09f2774d599c21568917c275a5",
            "473f0f3b73bb4fb2b7ca29c1fcd39689",
            "ee913cf95a2c49d6b6d9d503bee03129",
            "b72c850b674d4e9db53148a71210ceb9",
            "d3828ac0a25048268f5804dc308d100b",
            "44d076e65a2a4efe8be193f36e03a5b3",
            "4725d801d7b14c41b7b048a15be2ac7b",
            "c558bdda0b42448d850bad783ecac6ad",
            "2127b41ebda94b289af729c415158dc8",
            "6c9febbbf4b8421ea9fa0ccd93fe7303",
            "0c03cf7fd6804fb39f32791f3ea47b99",
            "3da0921d95ec40b2a2606ebf3f89a29c"
          ]
        },
        "id": "548cfff2-f1c3-4e14-9311-047ac0f934d3",
        "outputId": "119dfecb-3df2-468f-ec72-6451889779b2"
      },
      "outputs": [
        {
          "output_type": "stream",
          "name": "stderr",
          "text": [
            "/usr/local/lib/python3.11/dist-packages/huggingface_hub/utils/_auth.py:94: UserWarning:\n",
            "\n",
            "\n",
            "The secret `HF_TOKEN` does not exist in your Colab secrets.\n",
            "To authenticate with the Hugging Face Hub, create a token in your settings tab (https://huggingface.co/settings/tokens), set it as secret in your Google Colab and restart your session.\n",
            "You will be able to reuse this secret in all of your notebooks.\n",
            "Please note that authentication is recommended but still optional to access public models or datasets.\n",
            "\n"
          ]
        },
        {
          "output_type": "display_data",
          "data": {
            "text/plain": [
              "config.json:   0%|          | 0.00/768 [00:00<?, ?B/s]"
            ],
            "application/vnd.jupyter.widget-view+json": {
              "version_major": 2,
              "version_minor": 0,
              "model_id": "da9496797446446dbbbe8d72574b32f4"
            }
          },
          "metadata": {}
        },
        {
          "output_type": "display_data",
          "data": {
            "text/plain": [
              "pytorch_model.bin:   0%|          | 0.00/438M [00:00<?, ?B/s]"
            ],
            "application/vnd.jupyter.widget-view+json": {
              "version_major": 2,
              "version_minor": 0,
              "model_id": "d24cef9b3f624438bb88630ad0d6ab8e"
            }
          },
          "metadata": {}
        },
        {
          "output_type": "display_data",
          "data": {
            "text/plain": [
              "model.safetensors:   0%|          | 0.00/438M [00:00<?, ?B/s]"
            ],
            "application/vnd.jupyter.widget-view+json": {
              "version_major": 2,
              "version_minor": 0,
              "model_id": "dd61bffdd02548c0ae5e21c03f2bda98"
            }
          },
          "metadata": {}
        },
        {
          "output_type": "display_data",
          "data": {
            "text/plain": [
              "tokenizer_config.json:   0%|          | 0.00/252 [00:00<?, ?B/s]"
            ],
            "application/vnd.jupyter.widget-view+json": {
              "version_major": 2,
              "version_minor": 0,
              "model_id": "83f3287ec2ea4222a36b44f9d16e8201"
            }
          },
          "metadata": {}
        },
        {
          "output_type": "display_data",
          "data": {
            "text/plain": [
              "vocab.txt:   0%|          | 0.00/232k [00:00<?, ?B/s]"
            ],
            "application/vnd.jupyter.widget-view+json": {
              "version_major": 2,
              "version_minor": 0,
              "model_id": "bff0e08bd9884949a83496978a860645"
            }
          },
          "metadata": {}
        },
        {
          "output_type": "display_data",
          "data": {
            "text/plain": [
              "special_tokens_map.json:   0%|          | 0.00/112 [00:00<?, ?B/s]"
            ],
            "application/vnd.jupyter.widget-view+json": {
              "version_major": 2,
              "version_minor": 0,
              "model_id": "473f0f3b73bb4fb2b7ca29c1fcd39689"
            }
          },
          "metadata": {}
        },
        {
          "output_type": "stream",
          "name": "stderr",
          "text": [
            "Device set to use cpu\n"
          ]
        }
      ],
      "source": [
        "model_name= \"nateraw/bert-base-uncased-emotion\"\n",
        "\n",
        "emotion_classifier= pipeline(\"text-classification\", model=model_name, tokenizer=model_name, top_k=3)"
      ]
    },
    {
      "cell_type": "code",
      "execution_count": null,
      "id": "a4214f9f-fe1d-4e00-9b65-7265461b3859",
      "metadata": {
        "colab": {
          "base_uri": "https://localhost:8080/",
          "height": 69
        },
        "id": "a4214f9f-fe1d-4e00-9b65-7265461b3859",
        "outputId": "86c2f329-f81d-4f23-94ee-29836111fd34"
      },
      "outputs": [
        {
          "output_type": "execute_result",
          "data": {
            "text/plain": [
              "[{'label': 'joy', 'score': 0.9940181970596313},\n",
              " {'label': 'love', 'score': 0.0026790183037519455},\n",
              " {'label': 'anger', 'score': 0.0015130413230508566}]"
            ]
          },
          "metadata": {},
          "execution_count": 30
        }
      ],
      "source": [
        "text=\"I love India, I am proud Indian\"\n",
        "results= emotion_classifier(text)\n",
        "results[0]\n"
      ]
    },
    {
      "cell_type": "code",
      "execution_count": null,
      "id": "f141d8ee-9f8a-4fa2-ab4c-3559db7cec35",
      "metadata": {
        "colab": {
          "base_uri": "https://localhost:8080/",
          "height": 34
        },
        "id": "f141d8ee-9f8a-4fa2-ab4c-3559db7cec35",
        "outputId": "31083204-f8df-4379-940f-3f78e5b278b5"
      },
      "outputs": [
        {
          "output_type": "stream",
          "name": "stderr",
          "text": [
            "Device set to use cpu\n"
          ]
        }
      ],
      "source": [
        "import plotly.express as px\n",
        "# Creating function for emotion detection.\n",
        "model_name= \"nateraw/bert-base-uncased-emotion\"\n",
        "emotion_classifier= pipeline(\"text-classification\", model=model_name, tokenizer=model_name, top_k=5)\n",
        "\n",
        "def detect_emotion(text):\n",
        "    try:\n",
        "        # Performed emotion classification.\n",
        "        results= emotion_classifier(text)\n",
        "        emotion_data=[{\"emotion\":res[\"label\"], \"confidence\":res[\"score\"]} for res in results[0]]\n",
        "        df= pd.DataFrame(emotion_data)\n",
        "\n",
        "        # Highest Scoring emotion\n",
        "        max_emotion_row= df.loc[df[\"confidence\"].idxmax()]\n",
        "\n",
        "        #plotly bar chart\n",
        "        fig = px.bar(df, x=\"emotion\", y=\"confidence\", color=\"emotion\", title=f\"Top 5 Emotion\")\n",
        "        fig.update_layout(showlegend=False)\n",
        "\n",
        "        #return full result\n",
        "        return{\n",
        "            \"text\":text,\n",
        "            \"detected_emotion\": max_emotion_row[\"emotion\"],\n",
        "            \"confidence\":max_emotion_row[\"confidence\"],\n",
        "            \"emotion_table\": df,\n",
        "            \"plot\":fig\n",
        "        }\n",
        "    except Exception  as e:\n",
        "        return {\"error\": str(e)}\n"
      ]
    },
    {
      "cell_type": "code",
      "execution_count": null,
      "id": "4c8baec6-22ec-4185-843a-732ddb3d8fd5",
      "metadata": {
        "colab": {
          "base_uri": "https://localhost:8080/",
          "height": 1000
        },
        "id": "4c8baec6-22ec-4185-843a-732ddb3d8fd5",
        "outputId": "d47746da-f3f0-42f6-afa3-d6b313f4345f"
      },
      "outputs": [
        {
          "output_type": "stream",
          "name": "stdout",
          "text": [
            "Text: I am so excited  to start my new job\n",
            "Emotion Table\n",
            "    emotion  confidence\n",
            "0       joy    0.994770\n",
            "1  surprise    0.001426\n",
            "2      fear    0.001117\n",
            "3     anger    0.001114\n",
            "4      love    0.000831\n",
            "Detected Emotion: joy with confidence: 0.9947699904441833\n"
          ]
        },
        {
          "output_type": "display_data",
          "data": {
            "text/html": [
              "<html>\n",
              "<head><meta charset=\"utf-8\" /></head>\n",
              "<body>\n",
              "    <div>            <script src=\"https://cdnjs.cloudflare.com/ajax/libs/mathjax/2.7.5/MathJax.js?config=TeX-AMS-MML_SVG\"></script><script type=\"text/javascript\">if (window.MathJax && window.MathJax.Hub && window.MathJax.Hub.Config) {window.MathJax.Hub.Config({SVG: {font: \"STIX-Web\"}});}</script>                <script type=\"text/javascript\">window.PlotlyConfig = {MathJaxConfig: 'local'};</script>\n",
              "        <script charset=\"utf-8\" src=\"https://cdn.plot.ly/plotly-2.35.2.min.js\"></script>                <div id=\"fa36a6db-85df-4c57-b57d-1b3d8b85c7df\" class=\"plotly-graph-div\" style=\"height:525px; width:100%;\"></div>            <script type=\"text/javascript\">                                    window.PLOTLYENV=window.PLOTLYENV || {};                                    if (document.getElementById(\"fa36a6db-85df-4c57-b57d-1b3d8b85c7df\")) {                    Plotly.newPlot(                        \"fa36a6db-85df-4c57-b57d-1b3d8b85c7df\",                        [{\"alignmentgroup\":\"True\",\"hovertemplate\":\"emotion=%{x}\\u003cbr\\u003econfidence=%{y}\\u003cextra\\u003e\\u003c\\u002fextra\\u003e\",\"legendgroup\":\"joy\",\"marker\":{\"color\":\"#636efa\",\"pattern\":{\"shape\":\"\"}},\"name\":\"joy\",\"offsetgroup\":\"joy\",\"orientation\":\"v\",\"showlegend\":true,\"textposition\":\"auto\",\"x\":[\"joy\"],\"xaxis\":\"x\",\"y\":[0.9947699904441833],\"yaxis\":\"y\",\"type\":\"bar\"},{\"alignmentgroup\":\"True\",\"hovertemplate\":\"emotion=%{x}\\u003cbr\\u003econfidence=%{y}\\u003cextra\\u003e\\u003c\\u002fextra\\u003e\",\"legendgroup\":\"surprise\",\"marker\":{\"color\":\"#EF553B\",\"pattern\":{\"shape\":\"\"}},\"name\":\"surprise\",\"offsetgroup\":\"surprise\",\"orientation\":\"v\",\"showlegend\":true,\"textposition\":\"auto\",\"x\":[\"surprise\"],\"xaxis\":\"x\",\"y\":[0.001426453236490488],\"yaxis\":\"y\",\"type\":\"bar\"},{\"alignmentgroup\":\"True\",\"hovertemplate\":\"emotion=%{x}\\u003cbr\\u003econfidence=%{y}\\u003cextra\\u003e\\u003c\\u002fextra\\u003e\",\"legendgroup\":\"fear\",\"marker\":{\"color\":\"#00cc96\",\"pattern\":{\"shape\":\"\"}},\"name\":\"fear\",\"offsetgroup\":\"fear\",\"orientation\":\"v\",\"showlegend\":true,\"textposition\":\"auto\",\"x\":[\"fear\"],\"xaxis\":\"x\",\"y\":[0.0011169203789904714],\"yaxis\":\"y\",\"type\":\"bar\"},{\"alignmentgroup\":\"True\",\"hovertemplate\":\"emotion=%{x}\\u003cbr\\u003econfidence=%{y}\\u003cextra\\u003e\\u003c\\u002fextra\\u003e\",\"legendgroup\":\"anger\",\"marker\":{\"color\":\"#ab63fa\",\"pattern\":{\"shape\":\"\"}},\"name\":\"anger\",\"offsetgroup\":\"anger\",\"orientation\":\"v\",\"showlegend\":true,\"textposition\":\"auto\",\"x\":[\"anger\"],\"xaxis\":\"x\",\"y\":[0.0011139429407194257],\"yaxis\":\"y\",\"type\":\"bar\"},{\"alignmentgroup\":\"True\",\"hovertemplate\":\"emotion=%{x}\\u003cbr\\u003econfidence=%{y}\\u003cextra\\u003e\\u003c\\u002fextra\\u003e\",\"legendgroup\":\"love\",\"marker\":{\"color\":\"#FFA15A\",\"pattern\":{\"shape\":\"\"}},\"name\":\"love\",\"offsetgroup\":\"love\",\"orientation\":\"v\",\"showlegend\":true,\"textposition\":\"auto\",\"x\":[\"love\"],\"xaxis\":\"x\",\"y\":[0.0008306046947836876],\"yaxis\":\"y\",\"type\":\"bar\"}],                        {\"template\":{\"data\":{\"histogram2dcontour\":[{\"type\":\"histogram2dcontour\",\"colorbar\":{\"outlinewidth\":0,\"ticks\":\"\"},\"colorscale\":[[0.0,\"#0d0887\"],[0.1111111111111111,\"#46039f\"],[0.2222222222222222,\"#7201a8\"],[0.3333333333333333,\"#9c179e\"],[0.4444444444444444,\"#bd3786\"],[0.5555555555555556,\"#d8576b\"],[0.6666666666666666,\"#ed7953\"],[0.7777777777777778,\"#fb9f3a\"],[0.8888888888888888,\"#fdca26\"],[1.0,\"#f0f921\"]]}],\"choropleth\":[{\"type\":\"choropleth\",\"colorbar\":{\"outlinewidth\":0,\"ticks\":\"\"}}],\"histogram2d\":[{\"type\":\"histogram2d\",\"colorbar\":{\"outlinewidth\":0,\"ticks\":\"\"},\"colorscale\":[[0.0,\"#0d0887\"],[0.1111111111111111,\"#46039f\"],[0.2222222222222222,\"#7201a8\"],[0.3333333333333333,\"#9c179e\"],[0.4444444444444444,\"#bd3786\"],[0.5555555555555556,\"#d8576b\"],[0.6666666666666666,\"#ed7953\"],[0.7777777777777778,\"#fb9f3a\"],[0.8888888888888888,\"#fdca26\"],[1.0,\"#f0f921\"]]}],\"heatmap\":[{\"type\":\"heatmap\",\"colorbar\":{\"outlinewidth\":0,\"ticks\":\"\"},\"colorscale\":[[0.0,\"#0d0887\"],[0.1111111111111111,\"#46039f\"],[0.2222222222222222,\"#7201a8\"],[0.3333333333333333,\"#9c179e\"],[0.4444444444444444,\"#bd3786\"],[0.5555555555555556,\"#d8576b\"],[0.6666666666666666,\"#ed7953\"],[0.7777777777777778,\"#fb9f3a\"],[0.8888888888888888,\"#fdca26\"],[1.0,\"#f0f921\"]]}],\"heatmapgl\":[{\"type\":\"heatmapgl\",\"colorbar\":{\"outlinewidth\":0,\"ticks\":\"\"},\"colorscale\":[[0.0,\"#0d0887\"],[0.1111111111111111,\"#46039f\"],[0.2222222222222222,\"#7201a8\"],[0.3333333333333333,\"#9c179e\"],[0.4444444444444444,\"#bd3786\"],[0.5555555555555556,\"#d8576b\"],[0.6666666666666666,\"#ed7953\"],[0.7777777777777778,\"#fb9f3a\"],[0.8888888888888888,\"#fdca26\"],[1.0,\"#f0f921\"]]}],\"contourcarpet\":[{\"type\":\"contourcarpet\",\"colorbar\":{\"outlinewidth\":0,\"ticks\":\"\"}}],\"contour\":[{\"type\":\"contour\",\"colorbar\":{\"outlinewidth\":0,\"ticks\":\"\"},\"colorscale\":[[0.0,\"#0d0887\"],[0.1111111111111111,\"#46039f\"],[0.2222222222222222,\"#7201a8\"],[0.3333333333333333,\"#9c179e\"],[0.4444444444444444,\"#bd3786\"],[0.5555555555555556,\"#d8576b\"],[0.6666666666666666,\"#ed7953\"],[0.7777777777777778,\"#fb9f3a\"],[0.8888888888888888,\"#fdca26\"],[1.0,\"#f0f921\"]]}],\"surface\":[{\"type\":\"surface\",\"colorbar\":{\"outlinewidth\":0,\"ticks\":\"\"},\"colorscale\":[[0.0,\"#0d0887\"],[0.1111111111111111,\"#46039f\"],[0.2222222222222222,\"#7201a8\"],[0.3333333333333333,\"#9c179e\"],[0.4444444444444444,\"#bd3786\"],[0.5555555555555556,\"#d8576b\"],[0.6666666666666666,\"#ed7953\"],[0.7777777777777778,\"#fb9f3a\"],[0.8888888888888888,\"#fdca26\"],[1.0,\"#f0f921\"]]}],\"mesh3d\":[{\"type\":\"mesh3d\",\"colorbar\":{\"outlinewidth\":0,\"ticks\":\"\"}}],\"scatter\":[{\"fillpattern\":{\"fillmode\":\"overlay\",\"size\":10,\"solidity\":0.2},\"type\":\"scatter\"}],\"parcoords\":[{\"type\":\"parcoords\",\"line\":{\"colorbar\":{\"outlinewidth\":0,\"ticks\":\"\"}}}],\"scatterpolargl\":[{\"type\":\"scatterpolargl\",\"marker\":{\"colorbar\":{\"outlinewidth\":0,\"ticks\":\"\"}}}],\"bar\":[{\"error_x\":{\"color\":\"#2a3f5f\"},\"error_y\":{\"color\":\"#2a3f5f\"},\"marker\":{\"line\":{\"color\":\"#E5ECF6\",\"width\":0.5},\"pattern\":{\"fillmode\":\"overlay\",\"size\":10,\"solidity\":0.2}},\"type\":\"bar\"}],\"scattergeo\":[{\"type\":\"scattergeo\",\"marker\":{\"colorbar\":{\"outlinewidth\":0,\"ticks\":\"\"}}}],\"scatterpolar\":[{\"type\":\"scatterpolar\",\"marker\":{\"colorbar\":{\"outlinewidth\":0,\"ticks\":\"\"}}}],\"histogram\":[{\"marker\":{\"pattern\":{\"fillmode\":\"overlay\",\"size\":10,\"solidity\":0.2}},\"type\":\"histogram\"}],\"scattergl\":[{\"type\":\"scattergl\",\"marker\":{\"colorbar\":{\"outlinewidth\":0,\"ticks\":\"\"}}}],\"scatter3d\":[{\"type\":\"scatter3d\",\"line\":{\"colorbar\":{\"outlinewidth\":0,\"ticks\":\"\"}},\"marker\":{\"colorbar\":{\"outlinewidth\":0,\"ticks\":\"\"}}}],\"scattermapbox\":[{\"type\":\"scattermapbox\",\"marker\":{\"colorbar\":{\"outlinewidth\":0,\"ticks\":\"\"}}}],\"scatterternary\":[{\"type\":\"scatterternary\",\"marker\":{\"colorbar\":{\"outlinewidth\":0,\"ticks\":\"\"}}}],\"scattercarpet\":[{\"type\":\"scattercarpet\",\"marker\":{\"colorbar\":{\"outlinewidth\":0,\"ticks\":\"\"}}}],\"carpet\":[{\"aaxis\":{\"endlinecolor\":\"#2a3f5f\",\"gridcolor\":\"white\",\"linecolor\":\"white\",\"minorgridcolor\":\"white\",\"startlinecolor\":\"#2a3f5f\"},\"baxis\":{\"endlinecolor\":\"#2a3f5f\",\"gridcolor\":\"white\",\"linecolor\":\"white\",\"minorgridcolor\":\"white\",\"startlinecolor\":\"#2a3f5f\"},\"type\":\"carpet\"}],\"table\":[{\"cells\":{\"fill\":{\"color\":\"#EBF0F8\"},\"line\":{\"color\":\"white\"}},\"header\":{\"fill\":{\"color\":\"#C8D4E3\"},\"line\":{\"color\":\"white\"}},\"type\":\"table\"}],\"barpolar\":[{\"marker\":{\"line\":{\"color\":\"#E5ECF6\",\"width\":0.5},\"pattern\":{\"fillmode\":\"overlay\",\"size\":10,\"solidity\":0.2}},\"type\":\"barpolar\"}],\"pie\":[{\"automargin\":true,\"type\":\"pie\"}]},\"layout\":{\"autotypenumbers\":\"strict\",\"colorway\":[\"#636efa\",\"#EF553B\",\"#00cc96\",\"#ab63fa\",\"#FFA15A\",\"#19d3f3\",\"#FF6692\",\"#B6E880\",\"#FF97FF\",\"#FECB52\"],\"font\":{\"color\":\"#2a3f5f\"},\"hovermode\":\"closest\",\"hoverlabel\":{\"align\":\"left\"},\"paper_bgcolor\":\"white\",\"plot_bgcolor\":\"#E5ECF6\",\"polar\":{\"bgcolor\":\"#E5ECF6\",\"angularaxis\":{\"gridcolor\":\"white\",\"linecolor\":\"white\",\"ticks\":\"\"},\"radialaxis\":{\"gridcolor\":\"white\",\"linecolor\":\"white\",\"ticks\":\"\"}},\"ternary\":{\"bgcolor\":\"#E5ECF6\",\"aaxis\":{\"gridcolor\":\"white\",\"linecolor\":\"white\",\"ticks\":\"\"},\"baxis\":{\"gridcolor\":\"white\",\"linecolor\":\"white\",\"ticks\":\"\"},\"caxis\":{\"gridcolor\":\"white\",\"linecolor\":\"white\",\"ticks\":\"\"}},\"coloraxis\":{\"colorbar\":{\"outlinewidth\":0,\"ticks\":\"\"}},\"colorscale\":{\"sequential\":[[0.0,\"#0d0887\"],[0.1111111111111111,\"#46039f\"],[0.2222222222222222,\"#7201a8\"],[0.3333333333333333,\"#9c179e\"],[0.4444444444444444,\"#bd3786\"],[0.5555555555555556,\"#d8576b\"],[0.6666666666666666,\"#ed7953\"],[0.7777777777777778,\"#fb9f3a\"],[0.8888888888888888,\"#fdca26\"],[1.0,\"#f0f921\"]],\"sequentialminus\":[[0.0,\"#0d0887\"],[0.1111111111111111,\"#46039f\"],[0.2222222222222222,\"#7201a8\"],[0.3333333333333333,\"#9c179e\"],[0.4444444444444444,\"#bd3786\"],[0.5555555555555556,\"#d8576b\"],[0.6666666666666666,\"#ed7953\"],[0.7777777777777778,\"#fb9f3a\"],[0.8888888888888888,\"#fdca26\"],[1.0,\"#f0f921\"]],\"diverging\":[[0,\"#8e0152\"],[0.1,\"#c51b7d\"],[0.2,\"#de77ae\"],[0.3,\"#f1b6da\"],[0.4,\"#fde0ef\"],[0.5,\"#f7f7f7\"],[0.6,\"#e6f5d0\"],[0.7,\"#b8e186\"],[0.8,\"#7fbc41\"],[0.9,\"#4d9221\"],[1,\"#276419\"]]},\"xaxis\":{\"gridcolor\":\"white\",\"linecolor\":\"white\",\"ticks\":\"\",\"title\":{\"standoff\":15},\"zerolinecolor\":\"white\",\"automargin\":true,\"zerolinewidth\":2},\"yaxis\":{\"gridcolor\":\"white\",\"linecolor\":\"white\",\"ticks\":\"\",\"title\":{\"standoff\":15},\"zerolinecolor\":\"white\",\"automargin\":true,\"zerolinewidth\":2},\"scene\":{\"xaxis\":{\"backgroundcolor\":\"#E5ECF6\",\"gridcolor\":\"white\",\"linecolor\":\"white\",\"showbackground\":true,\"ticks\":\"\",\"zerolinecolor\":\"white\",\"gridwidth\":2},\"yaxis\":{\"backgroundcolor\":\"#E5ECF6\",\"gridcolor\":\"white\",\"linecolor\":\"white\",\"showbackground\":true,\"ticks\":\"\",\"zerolinecolor\":\"white\",\"gridwidth\":2},\"zaxis\":{\"backgroundcolor\":\"#E5ECF6\",\"gridcolor\":\"white\",\"linecolor\":\"white\",\"showbackground\":true,\"ticks\":\"\",\"zerolinecolor\":\"white\",\"gridwidth\":2}},\"shapedefaults\":{\"line\":{\"color\":\"#2a3f5f\"}},\"annotationdefaults\":{\"arrowcolor\":\"#2a3f5f\",\"arrowhead\":0,\"arrowwidth\":1},\"geo\":{\"bgcolor\":\"white\",\"landcolor\":\"#E5ECF6\",\"subunitcolor\":\"white\",\"showland\":true,\"showlakes\":true,\"lakecolor\":\"white\"},\"title\":{\"x\":0.05},\"mapbox\":{\"style\":\"light\"}}},\"xaxis\":{\"anchor\":\"y\",\"domain\":[0.0,1.0],\"title\":{\"text\":\"emotion\"},\"categoryorder\":\"array\",\"categoryarray\":[\"joy\",\"surprise\",\"fear\",\"anger\",\"love\"]},\"yaxis\":{\"anchor\":\"x\",\"domain\":[0.0,1.0],\"title\":{\"text\":\"confidence\"}},\"legend\":{\"title\":{\"text\":\"emotion\"},\"tracegroupgap\":0},\"title\":{\"text\":\"Top 5 Emotion\"},\"barmode\":\"relative\",\"showlegend\":false},                        {\"responsive\": true}                    ).then(function(){\n",
              "                            \n",
              "var gd = document.getElementById('fa36a6db-85df-4c57-b57d-1b3d8b85c7df');\n",
              "var x = new MutationObserver(function (mutations, observer) {{\n",
              "        var display = window.getComputedStyle(gd).display;\n",
              "        if (!display || display === 'none') {{\n",
              "            console.log([gd, 'removed!']);\n",
              "            Plotly.purge(gd);\n",
              "            observer.disconnect();\n",
              "        }}\n",
              "}});\n",
              "\n",
              "// Listen for the removal of the full notebook cells\n",
              "var notebookContainer = gd.closest('#notebook-container');\n",
              "if (notebookContainer) {{\n",
              "    x.observe(notebookContainer, {childList: true});\n",
              "}}\n",
              "\n",
              "// Listen for the clearing of the current output cell\n",
              "var outputEl = gd.closest('.output');\n",
              "if (outputEl) {{\n",
              "    x.observe(outputEl, {childList: true});\n",
              "}}\n",
              "\n",
              "                        })                };                            </script>        </div>\n",
              "</body>\n",
              "</html>"
            ]
          },
          "metadata": {}
        },
        {
          "output_type": "stream",
          "name": "stdout",
          "text": [
            "Text: I am feeling hopless and tired  of everything\n",
            "Emotion Table\n",
            "    emotion  confidence\n",
            "0   sadness    0.987383\n",
            "1      fear    0.005376\n",
            "2     anger    0.003178\n",
            "3       joy    0.002219\n",
            "4  surprise    0.001269\n",
            "Detected Emotion: sadness with confidence: 0.9873833060264587\n"
          ]
        },
        {
          "output_type": "display_data",
          "data": {
            "text/html": [
              "<html>\n",
              "<head><meta charset=\"utf-8\" /></head>\n",
              "<body>\n",
              "    <div>            <script src=\"https://cdnjs.cloudflare.com/ajax/libs/mathjax/2.7.5/MathJax.js?config=TeX-AMS-MML_SVG\"></script><script type=\"text/javascript\">if (window.MathJax && window.MathJax.Hub && window.MathJax.Hub.Config) {window.MathJax.Hub.Config({SVG: {font: \"STIX-Web\"}});}</script>                <script type=\"text/javascript\">window.PlotlyConfig = {MathJaxConfig: 'local'};</script>\n",
              "        <script charset=\"utf-8\" src=\"https://cdn.plot.ly/plotly-2.35.2.min.js\"></script>                <div id=\"c34a5e0d-1fde-42e9-8683-136dd53a538e\" class=\"plotly-graph-div\" style=\"height:525px; width:100%;\"></div>            <script type=\"text/javascript\">                                    window.PLOTLYENV=window.PLOTLYENV || {};                                    if (document.getElementById(\"c34a5e0d-1fde-42e9-8683-136dd53a538e\")) {                    Plotly.newPlot(                        \"c34a5e0d-1fde-42e9-8683-136dd53a538e\",                        [{\"alignmentgroup\":\"True\",\"hovertemplate\":\"emotion=%{x}\\u003cbr\\u003econfidence=%{y}\\u003cextra\\u003e\\u003c\\u002fextra\\u003e\",\"legendgroup\":\"joy\",\"marker\":{\"color\":\"#636efa\",\"pattern\":{\"shape\":\"\"}},\"name\":\"joy\",\"offsetgroup\":\"joy\",\"orientation\":\"v\",\"showlegend\":true,\"textposition\":\"auto\",\"x\":[\"joy\"],\"xaxis\":\"x\",\"y\":[0.9947699904441833],\"yaxis\":\"y\",\"type\":\"bar\"},{\"alignmentgroup\":\"True\",\"hovertemplate\":\"emotion=%{x}\\u003cbr\\u003econfidence=%{y}\\u003cextra\\u003e\\u003c\\u002fextra\\u003e\",\"legendgroup\":\"surprise\",\"marker\":{\"color\":\"#EF553B\",\"pattern\":{\"shape\":\"\"}},\"name\":\"surprise\",\"offsetgroup\":\"surprise\",\"orientation\":\"v\",\"showlegend\":true,\"textposition\":\"auto\",\"x\":[\"surprise\"],\"xaxis\":\"x\",\"y\":[0.001426453236490488],\"yaxis\":\"y\",\"type\":\"bar\"},{\"alignmentgroup\":\"True\",\"hovertemplate\":\"emotion=%{x}\\u003cbr\\u003econfidence=%{y}\\u003cextra\\u003e\\u003c\\u002fextra\\u003e\",\"legendgroup\":\"fear\",\"marker\":{\"color\":\"#00cc96\",\"pattern\":{\"shape\":\"\"}},\"name\":\"fear\",\"offsetgroup\":\"fear\",\"orientation\":\"v\",\"showlegend\":true,\"textposition\":\"auto\",\"x\":[\"fear\"],\"xaxis\":\"x\",\"y\":[0.0011169203789904714],\"yaxis\":\"y\",\"type\":\"bar\"},{\"alignmentgroup\":\"True\",\"hovertemplate\":\"emotion=%{x}\\u003cbr\\u003econfidence=%{y}\\u003cextra\\u003e\\u003c\\u002fextra\\u003e\",\"legendgroup\":\"anger\",\"marker\":{\"color\":\"#ab63fa\",\"pattern\":{\"shape\":\"\"}},\"name\":\"anger\",\"offsetgroup\":\"anger\",\"orientation\":\"v\",\"showlegend\":true,\"textposition\":\"auto\",\"x\":[\"anger\"],\"xaxis\":\"x\",\"y\":[0.0011139429407194257],\"yaxis\":\"y\",\"type\":\"bar\"},{\"alignmentgroup\":\"True\",\"hovertemplate\":\"emotion=%{x}\\u003cbr\\u003econfidence=%{y}\\u003cextra\\u003e\\u003c\\u002fextra\\u003e\",\"legendgroup\":\"love\",\"marker\":{\"color\":\"#FFA15A\",\"pattern\":{\"shape\":\"\"}},\"name\":\"love\",\"offsetgroup\":\"love\",\"orientation\":\"v\",\"showlegend\":true,\"textposition\":\"auto\",\"x\":[\"love\"],\"xaxis\":\"x\",\"y\":[0.0008306046947836876],\"yaxis\":\"y\",\"type\":\"bar\"}],                        {\"template\":{\"data\":{\"histogram2dcontour\":[{\"type\":\"histogram2dcontour\",\"colorbar\":{\"outlinewidth\":0,\"ticks\":\"\"},\"colorscale\":[[0.0,\"#0d0887\"],[0.1111111111111111,\"#46039f\"],[0.2222222222222222,\"#7201a8\"],[0.3333333333333333,\"#9c179e\"],[0.4444444444444444,\"#bd3786\"],[0.5555555555555556,\"#d8576b\"],[0.6666666666666666,\"#ed7953\"],[0.7777777777777778,\"#fb9f3a\"],[0.8888888888888888,\"#fdca26\"],[1.0,\"#f0f921\"]]}],\"choropleth\":[{\"type\":\"choropleth\",\"colorbar\":{\"outlinewidth\":0,\"ticks\":\"\"}}],\"histogram2d\":[{\"type\":\"histogram2d\",\"colorbar\":{\"outlinewidth\":0,\"ticks\":\"\"},\"colorscale\":[[0.0,\"#0d0887\"],[0.1111111111111111,\"#46039f\"],[0.2222222222222222,\"#7201a8\"],[0.3333333333333333,\"#9c179e\"],[0.4444444444444444,\"#bd3786\"],[0.5555555555555556,\"#d8576b\"],[0.6666666666666666,\"#ed7953\"],[0.7777777777777778,\"#fb9f3a\"],[0.8888888888888888,\"#fdca26\"],[1.0,\"#f0f921\"]]}],\"heatmap\":[{\"type\":\"heatmap\",\"colorbar\":{\"outlinewidth\":0,\"ticks\":\"\"},\"colorscale\":[[0.0,\"#0d0887\"],[0.1111111111111111,\"#46039f\"],[0.2222222222222222,\"#7201a8\"],[0.3333333333333333,\"#9c179e\"],[0.4444444444444444,\"#bd3786\"],[0.5555555555555556,\"#d8576b\"],[0.6666666666666666,\"#ed7953\"],[0.7777777777777778,\"#fb9f3a\"],[0.8888888888888888,\"#fdca26\"],[1.0,\"#f0f921\"]]}],\"heatmapgl\":[{\"type\":\"heatmapgl\",\"colorbar\":{\"outlinewidth\":0,\"ticks\":\"\"},\"colorscale\":[[0.0,\"#0d0887\"],[0.1111111111111111,\"#46039f\"],[0.2222222222222222,\"#7201a8\"],[0.3333333333333333,\"#9c179e\"],[0.4444444444444444,\"#bd3786\"],[0.5555555555555556,\"#d8576b\"],[0.6666666666666666,\"#ed7953\"],[0.7777777777777778,\"#fb9f3a\"],[0.8888888888888888,\"#fdca26\"],[1.0,\"#f0f921\"]]}],\"contourcarpet\":[{\"type\":\"contourcarpet\",\"colorbar\":{\"outlinewidth\":0,\"ticks\":\"\"}}],\"contour\":[{\"type\":\"contour\",\"colorbar\":{\"outlinewidth\":0,\"ticks\":\"\"},\"colorscale\":[[0.0,\"#0d0887\"],[0.1111111111111111,\"#46039f\"],[0.2222222222222222,\"#7201a8\"],[0.3333333333333333,\"#9c179e\"],[0.4444444444444444,\"#bd3786\"],[0.5555555555555556,\"#d8576b\"],[0.6666666666666666,\"#ed7953\"],[0.7777777777777778,\"#fb9f3a\"],[0.8888888888888888,\"#fdca26\"],[1.0,\"#f0f921\"]]}],\"surface\":[{\"type\":\"surface\",\"colorbar\":{\"outlinewidth\":0,\"ticks\":\"\"},\"colorscale\":[[0.0,\"#0d0887\"],[0.1111111111111111,\"#46039f\"],[0.2222222222222222,\"#7201a8\"],[0.3333333333333333,\"#9c179e\"],[0.4444444444444444,\"#bd3786\"],[0.5555555555555556,\"#d8576b\"],[0.6666666666666666,\"#ed7953\"],[0.7777777777777778,\"#fb9f3a\"],[0.8888888888888888,\"#fdca26\"],[1.0,\"#f0f921\"]]}],\"mesh3d\":[{\"type\":\"mesh3d\",\"colorbar\":{\"outlinewidth\":0,\"ticks\":\"\"}}],\"scatter\":[{\"fillpattern\":{\"fillmode\":\"overlay\",\"size\":10,\"solidity\":0.2},\"type\":\"scatter\"}],\"parcoords\":[{\"type\":\"parcoords\",\"line\":{\"colorbar\":{\"outlinewidth\":0,\"ticks\":\"\"}}}],\"scatterpolargl\":[{\"type\":\"scatterpolargl\",\"marker\":{\"colorbar\":{\"outlinewidth\":0,\"ticks\":\"\"}}}],\"bar\":[{\"error_x\":{\"color\":\"#2a3f5f\"},\"error_y\":{\"color\":\"#2a3f5f\"},\"marker\":{\"line\":{\"color\":\"#E5ECF6\",\"width\":0.5},\"pattern\":{\"fillmode\":\"overlay\",\"size\":10,\"solidity\":0.2}},\"type\":\"bar\"}],\"scattergeo\":[{\"type\":\"scattergeo\",\"marker\":{\"colorbar\":{\"outlinewidth\":0,\"ticks\":\"\"}}}],\"scatterpolar\":[{\"type\":\"scatterpolar\",\"marker\":{\"colorbar\":{\"outlinewidth\":0,\"ticks\":\"\"}}}],\"histogram\":[{\"marker\":{\"pattern\":{\"fillmode\":\"overlay\",\"size\":10,\"solidity\":0.2}},\"type\":\"histogram\"}],\"scattergl\":[{\"type\":\"scattergl\",\"marker\":{\"colorbar\":{\"outlinewidth\":0,\"ticks\":\"\"}}}],\"scatter3d\":[{\"type\":\"scatter3d\",\"line\":{\"colorbar\":{\"outlinewidth\":0,\"ticks\":\"\"}},\"marker\":{\"colorbar\":{\"outlinewidth\":0,\"ticks\":\"\"}}}],\"scattermapbox\":[{\"type\":\"scattermapbox\",\"marker\":{\"colorbar\":{\"outlinewidth\":0,\"ticks\":\"\"}}}],\"scatterternary\":[{\"type\":\"scatterternary\",\"marker\":{\"colorbar\":{\"outlinewidth\":0,\"ticks\":\"\"}}}],\"scattercarpet\":[{\"type\":\"scattercarpet\",\"marker\":{\"colorbar\":{\"outlinewidth\":0,\"ticks\":\"\"}}}],\"carpet\":[{\"aaxis\":{\"endlinecolor\":\"#2a3f5f\",\"gridcolor\":\"white\",\"linecolor\":\"white\",\"minorgridcolor\":\"white\",\"startlinecolor\":\"#2a3f5f\"},\"baxis\":{\"endlinecolor\":\"#2a3f5f\",\"gridcolor\":\"white\",\"linecolor\":\"white\",\"minorgridcolor\":\"white\",\"startlinecolor\":\"#2a3f5f\"},\"type\":\"carpet\"}],\"table\":[{\"cells\":{\"fill\":{\"color\":\"#EBF0F8\"},\"line\":{\"color\":\"white\"}},\"header\":{\"fill\":{\"color\":\"#C8D4E3\"},\"line\":{\"color\":\"white\"}},\"type\":\"table\"}],\"barpolar\":[{\"marker\":{\"line\":{\"color\":\"#E5ECF6\",\"width\":0.5},\"pattern\":{\"fillmode\":\"overlay\",\"size\":10,\"solidity\":0.2}},\"type\":\"barpolar\"}],\"pie\":[{\"automargin\":true,\"type\":\"pie\"}]},\"layout\":{\"autotypenumbers\":\"strict\",\"colorway\":[\"#636efa\",\"#EF553B\",\"#00cc96\",\"#ab63fa\",\"#FFA15A\",\"#19d3f3\",\"#FF6692\",\"#B6E880\",\"#FF97FF\",\"#FECB52\"],\"font\":{\"color\":\"#2a3f5f\"},\"hovermode\":\"closest\",\"hoverlabel\":{\"align\":\"left\"},\"paper_bgcolor\":\"white\",\"plot_bgcolor\":\"#E5ECF6\",\"polar\":{\"bgcolor\":\"#E5ECF6\",\"angularaxis\":{\"gridcolor\":\"white\",\"linecolor\":\"white\",\"ticks\":\"\"},\"radialaxis\":{\"gridcolor\":\"white\",\"linecolor\":\"white\",\"ticks\":\"\"}},\"ternary\":{\"bgcolor\":\"#E5ECF6\",\"aaxis\":{\"gridcolor\":\"white\",\"linecolor\":\"white\",\"ticks\":\"\"},\"baxis\":{\"gridcolor\":\"white\",\"linecolor\":\"white\",\"ticks\":\"\"},\"caxis\":{\"gridcolor\":\"white\",\"linecolor\":\"white\",\"ticks\":\"\"}},\"coloraxis\":{\"colorbar\":{\"outlinewidth\":0,\"ticks\":\"\"}},\"colorscale\":{\"sequential\":[[0.0,\"#0d0887\"],[0.1111111111111111,\"#46039f\"],[0.2222222222222222,\"#7201a8\"],[0.3333333333333333,\"#9c179e\"],[0.4444444444444444,\"#bd3786\"],[0.5555555555555556,\"#d8576b\"],[0.6666666666666666,\"#ed7953\"],[0.7777777777777778,\"#fb9f3a\"],[0.8888888888888888,\"#fdca26\"],[1.0,\"#f0f921\"]],\"sequentialminus\":[[0.0,\"#0d0887\"],[0.1111111111111111,\"#46039f\"],[0.2222222222222222,\"#7201a8\"],[0.3333333333333333,\"#9c179e\"],[0.4444444444444444,\"#bd3786\"],[0.5555555555555556,\"#d8576b\"],[0.6666666666666666,\"#ed7953\"],[0.7777777777777778,\"#fb9f3a\"],[0.8888888888888888,\"#fdca26\"],[1.0,\"#f0f921\"]],\"diverging\":[[0,\"#8e0152\"],[0.1,\"#c51b7d\"],[0.2,\"#de77ae\"],[0.3,\"#f1b6da\"],[0.4,\"#fde0ef\"],[0.5,\"#f7f7f7\"],[0.6,\"#e6f5d0\"],[0.7,\"#b8e186\"],[0.8,\"#7fbc41\"],[0.9,\"#4d9221\"],[1,\"#276419\"]]},\"xaxis\":{\"gridcolor\":\"white\",\"linecolor\":\"white\",\"ticks\":\"\",\"title\":{\"standoff\":15},\"zerolinecolor\":\"white\",\"automargin\":true,\"zerolinewidth\":2},\"yaxis\":{\"gridcolor\":\"white\",\"linecolor\":\"white\",\"ticks\":\"\",\"title\":{\"standoff\":15},\"zerolinecolor\":\"white\",\"automargin\":true,\"zerolinewidth\":2},\"scene\":{\"xaxis\":{\"backgroundcolor\":\"#E5ECF6\",\"gridcolor\":\"white\",\"linecolor\":\"white\",\"showbackground\":true,\"ticks\":\"\",\"zerolinecolor\":\"white\",\"gridwidth\":2},\"yaxis\":{\"backgroundcolor\":\"#E5ECF6\",\"gridcolor\":\"white\",\"linecolor\":\"white\",\"showbackground\":true,\"ticks\":\"\",\"zerolinecolor\":\"white\",\"gridwidth\":2},\"zaxis\":{\"backgroundcolor\":\"#E5ECF6\",\"gridcolor\":\"white\",\"linecolor\":\"white\",\"showbackground\":true,\"ticks\":\"\",\"zerolinecolor\":\"white\",\"gridwidth\":2}},\"shapedefaults\":{\"line\":{\"color\":\"#2a3f5f\"}},\"annotationdefaults\":{\"arrowcolor\":\"#2a3f5f\",\"arrowhead\":0,\"arrowwidth\":1},\"geo\":{\"bgcolor\":\"white\",\"landcolor\":\"#E5ECF6\",\"subunitcolor\":\"white\",\"showland\":true,\"showlakes\":true,\"lakecolor\":\"white\"},\"title\":{\"x\":0.05},\"mapbox\":{\"style\":\"light\"}}},\"xaxis\":{\"anchor\":\"y\",\"domain\":[0.0,1.0],\"title\":{\"text\":\"emotion\"},\"categoryorder\":\"array\",\"categoryarray\":[\"joy\",\"surprise\",\"fear\",\"anger\",\"love\"]},\"yaxis\":{\"anchor\":\"x\",\"domain\":[0.0,1.0],\"title\":{\"text\":\"confidence\"}},\"legend\":{\"title\":{\"text\":\"emotion\"},\"tracegroupgap\":0},\"title\":{\"text\":\"Top 5 Emotion\"},\"barmode\":\"relative\",\"showlegend\":false},                        {\"responsive\": true}                    ).then(function(){\n",
              "                            \n",
              "var gd = document.getElementById('c34a5e0d-1fde-42e9-8683-136dd53a538e');\n",
              "var x = new MutationObserver(function (mutations, observer) {{\n",
              "        var display = window.getComputedStyle(gd).display;\n",
              "        if (!display || display === 'none') {{\n",
              "            console.log([gd, 'removed!']);\n",
              "            Plotly.purge(gd);\n",
              "            observer.disconnect();\n",
              "        }}\n",
              "}});\n",
              "\n",
              "// Listen for the removal of the full notebook cells\n",
              "var notebookContainer = gd.closest('#notebook-container');\n",
              "if (notebookContainer) {{\n",
              "    x.observe(notebookContainer, {childList: true});\n",
              "}}\n",
              "\n",
              "// Listen for the clearing of the current output cell\n",
              "var outputEl = gd.closest('.output');\n",
              "if (outputEl) {{\n",
              "    x.observe(outputEl, {childList: true});\n",
              "}}\n",
              "\n",
              "                        })                };                            </script>        </div>\n",
              "</body>\n",
              "</html>"
            ]
          },
          "metadata": {}
        }
      ],
      "source": [
        "# results\n",
        "result1=detect_emotion(\"I am so excited  to start my new job\")\n",
        "result2= detect_emotion(\"I am feeling hopless and tired  of everything\")\n",
        "\n",
        "# extracting information from results\n",
        "if \"error\" not in result1:\n",
        "    print(f\"Text: {result1['text']}\")\n",
        "    print(\"Emotion Table\")\n",
        "    print(result1[\"emotion_table\"])\n",
        "    print(f\"Detected Emotion: {result1['detected_emotion']} with confidence: {result1['confidence']}\")\n",
        "    result1[\"plot\"].show()\n",
        "\n",
        "\n",
        "if \"error\" not in result1:\n",
        "    print(f\"Text: {result2['text']}\")\n",
        "    print(\"Emotion Table\")\n",
        "    print(result2[\"emotion_table\"])\n",
        "    print(f\"Detected Emotion: {result2['detected_emotion']} with confidence: {result2['confidence']}\")\n",
        "    result1[\"plot\"].show()"
      ]
    },
    {
      "cell_type": "code",
      "execution_count": null,
      "id": "b297a1cc-626e-42e9-8968-3ed07df49364",
      "metadata": {
        "id": "b297a1cc-626e-42e9-8968-3ed07df49364"
      },
      "outputs": [],
      "source": [
        "text= \"\"\"\n",
        "There are moments in life when love feels like the most beautiful and tender thing in the world. When I look into your eyes, it’s as if time stops for just a fleeting second, and in that moment, I see everything — all the joy, all the dreams we’ve shared, and the quiet, beautiful promise of forever. I’ve never known a love like this, so pure, so real, and yet, there’s this deep ache that resides in my chest, a silent companion that reminds me that love, no matter how strong, is not immune to the fragility of life.\n",
        "\n",
        "It’s the quiet moments, the stillness in your touch, that speak volumes. I can’t help but think of how far we’ve come, how many nights we’ve spent talking about everything and nothing, laughing until our stomachs hurt, and holding each other through moments of fear and doubt. There’s such beauty in the way our hearts have become so intertwined, so inseparable. Every part of me loves you, not just in the bright moments, but even in the quiet, in the moments where words are unnecessary, where simply being close to you is enough.\n",
        "\n",
        "But then, there are these moments, too, when the sadness creeps in. It’s as if I can feel the weight of time, the fleeting nature of this precious thing we call life, pulling at my heart. The thought of losing you, of one day having to walk this earth without the warmth of your hand in mine, fills me with a sadness I can hardly bear. It’s not a sadness born of anything we’ve done, but rather the simple realization that nothing, no matter how perfect it seems, lasts forever. And I wish, with all my heart, that I could hold on to this moment, this love, forever. I wish that we could grow old together, not with fear or regret, but with the quiet knowing that every single day was enough because we had each other.\n",
        "\n",
        "Sometimes, the love we share feels so strong, so overwhelming, that it brings tears to my eyes. Tears not just because I am deeply moved by how much I care for you, but because I also know that love, as beautiful as it is, also carries with it the pain of knowing that things can change in the blink of an eye. It’s a love that feels eternal in the moment, but the sadness reminds me that nothing stays the same forever, and that thought brings with it an overwhelming sense of longing.\n",
        "\n",
        "But I won’t let that sadness define us. No, it only makes me hold on to you tighter, cherish every laugh, every touch, every shared silence. Our love is a beautiful story, and even if it’s only ours for a time, it will be enough. It will be more than enough because love, true love, is not measured by how long we have it, but by how deeply we live it. And in every moment we share, there is nothing but love — love that fills me, that makes me whole, even as the sadness reminds me how precious each day is.\n",
        "\"\"\""
      ]
    },
    {
      "cell_type": "code",
      "execution_count": null,
      "id": "db7218be-742e-41da-8213-c28d86cd6108",
      "metadata": {
        "colab": {
          "base_uri": "https://localhost:8080/",
          "height": 123
        },
        "id": "db7218be-742e-41da-8213-c28d86cd6108",
        "outputId": "1c89d3e4-77ca-4e68-c4c4-9c9fb3d7f500"
      },
      "outputs": [
        {
          "output_type": "execute_result",
          "data": {
            "text/plain": [
              "'\\nThere are moments in life when love feels like the most beautiful and tender thing in the world. When I look into your eyes, it’s as if time stops for just a fleeting second, and in that moment, I see everything — all the joy, all the dreams we’ve shared, and the quiet, beautiful promise of forever. I’ve never known a love like this, so pure, so real, and yet, there’s this deep ache that resides in my chest, a silent companion that reminds me that love, no matter how strong, is not immune to the fragility of life.\\n\\nIt’s the quiet moments, the stillness in your touch, that speak volumes. I can’t help but think of how far we’ve come, how many nights we’ve spent talking about everything and nothing, laughing until our stomachs hurt, and holding each other through moments of fear and doubt. There’s such beauty in the way our hearts have become so intertwined, so inseparable. Every part of me loves you, not just in the bright moments, but even in the quiet, in the moments where words are unnecessary, where simply being close to you is enough.\\n\\nBut then, there are these moments, too, when the sadness creeps in. It’s as if I can feel the weight of time, the fleeting nature of this precious thing we call life, pulling at my heart. The thought of losing you, of one day having to walk this earth without the warmth of your hand in mine, fills me with a sadness I can hardly bear. It’s not a sadness born of anything we’ve done, but rather the simple realization that nothing, no matter how perfect it seems, lasts forever. And I wish, with all my heart, that I could hold on to this moment, this love, forever. I wish that we could grow old together, not with fear or regret, but with the quiet knowing that every single day was enough because we had each other.\\n\\nSometimes, the love we share feels so strong, so overwhelming, that it brings tears to my eyes. Tears not just because I am deeply moved by how much I care for you, but because I also know that love, as beautiful as it is, also carries with it the pain of knowing that things can change in the blink of an eye. It’s a love that feels eternal in the moment, but the sadness reminds me that nothing stays the same forever, and that thought brings with it an overwhelming sense of longing.\\n\\nBut I won’t let that sadness define us. No, it only makes me hold on to you tighter, cherish every laugh, every touch, every shared silence. Our love is a beautiful story, and even if it’s only ours for a time, it will be enough. It will be more than enough because love, true love, is not measured by how long we have it, but by how deeply we live it. And in every moment we share, there is nothing but love — love that fills me, that makes me whole, even as the sadness reminds me how precious each day is.\\n'"
            ],
            "application/vnd.google.colaboratory.intrinsic+json": {
              "type": "string"
            }
          },
          "metadata": {},
          "execution_count": 36
        }
      ],
      "source": [
        "text"
      ]
    },
    {
      "cell_type": "code",
      "execution_count": null,
      "id": "e7762238-73f2-4284-a076-f3f889523ddb",
      "metadata": {
        "colab": {
          "base_uri": "https://localhost:8080/"
        },
        "id": "e7762238-73f2-4284-a076-f3f889523ddb",
        "outputId": "a1a0aeea-9b9f-4d0c-fa34-6d9606cd94c4"
      },
      "outputs": [
        {
          "output_type": "stream",
          "name": "stderr",
          "text": [
            "Token indices sequence length is longer than the specified maximum sequence length for this model (644 > 512). Running this sequence through the model will result in indexing errors\n"
          ]
        }
      ],
      "source": [
        "result1= detect_emotion(text)"
      ]
    },
    {
      "cell_type": "code",
      "execution_count": null,
      "id": "42543660-114e-4013-a370-654b5698cc45",
      "metadata": {
        "id": "42543660-114e-4013-a370-654b5698cc45"
      },
      "outputs": [],
      "source": []
    },
    {
      "cell_type": "code",
      "execution_count": null,
      "id": "28db9a0a-e854-4efa-9750-4401f4250b34",
      "metadata": {
        "colab": {
          "base_uri": "https://localhost:8080/"
        },
        "id": "28db9a0a-e854-4efa-9750-4401f4250b34",
        "outputId": "e00dee13-5843-4ac9-9edd-97d40c409f76"
      },
      "outputs": [
        {
          "output_type": "stream",
          "name": "stdout",
          "text": [
            "{'error': 'The size of tensor a (644) must match the size of tensor b (512) at non-singleton dimension 1'}\n"
          ]
        }
      ],
      "source": [
        "# extracting information from results\n",
        "if \"error\" not in result1:\n",
        "    print(f\"Text: {result1['text']}\")\n",
        "    print(\"Emotion Table\")\n",
        "    print(result1[\"emotion_table\"])\n",
        "    print(f\"Detected Emotion: {result1['detected_emotion']} with confidence: {result1['confidence']}\")\n",
        "    result1[\"plot\"].show()\n",
        "else:\n",
        "    print(result1)\n"
      ]
    },
    {
      "cell_type": "markdown",
      "id": "5a5a9fb2-7156-4711-875e-971afedbdb6d",
      "metadata": {
        "id": "5a5a9fb2-7156-4711-875e-971afedbdb6d"
      },
      "source": [
        "# CREATING CHUNKS."
      ]
    },
    {
      "cell_type": "code",
      "execution_count": null,
      "id": "3ffdb0a6-8c5a-4e00-a7f1-992c564c85a3",
      "metadata": {
        "id": "3ffdb0a6-8c5a-4e00-a7f1-992c564c85a3"
      },
      "outputs": [],
      "source": [
        "nlp = spacy.load(\"en_core_web_sm\")\n",
        "doc= nlp(text)\n"
      ]
    },
    {
      "cell_type": "code",
      "execution_count": null,
      "id": "a863450c-8f68-4357-9fd2-1c44c3d9b4a2",
      "metadata": {
        "colab": {
          "base_uri": "https://localhost:8080/"
        },
        "id": "a863450c-8f68-4357-9fd2-1c44c3d9b4a2",
        "outputId": "e659a12d-61e7-4ece-9f99-75a88d0ba219"
      },
      "outputs": [
        {
          "output_type": "stream",
          "name": "stdout",
          "text": [
            "\n",
            "There are moments in life when love feels like the most beautiful and tender thing in the world.\n",
            "***\n",
            "When I look into your eyes, it’s as if time stops for just a fleeting second, and in that moment, I see everything — all the joy, all the dreams we’ve shared, and the quiet, beautiful promise of forever.\n",
            "***\n",
            "I’ve never known a love like this, so pure, so real, and yet, there’s this deep ache that resides in my chest, a silent companion that reminds me that love, no matter how strong, is not immune to the fragility of life.\n",
            "\n",
            "\n",
            "***\n",
            "It’s the quiet moments, the stillness in your touch, that speak volumes.\n",
            "***\n",
            "I can’t help but think of how far we’ve come, how many nights we’ve spent talking about everything and nothing, laughing until our stomachs hurt, and holding each other through moments of fear and doubt.\n",
            "***\n",
            "There’s such beauty in the way our hearts have become so intertwined, so inseparable.\n",
            "***\n",
            "Every part of me loves you, not just in the bright moments, but even in the quiet, in the moments where words are unnecessary, where simply being close to you is enough.\n",
            "\n",
            "\n",
            "***\n",
            "But then, there are these moments, too, when the sadness creeps in.\n",
            "***\n",
            "It’s as if I can feel the weight of time, the fleeting nature of this precious thing we call life, pulling at my heart.\n",
            "***\n",
            "The thought of losing you, of one day having to walk this earth without the warmth of your hand in mine, fills me with a sadness I can hardly bear.\n",
            "***\n",
            "It’s not a sadness born of anything we’ve done, but rather the simple realization that nothing, no matter how perfect it seems, lasts forever.\n",
            "***\n",
            "And I wish, with all my heart, that I could hold on to this moment, this love, forever.\n",
            "***\n",
            "I wish that we could grow old together, not with fear or regret, but with the quiet knowing that every single day was enough because we had each other.\n",
            "\n",
            "\n",
            "***\n",
            "Sometimes, the love we share feels so strong, so overwhelming, that it brings tears to my eyes.\n",
            "***\n",
            "Tears not just because I am deeply moved by how much I care for you, but because I also know that love, as beautiful as it is, also carries with it the pain of knowing that things can change in the blink of an eye.\n",
            "***\n",
            "It’s a love that feels eternal in the moment, but the sadness reminds me that nothing stays the same forever, and that thought brings with it an overwhelming sense of longing.\n",
            "\n",
            "\n",
            "***\n",
            "But I won’t let that sadness define us.\n",
            "***\n",
            "No, it only makes me hold on to you tighter, cherish every laugh, every touch, every shared silence.\n",
            "***\n",
            "Our love is a beautiful story, and even if it’s only ours for a time, it will be enough.\n",
            "***\n",
            "It will be more than enough because love, true love, is not measured by how long we have it, but by how deeply we live it.\n",
            "***\n",
            "And in every moment we share, there is nothing but love — love that fills me, that makes me whole, even as the sadness reminds me how precious each day is.\n",
            "\n",
            "***\n"
          ]
        }
      ],
      "source": [
        "for i in doc.sents:\n",
        "    print(i)\n",
        "    print(\"***\")"
      ]
    },
    {
      "cell_type": "code",
      "execution_count": null,
      "id": "3722147c-85a0-4ca5-b599-1f2b63f9226e",
      "metadata": {
        "colab": {
          "base_uri": "https://localhost:8080/"
        },
        "id": "3722147c-85a0-4ca5-b599-1f2b63f9226e",
        "outputId": "e7d3d3ba-4a76-4062-89ca-612745226509"
      },
      "outputs": [
        {
          "output_type": "stream",
          "name": "stdout",
          "text": [
            "\n",
            "There are moments in life when love feels like the most beautiful and tender thing in the world.\n",
            "***\n",
            "When I look into your eyes, it’s as if time stops for just a fleeting second, and in that moment, I see everything — all the joy, all the dreams we’ve shared, and the quiet, beautiful promise of forever.\n",
            "***\n",
            "I’ve never known a love like this, so pure, so real, and yet, there’s this deep ache that resides in my chest, a silent companion that reminds me that love, no matter how strong, is not immune to the fragility of life.\n",
            "\n",
            "\n",
            "***\n",
            "It’s the quiet moments, the stillness in your touch, that speak volumes.\n",
            "***\n",
            "I can’t help but think of how far we’ve come, how many nights we’ve spent talking about everything and nothing, laughing until our stomachs hurt, and holding each other through moments of fear and doubt.\n",
            "***\n",
            "There’s such beauty in the way our hearts have become so intertwined, so inseparable.\n",
            "***\n",
            "Every part of me loves you, not just in the bright moments, but even in the quiet, in the moments where words are unnecessary, where simply being close to you is enough.\n",
            "\n",
            "\n",
            "***\n",
            "But then, there are these moments, too, when the sadness creeps in.\n",
            "***\n",
            "It’s as if I can feel the weight of time, the fleeting nature of this precious thing we call life, pulling at my heart.\n",
            "***\n",
            "The thought of losing you, of one day having to walk this earth without the warmth of your hand in mine, fills me with a sadness I can hardly bear.\n",
            "***\n",
            "It’s not a sadness born of anything we’ve done, but rather the simple realization that nothing, no matter how perfect it seems, lasts forever.\n",
            "***\n",
            "And I wish, with all my heart, that I could hold on to this moment, this love, forever.\n",
            "***\n",
            "I wish that we could grow old together, not with fear or regret, but with the quiet knowing that every single day was enough because we had each other.\n",
            "\n",
            "\n",
            "***\n",
            "Sometimes, the love we share feels so strong, so overwhelming, that it brings tears to my eyes.\n",
            "***\n",
            "Tears not just because I am deeply moved by how much I care for you, but because I also know that love, as beautiful as it is, also carries with it the pain of knowing that things can change in the blink of an eye.\n",
            "***\n",
            "It’s a love that feels eternal in the moment, but the sadness reminds me that nothing stays the same forever, and that thought brings with it an overwhelming sense of longing.\n",
            "\n",
            "\n",
            "***\n",
            "But I won’t let that sadness define us.\n",
            "***\n",
            "No, it only makes me hold on to you tighter, cherish every laugh, every touch, every shared silence.\n",
            "***\n",
            "Our love is a beautiful story, and even if it’s only ours for a time, it will be enough.\n",
            "***\n",
            "It will be more than enough because love, true love, is not measured by how long we have it, but by how deeply we live it.\n",
            "***\n",
            "And in every moment we share, there is nothing but love — love that fills me, that makes me whole, even as the sadness reminds me how precious each day is.\n",
            "\n",
            "***\n"
          ]
        }
      ],
      "source": [
        "for i in doc.sents:\n",
        "    print(i.text)\n",
        "    print(\"***\")"
      ]
    },
    {
      "cell_type": "code",
      "execution_count": null,
      "id": "7dd7dd3b-153a-43d2-99af-348f747e3137",
      "metadata": {
        "id": "7dd7dd3b-153a-43d2-99af-348f747e3137"
      },
      "outputs": [],
      "source": [
        "# chunks out of sentence.\n",
        "# storage to store chunks\n",
        "# loop ----> chunks\n",
        "# chunk---> dont cross extreme mark.  -----> chuunk = 0\n",
        "# loop--> len(sentence) < benchmark\n",
        "# chuunk+sentence  ----> chunk= n tokens\n",
        "# chunks saturate.\n"
      ]
    },
    {
      "cell_type": "code",
      "execution_count": null,
      "id": "d2096e7f-7da6-4bdb-a31d-4b2e91a184c7",
      "metadata": {
        "id": "d2096e7f-7da6-4bdb-a31d-4b2e91a184c7"
      },
      "outputs": [],
      "source": [
        "# CREATING CHUNKS.\n",
        "chunks=[]\n",
        "current_chunk=\"\"\n",
        "\n",
        "for sent in doc.sents:\n",
        "    sentence= sent.text.strip()\n",
        "    if len(current_chunk)+len(sentence)<=500:\n",
        "        current_chunk+=\" \"+sentence\n",
        "    else:\n",
        "        chunks.append(current_chunk.strip())\n",
        "        current_chunk=sentence\n",
        "\n",
        "if current_chunk:\n",
        "    chunks.append(current_chunk.strip())"
      ]
    },
    {
      "cell_type": "code",
      "execution_count": null,
      "id": "aa0909e4-e145-4020-9539-132568d616f6",
      "metadata": {
        "id": "aa0909e4-e145-4020-9539-132568d616f6"
      },
      "outputs": [],
      "source": [
        "chunks[5]\n"
      ]
    },
    {
      "cell_type": "code",
      "execution_count": null,
      "id": "f32e667c-196f-406a-b58f-6a92595f9a6e",
      "metadata": {
        "id": "f32e667c-196f-406a-b58f-6a92595f9a6e"
      },
      "outputs": [],
      "source": [
        "# CREATING FUCNTIONS FOR THE CHUNKS\n",
        "def split_into_chunks_spacy(text , max_length=500):\n",
        "    nlp= spacy.load(\"en_core_web_sm\")\n",
        "    doc= nlp(text)\n",
        "    chunks=[]\n",
        "    current_chunk=\"\"\n",
        "\n",
        "    for sent in doc.sents:\n",
        "        sentence= sent.text.strip()\n",
        "        if len(current_chunk)+len(sentence)<=500:\n",
        "            current_chunk+=\" \"+sentence\n",
        "        else:\n",
        "            chunks.append(current_chunk.strip())\n",
        "            current_chunk=sentence\n",
        "\n",
        "    if current_chunk:\n",
        "        chunks.append(current_chunk.strip())\n",
        "    return chunks"
      ]
    },
    {
      "cell_type": "code",
      "execution_count": null,
      "id": "526aa7f7-0386-4797-8254-0ab2891898b2",
      "metadata": {
        "id": "526aa7f7-0386-4797-8254-0ab2891898b2"
      },
      "outputs": [],
      "source": [
        "split_into_chunks_spacy(text)[3]"
      ]
    },
    {
      "cell_type": "code",
      "execution_count": null,
      "id": "113c7af1-0bd0-4ecd-85c5-2e10a0acb499",
      "metadata": {
        "id": "113c7af1-0bd0-4ecd-85c5-2e10a0acb499"
      },
      "outputs": [],
      "source": [
        "result= emotion_classifier(\"I love India , I am an proud Indian\")\n",
        "emotions= result[0]"
      ]
    },
    {
      "cell_type": "code",
      "execution_count": null,
      "id": "1ab7c364-65be-4ec0-82ad-40233773914d",
      "metadata": {
        "id": "1ab7c364-65be-4ec0-82ad-40233773914d"
      },
      "outputs": [],
      "source": [
        "emotions"
      ]
    },
    {
      "cell_type": "code",
      "execution_count": null,
      "id": "0a1f1f6f-500d-4e88-b55b-821b9e83ef46",
      "metadata": {
        "id": "0a1f1f6f-500d-4e88-b55b-821b9e83ef46"
      },
      "outputs": [],
      "source": [
        "result= emotion_classifier(\"my fried was weeping , he is going through tough times\")\n",
        "emotions_1= result[0]"
      ]
    },
    {
      "cell_type": "code",
      "execution_count": null,
      "id": "70f29908-1ca1-4780-be4f-69116c771125",
      "metadata": {
        "id": "70f29908-1ca1-4780-be4f-69116c771125"
      },
      "outputs": [],
      "source": [
        "emotions_1"
      ]
    },
    {
      "cell_type": "code",
      "execution_count": null,
      "id": "6a8fe7e3-c212-4014-8ceb-4510fba9cdc6",
      "metadata": {
        "id": "6a8fe7e3-c212-4014-8ceb-4510fba9cdc6"
      },
      "outputs": [],
      "source": [
        "result= emotion_classifier(\"my fried  is getting married , he is excited for it\")\n",
        "emotions_2= result[0]"
      ]
    },
    {
      "cell_type": "code",
      "execution_count": null,
      "id": "eafb9773-6f4d-49af-bf54-da8338a1d9fb",
      "metadata": {
        "id": "eafb9773-6f4d-49af-bf54-da8338a1d9fb"
      },
      "outputs": [],
      "source": [
        "emotions_2"
      ]
    },
    {
      "cell_type": "code",
      "execution_count": null,
      "id": "d5dadcd6-0fa2-466b-a1e6-eaecb170a73d",
      "metadata": {
        "id": "d5dadcd6-0fa2-466b-a1e6-eaecb170a73d"
      },
      "outputs": [],
      "source": [
        "emotionss={}\n",
        "emotion_count={}\n",
        "from collections import defaultdict\n",
        "emotion_count= defaultdict(int)"
      ]
    },
    {
      "cell_type": "code",
      "execution_count": null,
      "id": "862f13e0-e25e-4417-9778-47066497331b",
      "metadata": {
        "id": "862f13e0-e25e-4417-9778-47066497331b"
      },
      "outputs": [],
      "source": [
        "emotionss"
      ]
    },
    {
      "cell_type": "code",
      "execution_count": null,
      "id": "44d80d70-c567-4c6d-a9cc-46120ec9e9d4",
      "metadata": {
        "id": "44d80d70-c567-4c6d-a9cc-46120ec9e9d4"
      },
      "outputs": [],
      "source": [
        "for i in emotions:\n",
        "    label = i[\"label\"]\n",
        "    score= i[\"score\"]\n",
        "    emotionss[label]= emotionss.get(label ,0)+score\n",
        "    emotion_count[label]+=1"
      ]
    },
    {
      "cell_type": "code",
      "execution_count": null,
      "id": "d998d737-5f75-48a0-b2c4-a9e520267c36",
      "metadata": {
        "id": "d998d737-5f75-48a0-b2c4-a9e520267c36"
      },
      "outputs": [],
      "source": [
        "emotionss"
      ]
    },
    {
      "cell_type": "code",
      "execution_count": null,
      "id": "33ea8ee0-0497-4197-a409-5aa3cbb5ec2b",
      "metadata": {
        "id": "33ea8ee0-0497-4197-a409-5aa3cbb5ec2b"
      },
      "outputs": [],
      "source": [
        "emotion_count"
      ]
    },
    {
      "cell_type": "code",
      "execution_count": null,
      "id": "79e12eda-90dd-431b-a0c8-77e3e4b5803b",
      "metadata": {
        "id": "79e12eda-90dd-431b-a0c8-77e3e4b5803b"
      },
      "outputs": [],
      "source": [
        "for i in emotions_1:\n",
        "    label = i[\"label\"]\n",
        "    score= i[\"score\"]\n",
        "    emotionss[label]= emotionss.get(label ,0)+score\n",
        "    emotion_count[label]+=1"
      ]
    },
    {
      "cell_type": "code",
      "execution_count": null,
      "id": "ad335046-10e9-420c-a504-1158fb3eb28b",
      "metadata": {
        "id": "ad335046-10e9-420c-a504-1158fb3eb28b"
      },
      "outputs": [],
      "source": [
        "emotionss"
      ]
    },
    {
      "cell_type": "code",
      "execution_count": null,
      "id": "8cb0d243-4a74-47ad-aebe-04e6e0db048a",
      "metadata": {
        "id": "8cb0d243-4a74-47ad-aebe-04e6e0db048a"
      },
      "outputs": [],
      "source": [
        "emotion_count"
      ]
    },
    {
      "cell_type": "code",
      "execution_count": null,
      "id": "d81e7e75-16a5-487a-ba8b-b326fdb01e29",
      "metadata": {
        "id": "d81e7e75-16a5-487a-ba8b-b326fdb01e29"
      },
      "outputs": [],
      "source": [
        "for i in emotions_2:\n",
        "    label = i[\"label\"]\n",
        "    score= i[\"score\"]\n",
        "    emotionss[label]= emotionss.get(label ,0)+score\n",
        "    emotion_count[label]+=1\n"
      ]
    },
    {
      "cell_type": "code",
      "execution_count": null,
      "id": "a22a98c9-89a5-4655-bc7f-c168a020ff0a",
      "metadata": {
        "id": "a22a98c9-89a5-4655-bc7f-c168a020ff0a"
      },
      "outputs": [],
      "source": [
        "emotionss.items()"
      ]
    },
    {
      "cell_type": "code",
      "execution_count": null,
      "id": "c7653862-fbbd-4efe-b2da-fe043a5181a4",
      "metadata": {
        "id": "c7653862-fbbd-4efe-b2da-fe043a5181a4"
      },
      "outputs": [],
      "source": [
        "emotion_count"
      ]
    },
    {
      "cell_type": "code",
      "execution_count": null,
      "id": "9666996f-c8e4-4bff-8bb3-a2700425ad20",
      "metadata": {
        "id": "9666996f-c8e4-4bff-8bb3-a2700425ad20"
      },
      "outputs": [],
      "source": [
        "dict(emotion_count)"
      ]
    },
    {
      "cell_type": "code",
      "execution_count": null,
      "id": "bce01ffd-32dc-4eb2-b210-15941a8b09b4",
      "metadata": {
        "colab": {
          "base_uri": "https://localhost:8080/"
        },
        "id": "bce01ffd-32dc-4eb2-b210-15941a8b09b4",
        "outputId": "e7625134-dedd-42c7-fbbb-4409c199851d"
      },
      "outputs": [
        {
          "output_type": "stream",
          "name": "stderr",
          "text": [
            "Device set to use cpu\n"
          ]
        }
      ],
      "source": [
        "# CREATING FUNCTION FOR EMOTIONS DETECTION\n",
        "model_name= \"nateraw/bert-base-uncased-emotion\"\n",
        "emotion_classifier= pipeline(\"text-classification\", model=model_name, tokenizer=model_name, top_k=None)\n",
        "from collections import defaultdict\n",
        "\n",
        "def detect_emotions(text):\n",
        "    chunks= split_into_chunks_spacy(text)\n",
        "    emotion_totals={}\n",
        "    emotion_count= {}\n",
        "    emotion_count= defaultdict(int)\n",
        "\n",
        "    for chunk in chunks:\n",
        "        results= emotion_classifier(chunk)[0]\n",
        "        for result in results:\n",
        "            label= result[\"label\"]\n",
        "            score= result[\"score\"]\n",
        "            emotion_totals[label]= emotion_totals.get(label, 0)+score\n",
        "            emotion_count[label]+=1\n",
        "\n",
        "    emotion_counts= dict(emotion_count)\n",
        "\n",
        "    emotion_averages= {label:emotion_totals[label]/emotion_counts[label] for label in emotion_totals}\n",
        "    sorted_emotions= sorted(emotion_averages.items(), key= lambda x:x[1], reverse= True)\n",
        "    top_5= sorted_emotions[:5]\n",
        "    df= pd.DataFrame(top_5, columns=[\"Emotion\", \"Score\"])\n",
        "    return df\n",
        "\n"
      ]
    },
    {
      "cell_type": "code",
      "execution_count": null,
      "id": "29656b29-8d6a-4742-a84e-14df0c01fd39",
      "metadata": {
        "id": "29656b29-8d6a-4742-a84e-14df0c01fd39"
      },
      "outputs": [],
      "source": [
        "detect_emotions(\"I am happy , as I a playing the sports that I lovr the most\")"
      ]
    },
    {
      "cell_type": "code",
      "execution_count": null,
      "id": "04f3b671-6d86-40d9-a23d-2cc09f5a6629",
      "metadata": {
        "id": "04f3b671-6d86-40d9-a23d-2cc09f5a6629"
      },
      "outputs": [],
      "source": [
        "emotionss"
      ]
    },
    {
      "cell_type": "code",
      "execution_count": null,
      "id": "82a62af1-8b44-467b-bffc-9b13da1ff485",
      "metadata": {
        "id": "82a62af1-8b44-467b-bffc-9b13da1ff485"
      },
      "outputs": [],
      "source": [
        "emotion_count= dict(emotion_count)\n",
        "emotion_count"
      ]
    },
    {
      "cell_type": "code",
      "execution_count": null,
      "id": "a60cad40-a850-4c04-9329-62eed8ef41f0",
      "metadata": {
        "id": "a60cad40-a850-4c04-9329-62eed8ef41f0"
      },
      "outputs": [],
      "source": [
        "detect_emotions"
      ]
    },
    {
      "cell_type": "code",
      "execution_count": null,
      "id": "c229020f-0a85-44b9-ac2a-c327728932e8",
      "metadata": {
        "id": "c229020f-0a85-44b9-ac2a-c327728932e8"
      },
      "outputs": [],
      "source": [
        "abc= {}\n",
        "for label in emotionss:\n",
        "    print(label)\n",
        "    print(emotionss[label])\n",
        "    print(emotion_count[label])\n",
        "    print(emotionss[label]/emotion_count[label])\n",
        "    abc[label]=emotionss[label]/emotion_count[label]\n",
        "    print(\"***\")"
      ]
    },
    {
      "cell_type": "code",
      "execution_count": null,
      "id": "f11cb335-7c6d-47ec-9768-86d58fba0029",
      "metadata": {
        "id": "f11cb335-7c6d-47ec-9768-86d58fba0029"
      },
      "outputs": [],
      "source": [
        "abcd= sorted(abc.items(), key= lambda x:x[1], reverse=True)"
      ]
    },
    {
      "cell_type": "code",
      "execution_count": null,
      "id": "faf350f1-10cc-4f7e-af60-a555bcfc3490",
      "metadata": {
        "id": "faf350f1-10cc-4f7e-af60-a555bcfc3490"
      },
      "outputs": [],
      "source": [
        "pd.DataFrame(abcd[:5], columns=[\"Emotions\", \"Score\"])"
      ]
    },
    {
      "cell_type": "code",
      "execution_count": null,
      "id": "40fd5dfd-64d7-4da2-87cb-34f1266f1bb4",
      "metadata": {
        "id": "40fd5dfd-64d7-4da2-87cb-34f1266f1bb4"
      },
      "outputs": [],
      "source": [
        "result = detect_emotions(\"I am happy , as I a playing the sports that I lovr the most\")"
      ]
    },
    {
      "cell_type": "code",
      "execution_count": null,
      "id": "8bf4b8d2-a680-4b1b-92b5-6f08cfcef34f",
      "metadata": {
        "id": "8bf4b8d2-a680-4b1b-92b5-6f08cfcef34f"
      },
      "outputs": [],
      "source": [
        "max_index= result[\"Score\"].idxmax()\n",
        "emotion= result.loc[max_index, \"Emotion\"]\n",
        "score=  result.loc[max_index, \"Score\"]\n",
        "print(f\"Predicted Emotion :- {emotion}, with {score*100}% confidence\")\n",
        "fig= px.bar(result , x=\"Emotion\", y=\"Score\", color=\"Emotion\")\n",
        "fig.show()"
      ]
    },
    {
      "cell_type": "code",
      "execution_count": null,
      "id": "71c91072-368f-4c9f-88c6-651dba313950",
      "metadata": {
        "id": "71c91072-368f-4c9f-88c6-651dba313950"
      },
      "outputs": [],
      "source": [
        "score"
      ]
    },
    {
      "cell_type": "markdown",
      "id": "c0a82f6c-b1ed-4855-8f5a-27b01b09e54c",
      "metadata": {
        "id": "c0a82f6c-b1ed-4855-8f5a-27b01b09e54c"
      },
      "source": [
        "# SENTIMENTAL ANALYSIS"
      ]
    },
    {
      "cell_type": "code",
      "execution_count": null,
      "id": "6626da14-88e4-4e35-9970-b7aeacf99519",
      "metadata": {
        "colab": {
          "base_uri": "https://localhost:8080/",
          "height": 296,
          "referenced_widgets": [
            "dd33e47f39bf46859e9dce26049f262f",
            "94ad289863e8443d87507604c9b36cf9",
            "20fa8b988ddc4b9dac55f3dd34ffab1e",
            "bc92ae11085f488fa6571e1580e1e359",
            "448a2c2117cf42ea86df6afe261e142d",
            "efc2e00ca00c415ebc26f30e59d54c25",
            "13cdc193b98546f0a1fd32b62feb54bd",
            "1fc239f34b804d37ad5916c09766c2d6",
            "d3e14f01d88544059c3f20a7ad4770cb",
            "7b11d4252d79493097621401b284a9b5",
            "a482312b20b34b3bb6d9da25091f5d98",
            "c39f821a39c144ada9c4b037eaf19fc9",
            "08b1fc7018ff4a63bb2cd0321d16328d",
            "8a87cf7fbd1e45fc8cd683af5412b2ec",
            "eae0eaae864b4a1589a69293597051fe",
            "301444b4c33b4c0bbadc5524e9d6b540",
            "e0756cddf5414f429a9fcf0516104e63",
            "73e4cad3615e48719ca712b6d1976816",
            "0d1eb6f9f7bc444492518f678815486b",
            "fb1377a933804ab5b4775b184db0f916",
            "09852046fc9a4f70a483d6cca1c45055",
            "6e1a03949b0349e1b18394befeeea34b",
            "423a2284b90646ddb0c4c10fe303d8f6",
            "71da2df75755424ea3c1f4b0aedc65c4",
            "42ccf9df48144fb7a5bc93d48e53b37c",
            "be1fce2d0e9d40b388b552fa516804e9",
            "96fbdf6f821f42e2a151fa8d0b8eefa5",
            "1bdc9a31607b4cda9a59f533466f27a4",
            "25b597ec267042b58416ed12036f9948",
            "00231858031f426db133a18a1e715990",
            "942f9d2e9c6b4914a5f16ed58d765fe9",
            "91d7702412fc4d94b871323843057997",
            "b9e192c6bf3346d1998f4b2558b34ed5",
            "129a051b2a6b4b00a09bd0f1b7d3aa2b",
            "eaa93e16b6af49579b2e4f9512a3f1b2",
            "02583a516d534fe7b82ac7a6cf5712d7",
            "eb3135222a6c44af8484893afeb5f6ad",
            "aaee346ab6344c0681da99b065305a4e",
            "225e90fefe804f678de4b9cb18cd6495",
            "a984e010a8164a89bfd321e110a5dd5f",
            "b3bbc1aebb7b41739c5ecbc3acc9eb01",
            "20e66ff979a144278972ce256c4cdb01",
            "164a3f9aaff240159313aab520cf6a2d",
            "395af5be9d944bed822810c5afd5196d",
            "4a1082acc5b54a2a8753e698a285474c",
            "16495c5bf3ac48e293c98be4d28171fd",
            "eda1adde977142bc8d89c5767c7ea959",
            "cd09bf57a0b540688de00d2ad0be1e4a",
            "4e5a5979d7b9492788c4601c9e1a95a4",
            "93af1b5594cb4e0ea87864c1a5ca0aa8",
            "acc942673a2f429497e2ec805950058a",
            "15cc18715f3d48138c0284c3d4b71d83",
            "b2dfd816635b4f0896ddb62f4da90ea9",
            "6bd036731281468084a18aaa9d64a14f",
            "bb31d2cdeba542ec814cc154c732239a",
            "e080468d18354803b0b6d0cb0877df49",
            "ffc2cd245acb45229b3b8897f6dfbe17",
            "0fa60f7e758c41c8978f8807a11fbff8",
            "dc2e10c8ab8748fb8470ad0be2046145",
            "e2bf873e6a064e5da31862f82495026f",
            "e1bdcd247a13416090a5fcc542ece9bf",
            "ac5397280bb24227acf3b13656b42061",
            "bae95e7d48f34bb0b442acb6bdd48aab",
            "d42690b54ab944bdafdc620be513d59c",
            "407c4db28b8944fe9c6e7e36f4cec14c",
            "8dde336508b3448abfbf29fcf32c0b47"
          ]
        },
        "id": "6626da14-88e4-4e35-9970-b7aeacf99519",
        "outputId": "9df21c80-7a7a-42d8-ab0e-211184ed587f"
      },
      "outputs": [
        {
          "output_type": "display_data",
          "data": {
            "text/plain": [
              "config.json:   0%|          | 0.00/747 [00:00<?, ?B/s]"
            ],
            "application/vnd.jupyter.widget-view+json": {
              "version_major": 2,
              "version_minor": 0,
              "model_id": "dd33e47f39bf46859e9dce26049f262f"
            }
          },
          "metadata": {}
        },
        {
          "output_type": "display_data",
          "data": {
            "text/plain": [
              "pytorch_model.bin:   0%|          | 0.00/499M [00:00<?, ?B/s]"
            ],
            "application/vnd.jupyter.widget-view+json": {
              "version_major": 2,
              "version_minor": 0,
              "model_id": "c39f821a39c144ada9c4b037eaf19fc9"
            }
          },
          "metadata": {}
        },
        {
          "output_type": "display_data",
          "data": {
            "text/plain": [
              "model.safetensors:   0%|          | 0.00/499M [00:00<?, ?B/s]"
            ],
            "application/vnd.jupyter.widget-view+json": {
              "version_major": 2,
              "version_minor": 0,
              "model_id": "423a2284b90646ddb0c4c10fe303d8f6"
            }
          },
          "metadata": {}
        },
        {
          "output_type": "display_data",
          "data": {
            "text/plain": [
              "vocab.json:   0%|          | 0.00/899k [00:00<?, ?B/s]"
            ],
            "application/vnd.jupyter.widget-view+json": {
              "version_major": 2,
              "version_minor": 0,
              "model_id": "129a051b2a6b4b00a09bd0f1b7d3aa2b"
            }
          },
          "metadata": {}
        },
        {
          "output_type": "display_data",
          "data": {
            "text/plain": [
              "merges.txt:   0%|          | 0.00/456k [00:00<?, ?B/s]"
            ],
            "application/vnd.jupyter.widget-view+json": {
              "version_major": 2,
              "version_minor": 0,
              "model_id": "4a1082acc5b54a2a8753e698a285474c"
            }
          },
          "metadata": {}
        },
        {
          "output_type": "display_data",
          "data": {
            "text/plain": [
              "special_tokens_map.json:   0%|          | 0.00/150 [00:00<?, ?B/s]"
            ],
            "application/vnd.jupyter.widget-view+json": {
              "version_major": 2,
              "version_minor": 0,
              "model_id": "e080468d18354803b0b6d0cb0877df49"
            }
          },
          "metadata": {}
        },
        {
          "output_type": "stream",
          "name": "stderr",
          "text": [
            "Device set to use cpu\n",
            "/usr/local/lib/python3.11/dist-packages/transformers/pipelines/text_classification.py:106: UserWarning:\n",
            "\n",
            "`return_all_scores` is now deprecated,  if want a similar functionality use `top_k=None` instead of `return_all_scores=True` or `top_k=1` instead of `return_all_scores=False`.\n",
            "\n"
          ]
        }
      ],
      "source": [
        "model_name= \"cardiffnlp/twitter-roberta-base-sentiment\"\n",
        "sentiment_classifier= pipeline(\"sentiment-analysis\", model= model_name,  tokenizer= model_name , return_all_scores=True)"
      ]
    },
    {
      "cell_type": "code",
      "execution_count": null,
      "id": "45acc485-00d8-4116-84b6-e4d950d1c2ad",
      "metadata": {
        "id": "45acc485-00d8-4116-84b6-e4d950d1c2ad"
      },
      "outputs": [],
      "source": [
        "sentiment_classifier(\"I love RCB\")"
      ]
    },
    {
      "cell_type": "code",
      "execution_count": null,
      "id": "d58db797-7d02-43ec-aba0-00396f21e176",
      "metadata": {
        "id": "d58db797-7d02-43ec-aba0-00396f21e176"
      },
      "outputs": [],
      "source": [
        "# CREAING FUNCTION FOR SNETIMENT ANALYSIS\n",
        "def detect_overall_sentiment_avg(text):\n",
        "    try:\n",
        "        sentiment_labels= {\n",
        "            \"LABEL_0\":\"Negative\",\n",
        "            \"LABEL_1\":\"Neutral\",\n",
        "            \"LABEL_2\":\"Positive\"\n",
        "        }\n",
        "        chunks= split_into_chunks_spacy(text)\n",
        "        score_total = {\"Negative\":0.0, \"Neutral\":0.0,\"Positive\":0.0}\n",
        "        chunk_count= len(chunks)\n",
        "\n",
        "        for chunk in chunks:\n",
        "            results= sentiment_classifier(chunk)[0]\n",
        "            for res in results:\n",
        "                label= sentiment_labels[res[\"label\"]]\n",
        "                score_total[label]+=res[\"score\"]\n",
        "\n",
        "        avg_score= {}\n",
        "        for label in score_total:\n",
        "           avg_score[label]=score_total[label]/chunk_count\n",
        "        overall_sentiment= max(avg_score, key= avg_score.get)\n",
        "        return{\n",
        "           \"overall_sentiment\":overall_sentiment,\n",
        "           \"average_scores\":avg_score\n",
        "           }\n",
        "\n",
        "    except Exception as e:\n",
        "        return {f\"error {e}\"}\n",
        "\n",
        "\n",
        "\n"
      ]
    },
    {
      "cell_type": "code",
      "execution_count": null,
      "id": "3f840717-42c3-4b48-baf3-2276f58fc134",
      "metadata": {
        "colab": {
          "base_uri": "https://localhost:8080/",
          "height": 629
        },
        "id": "3f840717-42c3-4b48-baf3-2276f58fc134",
        "outputId": "014365cf-86be-4c6a-c328-8e97363c95f0"
      },
      "outputs": [
        {
          "output_type": "stream",
          "name": "stdout",
          "text": [
            "Overall Sentiment :- Positive, with score 0.9918146729469299\n",
            "Average Scores:   Sentiment     Score\n",
            "0  Negative  0.001962\n",
            "1   Neutral  0.006223\n",
            "2  Positive  0.991815\n"
          ]
        },
        {
          "output_type": "display_data",
          "data": {
            "text/html": [
              "<html>\n",
              "<head><meta charset=\"utf-8\" /></head>\n",
              "<body>\n",
              "    <div>            <script src=\"https://cdnjs.cloudflare.com/ajax/libs/mathjax/2.7.5/MathJax.js?config=TeX-AMS-MML_SVG\"></script><script type=\"text/javascript\">if (window.MathJax && window.MathJax.Hub && window.MathJax.Hub.Config) {window.MathJax.Hub.Config({SVG: {font: \"STIX-Web\"}});}</script>                <script type=\"text/javascript\">window.PlotlyConfig = {MathJaxConfig: 'local'};</script>\n",
              "        <script charset=\"utf-8\" src=\"https://cdn.plot.ly/plotly-2.35.2.min.js\"></script>                <div id=\"2df35ec3-1a59-4ffe-ad2d-905275153e8f\" class=\"plotly-graph-div\" style=\"height:525px; width:100%;\"></div>            <script type=\"text/javascript\">                                    window.PLOTLYENV=window.PLOTLYENV || {};                                    if (document.getElementById(\"2df35ec3-1a59-4ffe-ad2d-905275153e8f\")) {                    Plotly.newPlot(                        \"2df35ec3-1a59-4ffe-ad2d-905275153e8f\",                        [{\"alignmentgroup\":\"True\",\"hovertemplate\":\"Sentiment=%{x}\\u003cbr\\u003eScore=%{y}\\u003cextra\\u003e\\u003c\\u002fextra\\u003e\",\"legendgroup\":\"Negative\",\"marker\":{\"color\":\"#636efa\",\"pattern\":{\"shape\":\"\"}},\"name\":\"Negative\",\"offsetgroup\":\"Negative\",\"orientation\":\"v\",\"showlegend\":true,\"textposition\":\"auto\",\"x\":[\"Negative\"],\"xaxis\":\"x\",\"y\":[0.0019620785024017096],\"yaxis\":\"y\",\"type\":\"bar\"},{\"alignmentgroup\":\"True\",\"hovertemplate\":\"Sentiment=%{x}\\u003cbr\\u003eScore=%{y}\\u003cextra\\u003e\\u003c\\u002fextra\\u003e\",\"legendgroup\":\"Neutral\",\"marker\":{\"color\":\"#EF553B\",\"pattern\":{\"shape\":\"\"}},\"name\":\"Neutral\",\"offsetgroup\":\"Neutral\",\"orientation\":\"v\",\"showlegend\":true,\"textposition\":\"auto\",\"x\":[\"Neutral\"],\"xaxis\":\"x\",\"y\":[0.006223275326192379],\"yaxis\":\"y\",\"type\":\"bar\"},{\"alignmentgroup\":\"True\",\"hovertemplate\":\"Sentiment=%{x}\\u003cbr\\u003eScore=%{y}\\u003cextra\\u003e\\u003c\\u002fextra\\u003e\",\"legendgroup\":\"Positive\",\"marker\":{\"color\":\"#00cc96\",\"pattern\":{\"shape\":\"\"}},\"name\":\"Positive\",\"offsetgroup\":\"Positive\",\"orientation\":\"v\",\"showlegend\":true,\"textposition\":\"auto\",\"x\":[\"Positive\"],\"xaxis\":\"x\",\"y\":[0.9918146729469299],\"yaxis\":\"y\",\"type\":\"bar\"}],                        {\"template\":{\"data\":{\"histogram2dcontour\":[{\"type\":\"histogram2dcontour\",\"colorbar\":{\"outlinewidth\":0,\"ticks\":\"\"},\"colorscale\":[[0.0,\"#0d0887\"],[0.1111111111111111,\"#46039f\"],[0.2222222222222222,\"#7201a8\"],[0.3333333333333333,\"#9c179e\"],[0.4444444444444444,\"#bd3786\"],[0.5555555555555556,\"#d8576b\"],[0.6666666666666666,\"#ed7953\"],[0.7777777777777778,\"#fb9f3a\"],[0.8888888888888888,\"#fdca26\"],[1.0,\"#f0f921\"]]}],\"choropleth\":[{\"type\":\"choropleth\",\"colorbar\":{\"outlinewidth\":0,\"ticks\":\"\"}}],\"histogram2d\":[{\"type\":\"histogram2d\",\"colorbar\":{\"outlinewidth\":0,\"ticks\":\"\"},\"colorscale\":[[0.0,\"#0d0887\"],[0.1111111111111111,\"#46039f\"],[0.2222222222222222,\"#7201a8\"],[0.3333333333333333,\"#9c179e\"],[0.4444444444444444,\"#bd3786\"],[0.5555555555555556,\"#d8576b\"],[0.6666666666666666,\"#ed7953\"],[0.7777777777777778,\"#fb9f3a\"],[0.8888888888888888,\"#fdca26\"],[1.0,\"#f0f921\"]]}],\"heatmap\":[{\"type\":\"heatmap\",\"colorbar\":{\"outlinewidth\":0,\"ticks\":\"\"},\"colorscale\":[[0.0,\"#0d0887\"],[0.1111111111111111,\"#46039f\"],[0.2222222222222222,\"#7201a8\"],[0.3333333333333333,\"#9c179e\"],[0.4444444444444444,\"#bd3786\"],[0.5555555555555556,\"#d8576b\"],[0.6666666666666666,\"#ed7953\"],[0.7777777777777778,\"#fb9f3a\"],[0.8888888888888888,\"#fdca26\"],[1.0,\"#f0f921\"]]}],\"heatmapgl\":[{\"type\":\"heatmapgl\",\"colorbar\":{\"outlinewidth\":0,\"ticks\":\"\"},\"colorscale\":[[0.0,\"#0d0887\"],[0.1111111111111111,\"#46039f\"],[0.2222222222222222,\"#7201a8\"],[0.3333333333333333,\"#9c179e\"],[0.4444444444444444,\"#bd3786\"],[0.5555555555555556,\"#d8576b\"],[0.6666666666666666,\"#ed7953\"],[0.7777777777777778,\"#fb9f3a\"],[0.8888888888888888,\"#fdca26\"],[1.0,\"#f0f921\"]]}],\"contourcarpet\":[{\"type\":\"contourcarpet\",\"colorbar\":{\"outlinewidth\":0,\"ticks\":\"\"}}],\"contour\":[{\"type\":\"contour\",\"colorbar\":{\"outlinewidth\":0,\"ticks\":\"\"},\"colorscale\":[[0.0,\"#0d0887\"],[0.1111111111111111,\"#46039f\"],[0.2222222222222222,\"#7201a8\"],[0.3333333333333333,\"#9c179e\"],[0.4444444444444444,\"#bd3786\"],[0.5555555555555556,\"#d8576b\"],[0.6666666666666666,\"#ed7953\"],[0.7777777777777778,\"#fb9f3a\"],[0.8888888888888888,\"#fdca26\"],[1.0,\"#f0f921\"]]}],\"surface\":[{\"type\":\"surface\",\"colorbar\":{\"outlinewidth\":0,\"ticks\":\"\"},\"colorscale\":[[0.0,\"#0d0887\"],[0.1111111111111111,\"#46039f\"],[0.2222222222222222,\"#7201a8\"],[0.3333333333333333,\"#9c179e\"],[0.4444444444444444,\"#bd3786\"],[0.5555555555555556,\"#d8576b\"],[0.6666666666666666,\"#ed7953\"],[0.7777777777777778,\"#fb9f3a\"],[0.8888888888888888,\"#fdca26\"],[1.0,\"#f0f921\"]]}],\"mesh3d\":[{\"type\":\"mesh3d\",\"colorbar\":{\"outlinewidth\":0,\"ticks\":\"\"}}],\"scatter\":[{\"fillpattern\":{\"fillmode\":\"overlay\",\"size\":10,\"solidity\":0.2},\"type\":\"scatter\"}],\"parcoords\":[{\"type\":\"parcoords\",\"line\":{\"colorbar\":{\"outlinewidth\":0,\"ticks\":\"\"}}}],\"scatterpolargl\":[{\"type\":\"scatterpolargl\",\"marker\":{\"colorbar\":{\"outlinewidth\":0,\"ticks\":\"\"}}}],\"bar\":[{\"error_x\":{\"color\":\"#2a3f5f\"},\"error_y\":{\"color\":\"#2a3f5f\"},\"marker\":{\"line\":{\"color\":\"#E5ECF6\",\"width\":0.5},\"pattern\":{\"fillmode\":\"overlay\",\"size\":10,\"solidity\":0.2}},\"type\":\"bar\"}],\"scattergeo\":[{\"type\":\"scattergeo\",\"marker\":{\"colorbar\":{\"outlinewidth\":0,\"ticks\":\"\"}}}],\"scatterpolar\":[{\"type\":\"scatterpolar\",\"marker\":{\"colorbar\":{\"outlinewidth\":0,\"ticks\":\"\"}}}],\"histogram\":[{\"marker\":{\"pattern\":{\"fillmode\":\"overlay\",\"size\":10,\"solidity\":0.2}},\"type\":\"histogram\"}],\"scattergl\":[{\"type\":\"scattergl\",\"marker\":{\"colorbar\":{\"outlinewidth\":0,\"ticks\":\"\"}}}],\"scatter3d\":[{\"type\":\"scatter3d\",\"line\":{\"colorbar\":{\"outlinewidth\":0,\"ticks\":\"\"}},\"marker\":{\"colorbar\":{\"outlinewidth\":0,\"ticks\":\"\"}}}],\"scattermapbox\":[{\"type\":\"scattermapbox\",\"marker\":{\"colorbar\":{\"outlinewidth\":0,\"ticks\":\"\"}}}],\"scatterternary\":[{\"type\":\"scatterternary\",\"marker\":{\"colorbar\":{\"outlinewidth\":0,\"ticks\":\"\"}}}],\"scattercarpet\":[{\"type\":\"scattercarpet\",\"marker\":{\"colorbar\":{\"outlinewidth\":0,\"ticks\":\"\"}}}],\"carpet\":[{\"aaxis\":{\"endlinecolor\":\"#2a3f5f\",\"gridcolor\":\"white\",\"linecolor\":\"white\",\"minorgridcolor\":\"white\",\"startlinecolor\":\"#2a3f5f\"},\"baxis\":{\"endlinecolor\":\"#2a3f5f\",\"gridcolor\":\"white\",\"linecolor\":\"white\",\"minorgridcolor\":\"white\",\"startlinecolor\":\"#2a3f5f\"},\"type\":\"carpet\"}],\"table\":[{\"cells\":{\"fill\":{\"color\":\"#EBF0F8\"},\"line\":{\"color\":\"white\"}},\"header\":{\"fill\":{\"color\":\"#C8D4E3\"},\"line\":{\"color\":\"white\"}},\"type\":\"table\"}],\"barpolar\":[{\"marker\":{\"line\":{\"color\":\"#E5ECF6\",\"width\":0.5},\"pattern\":{\"fillmode\":\"overlay\",\"size\":10,\"solidity\":0.2}},\"type\":\"barpolar\"}],\"pie\":[{\"automargin\":true,\"type\":\"pie\"}]},\"layout\":{\"autotypenumbers\":\"strict\",\"colorway\":[\"#636efa\",\"#EF553B\",\"#00cc96\",\"#ab63fa\",\"#FFA15A\",\"#19d3f3\",\"#FF6692\",\"#B6E880\",\"#FF97FF\",\"#FECB52\"],\"font\":{\"color\":\"#2a3f5f\"},\"hovermode\":\"closest\",\"hoverlabel\":{\"align\":\"left\"},\"paper_bgcolor\":\"white\",\"plot_bgcolor\":\"#E5ECF6\",\"polar\":{\"bgcolor\":\"#E5ECF6\",\"angularaxis\":{\"gridcolor\":\"white\",\"linecolor\":\"white\",\"ticks\":\"\"},\"radialaxis\":{\"gridcolor\":\"white\",\"linecolor\":\"white\",\"ticks\":\"\"}},\"ternary\":{\"bgcolor\":\"#E5ECF6\",\"aaxis\":{\"gridcolor\":\"white\",\"linecolor\":\"white\",\"ticks\":\"\"},\"baxis\":{\"gridcolor\":\"white\",\"linecolor\":\"white\",\"ticks\":\"\"},\"caxis\":{\"gridcolor\":\"white\",\"linecolor\":\"white\",\"ticks\":\"\"}},\"coloraxis\":{\"colorbar\":{\"outlinewidth\":0,\"ticks\":\"\"}},\"colorscale\":{\"sequential\":[[0.0,\"#0d0887\"],[0.1111111111111111,\"#46039f\"],[0.2222222222222222,\"#7201a8\"],[0.3333333333333333,\"#9c179e\"],[0.4444444444444444,\"#bd3786\"],[0.5555555555555556,\"#d8576b\"],[0.6666666666666666,\"#ed7953\"],[0.7777777777777778,\"#fb9f3a\"],[0.8888888888888888,\"#fdca26\"],[1.0,\"#f0f921\"]],\"sequentialminus\":[[0.0,\"#0d0887\"],[0.1111111111111111,\"#46039f\"],[0.2222222222222222,\"#7201a8\"],[0.3333333333333333,\"#9c179e\"],[0.4444444444444444,\"#bd3786\"],[0.5555555555555556,\"#d8576b\"],[0.6666666666666666,\"#ed7953\"],[0.7777777777777778,\"#fb9f3a\"],[0.8888888888888888,\"#fdca26\"],[1.0,\"#f0f921\"]],\"diverging\":[[0,\"#8e0152\"],[0.1,\"#c51b7d\"],[0.2,\"#de77ae\"],[0.3,\"#f1b6da\"],[0.4,\"#fde0ef\"],[0.5,\"#f7f7f7\"],[0.6,\"#e6f5d0\"],[0.7,\"#b8e186\"],[0.8,\"#7fbc41\"],[0.9,\"#4d9221\"],[1,\"#276419\"]]},\"xaxis\":{\"gridcolor\":\"white\",\"linecolor\":\"white\",\"ticks\":\"\",\"title\":{\"standoff\":15},\"zerolinecolor\":\"white\",\"automargin\":true,\"zerolinewidth\":2},\"yaxis\":{\"gridcolor\":\"white\",\"linecolor\":\"white\",\"ticks\":\"\",\"title\":{\"standoff\":15},\"zerolinecolor\":\"white\",\"automargin\":true,\"zerolinewidth\":2},\"scene\":{\"xaxis\":{\"backgroundcolor\":\"#E5ECF6\",\"gridcolor\":\"white\",\"linecolor\":\"white\",\"showbackground\":true,\"ticks\":\"\",\"zerolinecolor\":\"white\",\"gridwidth\":2},\"yaxis\":{\"backgroundcolor\":\"#E5ECF6\",\"gridcolor\":\"white\",\"linecolor\":\"white\",\"showbackground\":true,\"ticks\":\"\",\"zerolinecolor\":\"white\",\"gridwidth\":2},\"zaxis\":{\"backgroundcolor\":\"#E5ECF6\",\"gridcolor\":\"white\",\"linecolor\":\"white\",\"showbackground\":true,\"ticks\":\"\",\"zerolinecolor\":\"white\",\"gridwidth\":2}},\"shapedefaults\":{\"line\":{\"color\":\"#2a3f5f\"}},\"annotationdefaults\":{\"arrowcolor\":\"#2a3f5f\",\"arrowhead\":0,\"arrowwidth\":1},\"geo\":{\"bgcolor\":\"white\",\"landcolor\":\"#E5ECF6\",\"subunitcolor\":\"white\",\"showland\":true,\"showlakes\":true,\"lakecolor\":\"white\"},\"title\":{\"x\":0.05},\"mapbox\":{\"style\":\"light\"}}},\"xaxis\":{\"anchor\":\"y\",\"domain\":[0.0,1.0],\"title\":{\"text\":\"Sentiment\"},\"categoryorder\":\"array\",\"categoryarray\":[\"Negative\",\"Neutral\",\"Positive\"]},\"yaxis\":{\"anchor\":\"x\",\"domain\":[0.0,1.0],\"title\":{\"text\":\"Score\"}},\"legend\":{\"title\":{\"text\":\"Sentiment\"},\"tracegroupgap\":0},\"margin\":{\"t\":60},\"barmode\":\"relative\"},                        {\"responsive\": true}                    ).then(function(){\n",
              "                            \n",
              "var gd = document.getElementById('2df35ec3-1a59-4ffe-ad2d-905275153e8f');\n",
              "var x = new MutationObserver(function (mutations, observer) {{\n",
              "        var display = window.getComputedStyle(gd).display;\n",
              "        if (!display || display === 'none') {{\n",
              "            console.log([gd, 'removed!']);\n",
              "            Plotly.purge(gd);\n",
              "            observer.disconnect();\n",
              "        }}\n",
              "}});\n",
              "\n",
              "// Listen for the removal of the full notebook cells\n",
              "var notebookContainer = gd.closest('#notebook-container');\n",
              "if (notebookContainer) {{\n",
              "    x.observe(notebookContainer, {childList: true});\n",
              "}}\n",
              "\n",
              "// Listen for the clearing of the current output cell\n",
              "var outputEl = gd.closest('.output');\n",
              "if (outputEl) {{\n",
              "    x.observe(outputEl, {childList: true});\n",
              "}}\n",
              "\n",
              "                        })                };                            </script>        </div>\n",
              "</body>\n",
              "</html>"
            ]
          },
          "metadata": {}
        }
      ],
      "source": [
        "result= detect_overall_sentiment_avg(\"I am so excited to start my new job\")\n",
        "if \"error\" in result:\n",
        "    print(f\"Error: {result['error']}\")\n",
        "else:\n",
        "    print(f\"Overall Sentiment :- {result['overall_sentiment']}, with score {max(result['average_scores'].values())}\")\n",
        "    print(\"Average Scores:\", pd.DataFrame(result['average_scores'].items(), columns=['Sentiment','Score']))\n",
        "    df= pd.DataFrame(result[\"average_scores\"].items(), columns=[\"Sentiment\",\"Score\"])\n",
        "    fig= px.bar(df, x=\"Sentiment\", y=\"Score\", color=\"Sentiment\")\n",
        "    fig.show()"
      ]
    },
    {
      "cell_type": "markdown",
      "source": [
        "### TONE OF SPEECH DETECTION"
      ],
      "metadata": {
        "id": "f7x49n-YZHde"
      },
      "id": "f7x49n-YZHde"
    },
    {
      "cell_type": "code",
      "execution_count": null,
      "id": "dae84d1c-b2c7-4efe-a6dd-05eb8e4de5bd",
      "metadata": {
        "colab": {
          "base_uri": "https://localhost:8080/"
        },
        "id": "dae84d1c-b2c7-4efe-a6dd-05eb8e4de5bd",
        "outputId": "66504515-c848-44e8-cee1-9f269715428b"
      },
      "outputs": [
        {
          "output_type": "stream",
          "name": "stderr",
          "text": [
            "Device set to use cpu\n"
          ]
        }
      ],
      "source": [
        "# LOAD MY MODEL\n",
        "classifier= pipeline(\"zero-shot-classification\",model=\"facebook/bart-large-mnli\")\n",
        "\n",
        "\n",
        "labels = [\n",
        "    \"factual\",\n",
        "    \"opinion\",\n",
        "    \"question\",\n",
        "    \"command\",\n",
        "    \"emotion\",\n",
        "    \"personal experience\",\n",
        "    \"suggestion\",\n",
        "    \"story\",\n",
        "    \"prediction\",\n",
        "    \"warning\",\n",
        "    \"instruction\",\n",
        "    \"definition\",\n",
        "    \"narrative\",\n",
        "    \"news\",\n",
        "    \"argument\"\n",
        "]\n",
        "\n",
        "\n",
        "def classify_custom(text):\n",
        "  result = classifier(text, candidate_labels=labels)\n",
        "  return{\n",
        "      \"text\":text,\n",
        "      \"Predicted_Category\":result[\"labels\"][0],\n",
        "      \"score\":result[\"scores\"][0],\n",
        "      \"all_categories\":list(zip(result[\"labels\"], result[\"scores\"]))\n",
        "\n",
        "  }"
      ]
    },
    {
      "cell_type": "code",
      "source": [],
      "metadata": {
        "id": "DpVDUHL5jyle"
      },
      "id": "DpVDUHL5jyle",
      "execution_count": null,
      "outputs": []
    },
    {
      "cell_type": "code",
      "source": [
        "example_texts = [\n",
        "\"India got independence in 1947.\",\n",
        "\"I think the new update is terrible.\",\n",
        "\"What time does the train arrive?\",\n",
        "\"Please restart your computer.\",\n",
        "\"I'm so excited about the concert!\",\n",
        "\"Last year, I traveled to Japan alone.\",\n",
        "\"You should drink more water daily.\",\n",
        "\"The Earth revolves around the Sun.\",\n",
        "\"Be careful while crossing the road.\",\n",
        "\"They argued about politics for hours.\",\n",
        "\"Once upon a time, a lion lived in a forest.\",\n",
        "\"Photosynthesis is the process by which plants make food.\"\n",
        "]\n"
      ],
      "metadata": {
        "id": "hrbTUrDjan0G"
      },
      "id": "hrbTUrDjan0G",
      "execution_count": null,
      "outputs": []
    },
    {
      "cell_type": "code",
      "source": [
        "for text in example_texts:\n",
        "  output= classify_custom(text)\n",
        "  print(f\"Text; {output['text']}\")\n",
        "  print(f\"Predicted  : {output['Predicted_Category']}, score : {output['score']}\")\n",
        "  print(\"Top 3 Categories.\")\n",
        "  for label , score in output[\"all_categories\"][1:4]:\n",
        "    print(f\"Label :- {label}, Score:- {score}\")\n",
        "  print( )"
      ],
      "metadata": {
        "colab": {
          "base_uri": "https://localhost:8080/"
        },
        "id": "BZJx-3kcg7R4",
        "outputId": "be83c0aa-1eea-43fc-ca26-1750d72a7ea6"
      },
      "id": "BZJx-3kcg7R4",
      "execution_count": null,
      "outputs": [
        {
          "output_type": "stream",
          "name": "stdout",
          "text": [
            "Text; India got independence in 1947.\n",
            "Predicted  : news, score : 0.12362156063318253\n",
            "Top 3 Categories.\n",
            "Label :- question, Score:- 0.12255702912807465\n",
            "Label :- factual, Score:- 0.11816497892141342\n",
            "Label :- argument, Score:- 0.0854959487915039\n",
            "\n",
            "Text; I think the new update is terrible.\n",
            "Predicted  : opinion, score : 0.5713661909103394\n",
            "Top 3 Categories.\n",
            "Label :- news, Score:- 0.19079820811748505\n",
            "Label :- warning, Score:- 0.052877359092235565\n",
            "Label :- question, Score:- 0.041321542114019394\n",
            "\n",
            "Text; What time does the train arrive?\n",
            "Predicted  : question, score : 0.4811919033527374\n",
            "Top 3 Categories.\n",
            "Label :- prediction, Score:- 0.13178861141204834\n",
            "Label :- suggestion, Score:- 0.11841640621423721\n",
            "Label :- instruction, Score:- 0.07243102788925171\n",
            "\n",
            "Text; Please restart your computer.\n",
            "Predicted  : instruction, score : 0.2623298764228821\n",
            "Top 3 Categories.\n",
            "Label :- warning, Score:- 0.2569589912891388\n",
            "Label :- suggestion, Score:- 0.20582665503025055\n",
            "Label :- command, Score:- 0.11124356091022491\n",
            "\n",
            "Text; I'm so excited about the concert!\n",
            "Predicted  : emotion, score : 0.5371499061584473\n",
            "Top 3 Categories.\n",
            "Label :- news, Score:- 0.10945979505777359\n",
            "Label :- opinion, Score:- 0.06264781206846237\n",
            "Label :- question, Score:- 0.04097164794802666\n",
            "\n",
            "Text; Last year, I traveled to Japan alone.\n",
            "Predicted  : personal experience, score : 0.5674536228179932\n",
            "Top 3 Categories.\n",
            "Label :- question, Score:- 0.06686950474977493\n",
            "Label :- suggestion, Score:- 0.046591825783252716\n",
            "Label :- factual, Score:- 0.04639673978090286\n",
            "\n",
            "Text; You should drink more water daily.\n",
            "Predicted  : suggestion, score : 0.33540526032447815\n",
            "Top 3 Categories.\n",
            "Label :- instruction, Score:- 0.1504247933626175\n",
            "Label :- command, Score:- 0.12078306823968887\n",
            "Label :- factual, Score:- 0.07930021733045578\n",
            "\n",
            "Text; The Earth revolves around the Sun.\n",
            "Predicted  : factual, score : 0.6235148310661316\n",
            "Top 3 Categories.\n",
            "Label :- definition, Score:- 0.07045373320579529\n",
            "Label :- question, Score:- 0.05960961431264877\n",
            "Label :- warning, Score:- 0.04448428004980087\n",
            "\n",
            "Text; Be careful while crossing the road.\n",
            "Predicted  : warning, score : 0.4585020840167999\n",
            "Top 3 Categories.\n",
            "Label :- instruction, Score:- 0.3039115071296692\n",
            "Label :- suggestion, Score:- 0.10670919716358185\n",
            "Label :- question, Score:- 0.03424891456961632\n",
            "\n",
            "Text; They argued about politics for hours.\n",
            "Predicted  : argument, score : 0.5233263969421387\n",
            "Top 3 Categories.\n",
            "Label :- question, Score:- 0.1594015210866928\n",
            "Label :- opinion, Score:- 0.06827130168676376\n",
            "Label :- story, Score:- 0.04871111735701561\n",
            "\n",
            "Text; Once upon a time, a lion lived in a forest.\n",
            "Predicted  : story, score : 0.3882293105125427\n",
            "Top 3 Categories.\n",
            "Label :- narrative, Score:- 0.18660834431648254\n",
            "Label :- question, Score:- 0.05999579653143883\n",
            "Label :- factual, Score:- 0.059815458953380585\n",
            "\n",
            "Text; Photosynthesis is the process by which plants make food.\n",
            "Predicted  : definition, score : 0.1986497938632965\n",
            "Top 3 Categories.\n",
            "Label :- question, Score:- 0.17905081808567047\n",
            "Label :- factual, Score:- 0.1137780174612999\n",
            "Label :- command, Score:- 0.08157943189144135\n",
            "\n"
          ]
        }
      ]
    },
    {
      "cell_type": "code",
      "source": [
        "# Ronaldo was injured in first half. desite that he retured in the second half and scored an goal..\n",
        "\n",
        "# find summary of your text , then  classify the tone of speech.\n",
        "\n",
        "# sliding window\n",
        "# 500 tokens , 100 token overlap\n",
        "# intotal 2500 tokens\n",
        "# chunk1 - [0,500]\n",
        "# chunk2 - [100,600]\n",
        "# chunk3 - [200,700]\n",
        "\n",
        "# sentences. ---> spacy  (done)  list of setences\n",
        "# chunks ----> overlap chunks\n",
        "\n",
        "\n",
        "\n",
        "# list = [s1,s2,s3,s4,s5,s6,s7,s8,s9,s10]  len=10\n",
        "\n",
        "\n",
        "def chunk_text(sentences, chunk_size=5, overlap=2):\n",
        "  chunks=[]\n",
        "  start=0\n",
        "  while start < len(sentences):\n",
        "    end = start+chunk_size\n",
        "    chunk= sentences[start:end]\n",
        "    chunks.append(\" \".chunk)\n",
        "\n",
        "    if end>=len(sentences):\n",
        "      break\n",
        "\n",
        "    start+=chunk_size-overlap\n",
        "    return chunks\n",
        "\n",
        "\n",
        "def classify_customs(text):\n",
        "  nlp = spacy.load(\"en_core_web_sm\")\n",
        "  doc= nlp(text)\n",
        "  sentences=[sent.text.strip() for sents in doc.sents]\n",
        "  if len(sentences)<=5:\n",
        "    result= classifier(text, candidate_labels=labels)\n",
        "    return{\n",
        "      \"text\":text,\n",
        "      \"Predicted_Category\":result[\"labels\"][0],\n",
        "      \"score\":result[\"scores\"][0],\n",
        "      \"all_categories\":list(zip(result[\"labels\"], result[\"scores\"]))\n",
        "     }\n",
        "  else:\n",
        "    chunks = chunk_text(sentences, chunk_size=5, overlap=2)\n",
        "\n",
        "    # forming dictionary to calculate aggregrates\n",
        "    aggregated_scores = {label: 0.0 for label in labels }\n",
        "\n",
        "    for chunk in chunks:\n",
        "      result = classifier(chunk, candidate_label=labels)\n",
        "      for label , score in zip(result['labels'], result['score']):\n",
        "        aggregated_scores[label]+=score\n",
        "\n",
        "    # calculate aggregrates\n",
        "    num_chunks= len(chunks)\n",
        "    average_scores= {label:score/num_chunks for label , score in aggregated.scores.items()}\n",
        "\n",
        "    # Sort Top Category\n",
        "    sorted_category = sorted(average_scores.items(), key= lambda x:x[1], reverse=True)\n",
        "\n",
        "    return{\n",
        "      \"text\":text,\n",
        "      \"Predicted_Category\":sorted_category[0][0],\n",
        "      \"score\":sorted_category[0][1],\n",
        "      \"all_categories\": sorted_category\n",
        "    }"
      ],
      "metadata": {
        "id": "yHu6dcHyhcff"
      },
      "id": "yHu6dcHyhcff",
      "execution_count": null,
      "outputs": []
    },
    {
      "cell_type": "code",
      "source": [
        "dic= {\"a\":10,\"b\":20 ,\"c\":8, \"d\":23}"
      ],
      "metadata": {
        "id": "fKRboApEsv3s"
      },
      "id": "fKRboApEsv3s",
      "execution_count": null,
      "outputs": []
    },
    {
      "cell_type": "code",
      "source": [
        "sorted(dic.items(),key= lambda x:x[1], reverse=True)[0][1]"
      ],
      "metadata": {
        "colab": {
          "base_uri": "https://localhost:8080/"
        },
        "id": "R9GBbTKMs2FK",
        "outputId": "492b2859-6b79-4e74-ee98-8a75efbc7680"
      },
      "id": "R9GBbTKMs2FK",
      "execution_count": null,
      "outputs": [
        {
          "output_type": "execute_result",
          "data": {
            "text/plain": [
              "23"
            ]
          },
          "metadata": {},
          "execution_count": 79
        }
      ]
    },
    {
      "cell_type": "code",
      "source": [
        "text= \"\"\"\n",
        "Climate Change and Technology: An Informative Report\n",
        "\n",
        "Climate change represents one of the most pressing global challenges of the 21st century. Driven largely by the emission of greenhouse gases through industrial activities, deforestation, and fossil fuel consumption, the Earth’s temperature is rising at an unprecedented rate. This warming is leading to erratic weather patterns, rising sea levels, and a surge in climate-related natural disasters. In the face of such challenges, technology emerges as both a contributor to the problem and a powerful tool for the solution. This report explores how technology is being harnessed to combat climate change, reduce emissions, adapt to new environmental realities, and build a sustainable future.\n",
        "\n",
        "Historically, industrial revolutions and technological advancements have been linked to increased carbon emissions and environmental degradation. The combustion engine, coal-based power generation, and mass production all significantly contributed to the current levels of atmospheric CO2. Technological development, when pursued without consideration for ecological balance, has caused deforestation, pollution, and over-reliance on non-renewable resources. However, recognizing this history is essential to better redirect innovation toward green and sustainable alternatives.\n",
        "\n",
        "One of the most prominent ways technology is addressing climate change is through the development of renewable energy. Solar panels, wind turbines, and hydroelectric systems now provide cleaner alternatives to coal and oil. Technological advances have made these sources more efficient, cost-effective, and scalable. Smart grids powered by machine learning optimize electricity distribution, reduce waste, and integrate renewable energy into national grids more seamlessly. Battery storage technology has also seen rapid innovation, allowing excess energy to be stored and used when renewable sources are not generating power.\n",
        "\n",
        "Agriculture is a significant contributor to greenhouse gas emissions, particularly methane and nitrous oxide. Technology is helping transform this sector through smart agriculture, which uses sensors, satellite data, and AI to monitor crop health, optimize irrigation, and reduce fertilizer use. Vertical farming and lab-grown meat are examples of how technology is creating sustainable food systems that require less land and emit fewer greenhouse gases. These innovations aim to increase food production efficiency while minimizing environmental impact.\n",
        "\n",
        "Another technological response to climate change involves carbon capture and storage (CCS). These systems extract CO2 from the air or directly from industrial emissions and store it underground or repurpose it for industrial use. While CCS is still in its early stages, it holds promise as a means to directly remove carbon from the atmosphere. Geoengineering, including solar radiation management and ocean fertilization, is more controversial but continues to be researched as a potential last resort. Ethical considerations and long-term risks must be thoroughly evaluated before large-scale deployment.\n",
        "\n",
        "The transportation sector is undergoing a technological revolution in response to climate concerns. Electric vehicles (EVs), powered by renewable electricity, are replacing traditional gasoline and diesel vehicles. Advancements in battery technology have significantly extended the range and reduced the cost of EVs. Additionally, public transportation systems are integrating clean energy buses and trains. Innovations in mobility-as-a-service (MaaS), carpooling platforms, and smart traffic systems also contribute to reduced emissions and improved urban planning.\n",
        "\n",
        "From renewable energy to smart agriculture, green transportation to carbon capture, technology is playing a pivotal role in shaping a more sustainable and resilient future. However, innovation must be guided by ethical considerations, inclusivity, and sustainability to ensure that technological progress does not come at the cost of environmental degradation. With global collaboration, policy support, and continued investment, technology can be harnessed to not only address climate change but to build a healthier planet for future generations.\"\"\"\n"
      ],
      "metadata": {
        "id": "XPyZLsR_t23o"
      },
      "id": "XPyZLsR_t23o",
      "execution_count": null,
      "outputs": []
    },
    {
      "cell_type": "code",
      "source": [
        "len(text)"
      ],
      "metadata": {
        "colab": {
          "base_uri": "https://localhost:8080/"
        },
        "id": "Jwk-4Uvwt3Mv",
        "outputId": "300b5991-e5bb-48bb-8739-018d449f34b1"
      },
      "id": "Jwk-4Uvwt3Mv",
      "execution_count": null,
      "outputs": [
        {
          "output_type": "execute_result",
          "data": {
            "text/plain": [
              "4238"
            ]
          },
          "metadata": {},
          "execution_count": 84
        }
      ]
    },
    {
      "cell_type": "code",
      "source": [
        "classify_custom(text)"
      ],
      "metadata": {
        "colab": {
          "base_uri": "https://localhost:8080/"
        },
        "id": "oDLXIRz7t3Wo",
        "outputId": "2f01bc66-ac47-4581-9b6e-a76a6e0a5148"
      },
      "id": "oDLXIRz7t3Wo",
      "execution_count": null,
      "outputs": [
        {
          "output_type": "execute_result",
          "data": {
            "text/plain": [
              "{'text': '\\nClimate Change and Technology: An Informative Report\\n\\nClimate change represents one of the most pressing global challenges of the 21st century. Driven largely by the emission of greenhouse gases through industrial activities, deforestation, and fossil fuel consumption, the Earth’s temperature is rising at an unprecedented rate. This warming is leading to erratic weather patterns, rising sea levels, and a surge in climate-related natural disasters. In the face of such challenges, technology emerges as both a contributor to the problem and a powerful tool for the solution. This report explores how technology is being harnessed to combat climate change, reduce emissions, adapt to new environmental realities, and build a sustainable future.\\n\\nHistorically, industrial revolutions and technological advancements have been linked to increased carbon emissions and environmental degradation. The combustion engine, coal-based power generation, and mass production all significantly contributed to the current levels of atmospheric CO2. Technological development, when pursued without consideration for ecological balance, has caused deforestation, pollution, and over-reliance on non-renewable resources. However, recognizing this history is essential to better redirect innovation toward green and sustainable alternatives.\\n\\nOne of the most prominent ways technology is addressing climate change is through the development of renewable energy. Solar panels, wind turbines, and hydroelectric systems now provide cleaner alternatives to coal and oil. Technological advances have made these sources more efficient, cost-effective, and scalable. Smart grids powered by machine learning optimize electricity distribution, reduce waste, and integrate renewable energy into national grids more seamlessly. Battery storage technology has also seen rapid innovation, allowing excess energy to be stored and used when renewable sources are not generating power.\\n\\nAgriculture is a significant contributor to greenhouse gas emissions, particularly methane and nitrous oxide. Technology is helping transform this sector through smart agriculture, which uses sensors, satellite data, and AI to monitor crop health, optimize irrigation, and reduce fertilizer use. Vertical farming and lab-grown meat are examples of how technology is creating sustainable food systems that require less land and emit fewer greenhouse gases. These innovations aim to increase food production efficiency while minimizing environmental impact.\\n\\nAnother technological response to climate change involves carbon capture and storage (CCS). These systems extract CO2 from the air or directly from industrial emissions and store it underground or repurpose it for industrial use. While CCS is still in its early stages, it holds promise as a means to directly remove carbon from the atmosphere. Geoengineering, including solar radiation management and ocean fertilization, is more controversial but continues to be researched as a potential last resort. Ethical considerations and long-term risks must be thoroughly evaluated before large-scale deployment.\\n\\nThe transportation sector is undergoing a technological revolution in response to climate concerns. Electric vehicles (EVs), powered by renewable electricity, are replacing traditional gasoline and diesel vehicles. Advancements in battery technology have significantly extended the range and reduced the cost of EVs. Additionally, public transportation systems are integrating clean energy buses and trains. Innovations in mobility-as-a-service (MaaS), carpooling platforms, and smart traffic systems also contribute to reduced emissions and improved urban planning.\\n\\nFrom renewable energy to smart agriculture, green transportation to carbon capture, technology is playing a pivotal role in shaping a more sustainable and resilient future. However, innovation must be guided by ethical considerations, inclusivity, and sustainability to ensure that technological progress does not come at the cost of environmental degradation. With global collaboration, policy support, and continued investment, technology can be harnessed to not only address climate change but to build a healthier planet for future generations.',\n",
              " 'Predicted_Category': 'command',\n",
              " 'score': 0.14209191501140594,\n",
              " 'all_categories': [('command', 0.14209191501140594),\n",
              "  ('suggestion', 0.11093473434448242),\n",
              "  ('opinion', 0.10708387941122055),\n",
              "  ('definition', 0.08572722226381302),\n",
              "  ('narrative', 0.07826205343008041),\n",
              "  ('argument', 0.07711680233478546),\n",
              "  ('instruction', 0.0676606297492981),\n",
              "  ('emotion', 0.0653451681137085),\n",
              "  ('story', 0.06236187741160393),\n",
              "  ('news', 0.055850863456726074),\n",
              "  ('prediction', 0.03636352717876434),\n",
              "  ('factual', 0.03593968227505684),\n",
              "  ('warning', 0.034615498036146164),\n",
              "  ('question', 0.03126619756221771),\n",
              "  ('personal experience', 0.009379901923239231)]}"
            ]
          },
          "metadata": {},
          "execution_count": 85
        }
      ]
    },
    {
      "cell_type": "code",
      "source": [
        "# SUMMARY GENERATION.\n"
      ],
      "metadata": {
        "id": "s88gYM6jt3fk"
      },
      "id": "s88gYM6jt3fk",
      "execution_count": null,
      "outputs": []
    },
    {
      "cell_type": "code",
      "source": [
        "summarizer= pipeline(\"summarization\",model=\"facebook/bart-large-cnn\")"
      ],
      "metadata": {
        "colab": {
          "base_uri": "https://localhost:8080/",
          "height": 226,
          "referenced_widgets": [
            "4dc632f854c5449e86e6297fbbaff292",
            "cec4a04e521c43e4a53e9fe8a9c7f3ed",
            "ab97e3862c924fb6a299db4194bdcb5c",
            "5411f8b28f334710b4733a94daf5dac7",
            "01c12f5fc0ad453584bb7730f77803e7",
            "00912877bda64a388a56a62b5e2daa4a",
            "daead780613b46dba12ae447abb0e01b",
            "c2059adf90b24254b747f92bff24a6d5",
            "7a33f93202ea473e85bd7933cecad152",
            "1accee23075e4c1fac2dc243ea9a7070",
            "a95e8abf0e33431f9dee423c8a845e4c",
            "f2444037f05c43298c650da7e4575739",
            "dda2c60698a648f7909fd47bdebc9c8e",
            "3baabda0095b4bbc9dbf51a7c819cf61",
            "3b8de0b0448b4075893250343ed049dd",
            "06888b85181f4082a3307380ea0a2dda",
            "25f5b661f31a4f82a92b1f9c983f4775",
            "efbfe1739bbb49bf8a7f51993a850a9a",
            "a8678226eb454130bc0bdc692d328b8a",
            "7e2ef5a8018c43808e943775f91a7248",
            "7f5e771f882444de99479ab3fc68122e",
            "e1ef9f55f36143378e3949e3874137e2",
            "4a77eb02076a4c0294d9517cd4fafc25",
            "25005d0ffa894636b81c75d60d6a9a90",
            "feb91e88991343ec85cfb12879e8dcf4",
            "f391afb3418c43729fbcb7fa470189d3",
            "8a924eb889574c2abd0650c52b0cfc35",
            "a5e092e45d444195b154f1f0c86292cb",
            "331385c0715347d7bbad4caffae06f8f",
            "71c78f928ad348118f538e6a6f267f02",
            "438096cd1b744ccd9a2804ef8c558e7b",
            "4afd6900de69462084dda5fd2d998cbb",
            "49153f8ace2b46cc977c5bb2bade29e8",
            "e8764fa6aa79475e816b768ae6f27369",
            "e9c85245487941a4824677e8df753b3b",
            "5e4783907707450d9e98ee93c29497d9",
            "b8f4e911467f463abce27c6042c8ba76",
            "07510603a55e46ed80602c8915bf7739",
            "51ee0e854a7a4f3aad5da2a84134f5b1",
            "7378750ba211445fbd6ab5d190d992e7",
            "1c87f0d713d14b828ef5df21b3be8e90",
            "d7cf23ea5ef44675970f4e726e31718b",
            "627708e6ff9049c58860ebfc980eee09",
            "ebebd49c782e4761b1860dfcbde8a8f8",
            "f65d6cd93d1846f1982ff0e8e8618bd5",
            "5ad2409702704fa4b30ef8783b37d821",
            "14131ce873da4db5861e36e5dfaf4f48",
            "fd87e0464949486485b00c64adef6b2a",
            "53d8c7edf2f34100b3ede456749983e7",
            "76dbd93fc22f4a0b9af7cd17430c404c",
            "36f8b6c9e40b4181beed04a175dadddb",
            "d57a5e4d39ef4a46beb502a2ab3d908e",
            "510ee6f1e74041aea620e71d395fa87c",
            "e288a9667cb547b8bf74995ea42d2f6b",
            "955e3d142b534805a3943f88391cd449",
            "27fba16a6b884fcaaac023bcb6d7b735",
            "1365c3478652499aa833657ca37b256b",
            "3255074415ee48a88fa5f1b3fb283376",
            "5a919ea7fff04cbead019956329f9910",
            "46883566aa32490aa6df294f6ac440c3",
            "f5c44ffc20184e2d8ad3d703ef2da3d1",
            "cd414590f15c46ec8ebde0426253fef1",
            "204a5a451d754bfaa910c0669cd1d53c",
            "f8479ea90a1e47949a3dce33b3519e75",
            "4ec50412dcf74dd0bd6ca1658eb3fe40",
            "b720e929f83b4ccd999085ebe2181a24"
          ]
        },
        "id": "If5x1pu6t3no",
        "outputId": "1d674f71-5d4d-4490-ef48-e236e63c6662"
      },
      "id": "If5x1pu6t3no",
      "execution_count": null,
      "outputs": [
        {
          "output_type": "display_data",
          "data": {
            "text/plain": [
              "config.json:   0%|          | 0.00/1.58k [00:00<?, ?B/s]"
            ],
            "application/vnd.jupyter.widget-view+json": {
              "version_major": 2,
              "version_minor": 0,
              "model_id": "4dc632f854c5449e86e6297fbbaff292"
            }
          },
          "metadata": {}
        },
        {
          "output_type": "display_data",
          "data": {
            "text/plain": [
              "model.safetensors:   0%|          | 0.00/1.63G [00:00<?, ?B/s]"
            ],
            "application/vnd.jupyter.widget-view+json": {
              "version_major": 2,
              "version_minor": 0,
              "model_id": "f2444037f05c43298c650da7e4575739"
            }
          },
          "metadata": {}
        },
        {
          "output_type": "display_data",
          "data": {
            "text/plain": [
              "generation_config.json:   0%|          | 0.00/363 [00:00<?, ?B/s]"
            ],
            "application/vnd.jupyter.widget-view+json": {
              "version_major": 2,
              "version_minor": 0,
              "model_id": "4a77eb02076a4c0294d9517cd4fafc25"
            }
          },
          "metadata": {}
        },
        {
          "output_type": "display_data",
          "data": {
            "text/plain": [
              "vocab.json:   0%|          | 0.00/899k [00:00<?, ?B/s]"
            ],
            "application/vnd.jupyter.widget-view+json": {
              "version_major": 2,
              "version_minor": 0,
              "model_id": "e8764fa6aa79475e816b768ae6f27369"
            }
          },
          "metadata": {}
        },
        {
          "output_type": "display_data",
          "data": {
            "text/plain": [
              "merges.txt:   0%|          | 0.00/456k [00:00<?, ?B/s]"
            ],
            "application/vnd.jupyter.widget-view+json": {
              "version_major": 2,
              "version_minor": 0,
              "model_id": "f65d6cd93d1846f1982ff0e8e8618bd5"
            }
          },
          "metadata": {}
        },
        {
          "output_type": "display_data",
          "data": {
            "text/plain": [
              "tokenizer.json:   0%|          | 0.00/1.36M [00:00<?, ?B/s]"
            ],
            "application/vnd.jupyter.widget-view+json": {
              "version_major": 2,
              "version_minor": 0,
              "model_id": "27fba16a6b884fcaaac023bcb6d7b735"
            }
          },
          "metadata": {}
        },
        {
          "output_type": "stream",
          "name": "stderr",
          "text": [
            "Device set to use cpu\n"
          ]
        }
      ]
    },
    {
      "cell_type": "code",
      "source": [
        "short_text = \"\"\"\n",
        "Artificial intelligence is transforming industries worldwide. From healthcare to finance, AI technologies are improving efficiency and enabling smarter decisions. Businesses that adopt AI gain a competitive advantage by automating routine tasks and uncovering valuable insights from data. However, ethical considerations and responsible AI development remain critical to ensure technology benefits all people fairly.\n",
        "\"\"\""
      ],
      "metadata": {
        "id": "d002KrMXwUdW"
      },
      "id": "d002KrMXwUdW",
      "execution_count": null,
      "outputs": []
    },
    {
      "cell_type": "code",
      "source": [
        "short_text"
      ],
      "metadata": {
        "colab": {
          "base_uri": "https://localhost:8080/",
          "height": 70
        },
        "id": "id224mL5wqHF",
        "outputId": "9005c6a6-7e2e-4d2b-9c52-186de3d3c062"
      },
      "id": "id224mL5wqHF",
      "execution_count": null,
      "outputs": [
        {
          "output_type": "execute_result",
          "data": {
            "text/plain": [
              "'\\nArtificial intelligence is transforming industries worldwide. From healthcare to finance, AI technologies are improving efficiency and enabling smarter decisions. Businesses that adopt AI gain a competitive advantage by automating routine tasks and uncovering valuable insights from data. However, ethical considerations and responsible AI development remain critical to ensure technology benefits all people fairly.\\n'"
            ],
            "application/vnd.google.colaboratory.intrinsic+json": {
              "type": "string"
            }
          },
          "metadata": {},
          "execution_count": 92
        }
      ]
    },
    {
      "cell_type": "code",
      "source": [
        "len(short_text)"
      ],
      "metadata": {
        "colab": {
          "base_uri": "https://localhost:8080/"
        },
        "id": "Oz4FsuJ3wgS-",
        "outputId": "c9d680ff-4340-4969-9e8d-b053d55710a3"
      },
      "id": "Oz4FsuJ3wgS-",
      "execution_count": null,
      "outputs": [
        {
          "output_type": "execute_result",
          "data": {
            "text/plain": [
              "418"
            ]
          },
          "metadata": {},
          "execution_count": 91
        }
      ]
    },
    {
      "cell_type": "code",
      "source": [
        "max_summary_length = int(len(short_text)*0.8)\n",
        "min_summary_length= int(len(short_text)*0.3)"
      ],
      "metadata": {
        "id": "Nl1YYwJoxBX6"
      },
      "id": "Nl1YYwJoxBX6",
      "execution_count": null,
      "outputs": []
    },
    {
      "cell_type": "code",
      "source": [
        "summary= summarizer(short_text, max_length=max_summary_length, min_length=min_summary_length, do_sample=False)"
      ],
      "metadata": {
        "colab": {
          "base_uri": "https://localhost:8080/"
        },
        "id": "zHacAQGozG1w",
        "outputId": "25d04367-695a-475d-879f-fc1696501bec"
      },
      "id": "zHacAQGozG1w",
      "execution_count": null,
      "outputs": [
        {
          "output_type": "stream",
          "name": "stderr",
          "text": [
            "Your max_length is set to 334, but your input_length is only 68. Since this is a summarization task, where outputs shorter than the input are typically wanted, you might consider decreasing max_length manually, e.g. summarizer('...', max_length=34)\n"
          ]
        }
      ]
    },
    {
      "cell_type": "code",
      "source": [
        "summary[0][\"summary_text\"]"
      ],
      "metadata": {
        "colab": {
          "base_uri": "https://localhost:8080/",
          "height": 88
        },
        "id": "zKvfyyHazUAV",
        "outputId": "64b2d8aa-efd2-4b45-ba44-dbf5bfbc0eea"
      },
      "id": "zKvfyyHazUAV",
      "execution_count": null,
      "outputs": [
        {
          "output_type": "execute_result",
          "data": {
            "text/plain": [
              "'Artificial intelligence is transforming industries worldwide. From healthcare to finance, AI technologies are improving efficiency and enabling smarter decisions. Businesses that adopt AI gain a competitive advantage by automating routine tasks and uncovering valuable insights from data. However, ethical considerations and responsible AI development remain critical to ensure technology benefits all people fairly. For more information, visit artificialintelligence.com. For confidential support call the Samaritans in the UK on 08457 90 90 90, visit a local Samaritans branch or see www.samaritans.org for details. In the U.S. call the National Suicide Prevention Line on 1-800-273-8255.'"
            ],
            "application/vnd.google.colaboratory.intrinsic+json": {
              "type": "string"
            }
          },
          "metadata": {},
          "execution_count": 105
        }
      ]
    },
    {
      "cell_type": "code",
      "source": [
        "print('Artificial intelligence is transforming industries worldwide. From healthcare to finance, AI technologies are improving efficiency and enabling smarter decisions. \\n Businesses that adopt AI gain a competitive advantage by automating routine tasks.')"
      ],
      "metadata": {
        "colab": {
          "base_uri": "https://localhost:8080/"
        },
        "id": "SLYsvWS8wY4K",
        "outputId": "b6fe8956-9b14-4ed8-ede9-77b97d553ef4"
      },
      "id": "SLYsvWS8wY4K",
      "execution_count": null,
      "outputs": [
        {
          "output_type": "stream",
          "name": "stdout",
          "text": [
            "Artificial intelligence is transforming industries worldwide. From healthcare to finance, AI technologies are improving efficiency and enabling smarter decisions. \n",
            " Businesses that adopt AI gain a competitive advantage by automating routine tasks.\n"
          ]
        }
      ]
    },
    {
      "cell_type": "code",
      "source": [
        "# chunks---> 500\n",
        "# chunks --> summary  ---> 500 summaries (DONE)  -- 10,000-- 20\n",
        "# summarize the summary of chunks again.\n"
      ],
      "metadata": {
        "id": "_Zr3b-hsyGFd"
      },
      "id": "_Zr3b-hsyGFd",
      "execution_count": null,
      "outputs": []
    },
    {
      "cell_type": "code",
      "source": [
        "def summarize_large_texts(text):\n",
        "  summarizer= pipeline(\"summarization\",model=\"facebook/bart-large-cnn\")\n",
        "  chunks= split_into_chunks_spacy(text, max_length=500)\n",
        "\n",
        "  # summarize each chunk\n",
        "  chunk_summaries=[]\n",
        "  for chunk in chunks:\n",
        "    input_length= len(chunk.split())\n",
        "    max_summary_length = int(input_length*0.8)\n",
        "    min_summary_length= int(input_length*0.3)\n",
        "    summary = summarizer(chunk, max_length=max_summary_length, min_length=min_summary_length, do_sample=False)[0][\"summary_text\"]\n",
        "    chunk_summaries.append(summary)\n",
        "\n",
        "  # Forming text out of all the summaries in the variable chunk_summaries\n",
        "  combined_summary_text= \" \".join(chunk_summaries)\n",
        "\n",
        "  # finding summary of combined summary text.\n",
        "  input_length= len(combined_summary_text.split())\n",
        "  max_summary_length = int(input_length*0.8)\n",
        "  min_summary_length= int(input_length*0.3)\n",
        "  final_summary = summarizer(chunk, max_length=max_summary_length, min_length=min_summary_length, do_sample=False)[0][\"summary_text\"]\n",
        "\n",
        "  return final_summary\n",
        "\n",
        "\n",
        "\n",
        "\n",
        "\n"
      ],
      "metadata": {
        "id": "GZ_PD1ydwu3w"
      },
      "id": "GZ_PD1ydwu3w",
      "execution_count": null,
      "outputs": []
    },
    {
      "cell_type": "code",
      "source": [
        " summarize_large_texts(short_text)"
      ],
      "metadata": {
        "colab": {
          "base_uri": "https://localhost:8080/",
          "height": 53
        },
        "id": "DyeLyhOP0qI0",
        "outputId": "82728980-7cfa-44ff-aa8a-678a9ebec3e2"
      },
      "id": "DyeLyhOP0qI0",
      "execution_count": null,
      "outputs": [
        {
          "output_type": "stream",
          "name": "stderr",
          "text": [
            "Device set to use cpu\n"
          ]
        },
        {
          "output_type": "execute_result",
          "data": {
            "text/plain": [
              "'Artificial intelligence is transforming industries worldwide. Businesses that adopt AI gain a competitive advantage by automating routine tasks and uncover'"
            ],
            "application/vnd.google.colaboratory.intrinsic+json": {
              "type": "string"
            }
          },
          "metadata": {},
          "execution_count": 107
        }
      ]
    },
    {
      "cell_type": "code",
      "source": [
        "long_text = \"\"\"\n",
        "Artificial intelligence (AI) has become one of the most transformative technologies of the 21st century. It is now impacting virtually every industry, from healthcare to transportation, finance, education, manufacturing, entertainment, and more. By automating tasks that previously required human intelligence, AI is improving operational efficiency and enabling organizations to make smarter, data-driven decisions that were once thought impossible.\n",
        "\n",
        "In healthcare, AI-powered tools assist doctors and medical professionals with diagnosis, personalized treatment recommendations, patient monitoring, and even robotic surgeries. These innovations have the potential to significantly improve patient outcomes while simultaneously reducing costs. AI can analyze vast amounts of medical data far faster and more accurately than humans, helping detect diseases earlier and with greater precision. For instance, AI algorithms in radiology help identify tumors or fractures in medical images that might be missed by the human eye. Furthermore, AI-driven predictive analytics are being used to anticipate patient deterioration, improving emergency responses and customized treatment plans. Telemedicine platforms enhanced with AI chatbots provide patients with immediate responses and health monitoring, improving access to care in remote or underserved areas where healthcare professionals are scarce. Additionally, AI assists in drug discovery by simulating molecular interactions, drastically reducing the time and costs required to develop new medications.\n",
        "\n",
        "Financial institutions are leveraging AI for fraud detection, credit scoring, personalized banking, and algorithmic trading, allowing for more accurate risk assessment and better investment decisions. AI-driven automation streamlines customer service with chatbots handling routine inquiries 24/7, freeing up human agents for more complex or sensitive cases. Additionally, AI is reshaping regulatory compliance by quickly sifting through vast regulations and transaction data to identify potential violations, thus reducing financial crimes and legal risks. Robo-advisors, powered by AI, are now capable of managing investment portfolios tailored to individual preferences and risk profiles, making wealth management accessible to a broader audience.\n",
        "\n",
        "The transportation industry is undergoing a significant transformation thanks to AI. The rise of autonomous vehicles promises to reduce accidents caused by human error and enhance traffic management. AI-enabled smart traffic lights dynamically adjust their timing based on real-time traffic data to reduce congestion, pollution, and travel times in urban areas. Logistics and supply chain management benefit from AI's ability to optimize routes, predict delays, and manage inventory levels efficiently, reducing waste and costs. Furthermore, AI-powered drones and delivery robots are starting to revolutionize last-mile delivery by cutting costs and improving speed, potentially changing how goods are transported in both urban and rural settings. AI also plays a key role in predictive maintenance for vehicles and infrastructure, forecasting breakdowns before they occur to minimize downtime and improve safety.\n",
        "\n",
        "Education is also being reshaped through AI-driven personalized learning platforms that adapt content and pace based on individual student needs and learning styles. AI tutors and virtual assistants provide additional help outside classrooms, enabling students to learn at their own pace and receive instant feedback. Data analytics powered by AI give educators insights into student performance trends, helping tailor curricula and teaching strategies to improve learning outcomes. Language learning applications use AI to offer real-time feedback on pronunciation, grammar, and vocabulary, enhancing language acquisition for learners worldwide. AI is also opening new opportunities for students with disabilities by enabling voice recognition, text-to-speech, and other assistive technologies, making education more inclusive.\n",
        "\n",
        "The entertainment industry leverages AI to create personalized content recommendations on streaming platforms, improving user engagement by tailoring suggestions to individual preferences. AI-generated content, including music, art, and even movie scripts, is increasingly sophisticated, sparking new debates about creativity and intellectual property. Gaming companies use AI to design more realistic, adaptive non-player characters and immersive environments, enhancing the user experience. Additionally, AI helps studios analyze audience reactions and box office trends to guide production and marketing decisions.\n",
        "\n",
        "Despite these advances, the rapid development of AI raises important ethical and societal questions that require careful consideration. Concerns include job displacement due to automation, data privacy issues, and algorithmic bias that can perpetuate or amplify social inequalities. As AI systems make more decisions affecting people’s lives, ensuring these decisions are fair, transparent, and accountable becomes critical. Job displacement poses economic challenges that demand comprehensive reskilling and social support programs to help workers transition into new roles. There are also significant concerns about surveillance and misuse of personal data collected by AI technologies, necessitating strict regulations, robust cybersecurity, and user control over data.\n",
        "\n",
        "Ensuring responsible AI development requires transparency, fairness, and accountability from developers, companies, and policymakers alike. International cooperation is necessary to set standards and norms that promote ethical AI while fostering innovation and competition. Public awareness and education about AI’s capabilities and limitations are also important to prevent misinformation, build trust, and encourage informed public discourse. Ethical AI frameworks must address questions such as how to eliminate bias, protect human rights, and ensure AI benefits are distributed equitably across society.\n",
        "\n",
        "As AI continues to evolve rapidly, collaboration between technology experts, industry leaders, governments, academia, and civil society will be essential to harness its full potential. By investing in research, infrastructure, and education, society can leverage AI to solve complex problems such as climate change, healthcare accessibility, education inequality, poverty, and environmental sustainability. AI-enabled data analysis can help scientists understand ecological systems better and develop innovative solutions to reduce carbon footprints and protect biodiversity.\n",
        "\n",
        "In summary, AI stands as a powerful tool with immense possibilities, poised to reshape our world in profound ways. However, it must be guided by ethical principles and responsible governance to ensure it creates a better future for all. The balance between innovation and responsibility will define the path AI takes in the coming decades. By embracing AI thoughtfully and inclusively, humanity can unlock unprecedented opportunities for progress, well-being, and shared prosperity.\n",
        "\"\"\""
      ],
      "metadata": {
        "id": "eXVhPeMa0t4Y"
      },
      "id": "eXVhPeMa0t4Y",
      "execution_count": null,
      "outputs": []
    },
    {
      "cell_type": "code",
      "source": [
        "len(long_text)"
      ],
      "metadata": {
        "colab": {
          "base_uri": "https://localhost:8080/"
        },
        "id": "nLJeDeMY00_l",
        "outputId": "c1b59fd0-899b-41d0-ec6a-1be32d8c9350"
      },
      "id": "nLJeDeMY00_l",
      "execution_count": null,
      "outputs": [
        {
          "output_type": "execute_result",
          "data": {
            "text/plain": [
              "7115"
            ]
          },
          "metadata": {},
          "execution_count": 109
        }
      ]
    },
    {
      "cell_type": "code",
      "source": [
        "summarize_large_texts(long_text)"
      ],
      "metadata": {
        "colab": {
          "base_uri": "https://localhost:8080/",
          "height": 160
        },
        "id": "wkT8Ol8P02ax",
        "outputId": "c078500e-2ac5-4094-d549-32d79b62f818"
      },
      "id": "wkT8Ol8P02ax",
      "execution_count": null,
      "outputs": [
        {
          "output_type": "stream",
          "name": "stderr",
          "text": [
            "Device set to use cpu\n",
            "Your max_length is set to 424, but your input_length is only 89. Since this is a summarization task, where outputs shorter than the input are typically wanted, you might consider decreasing max_length manually, e.g. summarizer('...', max_length=44)\n"
          ]
        },
        {
          "output_type": "execute_result",
          "data": {
            "text/plain": [
              "'The balance between innovation and responsibility will define the path AI takes in the coming decades. By embracing AI thoughtfully and inclusively, humanity can unlock unprecedented opportunities for progress, well-being, and shared prosperity. In summary, AI stands as a powerful tool with immense possibilities, poised to reshape our world in profound ways. However, it must be guided by ethical principles and responsible governance to ensure it creates a better future for all. For more information on how to use AI in your life, visit: www.ibm.org.uk. For confidential support call the Samaritans in the UK on 08457 90 90 90, visit a local Samaritans branch or click here for details. In the U.S. call the National Suicide Prevention Line on 1-800-273-8255.'"
            ],
            "application/vnd.google.colaboratory.intrinsic+json": {
              "type": "string"
            }
          },
          "metadata": {},
          "execution_count": 110
        }
      ]
    },
    {
      "cell_type": "code",
      "source": [],
      "metadata": {
        "id": "GE4Xy9Vk08xt"
      },
      "id": "GE4Xy9Vk08xt",
      "execution_count": null,
      "outputs": []
    }
  ],
  "metadata": {
    "kernelspec": {
      "display_name": "Python 3 (ipykernel)",
      "language": "python",
      "name": "python3"
    },
    "language_info": {
      "codemirror_mode": {
        "name": "ipython",
        "version": 3
      },
      "file_extension": ".py",
      "mimetype": "text/x-python",
      "name": "python",
      "nbconvert_exporter": "python",
      "pygments_lexer": "ipython3",
      "version": "3.12.7"
    },
    "colab": {
      "provenance": [],
      "include_colab_link": true
    },
    "widgets": {
      "application/vnd.jupyter.widget-state+json": {
        "da9496797446446dbbbe8d72574b32f4": {
          "model_module": "@jupyter-widgets/controls",
          "model_name": "HBoxModel",
          "model_module_version": "1.5.0",
          "state": {
            "_dom_classes": [],
            "_model_module": "@jupyter-widgets/controls",
            "_model_module_version": "1.5.0",
            "_model_name": "HBoxModel",
            "_view_count": null,
            "_view_module": "@jupyter-widgets/controls",
            "_view_module_version": "1.5.0",
            "_view_name": "HBoxView",
            "box_style": "",
            "children": [
              "IPY_MODEL_1b3c4b903ea542f4a2d890a60c863607",
              "IPY_MODEL_ba5c64eb9df64eb2bbd842e57908881c",
              "IPY_MODEL_1cbc942b0c854827b22f71e297013ba2"
            ],
            "layout": "IPY_MODEL_b97cd71dd22444be9fc9f6f3a430c97f"
          }
        },
        "1b3c4b903ea542f4a2d890a60c863607": {
          "model_module": "@jupyter-widgets/controls",
          "model_name": "HTMLModel",
          "model_module_version": "1.5.0",
          "state": {
            "_dom_classes": [],
            "_model_module": "@jupyter-widgets/controls",
            "_model_module_version": "1.5.0",
            "_model_name": "HTMLModel",
            "_view_count": null,
            "_view_module": "@jupyter-widgets/controls",
            "_view_module_version": "1.5.0",
            "_view_name": "HTMLView",
            "description": "",
            "description_tooltip": null,
            "layout": "IPY_MODEL_241256784bb2455299180599b54206d0",
            "placeholder": "​",
            "style": "IPY_MODEL_6f83c26c2e974eaab2e49213ea51eb94",
            "value": "config.json: 100%"
          }
        },
        "ba5c64eb9df64eb2bbd842e57908881c": {
          "model_module": "@jupyter-widgets/controls",
          "model_name": "FloatProgressModel",
          "model_module_version": "1.5.0",
          "state": {
            "_dom_classes": [],
            "_model_module": "@jupyter-widgets/controls",
            "_model_module_version": "1.5.0",
            "_model_name": "FloatProgressModel",
            "_view_count": null,
            "_view_module": "@jupyter-widgets/controls",
            "_view_module_version": "1.5.0",
            "_view_name": "ProgressView",
            "bar_style": "success",
            "description": "",
            "description_tooltip": null,
            "layout": "IPY_MODEL_a4202992d82b4fd999a42b169e251a7d",
            "max": 768,
            "min": 0,
            "orientation": "horizontal",
            "style": "IPY_MODEL_51759ad684604010ad7fdc928394b734",
            "value": 768
          }
        },
        "1cbc942b0c854827b22f71e297013ba2": {
          "model_module": "@jupyter-widgets/controls",
          "model_name": "HTMLModel",
          "model_module_version": "1.5.0",
          "state": {
            "_dom_classes": [],
            "_model_module": "@jupyter-widgets/controls",
            "_model_module_version": "1.5.0",
            "_model_name": "HTMLModel",
            "_view_count": null,
            "_view_module": "@jupyter-widgets/controls",
            "_view_module_version": "1.5.0",
            "_view_name": "HTMLView",
            "description": "",
            "description_tooltip": null,
            "layout": "IPY_MODEL_8d1321b2870d4c8d830178a15cc476e7",
            "placeholder": "​",
            "style": "IPY_MODEL_d3ecaeb610fb4fda9b249b40fa3fb16e",
            "value": " 768/768 [00:00&lt;00:00, 16.9kB/s]"
          }
        },
        "b97cd71dd22444be9fc9f6f3a430c97f": {
          "model_module": "@jupyter-widgets/base",
          "model_name": "LayoutModel",
          "model_module_version": "1.2.0",
          "state": {
            "_model_module": "@jupyter-widgets/base",
            "_model_module_version": "1.2.0",
            "_model_name": "LayoutModel",
            "_view_count": null,
            "_view_module": "@jupyter-widgets/base",
            "_view_module_version": "1.2.0",
            "_view_name": "LayoutView",
            "align_content": null,
            "align_items": null,
            "align_self": null,
            "border": null,
            "bottom": null,
            "display": null,
            "flex": null,
            "flex_flow": null,
            "grid_area": null,
            "grid_auto_columns": null,
            "grid_auto_flow": null,
            "grid_auto_rows": null,
            "grid_column": null,
            "grid_gap": null,
            "grid_row": null,
            "grid_template_areas": null,
            "grid_template_columns": null,
            "grid_template_rows": null,
            "height": null,
            "justify_content": null,
            "justify_items": null,
            "left": null,
            "margin": null,
            "max_height": null,
            "max_width": null,
            "min_height": null,
            "min_width": null,
            "object_fit": null,
            "object_position": null,
            "order": null,
            "overflow": null,
            "overflow_x": null,
            "overflow_y": null,
            "padding": null,
            "right": null,
            "top": null,
            "visibility": null,
            "width": null
          }
        },
        "241256784bb2455299180599b54206d0": {
          "model_module": "@jupyter-widgets/base",
          "model_name": "LayoutModel",
          "model_module_version": "1.2.0",
          "state": {
            "_model_module": "@jupyter-widgets/base",
            "_model_module_version": "1.2.0",
            "_model_name": "LayoutModel",
            "_view_count": null,
            "_view_module": "@jupyter-widgets/base",
            "_view_module_version": "1.2.0",
            "_view_name": "LayoutView",
            "align_content": null,
            "align_items": null,
            "align_self": null,
            "border": null,
            "bottom": null,
            "display": null,
            "flex": null,
            "flex_flow": null,
            "grid_area": null,
            "grid_auto_columns": null,
            "grid_auto_flow": null,
            "grid_auto_rows": null,
            "grid_column": null,
            "grid_gap": null,
            "grid_row": null,
            "grid_template_areas": null,
            "grid_template_columns": null,
            "grid_template_rows": null,
            "height": null,
            "justify_content": null,
            "justify_items": null,
            "left": null,
            "margin": null,
            "max_height": null,
            "max_width": null,
            "min_height": null,
            "min_width": null,
            "object_fit": null,
            "object_position": null,
            "order": null,
            "overflow": null,
            "overflow_x": null,
            "overflow_y": null,
            "padding": null,
            "right": null,
            "top": null,
            "visibility": null,
            "width": null
          }
        },
        "6f83c26c2e974eaab2e49213ea51eb94": {
          "model_module": "@jupyter-widgets/controls",
          "model_name": "DescriptionStyleModel",
          "model_module_version": "1.5.0",
          "state": {
            "_model_module": "@jupyter-widgets/controls",
            "_model_module_version": "1.5.0",
            "_model_name": "DescriptionStyleModel",
            "_view_count": null,
            "_view_module": "@jupyter-widgets/base",
            "_view_module_version": "1.2.0",
            "_view_name": "StyleView",
            "description_width": ""
          }
        },
        "a4202992d82b4fd999a42b169e251a7d": {
          "model_module": "@jupyter-widgets/base",
          "model_name": "LayoutModel",
          "model_module_version": "1.2.0",
          "state": {
            "_model_module": "@jupyter-widgets/base",
            "_model_module_version": "1.2.0",
            "_model_name": "LayoutModel",
            "_view_count": null,
            "_view_module": "@jupyter-widgets/base",
            "_view_module_version": "1.2.0",
            "_view_name": "LayoutView",
            "align_content": null,
            "align_items": null,
            "align_self": null,
            "border": null,
            "bottom": null,
            "display": null,
            "flex": null,
            "flex_flow": null,
            "grid_area": null,
            "grid_auto_columns": null,
            "grid_auto_flow": null,
            "grid_auto_rows": null,
            "grid_column": null,
            "grid_gap": null,
            "grid_row": null,
            "grid_template_areas": null,
            "grid_template_columns": null,
            "grid_template_rows": null,
            "height": null,
            "justify_content": null,
            "justify_items": null,
            "left": null,
            "margin": null,
            "max_height": null,
            "max_width": null,
            "min_height": null,
            "min_width": null,
            "object_fit": null,
            "object_position": null,
            "order": null,
            "overflow": null,
            "overflow_x": null,
            "overflow_y": null,
            "padding": null,
            "right": null,
            "top": null,
            "visibility": null,
            "width": null
          }
        },
        "51759ad684604010ad7fdc928394b734": {
          "model_module": "@jupyter-widgets/controls",
          "model_name": "ProgressStyleModel",
          "model_module_version": "1.5.0",
          "state": {
            "_model_module": "@jupyter-widgets/controls",
            "_model_module_version": "1.5.0",
            "_model_name": "ProgressStyleModel",
            "_view_count": null,
            "_view_module": "@jupyter-widgets/base",
            "_view_module_version": "1.2.0",
            "_view_name": "StyleView",
            "bar_color": null,
            "description_width": ""
          }
        },
        "8d1321b2870d4c8d830178a15cc476e7": {
          "model_module": "@jupyter-widgets/base",
          "model_name": "LayoutModel",
          "model_module_version": "1.2.0",
          "state": {
            "_model_module": "@jupyter-widgets/base",
            "_model_module_version": "1.2.0",
            "_model_name": "LayoutModel",
            "_view_count": null,
            "_view_module": "@jupyter-widgets/base",
            "_view_module_version": "1.2.0",
            "_view_name": "LayoutView",
            "align_content": null,
            "align_items": null,
            "align_self": null,
            "border": null,
            "bottom": null,
            "display": null,
            "flex": null,
            "flex_flow": null,
            "grid_area": null,
            "grid_auto_columns": null,
            "grid_auto_flow": null,
            "grid_auto_rows": null,
            "grid_column": null,
            "grid_gap": null,
            "grid_row": null,
            "grid_template_areas": null,
            "grid_template_columns": null,
            "grid_template_rows": null,
            "height": null,
            "justify_content": null,
            "justify_items": null,
            "left": null,
            "margin": null,
            "max_height": null,
            "max_width": null,
            "min_height": null,
            "min_width": null,
            "object_fit": null,
            "object_position": null,
            "order": null,
            "overflow": null,
            "overflow_x": null,
            "overflow_y": null,
            "padding": null,
            "right": null,
            "top": null,
            "visibility": null,
            "width": null
          }
        },
        "d3ecaeb610fb4fda9b249b40fa3fb16e": {
          "model_module": "@jupyter-widgets/controls",
          "model_name": "DescriptionStyleModel",
          "model_module_version": "1.5.0",
          "state": {
            "_model_module": "@jupyter-widgets/controls",
            "_model_module_version": "1.5.0",
            "_model_name": "DescriptionStyleModel",
            "_view_count": null,
            "_view_module": "@jupyter-widgets/base",
            "_view_module_version": "1.2.0",
            "_view_name": "StyleView",
            "description_width": ""
          }
        },
        "d24cef9b3f624438bb88630ad0d6ab8e": {
          "model_module": "@jupyter-widgets/controls",
          "model_name": "HBoxModel",
          "model_module_version": "1.5.0",
          "state": {
            "_dom_classes": [],
            "_model_module": "@jupyter-widgets/controls",
            "_model_module_version": "1.5.0",
            "_model_name": "HBoxModel",
            "_view_count": null,
            "_view_module": "@jupyter-widgets/controls",
            "_view_module_version": "1.5.0",
            "_view_name": "HBoxView",
            "box_style": "",
            "children": [
              "IPY_MODEL_c433d6c8061a4493aacb506d6619d5a0",
              "IPY_MODEL_b36e4ae409bf4cc1906ba162890770d4",
              "IPY_MODEL_a038de8b7fb44f7da50d571a38c3d0a9"
            ],
            "layout": "IPY_MODEL_12d6529c9a134965bdf9924568d41449"
          }
        },
        "c433d6c8061a4493aacb506d6619d5a0": {
          "model_module": "@jupyter-widgets/controls",
          "model_name": "HTMLModel",
          "model_module_version": "1.5.0",
          "state": {
            "_dom_classes": [],
            "_model_module": "@jupyter-widgets/controls",
            "_model_module_version": "1.5.0",
            "_model_name": "HTMLModel",
            "_view_count": null,
            "_view_module": "@jupyter-widgets/controls",
            "_view_module_version": "1.5.0",
            "_view_name": "HTMLView",
            "description": "",
            "description_tooltip": null,
            "layout": "IPY_MODEL_d7eaec7e1bd5405b97e04c282910de88",
            "placeholder": "​",
            "style": "IPY_MODEL_752d41f34f0840c3bcc4ee2c72181682",
            "value": "pytorch_model.bin: 100%"
          }
        },
        "b36e4ae409bf4cc1906ba162890770d4": {
          "model_module": "@jupyter-widgets/controls",
          "model_name": "FloatProgressModel",
          "model_module_version": "1.5.0",
          "state": {
            "_dom_classes": [],
            "_model_module": "@jupyter-widgets/controls",
            "_model_module_version": "1.5.0",
            "_model_name": "FloatProgressModel",
            "_view_count": null,
            "_view_module": "@jupyter-widgets/controls",
            "_view_module_version": "1.5.0",
            "_view_name": "ProgressView",
            "bar_style": "success",
            "description": "",
            "description_tooltip": null,
            "layout": "IPY_MODEL_2c8e4ef4b25842b4a4152de51f3c5a24",
            "max": 438036745,
            "min": 0,
            "orientation": "horizontal",
            "style": "IPY_MODEL_ef3c1b9ce4d74b288f23277e4747f5e6",
            "value": 438036745
          }
        },
        "a038de8b7fb44f7da50d571a38c3d0a9": {
          "model_module": "@jupyter-widgets/controls",
          "model_name": "HTMLModel",
          "model_module_version": "1.5.0",
          "state": {
            "_dom_classes": [],
            "_model_module": "@jupyter-widgets/controls",
            "_model_module_version": "1.5.0",
            "_model_name": "HTMLModel",
            "_view_count": null,
            "_view_module": "@jupyter-widgets/controls",
            "_view_module_version": "1.5.0",
            "_view_name": "HTMLView",
            "description": "",
            "description_tooltip": null,
            "layout": "IPY_MODEL_89bc0fb34edb4c8da4fb40864b9d1903",
            "placeholder": "​",
            "style": "IPY_MODEL_e089914d2f924e97a7016ff87bbb203f",
            "value": " 438M/438M [00:04&lt;00:00, 142MB/s]"
          }
        },
        "12d6529c9a134965bdf9924568d41449": {
          "model_module": "@jupyter-widgets/base",
          "model_name": "LayoutModel",
          "model_module_version": "1.2.0",
          "state": {
            "_model_module": "@jupyter-widgets/base",
            "_model_module_version": "1.2.0",
            "_model_name": "LayoutModel",
            "_view_count": null,
            "_view_module": "@jupyter-widgets/base",
            "_view_module_version": "1.2.0",
            "_view_name": "LayoutView",
            "align_content": null,
            "align_items": null,
            "align_self": null,
            "border": null,
            "bottom": null,
            "display": null,
            "flex": null,
            "flex_flow": null,
            "grid_area": null,
            "grid_auto_columns": null,
            "grid_auto_flow": null,
            "grid_auto_rows": null,
            "grid_column": null,
            "grid_gap": null,
            "grid_row": null,
            "grid_template_areas": null,
            "grid_template_columns": null,
            "grid_template_rows": null,
            "height": null,
            "justify_content": null,
            "justify_items": null,
            "left": null,
            "margin": null,
            "max_height": null,
            "max_width": null,
            "min_height": null,
            "min_width": null,
            "object_fit": null,
            "object_position": null,
            "order": null,
            "overflow": null,
            "overflow_x": null,
            "overflow_y": null,
            "padding": null,
            "right": null,
            "top": null,
            "visibility": null,
            "width": null
          }
        },
        "d7eaec7e1bd5405b97e04c282910de88": {
          "model_module": "@jupyter-widgets/base",
          "model_name": "LayoutModel",
          "model_module_version": "1.2.0",
          "state": {
            "_model_module": "@jupyter-widgets/base",
            "_model_module_version": "1.2.0",
            "_model_name": "LayoutModel",
            "_view_count": null,
            "_view_module": "@jupyter-widgets/base",
            "_view_module_version": "1.2.0",
            "_view_name": "LayoutView",
            "align_content": null,
            "align_items": null,
            "align_self": null,
            "border": null,
            "bottom": null,
            "display": null,
            "flex": null,
            "flex_flow": null,
            "grid_area": null,
            "grid_auto_columns": null,
            "grid_auto_flow": null,
            "grid_auto_rows": null,
            "grid_column": null,
            "grid_gap": null,
            "grid_row": null,
            "grid_template_areas": null,
            "grid_template_columns": null,
            "grid_template_rows": null,
            "height": null,
            "justify_content": null,
            "justify_items": null,
            "left": null,
            "margin": null,
            "max_height": null,
            "max_width": null,
            "min_height": null,
            "min_width": null,
            "object_fit": null,
            "object_position": null,
            "order": null,
            "overflow": null,
            "overflow_x": null,
            "overflow_y": null,
            "padding": null,
            "right": null,
            "top": null,
            "visibility": null,
            "width": null
          }
        },
        "752d41f34f0840c3bcc4ee2c72181682": {
          "model_module": "@jupyter-widgets/controls",
          "model_name": "DescriptionStyleModel",
          "model_module_version": "1.5.0",
          "state": {
            "_model_module": "@jupyter-widgets/controls",
            "_model_module_version": "1.5.0",
            "_model_name": "DescriptionStyleModel",
            "_view_count": null,
            "_view_module": "@jupyter-widgets/base",
            "_view_module_version": "1.2.0",
            "_view_name": "StyleView",
            "description_width": ""
          }
        },
        "2c8e4ef4b25842b4a4152de51f3c5a24": {
          "model_module": "@jupyter-widgets/base",
          "model_name": "LayoutModel",
          "model_module_version": "1.2.0",
          "state": {
            "_model_module": "@jupyter-widgets/base",
            "_model_module_version": "1.2.0",
            "_model_name": "LayoutModel",
            "_view_count": null,
            "_view_module": "@jupyter-widgets/base",
            "_view_module_version": "1.2.0",
            "_view_name": "LayoutView",
            "align_content": null,
            "align_items": null,
            "align_self": null,
            "border": null,
            "bottom": null,
            "display": null,
            "flex": null,
            "flex_flow": null,
            "grid_area": null,
            "grid_auto_columns": null,
            "grid_auto_flow": null,
            "grid_auto_rows": null,
            "grid_column": null,
            "grid_gap": null,
            "grid_row": null,
            "grid_template_areas": null,
            "grid_template_columns": null,
            "grid_template_rows": null,
            "height": null,
            "justify_content": null,
            "justify_items": null,
            "left": null,
            "margin": null,
            "max_height": null,
            "max_width": null,
            "min_height": null,
            "min_width": null,
            "object_fit": null,
            "object_position": null,
            "order": null,
            "overflow": null,
            "overflow_x": null,
            "overflow_y": null,
            "padding": null,
            "right": null,
            "top": null,
            "visibility": null,
            "width": null
          }
        },
        "ef3c1b9ce4d74b288f23277e4747f5e6": {
          "model_module": "@jupyter-widgets/controls",
          "model_name": "ProgressStyleModel",
          "model_module_version": "1.5.0",
          "state": {
            "_model_module": "@jupyter-widgets/controls",
            "_model_module_version": "1.5.0",
            "_model_name": "ProgressStyleModel",
            "_view_count": null,
            "_view_module": "@jupyter-widgets/base",
            "_view_module_version": "1.2.0",
            "_view_name": "StyleView",
            "bar_color": null,
            "description_width": ""
          }
        },
        "89bc0fb34edb4c8da4fb40864b9d1903": {
          "model_module": "@jupyter-widgets/base",
          "model_name": "LayoutModel",
          "model_module_version": "1.2.0",
          "state": {
            "_model_module": "@jupyter-widgets/base",
            "_model_module_version": "1.2.0",
            "_model_name": "LayoutModel",
            "_view_count": null,
            "_view_module": "@jupyter-widgets/base",
            "_view_module_version": "1.2.0",
            "_view_name": "LayoutView",
            "align_content": null,
            "align_items": null,
            "align_self": null,
            "border": null,
            "bottom": null,
            "display": null,
            "flex": null,
            "flex_flow": null,
            "grid_area": null,
            "grid_auto_columns": null,
            "grid_auto_flow": null,
            "grid_auto_rows": null,
            "grid_column": null,
            "grid_gap": null,
            "grid_row": null,
            "grid_template_areas": null,
            "grid_template_columns": null,
            "grid_template_rows": null,
            "height": null,
            "justify_content": null,
            "justify_items": null,
            "left": null,
            "margin": null,
            "max_height": null,
            "max_width": null,
            "min_height": null,
            "min_width": null,
            "object_fit": null,
            "object_position": null,
            "order": null,
            "overflow": null,
            "overflow_x": null,
            "overflow_y": null,
            "padding": null,
            "right": null,
            "top": null,
            "visibility": null,
            "width": null
          }
        },
        "e089914d2f924e97a7016ff87bbb203f": {
          "model_module": "@jupyter-widgets/controls",
          "model_name": "DescriptionStyleModel",
          "model_module_version": "1.5.0",
          "state": {
            "_model_module": "@jupyter-widgets/controls",
            "_model_module_version": "1.5.0",
            "_model_name": "DescriptionStyleModel",
            "_view_count": null,
            "_view_module": "@jupyter-widgets/base",
            "_view_module_version": "1.2.0",
            "_view_name": "StyleView",
            "description_width": ""
          }
        },
        "dd61bffdd02548c0ae5e21c03f2bda98": {
          "model_module": "@jupyter-widgets/controls",
          "model_name": "HBoxModel",
          "model_module_version": "1.5.0",
          "state": {
            "_dom_classes": [],
            "_model_module": "@jupyter-widgets/controls",
            "_model_module_version": "1.5.0",
            "_model_name": "HBoxModel",
            "_view_count": null,
            "_view_module": "@jupyter-widgets/controls",
            "_view_module_version": "1.5.0",
            "_view_name": "HBoxView",
            "box_style": "",
            "children": [
              "IPY_MODEL_6829e84972b84d51a06104debeaf23ce",
              "IPY_MODEL_b4425d84f2c84fffa8d6fc447b3dfdd4",
              "IPY_MODEL_aa079acd64874414b40b25d171d8877b"
            ],
            "layout": "IPY_MODEL_cb844ee3dc0f4a2f848b381792392d41"
          }
        },
        "6829e84972b84d51a06104debeaf23ce": {
          "model_module": "@jupyter-widgets/controls",
          "model_name": "HTMLModel",
          "model_module_version": "1.5.0",
          "state": {
            "_dom_classes": [],
            "_model_module": "@jupyter-widgets/controls",
            "_model_module_version": "1.5.0",
            "_model_name": "HTMLModel",
            "_view_count": null,
            "_view_module": "@jupyter-widgets/controls",
            "_view_module_version": "1.5.0",
            "_view_name": "HTMLView",
            "description": "",
            "description_tooltip": null,
            "layout": "IPY_MODEL_33b64a1e03af4ed9a62a1e6cb93ea1dd",
            "placeholder": "​",
            "style": "IPY_MODEL_bd49958670f0401d9695ad0fcc94cb2e",
            "value": "model.safetensors: 100%"
          }
        },
        "b4425d84f2c84fffa8d6fc447b3dfdd4": {
          "model_module": "@jupyter-widgets/controls",
          "model_name": "FloatProgressModel",
          "model_module_version": "1.5.0",
          "state": {
            "_dom_classes": [],
            "_model_module": "@jupyter-widgets/controls",
            "_model_module_version": "1.5.0",
            "_model_name": "FloatProgressModel",
            "_view_count": null,
            "_view_module": "@jupyter-widgets/controls",
            "_view_module_version": "1.5.0",
            "_view_name": "ProgressView",
            "bar_style": "success",
            "description": "",
            "description_tooltip": null,
            "layout": "IPY_MODEL_1e786b307a7a4412850be33218c5ef7e",
            "max": 437975140,
            "min": 0,
            "orientation": "horizontal",
            "style": "IPY_MODEL_82354918e04b4a0ba4c5b860c095d26e",
            "value": 437975140
          }
        },
        "aa079acd64874414b40b25d171d8877b": {
          "model_module": "@jupyter-widgets/controls",
          "model_name": "HTMLModel",
          "model_module_version": "1.5.0",
          "state": {
            "_dom_classes": [],
            "_model_module": "@jupyter-widgets/controls",
            "_model_module_version": "1.5.0",
            "_model_name": "HTMLModel",
            "_view_count": null,
            "_view_module": "@jupyter-widgets/controls",
            "_view_module_version": "1.5.0",
            "_view_name": "HTMLView",
            "description": "",
            "description_tooltip": null,
            "layout": "IPY_MODEL_6b793eb4115f4f63aa28176a3b9fa053",
            "placeholder": "​",
            "style": "IPY_MODEL_9b8d323c638f419a807e1c74903335dc",
            "value": " 438M/438M [00:05&lt;00:00, 81.8MB/s]"
          }
        },
        "cb844ee3dc0f4a2f848b381792392d41": {
          "model_module": "@jupyter-widgets/base",
          "model_name": "LayoutModel",
          "model_module_version": "1.2.0",
          "state": {
            "_model_module": "@jupyter-widgets/base",
            "_model_module_version": "1.2.0",
            "_model_name": "LayoutModel",
            "_view_count": null,
            "_view_module": "@jupyter-widgets/base",
            "_view_module_version": "1.2.0",
            "_view_name": "LayoutView",
            "align_content": null,
            "align_items": null,
            "align_self": null,
            "border": null,
            "bottom": null,
            "display": null,
            "flex": null,
            "flex_flow": null,
            "grid_area": null,
            "grid_auto_columns": null,
            "grid_auto_flow": null,
            "grid_auto_rows": null,
            "grid_column": null,
            "grid_gap": null,
            "grid_row": null,
            "grid_template_areas": null,
            "grid_template_columns": null,
            "grid_template_rows": null,
            "height": null,
            "justify_content": null,
            "justify_items": null,
            "left": null,
            "margin": null,
            "max_height": null,
            "max_width": null,
            "min_height": null,
            "min_width": null,
            "object_fit": null,
            "object_position": null,
            "order": null,
            "overflow": null,
            "overflow_x": null,
            "overflow_y": null,
            "padding": null,
            "right": null,
            "top": null,
            "visibility": null,
            "width": null
          }
        },
        "33b64a1e03af4ed9a62a1e6cb93ea1dd": {
          "model_module": "@jupyter-widgets/base",
          "model_name": "LayoutModel",
          "model_module_version": "1.2.0",
          "state": {
            "_model_module": "@jupyter-widgets/base",
            "_model_module_version": "1.2.0",
            "_model_name": "LayoutModel",
            "_view_count": null,
            "_view_module": "@jupyter-widgets/base",
            "_view_module_version": "1.2.0",
            "_view_name": "LayoutView",
            "align_content": null,
            "align_items": null,
            "align_self": null,
            "border": null,
            "bottom": null,
            "display": null,
            "flex": null,
            "flex_flow": null,
            "grid_area": null,
            "grid_auto_columns": null,
            "grid_auto_flow": null,
            "grid_auto_rows": null,
            "grid_column": null,
            "grid_gap": null,
            "grid_row": null,
            "grid_template_areas": null,
            "grid_template_columns": null,
            "grid_template_rows": null,
            "height": null,
            "justify_content": null,
            "justify_items": null,
            "left": null,
            "margin": null,
            "max_height": null,
            "max_width": null,
            "min_height": null,
            "min_width": null,
            "object_fit": null,
            "object_position": null,
            "order": null,
            "overflow": null,
            "overflow_x": null,
            "overflow_y": null,
            "padding": null,
            "right": null,
            "top": null,
            "visibility": null,
            "width": null
          }
        },
        "bd49958670f0401d9695ad0fcc94cb2e": {
          "model_module": "@jupyter-widgets/controls",
          "model_name": "DescriptionStyleModel",
          "model_module_version": "1.5.0",
          "state": {
            "_model_module": "@jupyter-widgets/controls",
            "_model_module_version": "1.5.0",
            "_model_name": "DescriptionStyleModel",
            "_view_count": null,
            "_view_module": "@jupyter-widgets/base",
            "_view_module_version": "1.2.0",
            "_view_name": "StyleView",
            "description_width": ""
          }
        },
        "1e786b307a7a4412850be33218c5ef7e": {
          "model_module": "@jupyter-widgets/base",
          "model_name": "LayoutModel",
          "model_module_version": "1.2.0",
          "state": {
            "_model_module": "@jupyter-widgets/base",
            "_model_module_version": "1.2.0",
            "_model_name": "LayoutModel",
            "_view_count": null,
            "_view_module": "@jupyter-widgets/base",
            "_view_module_version": "1.2.0",
            "_view_name": "LayoutView",
            "align_content": null,
            "align_items": null,
            "align_self": null,
            "border": null,
            "bottom": null,
            "display": null,
            "flex": null,
            "flex_flow": null,
            "grid_area": null,
            "grid_auto_columns": null,
            "grid_auto_flow": null,
            "grid_auto_rows": null,
            "grid_column": null,
            "grid_gap": null,
            "grid_row": null,
            "grid_template_areas": null,
            "grid_template_columns": null,
            "grid_template_rows": null,
            "height": null,
            "justify_content": null,
            "justify_items": null,
            "left": null,
            "margin": null,
            "max_height": null,
            "max_width": null,
            "min_height": null,
            "min_width": null,
            "object_fit": null,
            "object_position": null,
            "order": null,
            "overflow": null,
            "overflow_x": null,
            "overflow_y": null,
            "padding": null,
            "right": null,
            "top": null,
            "visibility": null,
            "width": null
          }
        },
        "82354918e04b4a0ba4c5b860c095d26e": {
          "model_module": "@jupyter-widgets/controls",
          "model_name": "ProgressStyleModel",
          "model_module_version": "1.5.0",
          "state": {
            "_model_module": "@jupyter-widgets/controls",
            "_model_module_version": "1.5.0",
            "_model_name": "ProgressStyleModel",
            "_view_count": null,
            "_view_module": "@jupyter-widgets/base",
            "_view_module_version": "1.2.0",
            "_view_name": "StyleView",
            "bar_color": null,
            "description_width": ""
          }
        },
        "6b793eb4115f4f63aa28176a3b9fa053": {
          "model_module": "@jupyter-widgets/base",
          "model_name": "LayoutModel",
          "model_module_version": "1.2.0",
          "state": {
            "_model_module": "@jupyter-widgets/base",
            "_model_module_version": "1.2.0",
            "_model_name": "LayoutModel",
            "_view_count": null,
            "_view_module": "@jupyter-widgets/base",
            "_view_module_version": "1.2.0",
            "_view_name": "LayoutView",
            "align_content": null,
            "align_items": null,
            "align_self": null,
            "border": null,
            "bottom": null,
            "display": null,
            "flex": null,
            "flex_flow": null,
            "grid_area": null,
            "grid_auto_columns": null,
            "grid_auto_flow": null,
            "grid_auto_rows": null,
            "grid_column": null,
            "grid_gap": null,
            "grid_row": null,
            "grid_template_areas": null,
            "grid_template_columns": null,
            "grid_template_rows": null,
            "height": null,
            "justify_content": null,
            "justify_items": null,
            "left": null,
            "margin": null,
            "max_height": null,
            "max_width": null,
            "min_height": null,
            "min_width": null,
            "object_fit": null,
            "object_position": null,
            "order": null,
            "overflow": null,
            "overflow_x": null,
            "overflow_y": null,
            "padding": null,
            "right": null,
            "top": null,
            "visibility": null,
            "width": null
          }
        },
        "9b8d323c638f419a807e1c74903335dc": {
          "model_module": "@jupyter-widgets/controls",
          "model_name": "DescriptionStyleModel",
          "model_module_version": "1.5.0",
          "state": {
            "_model_module": "@jupyter-widgets/controls",
            "_model_module_version": "1.5.0",
            "_model_name": "DescriptionStyleModel",
            "_view_count": null,
            "_view_module": "@jupyter-widgets/base",
            "_view_module_version": "1.2.0",
            "_view_name": "StyleView",
            "description_width": ""
          }
        },
        "83f3287ec2ea4222a36b44f9d16e8201": {
          "model_module": "@jupyter-widgets/controls",
          "model_name": "HBoxModel",
          "model_module_version": "1.5.0",
          "state": {
            "_dom_classes": [],
            "_model_module": "@jupyter-widgets/controls",
            "_model_module_version": "1.5.0",
            "_model_name": "HBoxModel",
            "_view_count": null,
            "_view_module": "@jupyter-widgets/controls",
            "_view_module_version": "1.5.0",
            "_view_name": "HBoxView",
            "box_style": "",
            "children": [
              "IPY_MODEL_1548ba667fad4368971c44faf7601573",
              "IPY_MODEL_ccb323548224441696ebb59272a5f6bc",
              "IPY_MODEL_202bbd7cb3664b7ea83b28b3dbb140ce"
            ],
            "layout": "IPY_MODEL_95791f67a02042058ffb7a70373b7537"
          }
        },
        "1548ba667fad4368971c44faf7601573": {
          "model_module": "@jupyter-widgets/controls",
          "model_name": "HTMLModel",
          "model_module_version": "1.5.0",
          "state": {
            "_dom_classes": [],
            "_model_module": "@jupyter-widgets/controls",
            "_model_module_version": "1.5.0",
            "_model_name": "HTMLModel",
            "_view_count": null,
            "_view_module": "@jupyter-widgets/controls",
            "_view_module_version": "1.5.0",
            "_view_name": "HTMLView",
            "description": "",
            "description_tooltip": null,
            "layout": "IPY_MODEL_8af59f5d8b4d4194b3948e537a4c5497",
            "placeholder": "​",
            "style": "IPY_MODEL_96a83c4c8ded43c7b2565dfdbe2fb8c9",
            "value": "tokenizer_config.json: 100%"
          }
        },
        "ccb323548224441696ebb59272a5f6bc": {
          "model_module": "@jupyter-widgets/controls",
          "model_name": "FloatProgressModel",
          "model_module_version": "1.5.0",
          "state": {
            "_dom_classes": [],
            "_model_module": "@jupyter-widgets/controls",
            "_model_module_version": "1.5.0",
            "_model_name": "FloatProgressModel",
            "_view_count": null,
            "_view_module": "@jupyter-widgets/controls",
            "_view_module_version": "1.5.0",
            "_view_name": "ProgressView",
            "bar_style": "success",
            "description": "",
            "description_tooltip": null,
            "layout": "IPY_MODEL_a9c0ff33feb747b692c1738127a10fc1",
            "max": 252,
            "min": 0,
            "orientation": "horizontal",
            "style": "IPY_MODEL_e5d57a29fb4545c9ade1c14cf79a2560",
            "value": 252
          }
        },
        "202bbd7cb3664b7ea83b28b3dbb140ce": {
          "model_module": "@jupyter-widgets/controls",
          "model_name": "HTMLModel",
          "model_module_version": "1.5.0",
          "state": {
            "_dom_classes": [],
            "_model_module": "@jupyter-widgets/controls",
            "_model_module_version": "1.5.0",
            "_model_name": "HTMLModel",
            "_view_count": null,
            "_view_module": "@jupyter-widgets/controls",
            "_view_module_version": "1.5.0",
            "_view_name": "HTMLView",
            "description": "",
            "description_tooltip": null,
            "layout": "IPY_MODEL_d0a9908fad6344f9b1d129d02361e65a",
            "placeholder": "​",
            "style": "IPY_MODEL_a5fb21a3cc6f465c9576448951af0489",
            "value": " 252/252 [00:00&lt;00:00, 3.64kB/s]"
          }
        },
        "95791f67a02042058ffb7a70373b7537": {
          "model_module": "@jupyter-widgets/base",
          "model_name": "LayoutModel",
          "model_module_version": "1.2.0",
          "state": {
            "_model_module": "@jupyter-widgets/base",
            "_model_module_version": "1.2.0",
            "_model_name": "LayoutModel",
            "_view_count": null,
            "_view_module": "@jupyter-widgets/base",
            "_view_module_version": "1.2.0",
            "_view_name": "LayoutView",
            "align_content": null,
            "align_items": null,
            "align_self": null,
            "border": null,
            "bottom": null,
            "display": null,
            "flex": null,
            "flex_flow": null,
            "grid_area": null,
            "grid_auto_columns": null,
            "grid_auto_flow": null,
            "grid_auto_rows": null,
            "grid_column": null,
            "grid_gap": null,
            "grid_row": null,
            "grid_template_areas": null,
            "grid_template_columns": null,
            "grid_template_rows": null,
            "height": null,
            "justify_content": null,
            "justify_items": null,
            "left": null,
            "margin": null,
            "max_height": null,
            "max_width": null,
            "min_height": null,
            "min_width": null,
            "object_fit": null,
            "object_position": null,
            "order": null,
            "overflow": null,
            "overflow_x": null,
            "overflow_y": null,
            "padding": null,
            "right": null,
            "top": null,
            "visibility": null,
            "width": null
          }
        },
        "8af59f5d8b4d4194b3948e537a4c5497": {
          "model_module": "@jupyter-widgets/base",
          "model_name": "LayoutModel",
          "model_module_version": "1.2.0",
          "state": {
            "_model_module": "@jupyter-widgets/base",
            "_model_module_version": "1.2.0",
            "_model_name": "LayoutModel",
            "_view_count": null,
            "_view_module": "@jupyter-widgets/base",
            "_view_module_version": "1.2.0",
            "_view_name": "LayoutView",
            "align_content": null,
            "align_items": null,
            "align_self": null,
            "border": null,
            "bottom": null,
            "display": null,
            "flex": null,
            "flex_flow": null,
            "grid_area": null,
            "grid_auto_columns": null,
            "grid_auto_flow": null,
            "grid_auto_rows": null,
            "grid_column": null,
            "grid_gap": null,
            "grid_row": null,
            "grid_template_areas": null,
            "grid_template_columns": null,
            "grid_template_rows": null,
            "height": null,
            "justify_content": null,
            "justify_items": null,
            "left": null,
            "margin": null,
            "max_height": null,
            "max_width": null,
            "min_height": null,
            "min_width": null,
            "object_fit": null,
            "object_position": null,
            "order": null,
            "overflow": null,
            "overflow_x": null,
            "overflow_y": null,
            "padding": null,
            "right": null,
            "top": null,
            "visibility": null,
            "width": null
          }
        },
        "96a83c4c8ded43c7b2565dfdbe2fb8c9": {
          "model_module": "@jupyter-widgets/controls",
          "model_name": "DescriptionStyleModel",
          "model_module_version": "1.5.0",
          "state": {
            "_model_module": "@jupyter-widgets/controls",
            "_model_module_version": "1.5.0",
            "_model_name": "DescriptionStyleModel",
            "_view_count": null,
            "_view_module": "@jupyter-widgets/base",
            "_view_module_version": "1.2.0",
            "_view_name": "StyleView",
            "description_width": ""
          }
        },
        "a9c0ff33feb747b692c1738127a10fc1": {
          "model_module": "@jupyter-widgets/base",
          "model_name": "LayoutModel",
          "model_module_version": "1.2.0",
          "state": {
            "_model_module": "@jupyter-widgets/base",
            "_model_module_version": "1.2.0",
            "_model_name": "LayoutModel",
            "_view_count": null,
            "_view_module": "@jupyter-widgets/base",
            "_view_module_version": "1.2.0",
            "_view_name": "LayoutView",
            "align_content": null,
            "align_items": null,
            "align_self": null,
            "border": null,
            "bottom": null,
            "display": null,
            "flex": null,
            "flex_flow": null,
            "grid_area": null,
            "grid_auto_columns": null,
            "grid_auto_flow": null,
            "grid_auto_rows": null,
            "grid_column": null,
            "grid_gap": null,
            "grid_row": null,
            "grid_template_areas": null,
            "grid_template_columns": null,
            "grid_template_rows": null,
            "height": null,
            "justify_content": null,
            "justify_items": null,
            "left": null,
            "margin": null,
            "max_height": null,
            "max_width": null,
            "min_height": null,
            "min_width": null,
            "object_fit": null,
            "object_position": null,
            "order": null,
            "overflow": null,
            "overflow_x": null,
            "overflow_y": null,
            "padding": null,
            "right": null,
            "top": null,
            "visibility": null,
            "width": null
          }
        },
        "e5d57a29fb4545c9ade1c14cf79a2560": {
          "model_module": "@jupyter-widgets/controls",
          "model_name": "ProgressStyleModel",
          "model_module_version": "1.5.0",
          "state": {
            "_model_module": "@jupyter-widgets/controls",
            "_model_module_version": "1.5.0",
            "_model_name": "ProgressStyleModel",
            "_view_count": null,
            "_view_module": "@jupyter-widgets/base",
            "_view_module_version": "1.2.0",
            "_view_name": "StyleView",
            "bar_color": null,
            "description_width": ""
          }
        },
        "d0a9908fad6344f9b1d129d02361e65a": {
          "model_module": "@jupyter-widgets/base",
          "model_name": "LayoutModel",
          "model_module_version": "1.2.0",
          "state": {
            "_model_module": "@jupyter-widgets/base",
            "_model_module_version": "1.2.0",
            "_model_name": "LayoutModel",
            "_view_count": null,
            "_view_module": "@jupyter-widgets/base",
            "_view_module_version": "1.2.0",
            "_view_name": "LayoutView",
            "align_content": null,
            "align_items": null,
            "align_self": null,
            "border": null,
            "bottom": null,
            "display": null,
            "flex": null,
            "flex_flow": null,
            "grid_area": null,
            "grid_auto_columns": null,
            "grid_auto_flow": null,
            "grid_auto_rows": null,
            "grid_column": null,
            "grid_gap": null,
            "grid_row": null,
            "grid_template_areas": null,
            "grid_template_columns": null,
            "grid_template_rows": null,
            "height": null,
            "justify_content": null,
            "justify_items": null,
            "left": null,
            "margin": null,
            "max_height": null,
            "max_width": null,
            "min_height": null,
            "min_width": null,
            "object_fit": null,
            "object_position": null,
            "order": null,
            "overflow": null,
            "overflow_x": null,
            "overflow_y": null,
            "padding": null,
            "right": null,
            "top": null,
            "visibility": null,
            "width": null
          }
        },
        "a5fb21a3cc6f465c9576448951af0489": {
          "model_module": "@jupyter-widgets/controls",
          "model_name": "DescriptionStyleModel",
          "model_module_version": "1.5.0",
          "state": {
            "_model_module": "@jupyter-widgets/controls",
            "_model_module_version": "1.5.0",
            "_model_name": "DescriptionStyleModel",
            "_view_count": null,
            "_view_module": "@jupyter-widgets/base",
            "_view_module_version": "1.2.0",
            "_view_name": "StyleView",
            "description_width": ""
          }
        },
        "bff0e08bd9884949a83496978a860645": {
          "model_module": "@jupyter-widgets/controls",
          "model_name": "HBoxModel",
          "model_module_version": "1.5.0",
          "state": {
            "_dom_classes": [],
            "_model_module": "@jupyter-widgets/controls",
            "_model_module_version": "1.5.0",
            "_model_name": "HBoxModel",
            "_view_count": null,
            "_view_module": "@jupyter-widgets/controls",
            "_view_module_version": "1.5.0",
            "_view_name": "HBoxView",
            "box_style": "",
            "children": [
              "IPY_MODEL_f443a5892d4547a6a90f6ae4d635f1a1",
              "IPY_MODEL_1d5f93365ed94e339ec6bf853c8acfe3",
              "IPY_MODEL_1ec0469a90ad41179c38e8805a9c091f"
            ],
            "layout": "IPY_MODEL_6dfb994f431f473192b8d80b7a73851b"
          }
        },
        "f443a5892d4547a6a90f6ae4d635f1a1": {
          "model_module": "@jupyter-widgets/controls",
          "model_name": "HTMLModel",
          "model_module_version": "1.5.0",
          "state": {
            "_dom_classes": [],
            "_model_module": "@jupyter-widgets/controls",
            "_model_module_version": "1.5.0",
            "_model_name": "HTMLModel",
            "_view_count": null,
            "_view_module": "@jupyter-widgets/controls",
            "_view_module_version": "1.5.0",
            "_view_name": "HTMLView",
            "description": "",
            "description_tooltip": null,
            "layout": "IPY_MODEL_d3b0630641b546928b93c285336af41c",
            "placeholder": "​",
            "style": "IPY_MODEL_3da66965fa564377b7fb67c508503b12",
            "value": "vocab.txt: 100%"
          }
        },
        "1d5f93365ed94e339ec6bf853c8acfe3": {
          "model_module": "@jupyter-widgets/controls",
          "model_name": "FloatProgressModel",
          "model_module_version": "1.5.0",
          "state": {
            "_dom_classes": [],
            "_model_module": "@jupyter-widgets/controls",
            "_model_module_version": "1.5.0",
            "_model_name": "FloatProgressModel",
            "_view_count": null,
            "_view_module": "@jupyter-widgets/controls",
            "_view_module_version": "1.5.0",
            "_view_name": "ProgressView",
            "bar_style": "success",
            "description": "",
            "description_tooltip": null,
            "layout": "IPY_MODEL_2d17998227f543d9a8b025c1af16da92",
            "max": 231508,
            "min": 0,
            "orientation": "horizontal",
            "style": "IPY_MODEL_af9d4d8382234eafaec4b625bca2cde8",
            "value": 231508
          }
        },
        "1ec0469a90ad41179c38e8805a9c091f": {
          "model_module": "@jupyter-widgets/controls",
          "model_name": "HTMLModel",
          "model_module_version": "1.5.0",
          "state": {
            "_dom_classes": [],
            "_model_module": "@jupyter-widgets/controls",
            "_model_module_version": "1.5.0",
            "_model_name": "HTMLModel",
            "_view_count": null,
            "_view_module": "@jupyter-widgets/controls",
            "_view_module_version": "1.5.0",
            "_view_name": "HTMLView",
            "description": "",
            "description_tooltip": null,
            "layout": "IPY_MODEL_954415ed9d15406587993e9c4b05b78d",
            "placeholder": "​",
            "style": "IPY_MODEL_2343fd09f2774d599c21568917c275a5",
            "value": " 232k/232k [00:00&lt;00:00, 2.26MB/s]"
          }
        },
        "6dfb994f431f473192b8d80b7a73851b": {
          "model_module": "@jupyter-widgets/base",
          "model_name": "LayoutModel",
          "model_module_version": "1.2.0",
          "state": {
            "_model_module": "@jupyter-widgets/base",
            "_model_module_version": "1.2.0",
            "_model_name": "LayoutModel",
            "_view_count": null,
            "_view_module": "@jupyter-widgets/base",
            "_view_module_version": "1.2.0",
            "_view_name": "LayoutView",
            "align_content": null,
            "align_items": null,
            "align_self": null,
            "border": null,
            "bottom": null,
            "display": null,
            "flex": null,
            "flex_flow": null,
            "grid_area": null,
            "grid_auto_columns": null,
            "grid_auto_flow": null,
            "grid_auto_rows": null,
            "grid_column": null,
            "grid_gap": null,
            "grid_row": null,
            "grid_template_areas": null,
            "grid_template_columns": null,
            "grid_template_rows": null,
            "height": null,
            "justify_content": null,
            "justify_items": null,
            "left": null,
            "margin": null,
            "max_height": null,
            "max_width": null,
            "min_height": null,
            "min_width": null,
            "object_fit": null,
            "object_position": null,
            "order": null,
            "overflow": null,
            "overflow_x": null,
            "overflow_y": null,
            "padding": null,
            "right": null,
            "top": null,
            "visibility": null,
            "width": null
          }
        },
        "d3b0630641b546928b93c285336af41c": {
          "model_module": "@jupyter-widgets/base",
          "model_name": "LayoutModel",
          "model_module_version": "1.2.0",
          "state": {
            "_model_module": "@jupyter-widgets/base",
            "_model_module_version": "1.2.0",
            "_model_name": "LayoutModel",
            "_view_count": null,
            "_view_module": "@jupyter-widgets/base",
            "_view_module_version": "1.2.0",
            "_view_name": "LayoutView",
            "align_content": null,
            "align_items": null,
            "align_self": null,
            "border": null,
            "bottom": null,
            "display": null,
            "flex": null,
            "flex_flow": null,
            "grid_area": null,
            "grid_auto_columns": null,
            "grid_auto_flow": null,
            "grid_auto_rows": null,
            "grid_column": null,
            "grid_gap": null,
            "grid_row": null,
            "grid_template_areas": null,
            "grid_template_columns": null,
            "grid_template_rows": null,
            "height": null,
            "justify_content": null,
            "justify_items": null,
            "left": null,
            "margin": null,
            "max_height": null,
            "max_width": null,
            "min_height": null,
            "min_width": null,
            "object_fit": null,
            "object_position": null,
            "order": null,
            "overflow": null,
            "overflow_x": null,
            "overflow_y": null,
            "padding": null,
            "right": null,
            "top": null,
            "visibility": null,
            "width": null
          }
        },
        "3da66965fa564377b7fb67c508503b12": {
          "model_module": "@jupyter-widgets/controls",
          "model_name": "DescriptionStyleModel",
          "model_module_version": "1.5.0",
          "state": {
            "_model_module": "@jupyter-widgets/controls",
            "_model_module_version": "1.5.0",
            "_model_name": "DescriptionStyleModel",
            "_view_count": null,
            "_view_module": "@jupyter-widgets/base",
            "_view_module_version": "1.2.0",
            "_view_name": "StyleView",
            "description_width": ""
          }
        },
        "2d17998227f543d9a8b025c1af16da92": {
          "model_module": "@jupyter-widgets/base",
          "model_name": "LayoutModel",
          "model_module_version": "1.2.0",
          "state": {
            "_model_module": "@jupyter-widgets/base",
            "_model_module_version": "1.2.0",
            "_model_name": "LayoutModel",
            "_view_count": null,
            "_view_module": "@jupyter-widgets/base",
            "_view_module_version": "1.2.0",
            "_view_name": "LayoutView",
            "align_content": null,
            "align_items": null,
            "align_self": null,
            "border": null,
            "bottom": null,
            "display": null,
            "flex": null,
            "flex_flow": null,
            "grid_area": null,
            "grid_auto_columns": null,
            "grid_auto_flow": null,
            "grid_auto_rows": null,
            "grid_column": null,
            "grid_gap": null,
            "grid_row": null,
            "grid_template_areas": null,
            "grid_template_columns": null,
            "grid_template_rows": null,
            "height": null,
            "justify_content": null,
            "justify_items": null,
            "left": null,
            "margin": null,
            "max_height": null,
            "max_width": null,
            "min_height": null,
            "min_width": null,
            "object_fit": null,
            "object_position": null,
            "order": null,
            "overflow": null,
            "overflow_x": null,
            "overflow_y": null,
            "padding": null,
            "right": null,
            "top": null,
            "visibility": null,
            "width": null
          }
        },
        "af9d4d8382234eafaec4b625bca2cde8": {
          "model_module": "@jupyter-widgets/controls",
          "model_name": "ProgressStyleModel",
          "model_module_version": "1.5.0",
          "state": {
            "_model_module": "@jupyter-widgets/controls",
            "_model_module_version": "1.5.0",
            "_model_name": "ProgressStyleModel",
            "_view_count": null,
            "_view_module": "@jupyter-widgets/base",
            "_view_module_version": "1.2.0",
            "_view_name": "StyleView",
            "bar_color": null,
            "description_width": ""
          }
        },
        "954415ed9d15406587993e9c4b05b78d": {
          "model_module": "@jupyter-widgets/base",
          "model_name": "LayoutModel",
          "model_module_version": "1.2.0",
          "state": {
            "_model_module": "@jupyter-widgets/base",
            "_model_module_version": "1.2.0",
            "_model_name": "LayoutModel",
            "_view_count": null,
            "_view_module": "@jupyter-widgets/base",
            "_view_module_version": "1.2.0",
            "_view_name": "LayoutView",
            "align_content": null,
            "align_items": null,
            "align_self": null,
            "border": null,
            "bottom": null,
            "display": null,
            "flex": null,
            "flex_flow": null,
            "grid_area": null,
            "grid_auto_columns": null,
            "grid_auto_flow": null,
            "grid_auto_rows": null,
            "grid_column": null,
            "grid_gap": null,
            "grid_row": null,
            "grid_template_areas": null,
            "grid_template_columns": null,
            "grid_template_rows": null,
            "height": null,
            "justify_content": null,
            "justify_items": null,
            "left": null,
            "margin": null,
            "max_height": null,
            "max_width": null,
            "min_height": null,
            "min_width": null,
            "object_fit": null,
            "object_position": null,
            "order": null,
            "overflow": null,
            "overflow_x": null,
            "overflow_y": null,
            "padding": null,
            "right": null,
            "top": null,
            "visibility": null,
            "width": null
          }
        },
        "2343fd09f2774d599c21568917c275a5": {
          "model_module": "@jupyter-widgets/controls",
          "model_name": "DescriptionStyleModel",
          "model_module_version": "1.5.0",
          "state": {
            "_model_module": "@jupyter-widgets/controls",
            "_model_module_version": "1.5.0",
            "_model_name": "DescriptionStyleModel",
            "_view_count": null,
            "_view_module": "@jupyter-widgets/base",
            "_view_module_version": "1.2.0",
            "_view_name": "StyleView",
            "description_width": ""
          }
        },
        "473f0f3b73bb4fb2b7ca29c1fcd39689": {
          "model_module": "@jupyter-widgets/controls",
          "model_name": "HBoxModel",
          "model_module_version": "1.5.0",
          "state": {
            "_dom_classes": [],
            "_model_module": "@jupyter-widgets/controls",
            "_model_module_version": "1.5.0",
            "_model_name": "HBoxModel",
            "_view_count": null,
            "_view_module": "@jupyter-widgets/controls",
            "_view_module_version": "1.5.0",
            "_view_name": "HBoxView",
            "box_style": "",
            "children": [
              "IPY_MODEL_ee913cf95a2c49d6b6d9d503bee03129",
              "IPY_MODEL_b72c850b674d4e9db53148a71210ceb9",
              "IPY_MODEL_d3828ac0a25048268f5804dc308d100b"
            ],
            "layout": "IPY_MODEL_44d076e65a2a4efe8be193f36e03a5b3"
          }
        },
        "ee913cf95a2c49d6b6d9d503bee03129": {
          "model_module": "@jupyter-widgets/controls",
          "model_name": "HTMLModel",
          "model_module_version": "1.5.0",
          "state": {
            "_dom_classes": [],
            "_model_module": "@jupyter-widgets/controls",
            "_model_module_version": "1.5.0",
            "_model_name": "HTMLModel",
            "_view_count": null,
            "_view_module": "@jupyter-widgets/controls",
            "_view_module_version": "1.5.0",
            "_view_name": "HTMLView",
            "description": "",
            "description_tooltip": null,
            "layout": "IPY_MODEL_4725d801d7b14c41b7b048a15be2ac7b",
            "placeholder": "​",
            "style": "IPY_MODEL_c558bdda0b42448d850bad783ecac6ad",
            "value": "special_tokens_map.json: 100%"
          }
        },
        "b72c850b674d4e9db53148a71210ceb9": {
          "model_module": "@jupyter-widgets/controls",
          "model_name": "FloatProgressModel",
          "model_module_version": "1.5.0",
          "state": {
            "_dom_classes": [],
            "_model_module": "@jupyter-widgets/controls",
            "_model_module_version": "1.5.0",
            "_model_name": "FloatProgressModel",
            "_view_count": null,
            "_view_module": "@jupyter-widgets/controls",
            "_view_module_version": "1.5.0",
            "_view_name": "ProgressView",
            "bar_style": "success",
            "description": "",
            "description_tooltip": null,
            "layout": "IPY_MODEL_2127b41ebda94b289af729c415158dc8",
            "max": 112,
            "min": 0,
            "orientation": "horizontal",
            "style": "IPY_MODEL_6c9febbbf4b8421ea9fa0ccd93fe7303",
            "value": 112
          }
        },
        "d3828ac0a25048268f5804dc308d100b": {
          "model_module": "@jupyter-widgets/controls",
          "model_name": "HTMLModel",
          "model_module_version": "1.5.0",
          "state": {
            "_dom_classes": [],
            "_model_module": "@jupyter-widgets/controls",
            "_model_module_version": "1.5.0",
            "_model_name": "HTMLModel",
            "_view_count": null,
            "_view_module": "@jupyter-widgets/controls",
            "_view_module_version": "1.5.0",
            "_view_name": "HTMLView",
            "description": "",
            "description_tooltip": null,
            "layout": "IPY_MODEL_0c03cf7fd6804fb39f32791f3ea47b99",
            "placeholder": "​",
            "style": "IPY_MODEL_3da0921d95ec40b2a2606ebf3f89a29c",
            "value": " 112/112 [00:00&lt;00:00, 1.80kB/s]"
          }
        },
        "44d076e65a2a4efe8be193f36e03a5b3": {
          "model_module": "@jupyter-widgets/base",
          "model_name": "LayoutModel",
          "model_module_version": "1.2.0",
          "state": {
            "_model_module": "@jupyter-widgets/base",
            "_model_module_version": "1.2.0",
            "_model_name": "LayoutModel",
            "_view_count": null,
            "_view_module": "@jupyter-widgets/base",
            "_view_module_version": "1.2.0",
            "_view_name": "LayoutView",
            "align_content": null,
            "align_items": null,
            "align_self": null,
            "border": null,
            "bottom": null,
            "display": null,
            "flex": null,
            "flex_flow": null,
            "grid_area": null,
            "grid_auto_columns": null,
            "grid_auto_flow": null,
            "grid_auto_rows": null,
            "grid_column": null,
            "grid_gap": null,
            "grid_row": null,
            "grid_template_areas": null,
            "grid_template_columns": null,
            "grid_template_rows": null,
            "height": null,
            "justify_content": null,
            "justify_items": null,
            "left": null,
            "margin": null,
            "max_height": null,
            "max_width": null,
            "min_height": null,
            "min_width": null,
            "object_fit": null,
            "object_position": null,
            "order": null,
            "overflow": null,
            "overflow_x": null,
            "overflow_y": null,
            "padding": null,
            "right": null,
            "top": null,
            "visibility": null,
            "width": null
          }
        },
        "4725d801d7b14c41b7b048a15be2ac7b": {
          "model_module": "@jupyter-widgets/base",
          "model_name": "LayoutModel",
          "model_module_version": "1.2.0",
          "state": {
            "_model_module": "@jupyter-widgets/base",
            "_model_module_version": "1.2.0",
            "_model_name": "LayoutModel",
            "_view_count": null,
            "_view_module": "@jupyter-widgets/base",
            "_view_module_version": "1.2.0",
            "_view_name": "LayoutView",
            "align_content": null,
            "align_items": null,
            "align_self": null,
            "border": null,
            "bottom": null,
            "display": null,
            "flex": null,
            "flex_flow": null,
            "grid_area": null,
            "grid_auto_columns": null,
            "grid_auto_flow": null,
            "grid_auto_rows": null,
            "grid_column": null,
            "grid_gap": null,
            "grid_row": null,
            "grid_template_areas": null,
            "grid_template_columns": null,
            "grid_template_rows": null,
            "height": null,
            "justify_content": null,
            "justify_items": null,
            "left": null,
            "margin": null,
            "max_height": null,
            "max_width": null,
            "min_height": null,
            "min_width": null,
            "object_fit": null,
            "object_position": null,
            "order": null,
            "overflow": null,
            "overflow_x": null,
            "overflow_y": null,
            "padding": null,
            "right": null,
            "top": null,
            "visibility": null,
            "width": null
          }
        },
        "c558bdda0b42448d850bad783ecac6ad": {
          "model_module": "@jupyter-widgets/controls",
          "model_name": "DescriptionStyleModel",
          "model_module_version": "1.5.0",
          "state": {
            "_model_module": "@jupyter-widgets/controls",
            "_model_module_version": "1.5.0",
            "_model_name": "DescriptionStyleModel",
            "_view_count": null,
            "_view_module": "@jupyter-widgets/base",
            "_view_module_version": "1.2.0",
            "_view_name": "StyleView",
            "description_width": ""
          }
        },
        "2127b41ebda94b289af729c415158dc8": {
          "model_module": "@jupyter-widgets/base",
          "model_name": "LayoutModel",
          "model_module_version": "1.2.0",
          "state": {
            "_model_module": "@jupyter-widgets/base",
            "_model_module_version": "1.2.0",
            "_model_name": "LayoutModel",
            "_view_count": null,
            "_view_module": "@jupyter-widgets/base",
            "_view_module_version": "1.2.0",
            "_view_name": "LayoutView",
            "align_content": null,
            "align_items": null,
            "align_self": null,
            "border": null,
            "bottom": null,
            "display": null,
            "flex": null,
            "flex_flow": null,
            "grid_area": null,
            "grid_auto_columns": null,
            "grid_auto_flow": null,
            "grid_auto_rows": null,
            "grid_column": null,
            "grid_gap": null,
            "grid_row": null,
            "grid_template_areas": null,
            "grid_template_columns": null,
            "grid_template_rows": null,
            "height": null,
            "justify_content": null,
            "justify_items": null,
            "left": null,
            "margin": null,
            "max_height": null,
            "max_width": null,
            "min_height": null,
            "min_width": null,
            "object_fit": null,
            "object_position": null,
            "order": null,
            "overflow": null,
            "overflow_x": null,
            "overflow_y": null,
            "padding": null,
            "right": null,
            "top": null,
            "visibility": null,
            "width": null
          }
        },
        "6c9febbbf4b8421ea9fa0ccd93fe7303": {
          "model_module": "@jupyter-widgets/controls",
          "model_name": "ProgressStyleModel",
          "model_module_version": "1.5.0",
          "state": {
            "_model_module": "@jupyter-widgets/controls",
            "_model_module_version": "1.5.0",
            "_model_name": "ProgressStyleModel",
            "_view_count": null,
            "_view_module": "@jupyter-widgets/base",
            "_view_module_version": "1.2.0",
            "_view_name": "StyleView",
            "bar_color": null,
            "description_width": ""
          }
        },
        "0c03cf7fd6804fb39f32791f3ea47b99": {
          "model_module": "@jupyter-widgets/base",
          "model_name": "LayoutModel",
          "model_module_version": "1.2.0",
          "state": {
            "_model_module": "@jupyter-widgets/base",
            "_model_module_version": "1.2.0",
            "_model_name": "LayoutModel",
            "_view_count": null,
            "_view_module": "@jupyter-widgets/base",
            "_view_module_version": "1.2.0",
            "_view_name": "LayoutView",
            "align_content": null,
            "align_items": null,
            "align_self": null,
            "border": null,
            "bottom": null,
            "display": null,
            "flex": null,
            "flex_flow": null,
            "grid_area": null,
            "grid_auto_columns": null,
            "grid_auto_flow": null,
            "grid_auto_rows": null,
            "grid_column": null,
            "grid_gap": null,
            "grid_row": null,
            "grid_template_areas": null,
            "grid_template_columns": null,
            "grid_template_rows": null,
            "height": null,
            "justify_content": null,
            "justify_items": null,
            "left": null,
            "margin": null,
            "max_height": null,
            "max_width": null,
            "min_height": null,
            "min_width": null,
            "object_fit": null,
            "object_position": null,
            "order": null,
            "overflow": null,
            "overflow_x": null,
            "overflow_y": null,
            "padding": null,
            "right": null,
            "top": null,
            "visibility": null,
            "width": null
          }
        },
        "3da0921d95ec40b2a2606ebf3f89a29c": {
          "model_module": "@jupyter-widgets/controls",
          "model_name": "DescriptionStyleModel",
          "model_module_version": "1.5.0",
          "state": {
            "_model_module": "@jupyter-widgets/controls",
            "_model_module_version": "1.5.0",
            "_model_name": "DescriptionStyleModel",
            "_view_count": null,
            "_view_module": "@jupyter-widgets/base",
            "_view_module_version": "1.2.0",
            "_view_name": "StyleView",
            "description_width": ""
          }
        },
        "dd33e47f39bf46859e9dce26049f262f": {
          "model_module": "@jupyter-widgets/controls",
          "model_name": "HBoxModel",
          "model_module_version": "1.5.0",
          "state": {
            "_dom_classes": [],
            "_model_module": "@jupyter-widgets/controls",
            "_model_module_version": "1.5.0",
            "_model_name": "HBoxModel",
            "_view_count": null,
            "_view_module": "@jupyter-widgets/controls",
            "_view_module_version": "1.5.0",
            "_view_name": "HBoxView",
            "box_style": "",
            "children": [
              "IPY_MODEL_94ad289863e8443d87507604c9b36cf9",
              "IPY_MODEL_20fa8b988ddc4b9dac55f3dd34ffab1e",
              "IPY_MODEL_bc92ae11085f488fa6571e1580e1e359"
            ],
            "layout": "IPY_MODEL_448a2c2117cf42ea86df6afe261e142d"
          }
        },
        "94ad289863e8443d87507604c9b36cf9": {
          "model_module": "@jupyter-widgets/controls",
          "model_name": "HTMLModel",
          "model_module_version": "1.5.0",
          "state": {
            "_dom_classes": [],
            "_model_module": "@jupyter-widgets/controls",
            "_model_module_version": "1.5.0",
            "_model_name": "HTMLModel",
            "_view_count": null,
            "_view_module": "@jupyter-widgets/controls",
            "_view_module_version": "1.5.0",
            "_view_name": "HTMLView",
            "description": "",
            "description_tooltip": null,
            "layout": "IPY_MODEL_efc2e00ca00c415ebc26f30e59d54c25",
            "placeholder": "​",
            "style": "IPY_MODEL_13cdc193b98546f0a1fd32b62feb54bd",
            "value": "config.json: 100%"
          }
        },
        "20fa8b988ddc4b9dac55f3dd34ffab1e": {
          "model_module": "@jupyter-widgets/controls",
          "model_name": "FloatProgressModel",
          "model_module_version": "1.5.0",
          "state": {
            "_dom_classes": [],
            "_model_module": "@jupyter-widgets/controls",
            "_model_module_version": "1.5.0",
            "_model_name": "FloatProgressModel",
            "_view_count": null,
            "_view_module": "@jupyter-widgets/controls",
            "_view_module_version": "1.5.0",
            "_view_name": "ProgressView",
            "bar_style": "success",
            "description": "",
            "description_tooltip": null,
            "layout": "IPY_MODEL_1fc239f34b804d37ad5916c09766c2d6",
            "max": 747,
            "min": 0,
            "orientation": "horizontal",
            "style": "IPY_MODEL_d3e14f01d88544059c3f20a7ad4770cb",
            "value": 747
          }
        },
        "bc92ae11085f488fa6571e1580e1e359": {
          "model_module": "@jupyter-widgets/controls",
          "model_name": "HTMLModel",
          "model_module_version": "1.5.0",
          "state": {
            "_dom_classes": [],
            "_model_module": "@jupyter-widgets/controls",
            "_model_module_version": "1.5.0",
            "_model_name": "HTMLModel",
            "_view_count": null,
            "_view_module": "@jupyter-widgets/controls",
            "_view_module_version": "1.5.0",
            "_view_name": "HTMLView",
            "description": "",
            "description_tooltip": null,
            "layout": "IPY_MODEL_7b11d4252d79493097621401b284a9b5",
            "placeholder": "​",
            "style": "IPY_MODEL_a482312b20b34b3bb6d9da25091f5d98",
            "value": " 747/747 [00:00&lt;00:00, 21.7kB/s]"
          }
        },
        "448a2c2117cf42ea86df6afe261e142d": {
          "model_module": "@jupyter-widgets/base",
          "model_name": "LayoutModel",
          "model_module_version": "1.2.0",
          "state": {
            "_model_module": "@jupyter-widgets/base",
            "_model_module_version": "1.2.0",
            "_model_name": "LayoutModel",
            "_view_count": null,
            "_view_module": "@jupyter-widgets/base",
            "_view_module_version": "1.2.0",
            "_view_name": "LayoutView",
            "align_content": null,
            "align_items": null,
            "align_self": null,
            "border": null,
            "bottom": null,
            "display": null,
            "flex": null,
            "flex_flow": null,
            "grid_area": null,
            "grid_auto_columns": null,
            "grid_auto_flow": null,
            "grid_auto_rows": null,
            "grid_column": null,
            "grid_gap": null,
            "grid_row": null,
            "grid_template_areas": null,
            "grid_template_columns": null,
            "grid_template_rows": null,
            "height": null,
            "justify_content": null,
            "justify_items": null,
            "left": null,
            "margin": null,
            "max_height": null,
            "max_width": null,
            "min_height": null,
            "min_width": null,
            "object_fit": null,
            "object_position": null,
            "order": null,
            "overflow": null,
            "overflow_x": null,
            "overflow_y": null,
            "padding": null,
            "right": null,
            "top": null,
            "visibility": null,
            "width": null
          }
        },
        "efc2e00ca00c415ebc26f30e59d54c25": {
          "model_module": "@jupyter-widgets/base",
          "model_name": "LayoutModel",
          "model_module_version": "1.2.0",
          "state": {
            "_model_module": "@jupyter-widgets/base",
            "_model_module_version": "1.2.0",
            "_model_name": "LayoutModel",
            "_view_count": null,
            "_view_module": "@jupyter-widgets/base",
            "_view_module_version": "1.2.0",
            "_view_name": "LayoutView",
            "align_content": null,
            "align_items": null,
            "align_self": null,
            "border": null,
            "bottom": null,
            "display": null,
            "flex": null,
            "flex_flow": null,
            "grid_area": null,
            "grid_auto_columns": null,
            "grid_auto_flow": null,
            "grid_auto_rows": null,
            "grid_column": null,
            "grid_gap": null,
            "grid_row": null,
            "grid_template_areas": null,
            "grid_template_columns": null,
            "grid_template_rows": null,
            "height": null,
            "justify_content": null,
            "justify_items": null,
            "left": null,
            "margin": null,
            "max_height": null,
            "max_width": null,
            "min_height": null,
            "min_width": null,
            "object_fit": null,
            "object_position": null,
            "order": null,
            "overflow": null,
            "overflow_x": null,
            "overflow_y": null,
            "padding": null,
            "right": null,
            "top": null,
            "visibility": null,
            "width": null
          }
        },
        "13cdc193b98546f0a1fd32b62feb54bd": {
          "model_module": "@jupyter-widgets/controls",
          "model_name": "DescriptionStyleModel",
          "model_module_version": "1.5.0",
          "state": {
            "_model_module": "@jupyter-widgets/controls",
            "_model_module_version": "1.5.0",
            "_model_name": "DescriptionStyleModel",
            "_view_count": null,
            "_view_module": "@jupyter-widgets/base",
            "_view_module_version": "1.2.0",
            "_view_name": "StyleView",
            "description_width": ""
          }
        },
        "1fc239f34b804d37ad5916c09766c2d6": {
          "model_module": "@jupyter-widgets/base",
          "model_name": "LayoutModel",
          "model_module_version": "1.2.0",
          "state": {
            "_model_module": "@jupyter-widgets/base",
            "_model_module_version": "1.2.0",
            "_model_name": "LayoutModel",
            "_view_count": null,
            "_view_module": "@jupyter-widgets/base",
            "_view_module_version": "1.2.0",
            "_view_name": "LayoutView",
            "align_content": null,
            "align_items": null,
            "align_self": null,
            "border": null,
            "bottom": null,
            "display": null,
            "flex": null,
            "flex_flow": null,
            "grid_area": null,
            "grid_auto_columns": null,
            "grid_auto_flow": null,
            "grid_auto_rows": null,
            "grid_column": null,
            "grid_gap": null,
            "grid_row": null,
            "grid_template_areas": null,
            "grid_template_columns": null,
            "grid_template_rows": null,
            "height": null,
            "justify_content": null,
            "justify_items": null,
            "left": null,
            "margin": null,
            "max_height": null,
            "max_width": null,
            "min_height": null,
            "min_width": null,
            "object_fit": null,
            "object_position": null,
            "order": null,
            "overflow": null,
            "overflow_x": null,
            "overflow_y": null,
            "padding": null,
            "right": null,
            "top": null,
            "visibility": null,
            "width": null
          }
        },
        "d3e14f01d88544059c3f20a7ad4770cb": {
          "model_module": "@jupyter-widgets/controls",
          "model_name": "ProgressStyleModel",
          "model_module_version": "1.5.0",
          "state": {
            "_model_module": "@jupyter-widgets/controls",
            "_model_module_version": "1.5.0",
            "_model_name": "ProgressStyleModel",
            "_view_count": null,
            "_view_module": "@jupyter-widgets/base",
            "_view_module_version": "1.2.0",
            "_view_name": "StyleView",
            "bar_color": null,
            "description_width": ""
          }
        },
        "7b11d4252d79493097621401b284a9b5": {
          "model_module": "@jupyter-widgets/base",
          "model_name": "LayoutModel",
          "model_module_version": "1.2.0",
          "state": {
            "_model_module": "@jupyter-widgets/base",
            "_model_module_version": "1.2.0",
            "_model_name": "LayoutModel",
            "_view_count": null,
            "_view_module": "@jupyter-widgets/base",
            "_view_module_version": "1.2.0",
            "_view_name": "LayoutView",
            "align_content": null,
            "align_items": null,
            "align_self": null,
            "border": null,
            "bottom": null,
            "display": null,
            "flex": null,
            "flex_flow": null,
            "grid_area": null,
            "grid_auto_columns": null,
            "grid_auto_flow": null,
            "grid_auto_rows": null,
            "grid_column": null,
            "grid_gap": null,
            "grid_row": null,
            "grid_template_areas": null,
            "grid_template_columns": null,
            "grid_template_rows": null,
            "height": null,
            "justify_content": null,
            "justify_items": null,
            "left": null,
            "margin": null,
            "max_height": null,
            "max_width": null,
            "min_height": null,
            "min_width": null,
            "object_fit": null,
            "object_position": null,
            "order": null,
            "overflow": null,
            "overflow_x": null,
            "overflow_y": null,
            "padding": null,
            "right": null,
            "top": null,
            "visibility": null,
            "width": null
          }
        },
        "a482312b20b34b3bb6d9da25091f5d98": {
          "model_module": "@jupyter-widgets/controls",
          "model_name": "DescriptionStyleModel",
          "model_module_version": "1.5.0",
          "state": {
            "_model_module": "@jupyter-widgets/controls",
            "_model_module_version": "1.5.0",
            "_model_name": "DescriptionStyleModel",
            "_view_count": null,
            "_view_module": "@jupyter-widgets/base",
            "_view_module_version": "1.2.0",
            "_view_name": "StyleView",
            "description_width": ""
          }
        },
        "c39f821a39c144ada9c4b037eaf19fc9": {
          "model_module": "@jupyter-widgets/controls",
          "model_name": "HBoxModel",
          "model_module_version": "1.5.0",
          "state": {
            "_dom_classes": [],
            "_model_module": "@jupyter-widgets/controls",
            "_model_module_version": "1.5.0",
            "_model_name": "HBoxModel",
            "_view_count": null,
            "_view_module": "@jupyter-widgets/controls",
            "_view_module_version": "1.5.0",
            "_view_name": "HBoxView",
            "box_style": "",
            "children": [
              "IPY_MODEL_08b1fc7018ff4a63bb2cd0321d16328d",
              "IPY_MODEL_8a87cf7fbd1e45fc8cd683af5412b2ec",
              "IPY_MODEL_eae0eaae864b4a1589a69293597051fe"
            ],
            "layout": "IPY_MODEL_301444b4c33b4c0bbadc5524e9d6b540"
          }
        },
        "08b1fc7018ff4a63bb2cd0321d16328d": {
          "model_module": "@jupyter-widgets/controls",
          "model_name": "HTMLModel",
          "model_module_version": "1.5.0",
          "state": {
            "_dom_classes": [],
            "_model_module": "@jupyter-widgets/controls",
            "_model_module_version": "1.5.0",
            "_model_name": "HTMLModel",
            "_view_count": null,
            "_view_module": "@jupyter-widgets/controls",
            "_view_module_version": "1.5.0",
            "_view_name": "HTMLView",
            "description": "",
            "description_tooltip": null,
            "layout": "IPY_MODEL_e0756cddf5414f429a9fcf0516104e63",
            "placeholder": "​",
            "style": "IPY_MODEL_73e4cad3615e48719ca712b6d1976816",
            "value": "pytorch_model.bin: 100%"
          }
        },
        "8a87cf7fbd1e45fc8cd683af5412b2ec": {
          "model_module": "@jupyter-widgets/controls",
          "model_name": "FloatProgressModel",
          "model_module_version": "1.5.0",
          "state": {
            "_dom_classes": [],
            "_model_module": "@jupyter-widgets/controls",
            "_model_module_version": "1.5.0",
            "_model_name": "FloatProgressModel",
            "_view_count": null,
            "_view_module": "@jupyter-widgets/controls",
            "_view_module_version": "1.5.0",
            "_view_name": "ProgressView",
            "bar_style": "success",
            "description": "",
            "description_tooltip": null,
            "layout": "IPY_MODEL_0d1eb6f9f7bc444492518f678815486b",
            "max": 498679497,
            "min": 0,
            "orientation": "horizontal",
            "style": "IPY_MODEL_fb1377a933804ab5b4775b184db0f916",
            "value": 498679497
          }
        },
        "eae0eaae864b4a1589a69293597051fe": {
          "model_module": "@jupyter-widgets/controls",
          "model_name": "HTMLModel",
          "model_module_version": "1.5.0",
          "state": {
            "_dom_classes": [],
            "_model_module": "@jupyter-widgets/controls",
            "_model_module_version": "1.5.0",
            "_model_name": "HTMLModel",
            "_view_count": null,
            "_view_module": "@jupyter-widgets/controls",
            "_view_module_version": "1.5.0",
            "_view_name": "HTMLView",
            "description": "",
            "description_tooltip": null,
            "layout": "IPY_MODEL_09852046fc9a4f70a483d6cca1c45055",
            "placeholder": "​",
            "style": "IPY_MODEL_6e1a03949b0349e1b18394befeeea34b",
            "value": " 499M/499M [00:17&lt;00:00, 29.6MB/s]"
          }
        },
        "301444b4c33b4c0bbadc5524e9d6b540": {
          "model_module": "@jupyter-widgets/base",
          "model_name": "LayoutModel",
          "model_module_version": "1.2.0",
          "state": {
            "_model_module": "@jupyter-widgets/base",
            "_model_module_version": "1.2.0",
            "_model_name": "LayoutModel",
            "_view_count": null,
            "_view_module": "@jupyter-widgets/base",
            "_view_module_version": "1.2.0",
            "_view_name": "LayoutView",
            "align_content": null,
            "align_items": null,
            "align_self": null,
            "border": null,
            "bottom": null,
            "display": null,
            "flex": null,
            "flex_flow": null,
            "grid_area": null,
            "grid_auto_columns": null,
            "grid_auto_flow": null,
            "grid_auto_rows": null,
            "grid_column": null,
            "grid_gap": null,
            "grid_row": null,
            "grid_template_areas": null,
            "grid_template_columns": null,
            "grid_template_rows": null,
            "height": null,
            "justify_content": null,
            "justify_items": null,
            "left": null,
            "margin": null,
            "max_height": null,
            "max_width": null,
            "min_height": null,
            "min_width": null,
            "object_fit": null,
            "object_position": null,
            "order": null,
            "overflow": null,
            "overflow_x": null,
            "overflow_y": null,
            "padding": null,
            "right": null,
            "top": null,
            "visibility": null,
            "width": null
          }
        },
        "e0756cddf5414f429a9fcf0516104e63": {
          "model_module": "@jupyter-widgets/base",
          "model_name": "LayoutModel",
          "model_module_version": "1.2.0",
          "state": {
            "_model_module": "@jupyter-widgets/base",
            "_model_module_version": "1.2.0",
            "_model_name": "LayoutModel",
            "_view_count": null,
            "_view_module": "@jupyter-widgets/base",
            "_view_module_version": "1.2.0",
            "_view_name": "LayoutView",
            "align_content": null,
            "align_items": null,
            "align_self": null,
            "border": null,
            "bottom": null,
            "display": null,
            "flex": null,
            "flex_flow": null,
            "grid_area": null,
            "grid_auto_columns": null,
            "grid_auto_flow": null,
            "grid_auto_rows": null,
            "grid_column": null,
            "grid_gap": null,
            "grid_row": null,
            "grid_template_areas": null,
            "grid_template_columns": null,
            "grid_template_rows": null,
            "height": null,
            "justify_content": null,
            "justify_items": null,
            "left": null,
            "margin": null,
            "max_height": null,
            "max_width": null,
            "min_height": null,
            "min_width": null,
            "object_fit": null,
            "object_position": null,
            "order": null,
            "overflow": null,
            "overflow_x": null,
            "overflow_y": null,
            "padding": null,
            "right": null,
            "top": null,
            "visibility": null,
            "width": null
          }
        },
        "73e4cad3615e48719ca712b6d1976816": {
          "model_module": "@jupyter-widgets/controls",
          "model_name": "DescriptionStyleModel",
          "model_module_version": "1.5.0",
          "state": {
            "_model_module": "@jupyter-widgets/controls",
            "_model_module_version": "1.5.0",
            "_model_name": "DescriptionStyleModel",
            "_view_count": null,
            "_view_module": "@jupyter-widgets/base",
            "_view_module_version": "1.2.0",
            "_view_name": "StyleView",
            "description_width": ""
          }
        },
        "0d1eb6f9f7bc444492518f678815486b": {
          "model_module": "@jupyter-widgets/base",
          "model_name": "LayoutModel",
          "model_module_version": "1.2.0",
          "state": {
            "_model_module": "@jupyter-widgets/base",
            "_model_module_version": "1.2.0",
            "_model_name": "LayoutModel",
            "_view_count": null,
            "_view_module": "@jupyter-widgets/base",
            "_view_module_version": "1.2.0",
            "_view_name": "LayoutView",
            "align_content": null,
            "align_items": null,
            "align_self": null,
            "border": null,
            "bottom": null,
            "display": null,
            "flex": null,
            "flex_flow": null,
            "grid_area": null,
            "grid_auto_columns": null,
            "grid_auto_flow": null,
            "grid_auto_rows": null,
            "grid_column": null,
            "grid_gap": null,
            "grid_row": null,
            "grid_template_areas": null,
            "grid_template_columns": null,
            "grid_template_rows": null,
            "height": null,
            "justify_content": null,
            "justify_items": null,
            "left": null,
            "margin": null,
            "max_height": null,
            "max_width": null,
            "min_height": null,
            "min_width": null,
            "object_fit": null,
            "object_position": null,
            "order": null,
            "overflow": null,
            "overflow_x": null,
            "overflow_y": null,
            "padding": null,
            "right": null,
            "top": null,
            "visibility": null,
            "width": null
          }
        },
        "fb1377a933804ab5b4775b184db0f916": {
          "model_module": "@jupyter-widgets/controls",
          "model_name": "ProgressStyleModel",
          "model_module_version": "1.5.0",
          "state": {
            "_model_module": "@jupyter-widgets/controls",
            "_model_module_version": "1.5.0",
            "_model_name": "ProgressStyleModel",
            "_view_count": null,
            "_view_module": "@jupyter-widgets/base",
            "_view_module_version": "1.2.0",
            "_view_name": "StyleView",
            "bar_color": null,
            "description_width": ""
          }
        },
        "09852046fc9a4f70a483d6cca1c45055": {
          "model_module": "@jupyter-widgets/base",
          "model_name": "LayoutModel",
          "model_module_version": "1.2.0",
          "state": {
            "_model_module": "@jupyter-widgets/base",
            "_model_module_version": "1.2.0",
            "_model_name": "LayoutModel",
            "_view_count": null,
            "_view_module": "@jupyter-widgets/base",
            "_view_module_version": "1.2.0",
            "_view_name": "LayoutView",
            "align_content": null,
            "align_items": null,
            "align_self": null,
            "border": null,
            "bottom": null,
            "display": null,
            "flex": null,
            "flex_flow": null,
            "grid_area": null,
            "grid_auto_columns": null,
            "grid_auto_flow": null,
            "grid_auto_rows": null,
            "grid_column": null,
            "grid_gap": null,
            "grid_row": null,
            "grid_template_areas": null,
            "grid_template_columns": null,
            "grid_template_rows": null,
            "height": null,
            "justify_content": null,
            "justify_items": null,
            "left": null,
            "margin": null,
            "max_height": null,
            "max_width": null,
            "min_height": null,
            "min_width": null,
            "object_fit": null,
            "object_position": null,
            "order": null,
            "overflow": null,
            "overflow_x": null,
            "overflow_y": null,
            "padding": null,
            "right": null,
            "top": null,
            "visibility": null,
            "width": null
          }
        },
        "6e1a03949b0349e1b18394befeeea34b": {
          "model_module": "@jupyter-widgets/controls",
          "model_name": "DescriptionStyleModel",
          "model_module_version": "1.5.0",
          "state": {
            "_model_module": "@jupyter-widgets/controls",
            "_model_module_version": "1.5.0",
            "_model_name": "DescriptionStyleModel",
            "_view_count": null,
            "_view_module": "@jupyter-widgets/base",
            "_view_module_version": "1.2.0",
            "_view_name": "StyleView",
            "description_width": ""
          }
        },
        "423a2284b90646ddb0c4c10fe303d8f6": {
          "model_module": "@jupyter-widgets/controls",
          "model_name": "HBoxModel",
          "model_module_version": "1.5.0",
          "state": {
            "_dom_classes": [],
            "_model_module": "@jupyter-widgets/controls",
            "_model_module_version": "1.5.0",
            "_model_name": "HBoxModel",
            "_view_count": null,
            "_view_module": "@jupyter-widgets/controls",
            "_view_module_version": "1.5.0",
            "_view_name": "HBoxView",
            "box_style": "",
            "children": [
              "IPY_MODEL_71da2df75755424ea3c1f4b0aedc65c4",
              "IPY_MODEL_42ccf9df48144fb7a5bc93d48e53b37c",
              "IPY_MODEL_be1fce2d0e9d40b388b552fa516804e9"
            ],
            "layout": "IPY_MODEL_96fbdf6f821f42e2a151fa8d0b8eefa5"
          }
        },
        "71da2df75755424ea3c1f4b0aedc65c4": {
          "model_module": "@jupyter-widgets/controls",
          "model_name": "HTMLModel",
          "model_module_version": "1.5.0",
          "state": {
            "_dom_classes": [],
            "_model_module": "@jupyter-widgets/controls",
            "_model_module_version": "1.5.0",
            "_model_name": "HTMLModel",
            "_view_count": null,
            "_view_module": "@jupyter-widgets/controls",
            "_view_module_version": "1.5.0",
            "_view_name": "HTMLView",
            "description": "",
            "description_tooltip": null,
            "layout": "IPY_MODEL_1bdc9a31607b4cda9a59f533466f27a4",
            "placeholder": "​",
            "style": "IPY_MODEL_25b597ec267042b58416ed12036f9948",
            "value": "model.safetensors: 100%"
          }
        },
        "42ccf9df48144fb7a5bc93d48e53b37c": {
          "model_module": "@jupyter-widgets/controls",
          "model_name": "FloatProgressModel",
          "model_module_version": "1.5.0",
          "state": {
            "_dom_classes": [],
            "_model_module": "@jupyter-widgets/controls",
            "_model_module_version": "1.5.0",
            "_model_name": "FloatProgressModel",
            "_view_count": null,
            "_view_module": "@jupyter-widgets/controls",
            "_view_module_version": "1.5.0",
            "_view_name": "ProgressView",
            "bar_style": "success",
            "description": "",
            "description_tooltip": null,
            "layout": "IPY_MODEL_00231858031f426db133a18a1e715990",
            "max": 498620100,
            "min": 0,
            "orientation": "horizontal",
            "style": "IPY_MODEL_942f9d2e9c6b4914a5f16ed58d765fe9",
            "value": 498620100
          }
        },
        "be1fce2d0e9d40b388b552fa516804e9": {
          "model_module": "@jupyter-widgets/controls",
          "model_name": "HTMLModel",
          "model_module_version": "1.5.0",
          "state": {
            "_dom_classes": [],
            "_model_module": "@jupyter-widgets/controls",
            "_model_module_version": "1.5.0",
            "_model_name": "HTMLModel",
            "_view_count": null,
            "_view_module": "@jupyter-widgets/controls",
            "_view_module_version": "1.5.0",
            "_view_name": "HTMLView",
            "description": "",
            "description_tooltip": null,
            "layout": "IPY_MODEL_91d7702412fc4d94b871323843057997",
            "placeholder": "​",
            "style": "IPY_MODEL_b9e192c6bf3346d1998f4b2558b34ed5",
            "value": " 499M/499M [00:14&lt;00:00, 26.4MB/s]"
          }
        },
        "96fbdf6f821f42e2a151fa8d0b8eefa5": {
          "model_module": "@jupyter-widgets/base",
          "model_name": "LayoutModel",
          "model_module_version": "1.2.0",
          "state": {
            "_model_module": "@jupyter-widgets/base",
            "_model_module_version": "1.2.0",
            "_model_name": "LayoutModel",
            "_view_count": null,
            "_view_module": "@jupyter-widgets/base",
            "_view_module_version": "1.2.0",
            "_view_name": "LayoutView",
            "align_content": null,
            "align_items": null,
            "align_self": null,
            "border": null,
            "bottom": null,
            "display": null,
            "flex": null,
            "flex_flow": null,
            "grid_area": null,
            "grid_auto_columns": null,
            "grid_auto_flow": null,
            "grid_auto_rows": null,
            "grid_column": null,
            "grid_gap": null,
            "grid_row": null,
            "grid_template_areas": null,
            "grid_template_columns": null,
            "grid_template_rows": null,
            "height": null,
            "justify_content": null,
            "justify_items": null,
            "left": null,
            "margin": null,
            "max_height": null,
            "max_width": null,
            "min_height": null,
            "min_width": null,
            "object_fit": null,
            "object_position": null,
            "order": null,
            "overflow": null,
            "overflow_x": null,
            "overflow_y": null,
            "padding": null,
            "right": null,
            "top": null,
            "visibility": null,
            "width": null
          }
        },
        "1bdc9a31607b4cda9a59f533466f27a4": {
          "model_module": "@jupyter-widgets/base",
          "model_name": "LayoutModel",
          "model_module_version": "1.2.0",
          "state": {
            "_model_module": "@jupyter-widgets/base",
            "_model_module_version": "1.2.0",
            "_model_name": "LayoutModel",
            "_view_count": null,
            "_view_module": "@jupyter-widgets/base",
            "_view_module_version": "1.2.0",
            "_view_name": "LayoutView",
            "align_content": null,
            "align_items": null,
            "align_self": null,
            "border": null,
            "bottom": null,
            "display": null,
            "flex": null,
            "flex_flow": null,
            "grid_area": null,
            "grid_auto_columns": null,
            "grid_auto_flow": null,
            "grid_auto_rows": null,
            "grid_column": null,
            "grid_gap": null,
            "grid_row": null,
            "grid_template_areas": null,
            "grid_template_columns": null,
            "grid_template_rows": null,
            "height": null,
            "justify_content": null,
            "justify_items": null,
            "left": null,
            "margin": null,
            "max_height": null,
            "max_width": null,
            "min_height": null,
            "min_width": null,
            "object_fit": null,
            "object_position": null,
            "order": null,
            "overflow": null,
            "overflow_x": null,
            "overflow_y": null,
            "padding": null,
            "right": null,
            "top": null,
            "visibility": null,
            "width": null
          }
        },
        "25b597ec267042b58416ed12036f9948": {
          "model_module": "@jupyter-widgets/controls",
          "model_name": "DescriptionStyleModel",
          "model_module_version": "1.5.0",
          "state": {
            "_model_module": "@jupyter-widgets/controls",
            "_model_module_version": "1.5.0",
            "_model_name": "DescriptionStyleModel",
            "_view_count": null,
            "_view_module": "@jupyter-widgets/base",
            "_view_module_version": "1.2.0",
            "_view_name": "StyleView",
            "description_width": ""
          }
        },
        "00231858031f426db133a18a1e715990": {
          "model_module": "@jupyter-widgets/base",
          "model_name": "LayoutModel",
          "model_module_version": "1.2.0",
          "state": {
            "_model_module": "@jupyter-widgets/base",
            "_model_module_version": "1.2.0",
            "_model_name": "LayoutModel",
            "_view_count": null,
            "_view_module": "@jupyter-widgets/base",
            "_view_module_version": "1.2.0",
            "_view_name": "LayoutView",
            "align_content": null,
            "align_items": null,
            "align_self": null,
            "border": null,
            "bottom": null,
            "display": null,
            "flex": null,
            "flex_flow": null,
            "grid_area": null,
            "grid_auto_columns": null,
            "grid_auto_flow": null,
            "grid_auto_rows": null,
            "grid_column": null,
            "grid_gap": null,
            "grid_row": null,
            "grid_template_areas": null,
            "grid_template_columns": null,
            "grid_template_rows": null,
            "height": null,
            "justify_content": null,
            "justify_items": null,
            "left": null,
            "margin": null,
            "max_height": null,
            "max_width": null,
            "min_height": null,
            "min_width": null,
            "object_fit": null,
            "object_position": null,
            "order": null,
            "overflow": null,
            "overflow_x": null,
            "overflow_y": null,
            "padding": null,
            "right": null,
            "top": null,
            "visibility": null,
            "width": null
          }
        },
        "942f9d2e9c6b4914a5f16ed58d765fe9": {
          "model_module": "@jupyter-widgets/controls",
          "model_name": "ProgressStyleModel",
          "model_module_version": "1.5.0",
          "state": {
            "_model_module": "@jupyter-widgets/controls",
            "_model_module_version": "1.5.0",
            "_model_name": "ProgressStyleModel",
            "_view_count": null,
            "_view_module": "@jupyter-widgets/base",
            "_view_module_version": "1.2.0",
            "_view_name": "StyleView",
            "bar_color": null,
            "description_width": ""
          }
        },
        "91d7702412fc4d94b871323843057997": {
          "model_module": "@jupyter-widgets/base",
          "model_name": "LayoutModel",
          "model_module_version": "1.2.0",
          "state": {
            "_model_module": "@jupyter-widgets/base",
            "_model_module_version": "1.2.0",
            "_model_name": "LayoutModel",
            "_view_count": null,
            "_view_module": "@jupyter-widgets/base",
            "_view_module_version": "1.2.0",
            "_view_name": "LayoutView",
            "align_content": null,
            "align_items": null,
            "align_self": null,
            "border": null,
            "bottom": null,
            "display": null,
            "flex": null,
            "flex_flow": null,
            "grid_area": null,
            "grid_auto_columns": null,
            "grid_auto_flow": null,
            "grid_auto_rows": null,
            "grid_column": null,
            "grid_gap": null,
            "grid_row": null,
            "grid_template_areas": null,
            "grid_template_columns": null,
            "grid_template_rows": null,
            "height": null,
            "justify_content": null,
            "justify_items": null,
            "left": null,
            "margin": null,
            "max_height": null,
            "max_width": null,
            "min_height": null,
            "min_width": null,
            "object_fit": null,
            "object_position": null,
            "order": null,
            "overflow": null,
            "overflow_x": null,
            "overflow_y": null,
            "padding": null,
            "right": null,
            "top": null,
            "visibility": null,
            "width": null
          }
        },
        "b9e192c6bf3346d1998f4b2558b34ed5": {
          "model_module": "@jupyter-widgets/controls",
          "model_name": "DescriptionStyleModel",
          "model_module_version": "1.5.0",
          "state": {
            "_model_module": "@jupyter-widgets/controls",
            "_model_module_version": "1.5.0",
            "_model_name": "DescriptionStyleModel",
            "_view_count": null,
            "_view_module": "@jupyter-widgets/base",
            "_view_module_version": "1.2.0",
            "_view_name": "StyleView",
            "description_width": ""
          }
        },
        "129a051b2a6b4b00a09bd0f1b7d3aa2b": {
          "model_module": "@jupyter-widgets/controls",
          "model_name": "HBoxModel",
          "model_module_version": "1.5.0",
          "state": {
            "_dom_classes": [],
            "_model_module": "@jupyter-widgets/controls",
            "_model_module_version": "1.5.0",
            "_model_name": "HBoxModel",
            "_view_count": null,
            "_view_module": "@jupyter-widgets/controls",
            "_view_module_version": "1.5.0",
            "_view_name": "HBoxView",
            "box_style": "",
            "children": [
              "IPY_MODEL_eaa93e16b6af49579b2e4f9512a3f1b2",
              "IPY_MODEL_02583a516d534fe7b82ac7a6cf5712d7",
              "IPY_MODEL_eb3135222a6c44af8484893afeb5f6ad"
            ],
            "layout": "IPY_MODEL_aaee346ab6344c0681da99b065305a4e"
          }
        },
        "eaa93e16b6af49579b2e4f9512a3f1b2": {
          "model_module": "@jupyter-widgets/controls",
          "model_name": "HTMLModel",
          "model_module_version": "1.5.0",
          "state": {
            "_dom_classes": [],
            "_model_module": "@jupyter-widgets/controls",
            "_model_module_version": "1.5.0",
            "_model_name": "HTMLModel",
            "_view_count": null,
            "_view_module": "@jupyter-widgets/controls",
            "_view_module_version": "1.5.0",
            "_view_name": "HTMLView",
            "description": "",
            "description_tooltip": null,
            "layout": "IPY_MODEL_225e90fefe804f678de4b9cb18cd6495",
            "placeholder": "​",
            "style": "IPY_MODEL_a984e010a8164a89bfd321e110a5dd5f",
            "value": "vocab.json: 100%"
          }
        },
        "02583a516d534fe7b82ac7a6cf5712d7": {
          "model_module": "@jupyter-widgets/controls",
          "model_name": "FloatProgressModel",
          "model_module_version": "1.5.0",
          "state": {
            "_dom_classes": [],
            "_model_module": "@jupyter-widgets/controls",
            "_model_module_version": "1.5.0",
            "_model_name": "FloatProgressModel",
            "_view_count": null,
            "_view_module": "@jupyter-widgets/controls",
            "_view_module_version": "1.5.0",
            "_view_name": "ProgressView",
            "bar_style": "success",
            "description": "",
            "description_tooltip": null,
            "layout": "IPY_MODEL_b3bbc1aebb7b41739c5ecbc3acc9eb01",
            "max": 898822,
            "min": 0,
            "orientation": "horizontal",
            "style": "IPY_MODEL_20e66ff979a144278972ce256c4cdb01",
            "value": 898822
          }
        },
        "eb3135222a6c44af8484893afeb5f6ad": {
          "model_module": "@jupyter-widgets/controls",
          "model_name": "HTMLModel",
          "model_module_version": "1.5.0",
          "state": {
            "_dom_classes": [],
            "_model_module": "@jupyter-widgets/controls",
            "_model_module_version": "1.5.0",
            "_model_name": "HTMLModel",
            "_view_count": null,
            "_view_module": "@jupyter-widgets/controls",
            "_view_module_version": "1.5.0",
            "_view_name": "HTMLView",
            "description": "",
            "description_tooltip": null,
            "layout": "IPY_MODEL_164a3f9aaff240159313aab520cf6a2d",
            "placeholder": "​",
            "style": "IPY_MODEL_395af5be9d944bed822810c5afd5196d",
            "value": " 899k/899k [00:00&lt;00:00, 11.1MB/s]"
          }
        },
        "aaee346ab6344c0681da99b065305a4e": {
          "model_module": "@jupyter-widgets/base",
          "model_name": "LayoutModel",
          "model_module_version": "1.2.0",
          "state": {
            "_model_module": "@jupyter-widgets/base",
            "_model_module_version": "1.2.0",
            "_model_name": "LayoutModel",
            "_view_count": null,
            "_view_module": "@jupyter-widgets/base",
            "_view_module_version": "1.2.0",
            "_view_name": "LayoutView",
            "align_content": null,
            "align_items": null,
            "align_self": null,
            "border": null,
            "bottom": null,
            "display": null,
            "flex": null,
            "flex_flow": null,
            "grid_area": null,
            "grid_auto_columns": null,
            "grid_auto_flow": null,
            "grid_auto_rows": null,
            "grid_column": null,
            "grid_gap": null,
            "grid_row": null,
            "grid_template_areas": null,
            "grid_template_columns": null,
            "grid_template_rows": null,
            "height": null,
            "justify_content": null,
            "justify_items": null,
            "left": null,
            "margin": null,
            "max_height": null,
            "max_width": null,
            "min_height": null,
            "min_width": null,
            "object_fit": null,
            "object_position": null,
            "order": null,
            "overflow": null,
            "overflow_x": null,
            "overflow_y": null,
            "padding": null,
            "right": null,
            "top": null,
            "visibility": null,
            "width": null
          }
        },
        "225e90fefe804f678de4b9cb18cd6495": {
          "model_module": "@jupyter-widgets/base",
          "model_name": "LayoutModel",
          "model_module_version": "1.2.0",
          "state": {
            "_model_module": "@jupyter-widgets/base",
            "_model_module_version": "1.2.0",
            "_model_name": "LayoutModel",
            "_view_count": null,
            "_view_module": "@jupyter-widgets/base",
            "_view_module_version": "1.2.0",
            "_view_name": "LayoutView",
            "align_content": null,
            "align_items": null,
            "align_self": null,
            "border": null,
            "bottom": null,
            "display": null,
            "flex": null,
            "flex_flow": null,
            "grid_area": null,
            "grid_auto_columns": null,
            "grid_auto_flow": null,
            "grid_auto_rows": null,
            "grid_column": null,
            "grid_gap": null,
            "grid_row": null,
            "grid_template_areas": null,
            "grid_template_columns": null,
            "grid_template_rows": null,
            "height": null,
            "justify_content": null,
            "justify_items": null,
            "left": null,
            "margin": null,
            "max_height": null,
            "max_width": null,
            "min_height": null,
            "min_width": null,
            "object_fit": null,
            "object_position": null,
            "order": null,
            "overflow": null,
            "overflow_x": null,
            "overflow_y": null,
            "padding": null,
            "right": null,
            "top": null,
            "visibility": null,
            "width": null
          }
        },
        "a984e010a8164a89bfd321e110a5dd5f": {
          "model_module": "@jupyter-widgets/controls",
          "model_name": "DescriptionStyleModel",
          "model_module_version": "1.5.0",
          "state": {
            "_model_module": "@jupyter-widgets/controls",
            "_model_module_version": "1.5.0",
            "_model_name": "DescriptionStyleModel",
            "_view_count": null,
            "_view_module": "@jupyter-widgets/base",
            "_view_module_version": "1.2.0",
            "_view_name": "StyleView",
            "description_width": ""
          }
        },
        "b3bbc1aebb7b41739c5ecbc3acc9eb01": {
          "model_module": "@jupyter-widgets/base",
          "model_name": "LayoutModel",
          "model_module_version": "1.2.0",
          "state": {
            "_model_module": "@jupyter-widgets/base",
            "_model_module_version": "1.2.0",
            "_model_name": "LayoutModel",
            "_view_count": null,
            "_view_module": "@jupyter-widgets/base",
            "_view_module_version": "1.2.0",
            "_view_name": "LayoutView",
            "align_content": null,
            "align_items": null,
            "align_self": null,
            "border": null,
            "bottom": null,
            "display": null,
            "flex": null,
            "flex_flow": null,
            "grid_area": null,
            "grid_auto_columns": null,
            "grid_auto_flow": null,
            "grid_auto_rows": null,
            "grid_column": null,
            "grid_gap": null,
            "grid_row": null,
            "grid_template_areas": null,
            "grid_template_columns": null,
            "grid_template_rows": null,
            "height": null,
            "justify_content": null,
            "justify_items": null,
            "left": null,
            "margin": null,
            "max_height": null,
            "max_width": null,
            "min_height": null,
            "min_width": null,
            "object_fit": null,
            "object_position": null,
            "order": null,
            "overflow": null,
            "overflow_x": null,
            "overflow_y": null,
            "padding": null,
            "right": null,
            "top": null,
            "visibility": null,
            "width": null
          }
        },
        "20e66ff979a144278972ce256c4cdb01": {
          "model_module": "@jupyter-widgets/controls",
          "model_name": "ProgressStyleModel",
          "model_module_version": "1.5.0",
          "state": {
            "_model_module": "@jupyter-widgets/controls",
            "_model_module_version": "1.5.0",
            "_model_name": "ProgressStyleModel",
            "_view_count": null,
            "_view_module": "@jupyter-widgets/base",
            "_view_module_version": "1.2.0",
            "_view_name": "StyleView",
            "bar_color": null,
            "description_width": ""
          }
        },
        "164a3f9aaff240159313aab520cf6a2d": {
          "model_module": "@jupyter-widgets/base",
          "model_name": "LayoutModel",
          "model_module_version": "1.2.0",
          "state": {
            "_model_module": "@jupyter-widgets/base",
            "_model_module_version": "1.2.0",
            "_model_name": "LayoutModel",
            "_view_count": null,
            "_view_module": "@jupyter-widgets/base",
            "_view_module_version": "1.2.0",
            "_view_name": "LayoutView",
            "align_content": null,
            "align_items": null,
            "align_self": null,
            "border": null,
            "bottom": null,
            "display": null,
            "flex": null,
            "flex_flow": null,
            "grid_area": null,
            "grid_auto_columns": null,
            "grid_auto_flow": null,
            "grid_auto_rows": null,
            "grid_column": null,
            "grid_gap": null,
            "grid_row": null,
            "grid_template_areas": null,
            "grid_template_columns": null,
            "grid_template_rows": null,
            "height": null,
            "justify_content": null,
            "justify_items": null,
            "left": null,
            "margin": null,
            "max_height": null,
            "max_width": null,
            "min_height": null,
            "min_width": null,
            "object_fit": null,
            "object_position": null,
            "order": null,
            "overflow": null,
            "overflow_x": null,
            "overflow_y": null,
            "padding": null,
            "right": null,
            "top": null,
            "visibility": null,
            "width": null
          }
        },
        "395af5be9d944bed822810c5afd5196d": {
          "model_module": "@jupyter-widgets/controls",
          "model_name": "DescriptionStyleModel",
          "model_module_version": "1.5.0",
          "state": {
            "_model_module": "@jupyter-widgets/controls",
            "_model_module_version": "1.5.0",
            "_model_name": "DescriptionStyleModel",
            "_view_count": null,
            "_view_module": "@jupyter-widgets/base",
            "_view_module_version": "1.2.0",
            "_view_name": "StyleView",
            "description_width": ""
          }
        },
        "4a1082acc5b54a2a8753e698a285474c": {
          "model_module": "@jupyter-widgets/controls",
          "model_name": "HBoxModel",
          "model_module_version": "1.5.0",
          "state": {
            "_dom_classes": [],
            "_model_module": "@jupyter-widgets/controls",
            "_model_module_version": "1.5.0",
            "_model_name": "HBoxModel",
            "_view_count": null,
            "_view_module": "@jupyter-widgets/controls",
            "_view_module_version": "1.5.0",
            "_view_name": "HBoxView",
            "box_style": "",
            "children": [
              "IPY_MODEL_16495c5bf3ac48e293c98be4d28171fd",
              "IPY_MODEL_eda1adde977142bc8d89c5767c7ea959",
              "IPY_MODEL_cd09bf57a0b540688de00d2ad0be1e4a"
            ],
            "layout": "IPY_MODEL_4e5a5979d7b9492788c4601c9e1a95a4"
          }
        },
        "16495c5bf3ac48e293c98be4d28171fd": {
          "model_module": "@jupyter-widgets/controls",
          "model_name": "HTMLModel",
          "model_module_version": "1.5.0",
          "state": {
            "_dom_classes": [],
            "_model_module": "@jupyter-widgets/controls",
            "_model_module_version": "1.5.0",
            "_model_name": "HTMLModel",
            "_view_count": null,
            "_view_module": "@jupyter-widgets/controls",
            "_view_module_version": "1.5.0",
            "_view_name": "HTMLView",
            "description": "",
            "description_tooltip": null,
            "layout": "IPY_MODEL_93af1b5594cb4e0ea87864c1a5ca0aa8",
            "placeholder": "​",
            "style": "IPY_MODEL_acc942673a2f429497e2ec805950058a",
            "value": "merges.txt: 100%"
          }
        },
        "eda1adde977142bc8d89c5767c7ea959": {
          "model_module": "@jupyter-widgets/controls",
          "model_name": "FloatProgressModel",
          "model_module_version": "1.5.0",
          "state": {
            "_dom_classes": [],
            "_model_module": "@jupyter-widgets/controls",
            "_model_module_version": "1.5.0",
            "_model_name": "FloatProgressModel",
            "_view_count": null,
            "_view_module": "@jupyter-widgets/controls",
            "_view_module_version": "1.5.0",
            "_view_name": "ProgressView",
            "bar_style": "success",
            "description": "",
            "description_tooltip": null,
            "layout": "IPY_MODEL_15cc18715f3d48138c0284c3d4b71d83",
            "max": 456318,
            "min": 0,
            "orientation": "horizontal",
            "style": "IPY_MODEL_b2dfd816635b4f0896ddb62f4da90ea9",
            "value": 456318
          }
        },
        "cd09bf57a0b540688de00d2ad0be1e4a": {
          "model_module": "@jupyter-widgets/controls",
          "model_name": "HTMLModel",
          "model_module_version": "1.5.0",
          "state": {
            "_dom_classes": [],
            "_model_module": "@jupyter-widgets/controls",
            "_model_module_version": "1.5.0",
            "_model_name": "HTMLModel",
            "_view_count": null,
            "_view_module": "@jupyter-widgets/controls",
            "_view_module_version": "1.5.0",
            "_view_name": "HTMLView",
            "description": "",
            "description_tooltip": null,
            "layout": "IPY_MODEL_6bd036731281468084a18aaa9d64a14f",
            "placeholder": "​",
            "style": "IPY_MODEL_bb31d2cdeba542ec814cc154c732239a",
            "value": " 456k/456k [00:00&lt;00:00, 4.25MB/s]"
          }
        },
        "4e5a5979d7b9492788c4601c9e1a95a4": {
          "model_module": "@jupyter-widgets/base",
          "model_name": "LayoutModel",
          "model_module_version": "1.2.0",
          "state": {
            "_model_module": "@jupyter-widgets/base",
            "_model_module_version": "1.2.0",
            "_model_name": "LayoutModel",
            "_view_count": null,
            "_view_module": "@jupyter-widgets/base",
            "_view_module_version": "1.2.0",
            "_view_name": "LayoutView",
            "align_content": null,
            "align_items": null,
            "align_self": null,
            "border": null,
            "bottom": null,
            "display": null,
            "flex": null,
            "flex_flow": null,
            "grid_area": null,
            "grid_auto_columns": null,
            "grid_auto_flow": null,
            "grid_auto_rows": null,
            "grid_column": null,
            "grid_gap": null,
            "grid_row": null,
            "grid_template_areas": null,
            "grid_template_columns": null,
            "grid_template_rows": null,
            "height": null,
            "justify_content": null,
            "justify_items": null,
            "left": null,
            "margin": null,
            "max_height": null,
            "max_width": null,
            "min_height": null,
            "min_width": null,
            "object_fit": null,
            "object_position": null,
            "order": null,
            "overflow": null,
            "overflow_x": null,
            "overflow_y": null,
            "padding": null,
            "right": null,
            "top": null,
            "visibility": null,
            "width": null
          }
        },
        "93af1b5594cb4e0ea87864c1a5ca0aa8": {
          "model_module": "@jupyter-widgets/base",
          "model_name": "LayoutModel",
          "model_module_version": "1.2.0",
          "state": {
            "_model_module": "@jupyter-widgets/base",
            "_model_module_version": "1.2.0",
            "_model_name": "LayoutModel",
            "_view_count": null,
            "_view_module": "@jupyter-widgets/base",
            "_view_module_version": "1.2.0",
            "_view_name": "LayoutView",
            "align_content": null,
            "align_items": null,
            "align_self": null,
            "border": null,
            "bottom": null,
            "display": null,
            "flex": null,
            "flex_flow": null,
            "grid_area": null,
            "grid_auto_columns": null,
            "grid_auto_flow": null,
            "grid_auto_rows": null,
            "grid_column": null,
            "grid_gap": null,
            "grid_row": null,
            "grid_template_areas": null,
            "grid_template_columns": null,
            "grid_template_rows": null,
            "height": null,
            "justify_content": null,
            "justify_items": null,
            "left": null,
            "margin": null,
            "max_height": null,
            "max_width": null,
            "min_height": null,
            "min_width": null,
            "object_fit": null,
            "object_position": null,
            "order": null,
            "overflow": null,
            "overflow_x": null,
            "overflow_y": null,
            "padding": null,
            "right": null,
            "top": null,
            "visibility": null,
            "width": null
          }
        },
        "acc942673a2f429497e2ec805950058a": {
          "model_module": "@jupyter-widgets/controls",
          "model_name": "DescriptionStyleModel",
          "model_module_version": "1.5.0",
          "state": {
            "_model_module": "@jupyter-widgets/controls",
            "_model_module_version": "1.5.0",
            "_model_name": "DescriptionStyleModel",
            "_view_count": null,
            "_view_module": "@jupyter-widgets/base",
            "_view_module_version": "1.2.0",
            "_view_name": "StyleView",
            "description_width": ""
          }
        },
        "15cc18715f3d48138c0284c3d4b71d83": {
          "model_module": "@jupyter-widgets/base",
          "model_name": "LayoutModel",
          "model_module_version": "1.2.0",
          "state": {
            "_model_module": "@jupyter-widgets/base",
            "_model_module_version": "1.2.0",
            "_model_name": "LayoutModel",
            "_view_count": null,
            "_view_module": "@jupyter-widgets/base",
            "_view_module_version": "1.2.0",
            "_view_name": "LayoutView",
            "align_content": null,
            "align_items": null,
            "align_self": null,
            "border": null,
            "bottom": null,
            "display": null,
            "flex": null,
            "flex_flow": null,
            "grid_area": null,
            "grid_auto_columns": null,
            "grid_auto_flow": null,
            "grid_auto_rows": null,
            "grid_column": null,
            "grid_gap": null,
            "grid_row": null,
            "grid_template_areas": null,
            "grid_template_columns": null,
            "grid_template_rows": null,
            "height": null,
            "justify_content": null,
            "justify_items": null,
            "left": null,
            "margin": null,
            "max_height": null,
            "max_width": null,
            "min_height": null,
            "min_width": null,
            "object_fit": null,
            "object_position": null,
            "order": null,
            "overflow": null,
            "overflow_x": null,
            "overflow_y": null,
            "padding": null,
            "right": null,
            "top": null,
            "visibility": null,
            "width": null
          }
        },
        "b2dfd816635b4f0896ddb62f4da90ea9": {
          "model_module": "@jupyter-widgets/controls",
          "model_name": "ProgressStyleModel",
          "model_module_version": "1.5.0",
          "state": {
            "_model_module": "@jupyter-widgets/controls",
            "_model_module_version": "1.5.0",
            "_model_name": "ProgressStyleModel",
            "_view_count": null,
            "_view_module": "@jupyter-widgets/base",
            "_view_module_version": "1.2.0",
            "_view_name": "StyleView",
            "bar_color": null,
            "description_width": ""
          }
        },
        "6bd036731281468084a18aaa9d64a14f": {
          "model_module": "@jupyter-widgets/base",
          "model_name": "LayoutModel",
          "model_module_version": "1.2.0",
          "state": {
            "_model_module": "@jupyter-widgets/base",
            "_model_module_version": "1.2.0",
            "_model_name": "LayoutModel",
            "_view_count": null,
            "_view_module": "@jupyter-widgets/base",
            "_view_module_version": "1.2.0",
            "_view_name": "LayoutView",
            "align_content": null,
            "align_items": null,
            "align_self": null,
            "border": null,
            "bottom": null,
            "display": null,
            "flex": null,
            "flex_flow": null,
            "grid_area": null,
            "grid_auto_columns": null,
            "grid_auto_flow": null,
            "grid_auto_rows": null,
            "grid_column": null,
            "grid_gap": null,
            "grid_row": null,
            "grid_template_areas": null,
            "grid_template_columns": null,
            "grid_template_rows": null,
            "height": null,
            "justify_content": null,
            "justify_items": null,
            "left": null,
            "margin": null,
            "max_height": null,
            "max_width": null,
            "min_height": null,
            "min_width": null,
            "object_fit": null,
            "object_position": null,
            "order": null,
            "overflow": null,
            "overflow_x": null,
            "overflow_y": null,
            "padding": null,
            "right": null,
            "top": null,
            "visibility": null,
            "width": null
          }
        },
        "bb31d2cdeba542ec814cc154c732239a": {
          "model_module": "@jupyter-widgets/controls",
          "model_name": "DescriptionStyleModel",
          "model_module_version": "1.5.0",
          "state": {
            "_model_module": "@jupyter-widgets/controls",
            "_model_module_version": "1.5.0",
            "_model_name": "DescriptionStyleModel",
            "_view_count": null,
            "_view_module": "@jupyter-widgets/base",
            "_view_module_version": "1.2.0",
            "_view_name": "StyleView",
            "description_width": ""
          }
        },
        "e080468d18354803b0b6d0cb0877df49": {
          "model_module": "@jupyter-widgets/controls",
          "model_name": "HBoxModel",
          "model_module_version": "1.5.0",
          "state": {
            "_dom_classes": [],
            "_model_module": "@jupyter-widgets/controls",
            "_model_module_version": "1.5.0",
            "_model_name": "HBoxModel",
            "_view_count": null,
            "_view_module": "@jupyter-widgets/controls",
            "_view_module_version": "1.5.0",
            "_view_name": "HBoxView",
            "box_style": "",
            "children": [
              "IPY_MODEL_ffc2cd245acb45229b3b8897f6dfbe17",
              "IPY_MODEL_0fa60f7e758c41c8978f8807a11fbff8",
              "IPY_MODEL_dc2e10c8ab8748fb8470ad0be2046145"
            ],
            "layout": "IPY_MODEL_e2bf873e6a064e5da31862f82495026f"
          }
        },
        "ffc2cd245acb45229b3b8897f6dfbe17": {
          "model_module": "@jupyter-widgets/controls",
          "model_name": "HTMLModel",
          "model_module_version": "1.5.0",
          "state": {
            "_dom_classes": [],
            "_model_module": "@jupyter-widgets/controls",
            "_model_module_version": "1.5.0",
            "_model_name": "HTMLModel",
            "_view_count": null,
            "_view_module": "@jupyter-widgets/controls",
            "_view_module_version": "1.5.0",
            "_view_name": "HTMLView",
            "description": "",
            "description_tooltip": null,
            "layout": "IPY_MODEL_e1bdcd247a13416090a5fcc542ece9bf",
            "placeholder": "​",
            "style": "IPY_MODEL_ac5397280bb24227acf3b13656b42061",
            "value": "special_tokens_map.json: 100%"
          }
        },
        "0fa60f7e758c41c8978f8807a11fbff8": {
          "model_module": "@jupyter-widgets/controls",
          "model_name": "FloatProgressModel",
          "model_module_version": "1.5.0",
          "state": {
            "_dom_classes": [],
            "_model_module": "@jupyter-widgets/controls",
            "_model_module_version": "1.5.0",
            "_model_name": "FloatProgressModel",
            "_view_count": null,
            "_view_module": "@jupyter-widgets/controls",
            "_view_module_version": "1.5.0",
            "_view_name": "ProgressView",
            "bar_style": "success",
            "description": "",
            "description_tooltip": null,
            "layout": "IPY_MODEL_bae95e7d48f34bb0b442acb6bdd48aab",
            "max": 150,
            "min": 0,
            "orientation": "horizontal",
            "style": "IPY_MODEL_d42690b54ab944bdafdc620be513d59c",
            "value": 150
          }
        },
        "dc2e10c8ab8748fb8470ad0be2046145": {
          "model_module": "@jupyter-widgets/controls",
          "model_name": "HTMLModel",
          "model_module_version": "1.5.0",
          "state": {
            "_dom_classes": [],
            "_model_module": "@jupyter-widgets/controls",
            "_model_module_version": "1.5.0",
            "_model_name": "HTMLModel",
            "_view_count": null,
            "_view_module": "@jupyter-widgets/controls",
            "_view_module_version": "1.5.0",
            "_view_name": "HTMLView",
            "description": "",
            "description_tooltip": null,
            "layout": "IPY_MODEL_407c4db28b8944fe9c6e7e36f4cec14c",
            "placeholder": "​",
            "style": "IPY_MODEL_8dde336508b3448abfbf29fcf32c0b47",
            "value": " 150/150 [00:00&lt;00:00, 2.59kB/s]"
          }
        },
        "e2bf873e6a064e5da31862f82495026f": {
          "model_module": "@jupyter-widgets/base",
          "model_name": "LayoutModel",
          "model_module_version": "1.2.0",
          "state": {
            "_model_module": "@jupyter-widgets/base",
            "_model_module_version": "1.2.0",
            "_model_name": "LayoutModel",
            "_view_count": null,
            "_view_module": "@jupyter-widgets/base",
            "_view_module_version": "1.2.0",
            "_view_name": "LayoutView",
            "align_content": null,
            "align_items": null,
            "align_self": null,
            "border": null,
            "bottom": null,
            "display": null,
            "flex": null,
            "flex_flow": null,
            "grid_area": null,
            "grid_auto_columns": null,
            "grid_auto_flow": null,
            "grid_auto_rows": null,
            "grid_column": null,
            "grid_gap": null,
            "grid_row": null,
            "grid_template_areas": null,
            "grid_template_columns": null,
            "grid_template_rows": null,
            "height": null,
            "justify_content": null,
            "justify_items": null,
            "left": null,
            "margin": null,
            "max_height": null,
            "max_width": null,
            "min_height": null,
            "min_width": null,
            "object_fit": null,
            "object_position": null,
            "order": null,
            "overflow": null,
            "overflow_x": null,
            "overflow_y": null,
            "padding": null,
            "right": null,
            "top": null,
            "visibility": null,
            "width": null
          }
        },
        "e1bdcd247a13416090a5fcc542ece9bf": {
          "model_module": "@jupyter-widgets/base",
          "model_name": "LayoutModel",
          "model_module_version": "1.2.0",
          "state": {
            "_model_module": "@jupyter-widgets/base",
            "_model_module_version": "1.2.0",
            "_model_name": "LayoutModel",
            "_view_count": null,
            "_view_module": "@jupyter-widgets/base",
            "_view_module_version": "1.2.0",
            "_view_name": "LayoutView",
            "align_content": null,
            "align_items": null,
            "align_self": null,
            "border": null,
            "bottom": null,
            "display": null,
            "flex": null,
            "flex_flow": null,
            "grid_area": null,
            "grid_auto_columns": null,
            "grid_auto_flow": null,
            "grid_auto_rows": null,
            "grid_column": null,
            "grid_gap": null,
            "grid_row": null,
            "grid_template_areas": null,
            "grid_template_columns": null,
            "grid_template_rows": null,
            "height": null,
            "justify_content": null,
            "justify_items": null,
            "left": null,
            "margin": null,
            "max_height": null,
            "max_width": null,
            "min_height": null,
            "min_width": null,
            "object_fit": null,
            "object_position": null,
            "order": null,
            "overflow": null,
            "overflow_x": null,
            "overflow_y": null,
            "padding": null,
            "right": null,
            "top": null,
            "visibility": null,
            "width": null
          }
        },
        "ac5397280bb24227acf3b13656b42061": {
          "model_module": "@jupyter-widgets/controls",
          "model_name": "DescriptionStyleModel",
          "model_module_version": "1.5.0",
          "state": {
            "_model_module": "@jupyter-widgets/controls",
            "_model_module_version": "1.5.0",
            "_model_name": "DescriptionStyleModel",
            "_view_count": null,
            "_view_module": "@jupyter-widgets/base",
            "_view_module_version": "1.2.0",
            "_view_name": "StyleView",
            "description_width": ""
          }
        },
        "bae95e7d48f34bb0b442acb6bdd48aab": {
          "model_module": "@jupyter-widgets/base",
          "model_name": "LayoutModel",
          "model_module_version": "1.2.0",
          "state": {
            "_model_module": "@jupyter-widgets/base",
            "_model_module_version": "1.2.0",
            "_model_name": "LayoutModel",
            "_view_count": null,
            "_view_module": "@jupyter-widgets/base",
            "_view_module_version": "1.2.0",
            "_view_name": "LayoutView",
            "align_content": null,
            "align_items": null,
            "align_self": null,
            "border": null,
            "bottom": null,
            "display": null,
            "flex": null,
            "flex_flow": null,
            "grid_area": null,
            "grid_auto_columns": null,
            "grid_auto_flow": null,
            "grid_auto_rows": null,
            "grid_column": null,
            "grid_gap": null,
            "grid_row": null,
            "grid_template_areas": null,
            "grid_template_columns": null,
            "grid_template_rows": null,
            "height": null,
            "justify_content": null,
            "justify_items": null,
            "left": null,
            "margin": null,
            "max_height": null,
            "max_width": null,
            "min_height": null,
            "min_width": null,
            "object_fit": null,
            "object_position": null,
            "order": null,
            "overflow": null,
            "overflow_x": null,
            "overflow_y": null,
            "padding": null,
            "right": null,
            "top": null,
            "visibility": null,
            "width": null
          }
        },
        "d42690b54ab944bdafdc620be513d59c": {
          "model_module": "@jupyter-widgets/controls",
          "model_name": "ProgressStyleModel",
          "model_module_version": "1.5.0",
          "state": {
            "_model_module": "@jupyter-widgets/controls",
            "_model_module_version": "1.5.0",
            "_model_name": "ProgressStyleModel",
            "_view_count": null,
            "_view_module": "@jupyter-widgets/base",
            "_view_module_version": "1.2.0",
            "_view_name": "StyleView",
            "bar_color": null,
            "description_width": ""
          }
        },
        "407c4db28b8944fe9c6e7e36f4cec14c": {
          "model_module": "@jupyter-widgets/base",
          "model_name": "LayoutModel",
          "model_module_version": "1.2.0",
          "state": {
            "_model_module": "@jupyter-widgets/base",
            "_model_module_version": "1.2.0",
            "_model_name": "LayoutModel",
            "_view_count": null,
            "_view_module": "@jupyter-widgets/base",
            "_view_module_version": "1.2.0",
            "_view_name": "LayoutView",
            "align_content": null,
            "align_items": null,
            "align_self": null,
            "border": null,
            "bottom": null,
            "display": null,
            "flex": null,
            "flex_flow": null,
            "grid_area": null,
            "grid_auto_columns": null,
            "grid_auto_flow": null,
            "grid_auto_rows": null,
            "grid_column": null,
            "grid_gap": null,
            "grid_row": null,
            "grid_template_areas": null,
            "grid_template_columns": null,
            "grid_template_rows": null,
            "height": null,
            "justify_content": null,
            "justify_items": null,
            "left": null,
            "margin": null,
            "max_height": null,
            "max_width": null,
            "min_height": null,
            "min_width": null,
            "object_fit": null,
            "object_position": null,
            "order": null,
            "overflow": null,
            "overflow_x": null,
            "overflow_y": null,
            "padding": null,
            "right": null,
            "top": null,
            "visibility": null,
            "width": null
          }
        },
        "8dde336508b3448abfbf29fcf32c0b47": {
          "model_module": "@jupyter-widgets/controls",
          "model_name": "DescriptionStyleModel",
          "model_module_version": "1.5.0",
          "state": {
            "_model_module": "@jupyter-widgets/controls",
            "_model_module_version": "1.5.0",
            "_model_name": "DescriptionStyleModel",
            "_view_count": null,
            "_view_module": "@jupyter-widgets/base",
            "_view_module_version": "1.2.0",
            "_view_name": "StyleView",
            "description_width": ""
          }
        },
        "4dc632f854c5449e86e6297fbbaff292": {
          "model_module": "@jupyter-widgets/controls",
          "model_name": "HBoxModel",
          "model_module_version": "1.5.0",
          "state": {
            "_dom_classes": [],
            "_model_module": "@jupyter-widgets/controls",
            "_model_module_version": "1.5.0",
            "_model_name": "HBoxModel",
            "_view_count": null,
            "_view_module": "@jupyter-widgets/controls",
            "_view_module_version": "1.5.0",
            "_view_name": "HBoxView",
            "box_style": "",
            "children": [
              "IPY_MODEL_cec4a04e521c43e4a53e9fe8a9c7f3ed",
              "IPY_MODEL_ab97e3862c924fb6a299db4194bdcb5c",
              "IPY_MODEL_5411f8b28f334710b4733a94daf5dac7"
            ],
            "layout": "IPY_MODEL_01c12f5fc0ad453584bb7730f77803e7"
          }
        },
        "cec4a04e521c43e4a53e9fe8a9c7f3ed": {
          "model_module": "@jupyter-widgets/controls",
          "model_name": "HTMLModel",
          "model_module_version": "1.5.0",
          "state": {
            "_dom_classes": [],
            "_model_module": "@jupyter-widgets/controls",
            "_model_module_version": "1.5.0",
            "_model_name": "HTMLModel",
            "_view_count": null,
            "_view_module": "@jupyter-widgets/controls",
            "_view_module_version": "1.5.0",
            "_view_name": "HTMLView",
            "description": "",
            "description_tooltip": null,
            "layout": "IPY_MODEL_00912877bda64a388a56a62b5e2daa4a",
            "placeholder": "​",
            "style": "IPY_MODEL_daead780613b46dba12ae447abb0e01b",
            "value": "config.json: 100%"
          }
        },
        "ab97e3862c924fb6a299db4194bdcb5c": {
          "model_module": "@jupyter-widgets/controls",
          "model_name": "FloatProgressModel",
          "model_module_version": "1.5.0",
          "state": {
            "_dom_classes": [],
            "_model_module": "@jupyter-widgets/controls",
            "_model_module_version": "1.5.0",
            "_model_name": "FloatProgressModel",
            "_view_count": null,
            "_view_module": "@jupyter-widgets/controls",
            "_view_module_version": "1.5.0",
            "_view_name": "ProgressView",
            "bar_style": "success",
            "description": "",
            "description_tooltip": null,
            "layout": "IPY_MODEL_c2059adf90b24254b747f92bff24a6d5",
            "max": 1585,
            "min": 0,
            "orientation": "horizontal",
            "style": "IPY_MODEL_7a33f93202ea473e85bd7933cecad152",
            "value": 1585
          }
        },
        "5411f8b28f334710b4733a94daf5dac7": {
          "model_module": "@jupyter-widgets/controls",
          "model_name": "HTMLModel",
          "model_module_version": "1.5.0",
          "state": {
            "_dom_classes": [],
            "_model_module": "@jupyter-widgets/controls",
            "_model_module_version": "1.5.0",
            "_model_name": "HTMLModel",
            "_view_count": null,
            "_view_module": "@jupyter-widgets/controls",
            "_view_module_version": "1.5.0",
            "_view_name": "HTMLView",
            "description": "",
            "description_tooltip": null,
            "layout": "IPY_MODEL_1accee23075e4c1fac2dc243ea9a7070",
            "placeholder": "​",
            "style": "IPY_MODEL_a95e8abf0e33431f9dee423c8a845e4c",
            "value": " 1.58k/1.58k [00:00&lt;00:00, 102kB/s]"
          }
        },
        "01c12f5fc0ad453584bb7730f77803e7": {
          "model_module": "@jupyter-widgets/base",
          "model_name": "LayoutModel",
          "model_module_version": "1.2.0",
          "state": {
            "_model_module": "@jupyter-widgets/base",
            "_model_module_version": "1.2.0",
            "_model_name": "LayoutModel",
            "_view_count": null,
            "_view_module": "@jupyter-widgets/base",
            "_view_module_version": "1.2.0",
            "_view_name": "LayoutView",
            "align_content": null,
            "align_items": null,
            "align_self": null,
            "border": null,
            "bottom": null,
            "display": null,
            "flex": null,
            "flex_flow": null,
            "grid_area": null,
            "grid_auto_columns": null,
            "grid_auto_flow": null,
            "grid_auto_rows": null,
            "grid_column": null,
            "grid_gap": null,
            "grid_row": null,
            "grid_template_areas": null,
            "grid_template_columns": null,
            "grid_template_rows": null,
            "height": null,
            "justify_content": null,
            "justify_items": null,
            "left": null,
            "margin": null,
            "max_height": null,
            "max_width": null,
            "min_height": null,
            "min_width": null,
            "object_fit": null,
            "object_position": null,
            "order": null,
            "overflow": null,
            "overflow_x": null,
            "overflow_y": null,
            "padding": null,
            "right": null,
            "top": null,
            "visibility": null,
            "width": null
          }
        },
        "00912877bda64a388a56a62b5e2daa4a": {
          "model_module": "@jupyter-widgets/base",
          "model_name": "LayoutModel",
          "model_module_version": "1.2.0",
          "state": {
            "_model_module": "@jupyter-widgets/base",
            "_model_module_version": "1.2.0",
            "_model_name": "LayoutModel",
            "_view_count": null,
            "_view_module": "@jupyter-widgets/base",
            "_view_module_version": "1.2.0",
            "_view_name": "LayoutView",
            "align_content": null,
            "align_items": null,
            "align_self": null,
            "border": null,
            "bottom": null,
            "display": null,
            "flex": null,
            "flex_flow": null,
            "grid_area": null,
            "grid_auto_columns": null,
            "grid_auto_flow": null,
            "grid_auto_rows": null,
            "grid_column": null,
            "grid_gap": null,
            "grid_row": null,
            "grid_template_areas": null,
            "grid_template_columns": null,
            "grid_template_rows": null,
            "height": null,
            "justify_content": null,
            "justify_items": null,
            "left": null,
            "margin": null,
            "max_height": null,
            "max_width": null,
            "min_height": null,
            "min_width": null,
            "object_fit": null,
            "object_position": null,
            "order": null,
            "overflow": null,
            "overflow_x": null,
            "overflow_y": null,
            "padding": null,
            "right": null,
            "top": null,
            "visibility": null,
            "width": null
          }
        },
        "daead780613b46dba12ae447abb0e01b": {
          "model_module": "@jupyter-widgets/controls",
          "model_name": "DescriptionStyleModel",
          "model_module_version": "1.5.0",
          "state": {
            "_model_module": "@jupyter-widgets/controls",
            "_model_module_version": "1.5.0",
            "_model_name": "DescriptionStyleModel",
            "_view_count": null,
            "_view_module": "@jupyter-widgets/base",
            "_view_module_version": "1.2.0",
            "_view_name": "StyleView",
            "description_width": ""
          }
        },
        "c2059adf90b24254b747f92bff24a6d5": {
          "model_module": "@jupyter-widgets/base",
          "model_name": "LayoutModel",
          "model_module_version": "1.2.0",
          "state": {
            "_model_module": "@jupyter-widgets/base",
            "_model_module_version": "1.2.0",
            "_model_name": "LayoutModel",
            "_view_count": null,
            "_view_module": "@jupyter-widgets/base",
            "_view_module_version": "1.2.0",
            "_view_name": "LayoutView",
            "align_content": null,
            "align_items": null,
            "align_self": null,
            "border": null,
            "bottom": null,
            "display": null,
            "flex": null,
            "flex_flow": null,
            "grid_area": null,
            "grid_auto_columns": null,
            "grid_auto_flow": null,
            "grid_auto_rows": null,
            "grid_column": null,
            "grid_gap": null,
            "grid_row": null,
            "grid_template_areas": null,
            "grid_template_columns": null,
            "grid_template_rows": null,
            "height": null,
            "justify_content": null,
            "justify_items": null,
            "left": null,
            "margin": null,
            "max_height": null,
            "max_width": null,
            "min_height": null,
            "min_width": null,
            "object_fit": null,
            "object_position": null,
            "order": null,
            "overflow": null,
            "overflow_x": null,
            "overflow_y": null,
            "padding": null,
            "right": null,
            "top": null,
            "visibility": null,
            "width": null
          }
        },
        "7a33f93202ea473e85bd7933cecad152": {
          "model_module": "@jupyter-widgets/controls",
          "model_name": "ProgressStyleModel",
          "model_module_version": "1.5.0",
          "state": {
            "_model_module": "@jupyter-widgets/controls",
            "_model_module_version": "1.5.0",
            "_model_name": "ProgressStyleModel",
            "_view_count": null,
            "_view_module": "@jupyter-widgets/base",
            "_view_module_version": "1.2.0",
            "_view_name": "StyleView",
            "bar_color": null,
            "description_width": ""
          }
        },
        "1accee23075e4c1fac2dc243ea9a7070": {
          "model_module": "@jupyter-widgets/base",
          "model_name": "LayoutModel",
          "model_module_version": "1.2.0",
          "state": {
            "_model_module": "@jupyter-widgets/base",
            "_model_module_version": "1.2.0",
            "_model_name": "LayoutModel",
            "_view_count": null,
            "_view_module": "@jupyter-widgets/base",
            "_view_module_version": "1.2.0",
            "_view_name": "LayoutView",
            "align_content": null,
            "align_items": null,
            "align_self": null,
            "border": null,
            "bottom": null,
            "display": null,
            "flex": null,
            "flex_flow": null,
            "grid_area": null,
            "grid_auto_columns": null,
            "grid_auto_flow": null,
            "grid_auto_rows": null,
            "grid_column": null,
            "grid_gap": null,
            "grid_row": null,
            "grid_template_areas": null,
            "grid_template_columns": null,
            "grid_template_rows": null,
            "height": null,
            "justify_content": null,
            "justify_items": null,
            "left": null,
            "margin": null,
            "max_height": null,
            "max_width": null,
            "min_height": null,
            "min_width": null,
            "object_fit": null,
            "object_position": null,
            "order": null,
            "overflow": null,
            "overflow_x": null,
            "overflow_y": null,
            "padding": null,
            "right": null,
            "top": null,
            "visibility": null,
            "width": null
          }
        },
        "a95e8abf0e33431f9dee423c8a845e4c": {
          "model_module": "@jupyter-widgets/controls",
          "model_name": "DescriptionStyleModel",
          "model_module_version": "1.5.0",
          "state": {
            "_model_module": "@jupyter-widgets/controls",
            "_model_module_version": "1.5.0",
            "_model_name": "DescriptionStyleModel",
            "_view_count": null,
            "_view_module": "@jupyter-widgets/base",
            "_view_module_version": "1.2.0",
            "_view_name": "StyleView",
            "description_width": ""
          }
        },
        "f2444037f05c43298c650da7e4575739": {
          "model_module": "@jupyter-widgets/controls",
          "model_name": "HBoxModel",
          "model_module_version": "1.5.0",
          "state": {
            "_dom_classes": [],
            "_model_module": "@jupyter-widgets/controls",
            "_model_module_version": "1.5.0",
            "_model_name": "HBoxModel",
            "_view_count": null,
            "_view_module": "@jupyter-widgets/controls",
            "_view_module_version": "1.5.0",
            "_view_name": "HBoxView",
            "box_style": "",
            "children": [
              "IPY_MODEL_dda2c60698a648f7909fd47bdebc9c8e",
              "IPY_MODEL_3baabda0095b4bbc9dbf51a7c819cf61",
              "IPY_MODEL_3b8de0b0448b4075893250343ed049dd"
            ],
            "layout": "IPY_MODEL_06888b85181f4082a3307380ea0a2dda"
          }
        },
        "dda2c60698a648f7909fd47bdebc9c8e": {
          "model_module": "@jupyter-widgets/controls",
          "model_name": "HTMLModel",
          "model_module_version": "1.5.0",
          "state": {
            "_dom_classes": [],
            "_model_module": "@jupyter-widgets/controls",
            "_model_module_version": "1.5.0",
            "_model_name": "HTMLModel",
            "_view_count": null,
            "_view_module": "@jupyter-widgets/controls",
            "_view_module_version": "1.5.0",
            "_view_name": "HTMLView",
            "description": "",
            "description_tooltip": null,
            "layout": "IPY_MODEL_25f5b661f31a4f82a92b1f9c983f4775",
            "placeholder": "​",
            "style": "IPY_MODEL_efbfe1739bbb49bf8a7f51993a850a9a",
            "value": "model.safetensors: 100%"
          }
        },
        "3baabda0095b4bbc9dbf51a7c819cf61": {
          "model_module": "@jupyter-widgets/controls",
          "model_name": "FloatProgressModel",
          "model_module_version": "1.5.0",
          "state": {
            "_dom_classes": [],
            "_model_module": "@jupyter-widgets/controls",
            "_model_module_version": "1.5.0",
            "_model_name": "FloatProgressModel",
            "_view_count": null,
            "_view_module": "@jupyter-widgets/controls",
            "_view_module_version": "1.5.0",
            "_view_name": "ProgressView",
            "bar_style": "success",
            "description": "",
            "description_tooltip": null,
            "layout": "IPY_MODEL_a8678226eb454130bc0bdc692d328b8a",
            "max": 1625222120,
            "min": 0,
            "orientation": "horizontal",
            "style": "IPY_MODEL_7e2ef5a8018c43808e943775f91a7248",
            "value": 1625222120
          }
        },
        "3b8de0b0448b4075893250343ed049dd": {
          "model_module": "@jupyter-widgets/controls",
          "model_name": "HTMLModel",
          "model_module_version": "1.5.0",
          "state": {
            "_dom_classes": [],
            "_model_module": "@jupyter-widgets/controls",
            "_model_module_version": "1.5.0",
            "_model_name": "HTMLModel",
            "_view_count": null,
            "_view_module": "@jupyter-widgets/controls",
            "_view_module_version": "1.5.0",
            "_view_name": "HTMLView",
            "description": "",
            "description_tooltip": null,
            "layout": "IPY_MODEL_7f5e771f882444de99479ab3fc68122e",
            "placeholder": "​",
            "style": "IPY_MODEL_e1ef9f55f36143378e3949e3874137e2",
            "value": " 1.63G/1.63G [01:02&lt;00:00, 40.0MB/s]"
          }
        },
        "06888b85181f4082a3307380ea0a2dda": {
          "model_module": "@jupyter-widgets/base",
          "model_name": "LayoutModel",
          "model_module_version": "1.2.0",
          "state": {
            "_model_module": "@jupyter-widgets/base",
            "_model_module_version": "1.2.0",
            "_model_name": "LayoutModel",
            "_view_count": null,
            "_view_module": "@jupyter-widgets/base",
            "_view_module_version": "1.2.0",
            "_view_name": "LayoutView",
            "align_content": null,
            "align_items": null,
            "align_self": null,
            "border": null,
            "bottom": null,
            "display": null,
            "flex": null,
            "flex_flow": null,
            "grid_area": null,
            "grid_auto_columns": null,
            "grid_auto_flow": null,
            "grid_auto_rows": null,
            "grid_column": null,
            "grid_gap": null,
            "grid_row": null,
            "grid_template_areas": null,
            "grid_template_columns": null,
            "grid_template_rows": null,
            "height": null,
            "justify_content": null,
            "justify_items": null,
            "left": null,
            "margin": null,
            "max_height": null,
            "max_width": null,
            "min_height": null,
            "min_width": null,
            "object_fit": null,
            "object_position": null,
            "order": null,
            "overflow": null,
            "overflow_x": null,
            "overflow_y": null,
            "padding": null,
            "right": null,
            "top": null,
            "visibility": null,
            "width": null
          }
        },
        "25f5b661f31a4f82a92b1f9c983f4775": {
          "model_module": "@jupyter-widgets/base",
          "model_name": "LayoutModel",
          "model_module_version": "1.2.0",
          "state": {
            "_model_module": "@jupyter-widgets/base",
            "_model_module_version": "1.2.0",
            "_model_name": "LayoutModel",
            "_view_count": null,
            "_view_module": "@jupyter-widgets/base",
            "_view_module_version": "1.2.0",
            "_view_name": "LayoutView",
            "align_content": null,
            "align_items": null,
            "align_self": null,
            "border": null,
            "bottom": null,
            "display": null,
            "flex": null,
            "flex_flow": null,
            "grid_area": null,
            "grid_auto_columns": null,
            "grid_auto_flow": null,
            "grid_auto_rows": null,
            "grid_column": null,
            "grid_gap": null,
            "grid_row": null,
            "grid_template_areas": null,
            "grid_template_columns": null,
            "grid_template_rows": null,
            "height": null,
            "justify_content": null,
            "justify_items": null,
            "left": null,
            "margin": null,
            "max_height": null,
            "max_width": null,
            "min_height": null,
            "min_width": null,
            "object_fit": null,
            "object_position": null,
            "order": null,
            "overflow": null,
            "overflow_x": null,
            "overflow_y": null,
            "padding": null,
            "right": null,
            "top": null,
            "visibility": null,
            "width": null
          }
        },
        "efbfe1739bbb49bf8a7f51993a850a9a": {
          "model_module": "@jupyter-widgets/controls",
          "model_name": "DescriptionStyleModel",
          "model_module_version": "1.5.0",
          "state": {
            "_model_module": "@jupyter-widgets/controls",
            "_model_module_version": "1.5.0",
            "_model_name": "DescriptionStyleModel",
            "_view_count": null,
            "_view_module": "@jupyter-widgets/base",
            "_view_module_version": "1.2.0",
            "_view_name": "StyleView",
            "description_width": ""
          }
        },
        "a8678226eb454130bc0bdc692d328b8a": {
          "model_module": "@jupyter-widgets/base",
          "model_name": "LayoutModel",
          "model_module_version": "1.2.0",
          "state": {
            "_model_module": "@jupyter-widgets/base",
            "_model_module_version": "1.2.0",
            "_model_name": "LayoutModel",
            "_view_count": null,
            "_view_module": "@jupyter-widgets/base",
            "_view_module_version": "1.2.0",
            "_view_name": "LayoutView",
            "align_content": null,
            "align_items": null,
            "align_self": null,
            "border": null,
            "bottom": null,
            "display": null,
            "flex": null,
            "flex_flow": null,
            "grid_area": null,
            "grid_auto_columns": null,
            "grid_auto_flow": null,
            "grid_auto_rows": null,
            "grid_column": null,
            "grid_gap": null,
            "grid_row": null,
            "grid_template_areas": null,
            "grid_template_columns": null,
            "grid_template_rows": null,
            "height": null,
            "justify_content": null,
            "justify_items": null,
            "left": null,
            "margin": null,
            "max_height": null,
            "max_width": null,
            "min_height": null,
            "min_width": null,
            "object_fit": null,
            "object_position": null,
            "order": null,
            "overflow": null,
            "overflow_x": null,
            "overflow_y": null,
            "padding": null,
            "right": null,
            "top": null,
            "visibility": null,
            "width": null
          }
        },
        "7e2ef5a8018c43808e943775f91a7248": {
          "model_module": "@jupyter-widgets/controls",
          "model_name": "ProgressStyleModel",
          "model_module_version": "1.5.0",
          "state": {
            "_model_module": "@jupyter-widgets/controls",
            "_model_module_version": "1.5.0",
            "_model_name": "ProgressStyleModel",
            "_view_count": null,
            "_view_module": "@jupyter-widgets/base",
            "_view_module_version": "1.2.0",
            "_view_name": "StyleView",
            "bar_color": null,
            "description_width": ""
          }
        },
        "7f5e771f882444de99479ab3fc68122e": {
          "model_module": "@jupyter-widgets/base",
          "model_name": "LayoutModel",
          "model_module_version": "1.2.0",
          "state": {
            "_model_module": "@jupyter-widgets/base",
            "_model_module_version": "1.2.0",
            "_model_name": "LayoutModel",
            "_view_count": null,
            "_view_module": "@jupyter-widgets/base",
            "_view_module_version": "1.2.0",
            "_view_name": "LayoutView",
            "align_content": null,
            "align_items": null,
            "align_self": null,
            "border": null,
            "bottom": null,
            "display": null,
            "flex": null,
            "flex_flow": null,
            "grid_area": null,
            "grid_auto_columns": null,
            "grid_auto_flow": null,
            "grid_auto_rows": null,
            "grid_column": null,
            "grid_gap": null,
            "grid_row": null,
            "grid_template_areas": null,
            "grid_template_columns": null,
            "grid_template_rows": null,
            "height": null,
            "justify_content": null,
            "justify_items": null,
            "left": null,
            "margin": null,
            "max_height": null,
            "max_width": null,
            "min_height": null,
            "min_width": null,
            "object_fit": null,
            "object_position": null,
            "order": null,
            "overflow": null,
            "overflow_x": null,
            "overflow_y": null,
            "padding": null,
            "right": null,
            "top": null,
            "visibility": null,
            "width": null
          }
        },
        "e1ef9f55f36143378e3949e3874137e2": {
          "model_module": "@jupyter-widgets/controls",
          "model_name": "DescriptionStyleModel",
          "model_module_version": "1.5.0",
          "state": {
            "_model_module": "@jupyter-widgets/controls",
            "_model_module_version": "1.5.0",
            "_model_name": "DescriptionStyleModel",
            "_view_count": null,
            "_view_module": "@jupyter-widgets/base",
            "_view_module_version": "1.2.0",
            "_view_name": "StyleView",
            "description_width": ""
          }
        },
        "4a77eb02076a4c0294d9517cd4fafc25": {
          "model_module": "@jupyter-widgets/controls",
          "model_name": "HBoxModel",
          "model_module_version": "1.5.0",
          "state": {
            "_dom_classes": [],
            "_model_module": "@jupyter-widgets/controls",
            "_model_module_version": "1.5.0",
            "_model_name": "HBoxModel",
            "_view_count": null,
            "_view_module": "@jupyter-widgets/controls",
            "_view_module_version": "1.5.0",
            "_view_name": "HBoxView",
            "box_style": "",
            "children": [
              "IPY_MODEL_25005d0ffa894636b81c75d60d6a9a90",
              "IPY_MODEL_feb91e88991343ec85cfb12879e8dcf4",
              "IPY_MODEL_f391afb3418c43729fbcb7fa470189d3"
            ],
            "layout": "IPY_MODEL_8a924eb889574c2abd0650c52b0cfc35"
          }
        },
        "25005d0ffa894636b81c75d60d6a9a90": {
          "model_module": "@jupyter-widgets/controls",
          "model_name": "HTMLModel",
          "model_module_version": "1.5.0",
          "state": {
            "_dom_classes": [],
            "_model_module": "@jupyter-widgets/controls",
            "_model_module_version": "1.5.0",
            "_model_name": "HTMLModel",
            "_view_count": null,
            "_view_module": "@jupyter-widgets/controls",
            "_view_module_version": "1.5.0",
            "_view_name": "HTMLView",
            "description": "",
            "description_tooltip": null,
            "layout": "IPY_MODEL_a5e092e45d444195b154f1f0c86292cb",
            "placeholder": "​",
            "style": "IPY_MODEL_331385c0715347d7bbad4caffae06f8f",
            "value": "generation_config.json: 100%"
          }
        },
        "feb91e88991343ec85cfb12879e8dcf4": {
          "model_module": "@jupyter-widgets/controls",
          "model_name": "FloatProgressModel",
          "model_module_version": "1.5.0",
          "state": {
            "_dom_classes": [],
            "_model_module": "@jupyter-widgets/controls",
            "_model_module_version": "1.5.0",
            "_model_name": "FloatProgressModel",
            "_view_count": null,
            "_view_module": "@jupyter-widgets/controls",
            "_view_module_version": "1.5.0",
            "_view_name": "ProgressView",
            "bar_style": "success",
            "description": "",
            "description_tooltip": null,
            "layout": "IPY_MODEL_71c78f928ad348118f538e6a6f267f02",
            "max": 363,
            "min": 0,
            "orientation": "horizontal",
            "style": "IPY_MODEL_438096cd1b744ccd9a2804ef8c558e7b",
            "value": 363
          }
        },
        "f391afb3418c43729fbcb7fa470189d3": {
          "model_module": "@jupyter-widgets/controls",
          "model_name": "HTMLModel",
          "model_module_version": "1.5.0",
          "state": {
            "_dom_classes": [],
            "_model_module": "@jupyter-widgets/controls",
            "_model_module_version": "1.5.0",
            "_model_name": "HTMLModel",
            "_view_count": null,
            "_view_module": "@jupyter-widgets/controls",
            "_view_module_version": "1.5.0",
            "_view_name": "HTMLView",
            "description": "",
            "description_tooltip": null,
            "layout": "IPY_MODEL_4afd6900de69462084dda5fd2d998cbb",
            "placeholder": "​",
            "style": "IPY_MODEL_49153f8ace2b46cc977c5bb2bade29e8",
            "value": " 363/363 [00:00&lt;00:00, 16.7kB/s]"
          }
        },
        "8a924eb889574c2abd0650c52b0cfc35": {
          "model_module": "@jupyter-widgets/base",
          "model_name": "LayoutModel",
          "model_module_version": "1.2.0",
          "state": {
            "_model_module": "@jupyter-widgets/base",
            "_model_module_version": "1.2.0",
            "_model_name": "LayoutModel",
            "_view_count": null,
            "_view_module": "@jupyter-widgets/base",
            "_view_module_version": "1.2.0",
            "_view_name": "LayoutView",
            "align_content": null,
            "align_items": null,
            "align_self": null,
            "border": null,
            "bottom": null,
            "display": null,
            "flex": null,
            "flex_flow": null,
            "grid_area": null,
            "grid_auto_columns": null,
            "grid_auto_flow": null,
            "grid_auto_rows": null,
            "grid_column": null,
            "grid_gap": null,
            "grid_row": null,
            "grid_template_areas": null,
            "grid_template_columns": null,
            "grid_template_rows": null,
            "height": null,
            "justify_content": null,
            "justify_items": null,
            "left": null,
            "margin": null,
            "max_height": null,
            "max_width": null,
            "min_height": null,
            "min_width": null,
            "object_fit": null,
            "object_position": null,
            "order": null,
            "overflow": null,
            "overflow_x": null,
            "overflow_y": null,
            "padding": null,
            "right": null,
            "top": null,
            "visibility": null,
            "width": null
          }
        },
        "a5e092e45d444195b154f1f0c86292cb": {
          "model_module": "@jupyter-widgets/base",
          "model_name": "LayoutModel",
          "model_module_version": "1.2.0",
          "state": {
            "_model_module": "@jupyter-widgets/base",
            "_model_module_version": "1.2.0",
            "_model_name": "LayoutModel",
            "_view_count": null,
            "_view_module": "@jupyter-widgets/base",
            "_view_module_version": "1.2.0",
            "_view_name": "LayoutView",
            "align_content": null,
            "align_items": null,
            "align_self": null,
            "border": null,
            "bottom": null,
            "display": null,
            "flex": null,
            "flex_flow": null,
            "grid_area": null,
            "grid_auto_columns": null,
            "grid_auto_flow": null,
            "grid_auto_rows": null,
            "grid_column": null,
            "grid_gap": null,
            "grid_row": null,
            "grid_template_areas": null,
            "grid_template_columns": null,
            "grid_template_rows": null,
            "height": null,
            "justify_content": null,
            "justify_items": null,
            "left": null,
            "margin": null,
            "max_height": null,
            "max_width": null,
            "min_height": null,
            "min_width": null,
            "object_fit": null,
            "object_position": null,
            "order": null,
            "overflow": null,
            "overflow_x": null,
            "overflow_y": null,
            "padding": null,
            "right": null,
            "top": null,
            "visibility": null,
            "width": null
          }
        },
        "331385c0715347d7bbad4caffae06f8f": {
          "model_module": "@jupyter-widgets/controls",
          "model_name": "DescriptionStyleModel",
          "model_module_version": "1.5.0",
          "state": {
            "_model_module": "@jupyter-widgets/controls",
            "_model_module_version": "1.5.0",
            "_model_name": "DescriptionStyleModel",
            "_view_count": null,
            "_view_module": "@jupyter-widgets/base",
            "_view_module_version": "1.2.0",
            "_view_name": "StyleView",
            "description_width": ""
          }
        },
        "71c78f928ad348118f538e6a6f267f02": {
          "model_module": "@jupyter-widgets/base",
          "model_name": "LayoutModel",
          "model_module_version": "1.2.0",
          "state": {
            "_model_module": "@jupyter-widgets/base",
            "_model_module_version": "1.2.0",
            "_model_name": "LayoutModel",
            "_view_count": null,
            "_view_module": "@jupyter-widgets/base",
            "_view_module_version": "1.2.0",
            "_view_name": "LayoutView",
            "align_content": null,
            "align_items": null,
            "align_self": null,
            "border": null,
            "bottom": null,
            "display": null,
            "flex": null,
            "flex_flow": null,
            "grid_area": null,
            "grid_auto_columns": null,
            "grid_auto_flow": null,
            "grid_auto_rows": null,
            "grid_column": null,
            "grid_gap": null,
            "grid_row": null,
            "grid_template_areas": null,
            "grid_template_columns": null,
            "grid_template_rows": null,
            "height": null,
            "justify_content": null,
            "justify_items": null,
            "left": null,
            "margin": null,
            "max_height": null,
            "max_width": null,
            "min_height": null,
            "min_width": null,
            "object_fit": null,
            "object_position": null,
            "order": null,
            "overflow": null,
            "overflow_x": null,
            "overflow_y": null,
            "padding": null,
            "right": null,
            "top": null,
            "visibility": null,
            "width": null
          }
        },
        "438096cd1b744ccd9a2804ef8c558e7b": {
          "model_module": "@jupyter-widgets/controls",
          "model_name": "ProgressStyleModel",
          "model_module_version": "1.5.0",
          "state": {
            "_model_module": "@jupyter-widgets/controls",
            "_model_module_version": "1.5.0",
            "_model_name": "ProgressStyleModel",
            "_view_count": null,
            "_view_module": "@jupyter-widgets/base",
            "_view_module_version": "1.2.0",
            "_view_name": "StyleView",
            "bar_color": null,
            "description_width": ""
          }
        },
        "4afd6900de69462084dda5fd2d998cbb": {
          "model_module": "@jupyter-widgets/base",
          "model_name": "LayoutModel",
          "model_module_version": "1.2.0",
          "state": {
            "_model_module": "@jupyter-widgets/base",
            "_model_module_version": "1.2.0",
            "_model_name": "LayoutModel",
            "_view_count": null,
            "_view_module": "@jupyter-widgets/base",
            "_view_module_version": "1.2.0",
            "_view_name": "LayoutView",
            "align_content": null,
            "align_items": null,
            "align_self": null,
            "border": null,
            "bottom": null,
            "display": null,
            "flex": null,
            "flex_flow": null,
            "grid_area": null,
            "grid_auto_columns": null,
            "grid_auto_flow": null,
            "grid_auto_rows": null,
            "grid_column": null,
            "grid_gap": null,
            "grid_row": null,
            "grid_template_areas": null,
            "grid_template_columns": null,
            "grid_template_rows": null,
            "height": null,
            "justify_content": null,
            "justify_items": null,
            "left": null,
            "margin": null,
            "max_height": null,
            "max_width": null,
            "min_height": null,
            "min_width": null,
            "object_fit": null,
            "object_position": null,
            "order": null,
            "overflow": null,
            "overflow_x": null,
            "overflow_y": null,
            "padding": null,
            "right": null,
            "top": null,
            "visibility": null,
            "width": null
          }
        },
        "49153f8ace2b46cc977c5bb2bade29e8": {
          "model_module": "@jupyter-widgets/controls",
          "model_name": "DescriptionStyleModel",
          "model_module_version": "1.5.0",
          "state": {
            "_model_module": "@jupyter-widgets/controls",
            "_model_module_version": "1.5.0",
            "_model_name": "DescriptionStyleModel",
            "_view_count": null,
            "_view_module": "@jupyter-widgets/base",
            "_view_module_version": "1.2.0",
            "_view_name": "StyleView",
            "description_width": ""
          }
        },
        "e8764fa6aa79475e816b768ae6f27369": {
          "model_module": "@jupyter-widgets/controls",
          "model_name": "HBoxModel",
          "model_module_version": "1.5.0",
          "state": {
            "_dom_classes": [],
            "_model_module": "@jupyter-widgets/controls",
            "_model_module_version": "1.5.0",
            "_model_name": "HBoxModel",
            "_view_count": null,
            "_view_module": "@jupyter-widgets/controls",
            "_view_module_version": "1.5.0",
            "_view_name": "HBoxView",
            "box_style": "",
            "children": [
              "IPY_MODEL_e9c85245487941a4824677e8df753b3b",
              "IPY_MODEL_5e4783907707450d9e98ee93c29497d9",
              "IPY_MODEL_b8f4e911467f463abce27c6042c8ba76"
            ],
            "layout": "IPY_MODEL_07510603a55e46ed80602c8915bf7739"
          }
        },
        "e9c85245487941a4824677e8df753b3b": {
          "model_module": "@jupyter-widgets/controls",
          "model_name": "HTMLModel",
          "model_module_version": "1.5.0",
          "state": {
            "_dom_classes": [],
            "_model_module": "@jupyter-widgets/controls",
            "_model_module_version": "1.5.0",
            "_model_name": "HTMLModel",
            "_view_count": null,
            "_view_module": "@jupyter-widgets/controls",
            "_view_module_version": "1.5.0",
            "_view_name": "HTMLView",
            "description": "",
            "description_tooltip": null,
            "layout": "IPY_MODEL_51ee0e854a7a4f3aad5da2a84134f5b1",
            "placeholder": "​",
            "style": "IPY_MODEL_7378750ba211445fbd6ab5d190d992e7",
            "value": "vocab.json: 100%"
          }
        },
        "5e4783907707450d9e98ee93c29497d9": {
          "model_module": "@jupyter-widgets/controls",
          "model_name": "FloatProgressModel",
          "model_module_version": "1.5.0",
          "state": {
            "_dom_classes": [],
            "_model_module": "@jupyter-widgets/controls",
            "_model_module_version": "1.5.0",
            "_model_name": "FloatProgressModel",
            "_view_count": null,
            "_view_module": "@jupyter-widgets/controls",
            "_view_module_version": "1.5.0",
            "_view_name": "ProgressView",
            "bar_style": "success",
            "description": "",
            "description_tooltip": null,
            "layout": "IPY_MODEL_1c87f0d713d14b828ef5df21b3be8e90",
            "max": 898823,
            "min": 0,
            "orientation": "horizontal",
            "style": "IPY_MODEL_d7cf23ea5ef44675970f4e726e31718b",
            "value": 898823
          }
        },
        "b8f4e911467f463abce27c6042c8ba76": {
          "model_module": "@jupyter-widgets/controls",
          "model_name": "HTMLModel",
          "model_module_version": "1.5.0",
          "state": {
            "_dom_classes": [],
            "_model_module": "@jupyter-widgets/controls",
            "_model_module_version": "1.5.0",
            "_model_name": "HTMLModel",
            "_view_count": null,
            "_view_module": "@jupyter-widgets/controls",
            "_view_module_version": "1.5.0",
            "_view_name": "HTMLView",
            "description": "",
            "description_tooltip": null,
            "layout": "IPY_MODEL_627708e6ff9049c58860ebfc980eee09",
            "placeholder": "​",
            "style": "IPY_MODEL_ebebd49c782e4761b1860dfcbde8a8f8",
            "value": " 899k/899k [00:00&lt;00:00, 7.13MB/s]"
          }
        },
        "07510603a55e46ed80602c8915bf7739": {
          "model_module": "@jupyter-widgets/base",
          "model_name": "LayoutModel",
          "model_module_version": "1.2.0",
          "state": {
            "_model_module": "@jupyter-widgets/base",
            "_model_module_version": "1.2.0",
            "_model_name": "LayoutModel",
            "_view_count": null,
            "_view_module": "@jupyter-widgets/base",
            "_view_module_version": "1.2.0",
            "_view_name": "LayoutView",
            "align_content": null,
            "align_items": null,
            "align_self": null,
            "border": null,
            "bottom": null,
            "display": null,
            "flex": null,
            "flex_flow": null,
            "grid_area": null,
            "grid_auto_columns": null,
            "grid_auto_flow": null,
            "grid_auto_rows": null,
            "grid_column": null,
            "grid_gap": null,
            "grid_row": null,
            "grid_template_areas": null,
            "grid_template_columns": null,
            "grid_template_rows": null,
            "height": null,
            "justify_content": null,
            "justify_items": null,
            "left": null,
            "margin": null,
            "max_height": null,
            "max_width": null,
            "min_height": null,
            "min_width": null,
            "object_fit": null,
            "object_position": null,
            "order": null,
            "overflow": null,
            "overflow_x": null,
            "overflow_y": null,
            "padding": null,
            "right": null,
            "top": null,
            "visibility": null,
            "width": null
          }
        },
        "51ee0e854a7a4f3aad5da2a84134f5b1": {
          "model_module": "@jupyter-widgets/base",
          "model_name": "LayoutModel",
          "model_module_version": "1.2.0",
          "state": {
            "_model_module": "@jupyter-widgets/base",
            "_model_module_version": "1.2.0",
            "_model_name": "LayoutModel",
            "_view_count": null,
            "_view_module": "@jupyter-widgets/base",
            "_view_module_version": "1.2.0",
            "_view_name": "LayoutView",
            "align_content": null,
            "align_items": null,
            "align_self": null,
            "border": null,
            "bottom": null,
            "display": null,
            "flex": null,
            "flex_flow": null,
            "grid_area": null,
            "grid_auto_columns": null,
            "grid_auto_flow": null,
            "grid_auto_rows": null,
            "grid_column": null,
            "grid_gap": null,
            "grid_row": null,
            "grid_template_areas": null,
            "grid_template_columns": null,
            "grid_template_rows": null,
            "height": null,
            "justify_content": null,
            "justify_items": null,
            "left": null,
            "margin": null,
            "max_height": null,
            "max_width": null,
            "min_height": null,
            "min_width": null,
            "object_fit": null,
            "object_position": null,
            "order": null,
            "overflow": null,
            "overflow_x": null,
            "overflow_y": null,
            "padding": null,
            "right": null,
            "top": null,
            "visibility": null,
            "width": null
          }
        },
        "7378750ba211445fbd6ab5d190d992e7": {
          "model_module": "@jupyter-widgets/controls",
          "model_name": "DescriptionStyleModel",
          "model_module_version": "1.5.0",
          "state": {
            "_model_module": "@jupyter-widgets/controls",
            "_model_module_version": "1.5.0",
            "_model_name": "DescriptionStyleModel",
            "_view_count": null,
            "_view_module": "@jupyter-widgets/base",
            "_view_module_version": "1.2.0",
            "_view_name": "StyleView",
            "description_width": ""
          }
        },
        "1c87f0d713d14b828ef5df21b3be8e90": {
          "model_module": "@jupyter-widgets/base",
          "model_name": "LayoutModel",
          "model_module_version": "1.2.0",
          "state": {
            "_model_module": "@jupyter-widgets/base",
            "_model_module_version": "1.2.0",
            "_model_name": "LayoutModel",
            "_view_count": null,
            "_view_module": "@jupyter-widgets/base",
            "_view_module_version": "1.2.0",
            "_view_name": "LayoutView",
            "align_content": null,
            "align_items": null,
            "align_self": null,
            "border": null,
            "bottom": null,
            "display": null,
            "flex": null,
            "flex_flow": null,
            "grid_area": null,
            "grid_auto_columns": null,
            "grid_auto_flow": null,
            "grid_auto_rows": null,
            "grid_column": null,
            "grid_gap": null,
            "grid_row": null,
            "grid_template_areas": null,
            "grid_template_columns": null,
            "grid_template_rows": null,
            "height": null,
            "justify_content": null,
            "justify_items": null,
            "left": null,
            "margin": null,
            "max_height": null,
            "max_width": null,
            "min_height": null,
            "min_width": null,
            "object_fit": null,
            "object_position": null,
            "order": null,
            "overflow": null,
            "overflow_x": null,
            "overflow_y": null,
            "padding": null,
            "right": null,
            "top": null,
            "visibility": null,
            "width": null
          }
        },
        "d7cf23ea5ef44675970f4e726e31718b": {
          "model_module": "@jupyter-widgets/controls",
          "model_name": "ProgressStyleModel",
          "model_module_version": "1.5.0",
          "state": {
            "_model_module": "@jupyter-widgets/controls",
            "_model_module_version": "1.5.0",
            "_model_name": "ProgressStyleModel",
            "_view_count": null,
            "_view_module": "@jupyter-widgets/base",
            "_view_module_version": "1.2.0",
            "_view_name": "StyleView",
            "bar_color": null,
            "description_width": ""
          }
        },
        "627708e6ff9049c58860ebfc980eee09": {
          "model_module": "@jupyter-widgets/base",
          "model_name": "LayoutModel",
          "model_module_version": "1.2.0",
          "state": {
            "_model_module": "@jupyter-widgets/base",
            "_model_module_version": "1.2.0",
            "_model_name": "LayoutModel",
            "_view_count": null,
            "_view_module": "@jupyter-widgets/base",
            "_view_module_version": "1.2.0",
            "_view_name": "LayoutView",
            "align_content": null,
            "align_items": null,
            "align_self": null,
            "border": null,
            "bottom": null,
            "display": null,
            "flex": null,
            "flex_flow": null,
            "grid_area": null,
            "grid_auto_columns": null,
            "grid_auto_flow": null,
            "grid_auto_rows": null,
            "grid_column": null,
            "grid_gap": null,
            "grid_row": null,
            "grid_template_areas": null,
            "grid_template_columns": null,
            "grid_template_rows": null,
            "height": null,
            "justify_content": null,
            "justify_items": null,
            "left": null,
            "margin": null,
            "max_height": null,
            "max_width": null,
            "min_height": null,
            "min_width": null,
            "object_fit": null,
            "object_position": null,
            "order": null,
            "overflow": null,
            "overflow_x": null,
            "overflow_y": null,
            "padding": null,
            "right": null,
            "top": null,
            "visibility": null,
            "width": null
          }
        },
        "ebebd49c782e4761b1860dfcbde8a8f8": {
          "model_module": "@jupyter-widgets/controls",
          "model_name": "DescriptionStyleModel",
          "model_module_version": "1.5.0",
          "state": {
            "_model_module": "@jupyter-widgets/controls",
            "_model_module_version": "1.5.0",
            "_model_name": "DescriptionStyleModel",
            "_view_count": null,
            "_view_module": "@jupyter-widgets/base",
            "_view_module_version": "1.2.0",
            "_view_name": "StyleView",
            "description_width": ""
          }
        },
        "f65d6cd93d1846f1982ff0e8e8618bd5": {
          "model_module": "@jupyter-widgets/controls",
          "model_name": "HBoxModel",
          "model_module_version": "1.5.0",
          "state": {
            "_dom_classes": [],
            "_model_module": "@jupyter-widgets/controls",
            "_model_module_version": "1.5.0",
            "_model_name": "HBoxModel",
            "_view_count": null,
            "_view_module": "@jupyter-widgets/controls",
            "_view_module_version": "1.5.0",
            "_view_name": "HBoxView",
            "box_style": "",
            "children": [
              "IPY_MODEL_5ad2409702704fa4b30ef8783b37d821",
              "IPY_MODEL_14131ce873da4db5861e36e5dfaf4f48",
              "IPY_MODEL_fd87e0464949486485b00c64adef6b2a"
            ],
            "layout": "IPY_MODEL_53d8c7edf2f34100b3ede456749983e7"
          }
        },
        "5ad2409702704fa4b30ef8783b37d821": {
          "model_module": "@jupyter-widgets/controls",
          "model_name": "HTMLModel",
          "model_module_version": "1.5.0",
          "state": {
            "_dom_classes": [],
            "_model_module": "@jupyter-widgets/controls",
            "_model_module_version": "1.5.0",
            "_model_name": "HTMLModel",
            "_view_count": null,
            "_view_module": "@jupyter-widgets/controls",
            "_view_module_version": "1.5.0",
            "_view_name": "HTMLView",
            "description": "",
            "description_tooltip": null,
            "layout": "IPY_MODEL_76dbd93fc22f4a0b9af7cd17430c404c",
            "placeholder": "​",
            "style": "IPY_MODEL_36f8b6c9e40b4181beed04a175dadddb",
            "value": "merges.txt: 100%"
          }
        },
        "14131ce873da4db5861e36e5dfaf4f48": {
          "model_module": "@jupyter-widgets/controls",
          "model_name": "FloatProgressModel",
          "model_module_version": "1.5.0",
          "state": {
            "_dom_classes": [],
            "_model_module": "@jupyter-widgets/controls",
            "_model_module_version": "1.5.0",
            "_model_name": "FloatProgressModel",
            "_view_count": null,
            "_view_module": "@jupyter-widgets/controls",
            "_view_module_version": "1.5.0",
            "_view_name": "ProgressView",
            "bar_style": "success",
            "description": "",
            "description_tooltip": null,
            "layout": "IPY_MODEL_d57a5e4d39ef4a46beb502a2ab3d908e",
            "max": 456318,
            "min": 0,
            "orientation": "horizontal",
            "style": "IPY_MODEL_510ee6f1e74041aea620e71d395fa87c",
            "value": 456318
          }
        },
        "fd87e0464949486485b00c64adef6b2a": {
          "model_module": "@jupyter-widgets/controls",
          "model_name": "HTMLModel",
          "model_module_version": "1.5.0",
          "state": {
            "_dom_classes": [],
            "_model_module": "@jupyter-widgets/controls",
            "_model_module_version": "1.5.0",
            "_model_name": "HTMLModel",
            "_view_count": null,
            "_view_module": "@jupyter-widgets/controls",
            "_view_module_version": "1.5.0",
            "_view_name": "HTMLView",
            "description": "",
            "description_tooltip": null,
            "layout": "IPY_MODEL_e288a9667cb547b8bf74995ea42d2f6b",
            "placeholder": "​",
            "style": "IPY_MODEL_955e3d142b534805a3943f88391cd449",
            "value": " 456k/456k [00:00&lt;00:00, 14.6MB/s]"
          }
        },
        "53d8c7edf2f34100b3ede456749983e7": {
          "model_module": "@jupyter-widgets/base",
          "model_name": "LayoutModel",
          "model_module_version": "1.2.0",
          "state": {
            "_model_module": "@jupyter-widgets/base",
            "_model_module_version": "1.2.0",
            "_model_name": "LayoutModel",
            "_view_count": null,
            "_view_module": "@jupyter-widgets/base",
            "_view_module_version": "1.2.0",
            "_view_name": "LayoutView",
            "align_content": null,
            "align_items": null,
            "align_self": null,
            "border": null,
            "bottom": null,
            "display": null,
            "flex": null,
            "flex_flow": null,
            "grid_area": null,
            "grid_auto_columns": null,
            "grid_auto_flow": null,
            "grid_auto_rows": null,
            "grid_column": null,
            "grid_gap": null,
            "grid_row": null,
            "grid_template_areas": null,
            "grid_template_columns": null,
            "grid_template_rows": null,
            "height": null,
            "justify_content": null,
            "justify_items": null,
            "left": null,
            "margin": null,
            "max_height": null,
            "max_width": null,
            "min_height": null,
            "min_width": null,
            "object_fit": null,
            "object_position": null,
            "order": null,
            "overflow": null,
            "overflow_x": null,
            "overflow_y": null,
            "padding": null,
            "right": null,
            "top": null,
            "visibility": null,
            "width": null
          }
        },
        "76dbd93fc22f4a0b9af7cd17430c404c": {
          "model_module": "@jupyter-widgets/base",
          "model_name": "LayoutModel",
          "model_module_version": "1.2.0",
          "state": {
            "_model_module": "@jupyter-widgets/base",
            "_model_module_version": "1.2.0",
            "_model_name": "LayoutModel",
            "_view_count": null,
            "_view_module": "@jupyter-widgets/base",
            "_view_module_version": "1.2.0",
            "_view_name": "LayoutView",
            "align_content": null,
            "align_items": null,
            "align_self": null,
            "border": null,
            "bottom": null,
            "display": null,
            "flex": null,
            "flex_flow": null,
            "grid_area": null,
            "grid_auto_columns": null,
            "grid_auto_flow": null,
            "grid_auto_rows": null,
            "grid_column": null,
            "grid_gap": null,
            "grid_row": null,
            "grid_template_areas": null,
            "grid_template_columns": null,
            "grid_template_rows": null,
            "height": null,
            "justify_content": null,
            "justify_items": null,
            "left": null,
            "margin": null,
            "max_height": null,
            "max_width": null,
            "min_height": null,
            "min_width": null,
            "object_fit": null,
            "object_position": null,
            "order": null,
            "overflow": null,
            "overflow_x": null,
            "overflow_y": null,
            "padding": null,
            "right": null,
            "top": null,
            "visibility": null,
            "width": null
          }
        },
        "36f8b6c9e40b4181beed04a175dadddb": {
          "model_module": "@jupyter-widgets/controls",
          "model_name": "DescriptionStyleModel",
          "model_module_version": "1.5.0",
          "state": {
            "_model_module": "@jupyter-widgets/controls",
            "_model_module_version": "1.5.0",
            "_model_name": "DescriptionStyleModel",
            "_view_count": null,
            "_view_module": "@jupyter-widgets/base",
            "_view_module_version": "1.2.0",
            "_view_name": "StyleView",
            "description_width": ""
          }
        },
        "d57a5e4d39ef4a46beb502a2ab3d908e": {
          "model_module": "@jupyter-widgets/base",
          "model_name": "LayoutModel",
          "model_module_version": "1.2.0",
          "state": {
            "_model_module": "@jupyter-widgets/base",
            "_model_module_version": "1.2.0",
            "_model_name": "LayoutModel",
            "_view_count": null,
            "_view_module": "@jupyter-widgets/base",
            "_view_module_version": "1.2.0",
            "_view_name": "LayoutView",
            "align_content": null,
            "align_items": null,
            "align_self": null,
            "border": null,
            "bottom": null,
            "display": null,
            "flex": null,
            "flex_flow": null,
            "grid_area": null,
            "grid_auto_columns": null,
            "grid_auto_flow": null,
            "grid_auto_rows": null,
            "grid_column": null,
            "grid_gap": null,
            "grid_row": null,
            "grid_template_areas": null,
            "grid_template_columns": null,
            "grid_template_rows": null,
            "height": null,
            "justify_content": null,
            "justify_items": null,
            "left": null,
            "margin": null,
            "max_height": null,
            "max_width": null,
            "min_height": null,
            "min_width": null,
            "object_fit": null,
            "object_position": null,
            "order": null,
            "overflow": null,
            "overflow_x": null,
            "overflow_y": null,
            "padding": null,
            "right": null,
            "top": null,
            "visibility": null,
            "width": null
          }
        },
        "510ee6f1e74041aea620e71d395fa87c": {
          "model_module": "@jupyter-widgets/controls",
          "model_name": "ProgressStyleModel",
          "model_module_version": "1.5.0",
          "state": {
            "_model_module": "@jupyter-widgets/controls",
            "_model_module_version": "1.5.0",
            "_model_name": "ProgressStyleModel",
            "_view_count": null,
            "_view_module": "@jupyter-widgets/base",
            "_view_module_version": "1.2.0",
            "_view_name": "StyleView",
            "bar_color": null,
            "description_width": ""
          }
        },
        "e288a9667cb547b8bf74995ea42d2f6b": {
          "model_module": "@jupyter-widgets/base",
          "model_name": "LayoutModel",
          "model_module_version": "1.2.0",
          "state": {
            "_model_module": "@jupyter-widgets/base",
            "_model_module_version": "1.2.0",
            "_model_name": "LayoutModel",
            "_view_count": null,
            "_view_module": "@jupyter-widgets/base",
            "_view_module_version": "1.2.0",
            "_view_name": "LayoutView",
            "align_content": null,
            "align_items": null,
            "align_self": null,
            "border": null,
            "bottom": null,
            "display": null,
            "flex": null,
            "flex_flow": null,
            "grid_area": null,
            "grid_auto_columns": null,
            "grid_auto_flow": null,
            "grid_auto_rows": null,
            "grid_column": null,
            "grid_gap": null,
            "grid_row": null,
            "grid_template_areas": null,
            "grid_template_columns": null,
            "grid_template_rows": null,
            "height": null,
            "justify_content": null,
            "justify_items": null,
            "left": null,
            "margin": null,
            "max_height": null,
            "max_width": null,
            "min_height": null,
            "min_width": null,
            "object_fit": null,
            "object_position": null,
            "order": null,
            "overflow": null,
            "overflow_x": null,
            "overflow_y": null,
            "padding": null,
            "right": null,
            "top": null,
            "visibility": null,
            "width": null
          }
        },
        "955e3d142b534805a3943f88391cd449": {
          "model_module": "@jupyter-widgets/controls",
          "model_name": "DescriptionStyleModel",
          "model_module_version": "1.5.0",
          "state": {
            "_model_module": "@jupyter-widgets/controls",
            "_model_module_version": "1.5.0",
            "_model_name": "DescriptionStyleModel",
            "_view_count": null,
            "_view_module": "@jupyter-widgets/base",
            "_view_module_version": "1.2.0",
            "_view_name": "StyleView",
            "description_width": ""
          }
        },
        "27fba16a6b884fcaaac023bcb6d7b735": {
          "model_module": "@jupyter-widgets/controls",
          "model_name": "HBoxModel",
          "model_module_version": "1.5.0",
          "state": {
            "_dom_classes": [],
            "_model_module": "@jupyter-widgets/controls",
            "_model_module_version": "1.5.0",
            "_model_name": "HBoxModel",
            "_view_count": null,
            "_view_module": "@jupyter-widgets/controls",
            "_view_module_version": "1.5.0",
            "_view_name": "HBoxView",
            "box_style": "",
            "children": [
              "IPY_MODEL_1365c3478652499aa833657ca37b256b",
              "IPY_MODEL_3255074415ee48a88fa5f1b3fb283376",
              "IPY_MODEL_5a919ea7fff04cbead019956329f9910"
            ],
            "layout": "IPY_MODEL_46883566aa32490aa6df294f6ac440c3"
          }
        },
        "1365c3478652499aa833657ca37b256b": {
          "model_module": "@jupyter-widgets/controls",
          "model_name": "HTMLModel",
          "model_module_version": "1.5.0",
          "state": {
            "_dom_classes": [],
            "_model_module": "@jupyter-widgets/controls",
            "_model_module_version": "1.5.0",
            "_model_name": "HTMLModel",
            "_view_count": null,
            "_view_module": "@jupyter-widgets/controls",
            "_view_module_version": "1.5.0",
            "_view_name": "HTMLView",
            "description": "",
            "description_tooltip": null,
            "layout": "IPY_MODEL_f5c44ffc20184e2d8ad3d703ef2da3d1",
            "placeholder": "​",
            "style": "IPY_MODEL_cd414590f15c46ec8ebde0426253fef1",
            "value": "tokenizer.json: 100%"
          }
        },
        "3255074415ee48a88fa5f1b3fb283376": {
          "model_module": "@jupyter-widgets/controls",
          "model_name": "FloatProgressModel",
          "model_module_version": "1.5.0",
          "state": {
            "_dom_classes": [],
            "_model_module": "@jupyter-widgets/controls",
            "_model_module_version": "1.5.0",
            "_model_name": "FloatProgressModel",
            "_view_count": null,
            "_view_module": "@jupyter-widgets/controls",
            "_view_module_version": "1.5.0",
            "_view_name": "ProgressView",
            "bar_style": "success",
            "description": "",
            "description_tooltip": null,
            "layout": "IPY_MODEL_204a5a451d754bfaa910c0669cd1d53c",
            "max": 1355863,
            "min": 0,
            "orientation": "horizontal",
            "style": "IPY_MODEL_f8479ea90a1e47949a3dce33b3519e75",
            "value": 1355863
          }
        },
        "5a919ea7fff04cbead019956329f9910": {
          "model_module": "@jupyter-widgets/controls",
          "model_name": "HTMLModel",
          "model_module_version": "1.5.0",
          "state": {
            "_dom_classes": [],
            "_model_module": "@jupyter-widgets/controls",
            "_model_module_version": "1.5.0",
            "_model_name": "HTMLModel",
            "_view_count": null,
            "_view_module": "@jupyter-widgets/controls",
            "_view_module_version": "1.5.0",
            "_view_name": "HTMLView",
            "description": "",
            "description_tooltip": null,
            "layout": "IPY_MODEL_4ec50412dcf74dd0bd6ca1658eb3fe40",
            "placeholder": "​",
            "style": "IPY_MODEL_b720e929f83b4ccd999085ebe2181a24",
            "value": " 1.36M/1.36M [00:00&lt;00:00, 18.8MB/s]"
          }
        },
        "46883566aa32490aa6df294f6ac440c3": {
          "model_module": "@jupyter-widgets/base",
          "model_name": "LayoutModel",
          "model_module_version": "1.2.0",
          "state": {
            "_model_module": "@jupyter-widgets/base",
            "_model_module_version": "1.2.0",
            "_model_name": "LayoutModel",
            "_view_count": null,
            "_view_module": "@jupyter-widgets/base",
            "_view_module_version": "1.2.0",
            "_view_name": "LayoutView",
            "align_content": null,
            "align_items": null,
            "align_self": null,
            "border": null,
            "bottom": null,
            "display": null,
            "flex": null,
            "flex_flow": null,
            "grid_area": null,
            "grid_auto_columns": null,
            "grid_auto_flow": null,
            "grid_auto_rows": null,
            "grid_column": null,
            "grid_gap": null,
            "grid_row": null,
            "grid_template_areas": null,
            "grid_template_columns": null,
            "grid_template_rows": null,
            "height": null,
            "justify_content": null,
            "justify_items": null,
            "left": null,
            "margin": null,
            "max_height": null,
            "max_width": null,
            "min_height": null,
            "min_width": null,
            "object_fit": null,
            "object_position": null,
            "order": null,
            "overflow": null,
            "overflow_x": null,
            "overflow_y": null,
            "padding": null,
            "right": null,
            "top": null,
            "visibility": null,
            "width": null
          }
        },
        "f5c44ffc20184e2d8ad3d703ef2da3d1": {
          "model_module": "@jupyter-widgets/base",
          "model_name": "LayoutModel",
          "model_module_version": "1.2.0",
          "state": {
            "_model_module": "@jupyter-widgets/base",
            "_model_module_version": "1.2.0",
            "_model_name": "LayoutModel",
            "_view_count": null,
            "_view_module": "@jupyter-widgets/base",
            "_view_module_version": "1.2.0",
            "_view_name": "LayoutView",
            "align_content": null,
            "align_items": null,
            "align_self": null,
            "border": null,
            "bottom": null,
            "display": null,
            "flex": null,
            "flex_flow": null,
            "grid_area": null,
            "grid_auto_columns": null,
            "grid_auto_flow": null,
            "grid_auto_rows": null,
            "grid_column": null,
            "grid_gap": null,
            "grid_row": null,
            "grid_template_areas": null,
            "grid_template_columns": null,
            "grid_template_rows": null,
            "height": null,
            "justify_content": null,
            "justify_items": null,
            "left": null,
            "margin": null,
            "max_height": null,
            "max_width": null,
            "min_height": null,
            "min_width": null,
            "object_fit": null,
            "object_position": null,
            "order": null,
            "overflow": null,
            "overflow_x": null,
            "overflow_y": null,
            "padding": null,
            "right": null,
            "top": null,
            "visibility": null,
            "width": null
          }
        },
        "cd414590f15c46ec8ebde0426253fef1": {
          "model_module": "@jupyter-widgets/controls",
          "model_name": "DescriptionStyleModel",
          "model_module_version": "1.5.0",
          "state": {
            "_model_module": "@jupyter-widgets/controls",
            "_model_module_version": "1.5.0",
            "_model_name": "DescriptionStyleModel",
            "_view_count": null,
            "_view_module": "@jupyter-widgets/base",
            "_view_module_version": "1.2.0",
            "_view_name": "StyleView",
            "description_width": ""
          }
        },
        "204a5a451d754bfaa910c0669cd1d53c": {
          "model_module": "@jupyter-widgets/base",
          "model_name": "LayoutModel",
          "model_module_version": "1.2.0",
          "state": {
            "_model_module": "@jupyter-widgets/base",
            "_model_module_version": "1.2.0",
            "_model_name": "LayoutModel",
            "_view_count": null,
            "_view_module": "@jupyter-widgets/base",
            "_view_module_version": "1.2.0",
            "_view_name": "LayoutView",
            "align_content": null,
            "align_items": null,
            "align_self": null,
            "border": null,
            "bottom": null,
            "display": null,
            "flex": null,
            "flex_flow": null,
            "grid_area": null,
            "grid_auto_columns": null,
            "grid_auto_flow": null,
            "grid_auto_rows": null,
            "grid_column": null,
            "grid_gap": null,
            "grid_row": null,
            "grid_template_areas": null,
            "grid_template_columns": null,
            "grid_template_rows": null,
            "height": null,
            "justify_content": null,
            "justify_items": null,
            "left": null,
            "margin": null,
            "max_height": null,
            "max_width": null,
            "min_height": null,
            "min_width": null,
            "object_fit": null,
            "object_position": null,
            "order": null,
            "overflow": null,
            "overflow_x": null,
            "overflow_y": null,
            "padding": null,
            "right": null,
            "top": null,
            "visibility": null,
            "width": null
          }
        },
        "f8479ea90a1e47949a3dce33b3519e75": {
          "model_module": "@jupyter-widgets/controls",
          "model_name": "ProgressStyleModel",
          "model_module_version": "1.5.0",
          "state": {
            "_model_module": "@jupyter-widgets/controls",
            "_model_module_version": "1.5.0",
            "_model_name": "ProgressStyleModel",
            "_view_count": null,
            "_view_module": "@jupyter-widgets/base",
            "_view_module_version": "1.2.0",
            "_view_name": "StyleView",
            "bar_color": null,
            "description_width": ""
          }
        },
        "4ec50412dcf74dd0bd6ca1658eb3fe40": {
          "model_module": "@jupyter-widgets/base",
          "model_name": "LayoutModel",
          "model_module_version": "1.2.0",
          "state": {
            "_model_module": "@jupyter-widgets/base",
            "_model_module_version": "1.2.0",
            "_model_name": "LayoutModel",
            "_view_count": null,
            "_view_module": "@jupyter-widgets/base",
            "_view_module_version": "1.2.0",
            "_view_name": "LayoutView",
            "align_content": null,
            "align_items": null,
            "align_self": null,
            "border": null,
            "bottom": null,
            "display": null,
            "flex": null,
            "flex_flow": null,
            "grid_area": null,
            "grid_auto_columns": null,
            "grid_auto_flow": null,
            "grid_auto_rows": null,
            "grid_column": null,
            "grid_gap": null,
            "grid_row": null,
            "grid_template_areas": null,
            "grid_template_columns": null,
            "grid_template_rows": null,
            "height": null,
            "justify_content": null,
            "justify_items": null,
            "left": null,
            "margin": null,
            "max_height": null,
            "max_width": null,
            "min_height": null,
            "min_width": null,
            "object_fit": null,
            "object_position": null,
            "order": null,
            "overflow": null,
            "overflow_x": null,
            "overflow_y": null,
            "padding": null,
            "right": null,
            "top": null,
            "visibility": null,
            "width": null
          }
        },
        "b720e929f83b4ccd999085ebe2181a24": {
          "model_module": "@jupyter-widgets/controls",
          "model_name": "DescriptionStyleModel",
          "model_module_version": "1.5.0",
          "state": {
            "_model_module": "@jupyter-widgets/controls",
            "_model_module_version": "1.5.0",
            "_model_name": "DescriptionStyleModel",
            "_view_count": null,
            "_view_module": "@jupyter-widgets/base",
            "_view_module_version": "1.2.0",
            "_view_name": "StyleView",
            "description_width": ""
          }
        }
      }
    }
  },
  "nbformat": 4,
  "nbformat_minor": 5
}